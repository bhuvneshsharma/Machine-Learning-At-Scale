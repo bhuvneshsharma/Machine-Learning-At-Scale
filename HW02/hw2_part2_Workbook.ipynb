{
 "cells": [
  {
   "cell_type": "markdown",
   "metadata": {},
   "source": [
    "# HW 2 (part 2) - Naive Bayes in Hadoop MR\n",
    "__`MIDS w261: Machine Learning at Scale | UC Berkeley School of Information | Spring 2018`__\n",
    "\n",
    "Now that you're up to speed in writing Hadoop MR jobs we'll use this framework to implement your first parallelized machine learning algorithm: Naive Bayes. As you develop your implementation you'll test it on a small dataset that matches the 'Chinese Example' in the _Manning, Raghavan and Shutze_ reading for Week 2. For the main task in part 2 you'll be working with a small subset of the Enron Spam/Ham Corpus. By the end of this portion of the assignment you should be able to:\n",
    "* __... describe__ the Naive Bayes algorithm including both training and inference.\n",
    "* __... perform__ EDA on a corpus using Hadoop MR.\n",
    "* __... implement__ parallelized Naive Bayes.\n",
    "* __... explain__ how smoothing affects the bias and variance of  a Multinomial Naive Bayes model.\n",
    "\n",
    "As always, your work will be graded both on the correctness of your output and on the clarity and design of your code. __Please refer to the `README` for homework submission instructions.__ "
   ]
  },
  {
   "cell_type": "markdown",
   "metadata": {},
   "source": [
    "# Notebook Setup\n",
    "Before starting part 2, run the following cells to confirm your setup."
   ]
  },
  {
   "cell_type": "code",
   "execution_count": 4,
   "metadata": {},
   "outputs": [],
   "source": [
    "# imports\n",
    "import numpy as np\n",
    "import matplotlib.pyplot as plt\n",
    "\n",
    "%reload_ext autoreload\n",
    "%autoreload 2"
   ]
  },
  {
   "cell_type": "code",
   "execution_count": 5,
   "metadata": {},
   "outputs": [],
   "source": [
    "# global vars (paths) - ADJUST AS NEEDED\n",
    "JAR_FILE = \"/usr/lib/hadoop-mapreduce/hadoop-streaming-2.6.0-cdh5.7.0.jar\"\n",
    "HDFS_DIR = \"/user/root/HW2\"\n",
    "HOME_DIR = \"/media/notebooks/SP18-1-maynard242\" # FILL IN HERE eg. /media/notebooks/w261-main/Assignments"
   ]
  },
  {
   "cell_type": "code",
   "execution_count": 6,
   "metadata": {},
   "outputs": [],
   "source": [
    "# save path for use in Hadoop jobs (-cmdenv PATH={PATH})\n",
    "from os import environ\n",
    "PATH  = environ['PATH']"
   ]
  },
  {
   "cell_type": "code",
   "execution_count": 7,
   "metadata": {},
   "outputs": [],
   "source": [
    "# data path\n",
    "ENRON = HOME_DIR + \"/HW02/data/enronemail_1h.txt\""
   ]
  },
  {
   "cell_type": "markdown",
   "metadata": {},
   "source": [
    "# About the Data\n",
    "For the main task in this portion of the homework you will train a classifier to determine whether an email represents spam or not. You will train your Naive Bayes model on a 100 record subset of the Enron Spam/Ham corpus available in the HW02 data directory (__`HW02/data/enronemail_1h.txt`__).\n",
    "\n",
    "__Source:__   \n",
    "The original data included about 93,000 emails which were made public after the company's collapse. There have been a number raw and preprocessed versions of this corpus (including those available [here](http://www.aueb.gr/users/ion/data/enron-spam/index.html) and [here](http://www.aueb.gr/users/ion/publications.html)). The subset we will use is limited to emails from 6 Enron employees and a number of spam sources. It is part of [this data set](http://www.aueb.gr/users/ion/data/enron-spam/) which was created by researchers working on personlized Bayesian spam filters. Their original publication is [available here](http://www.aueb.gr/users/ion/docs/ceas2006_paper.pdf). __`IMPORTANT!`__ _For this homework please limit your analysis to the 100 email subset which we provide. No need to download or run your analysis on any of the original datasets, those links are merely provided as context._\n",
    "\n",
    "__Preprocessing:__  \n",
    "For their work, Metsis et al. (the authors) appeared to have pre-processed the data, not only collapsing all text to lower-case, but additionally separating \"words\" by spaces, where \"words\" unfortunately include punctuation. As a concrete example, the sentence:  \n",
    ">  `Hey Jon, I hope you don't get lost out there this weekend!`  \n",
    "\n",
    "... would have been reduced by Metsis et al. to the form:  \n",
    "> `hey jon , i hope you don ' t get lost out there this weekend !` \n",
    "\n",
    "... so we have reverted the data back toward its original state, removing spaces so that our sample sentence would now look like:\n",
    "> `hey jon, i hope you don't get lost out there this weekend!`  \n",
    "\n",
    "Thus we have at least preserved contractions and other higher-order lexical forms. However, one must be aware that this reversion is not complete, and that some object (specifically web sites) will be ill-formatted, and that all text is still lower-cased.\n",
    "\n",
    "\n",
    "__Format:__   \n",
    "All messages are collated to a tab-delimited format:  \n",
    "\n",
    ">    `ID \\t SPAM \\t SUBJECT \\t CONTENT \\n`  \n",
    "\n",
    "where:  \n",
    ">    `ID = string; unique message identifier`  \n",
    "    `SPAM = binary; with 1 indicating a spam message`  \n",
    "    `SUBJECT = string; title of the message`  \n",
    "    `CONTENT = string; content of the message`   \n",
    "    \n",
    "Note that either of `SUBJECT` or `CONTENT` may be \"NA\", and that all tab (\\t) and newline (\\n) characters have been removed from both of the `SUBJECT` and `CONTENT` columns.  "
   ]
  },
  {
   "cell_type": "code",
   "execution_count": 5,
   "metadata": {},
   "outputs": [
    {
     "name": "stdout",
     "output_type": "stream",
     "text": [
      "0001.1999-12-10.farmer\t0\t christmas tree farm pictures\tNA\n",
      "0001.1999-12-10.kaminski\t0\t re: rankings\t thank you.\n",
      "0001.2000-01-17.beck\t0\t leadership development pilot\t\" sally:  what timing, ask and you shall receiv\n",
      "0001.2000-06-06.lokay\t0\t\" key dates and impact of upcoming sap implementation over the next few week\n",
      "0001.2001-02-07.kitchen\t0\t key hr issues going forward\t a) year end reviews-report needs generating \n"
     ]
    }
   ],
   "source": [
    "# take a look at t|he first 100 characters of the first 5 records (RUN THIS CELL AS IS)\n",
    "!head -n 5 {ENRON} | cut -c-100"
   ]
  },
  {
   "cell_type": "code",
   "execution_count": 6,
   "metadata": {},
   "outputs": [
    {
     "name": "stdout",
     "output_type": "stream",
     "text": [
      "mkdir: `/user/root/HW2': File exists\n"
     ]
    }
   ],
   "source": [
    "# NOTE: ADDED Required if running this notebook without first running part 1\n",
    "!hdfs dfs -mkdir {HDFS_DIR}"
   ]
  },
  {
   "cell_type": "code",
   "execution_count": 7,
   "metadata": {},
   "outputs": [
    {
     "name": "stdout",
     "output_type": "stream",
     "text": [
      "copyFromLocal: `/user/root/HW2/enron.txt': File exists\n"
     ]
    }
   ],
   "source": [
    "# load the data into HDFS (RUN THIS CELL AS IS)\n",
    "!hdfs dfs -copyFromLocal {ENRON} {HDFS_DIR}/enron.txt"
   ]
  },
  {
   "cell_type": "markdown",
   "metadata": {},
   "source": [
    "# Question 6:  Enron Ham/Spam EDA.\n",
    "Before building our classifier, lets get aquainted with our data. In particular, we're interested in which words occur more in spam emails than in real emails. In this question you'll implement two Hadoop MapReduce jobs to count and sort word occurrences by document class. You'll also learn about two new Hadoop streaming parameters that will allow you to control how the records output of your mappers are partitioned for reducing on separate nodes. \n",
    "\n",
    "__`IMPORTANT NOTE:`__ For this question and all subsequent items, you should include both the subject and the body of the email in your analysis (i.e. concatetate them to get the 'text' of the document).\n",
    "\n",
    "### Q6 Tasks:\n",
    "* __a) code:__ Complete the missing components of the code in __`EnronEDA/mapper.py`__ and __`EnronEDA/reducer.py`__ to create a Hadoop MapReduce job that counts how many times each word in the corpus occurs in an email for each class. Pay close attention to the data format specified in the docstrings of these scripts _-- there are a number of ways to accomplish this task, we've chosen this format to help illustrate a technique in `part e`_. Run the provided unit tests to confirm that your code works as expected then run the provided Hadoop streaming command to apply your analysis to the Enron data.\n",
    "\n",
    "\n",
    "* __b) code + short response:__ How many times does the word \"__assistance__\" occur in each class? (`HINT:` Use a `grep` command to read from the results file you generated in '`a`' and then report the answer in the space provided.)\n",
    "\n",
    "\n",
    "* __c) short response:__ Would it have been possible to add some sorting parameters to the Hadoop streaming command that would cause our `part a` results to be sorted by count? Briefly explain why or why not.\n",
    "\n",
    "\n",
    "* __d) code + short response:__ Write a second Hadoop MapReduce job to sort the output of `part a` first by class and then by count. Run your job and save the results to a local file using the provide code. Then describe in words how you would go about printing the top 10 words in each class. (`HINT 1:` _remember that you can simply pass the `part a` output directory to the input field of this job; `HINT 2:` since this task is just reodering the records from `part a` we don't need to write a mapper or reducer, just use `/bin/cat` for both_)\n",
    "\n",
    "\n",
    "* __ e) code:__ A more efficient alternative to '`grep`-ing' for the top 10 words in each class would be to use the Hadoop framework to separate records from each class into its own partition so that we can just read the top lines in each. To do this, make sure to specify 2 reduce tasks and add the following parameters to your Hadoop streaming job from 'd':\n",
    ">__`-D mapreduce.partition.keypartitioner.options=\"-k2,2\"`__ : tells Hadoop to partition based on the second field (which indicates spam/ham in our data).  \n",
    ">__`-partitioner org.apache.hadoop.mapred.lib.KeyFieldBasedPartitioner`__ : tells Hadoop that we want to partition on a field that is part of a composite key. (_This parameter should go at the end, not with the `-D` options at the top._)\n",
    "\n",
    "> __`NOTE:`__ these options should be used in conjunction with `-D stream.num.map.output.key.fields=#` which you will have already added as part of your sort."
   ]
  },
  {
   "cell_type": "markdown",
   "metadata": {},
   "source": [
    "### Q6 Student Answers:\n",
    "> __b)__ See cell below. ```assistance\t1\t8 (spam)\n",
    "assistance\t0\t2 (ham).```\n",
    "\n",
    "> __c)__ No, because Hadoop sorts by the key (word). We could do a secondary sort but this is premised on the word-key. If we wanted to sort by count, we would need to transpose our data such that count is the key. \n",
    "\n",
    "> __d)__ Pipe the results file, filtering by class, then sorting by count, before printing the top ten. [See cell]  "
   ]
  },
  {
   "cell_type": "code",
   "execution_count": 8,
   "metadata": {},
   "outputs": [],
   "source": [
    "# part a - do your work in the provided scripts then RUN THIS CELL AS IS\n",
    "!chmod a+x EnronEDA/mapper.py\n",
    "!chmod a+x EnronEDA/reducer.py"
   ]
  },
  {
   "cell_type": "code",
   "execution_count": 9,
   "metadata": {},
   "outputs": [
    {
     "name": "stdout",
     "output_type": "stream",
     "text": [
      "body\t1\t1\n",
      "title\t1\t1\n",
      "body\t0\t1\n",
      "title\t0\t1\n"
     ]
    }
   ],
   "source": [
    "# part a - unit test EnronEDA/mapper.py (RUN THIS CELL AS IS)\n",
    "!echo -e \"d1\t1\ttitle\tbody\\nd2\t0\ttitle\tbody\" | EnronEDA/mapper.py"
   ]
  },
  {
   "cell_type": "code",
   "execution_count": 10,
   "metadata": {},
   "outputs": [
    {
     "name": "stdout",
     "output_type": "stream",
     "text": [
      "one\t1\t1\n",
      "one\t0\t2\n",
      "two\t0\t1\n"
     ]
    }
   ],
   "source": [
    "# part a - unit test EnronEDA/reducer.py (RUN THIS CELL AS IS)\n",
    "!echo -e \"one\t1\t1\\none\t0\t1\\none\t0\t1\\ntwo\t0\t1\" | EnronEDA/reducer.py"
   ]
  },
  {
   "cell_type": "code",
   "execution_count": 11,
   "metadata": {},
   "outputs": [
    {
     "name": "stdout",
     "output_type": "stream",
     "text": [
      "Deleted /user/root/HW2/eda-output\n"
     ]
    }
   ],
   "source": [
    "# part a - clear output directory in HDFS (RUN THIS CELL AS IS)\n",
    "!hdfs dfs -rm -r {HDFS_DIR}/eda-output"
   ]
  },
  {
   "cell_type": "code",
   "execution_count": 12,
   "metadata": {},
   "outputs": [
    {
     "name": "stdout",
     "output_type": "stream",
     "text": [
      "packageJobJar: [] [/usr/jars/hadoop-streaming-2.6.0-cdh5.7.0.jar] /tmp/streamjob6918651246467455656.jar tmpDir=null\n",
      "18/01/25 08:37:02 INFO client.RMProxy: Connecting to ResourceManager at /0.0.0.0:8032\n",
      "18/01/25 08:37:03 INFO client.RMProxy: Connecting to ResourceManager at /0.0.0.0:8032\n",
      "18/01/25 08:37:03 INFO mapred.FileInputFormat: Total input paths to process : 1\n",
      "18/01/25 08:37:03 INFO mapreduce.JobSubmitter: number of splits:2\n",
      "18/01/25 08:37:04 INFO mapreduce.JobSubmitter: Submitting tokens for job: job_1516867309094_0010\n",
      "18/01/25 08:37:04 INFO impl.YarnClientImpl: Submitted application application_1516867309094_0010\n",
      "18/01/25 08:37:04 INFO mapreduce.Job: The url to track the job: http://docker.w261:8088/proxy/application_1516867309094_0010/\n",
      "18/01/25 08:37:04 INFO mapreduce.Job: Running job: job_1516867309094_0010\n",
      "18/01/25 08:37:10 INFO mapreduce.Job: Job job_1516867309094_0010 running in uber mode : false\n",
      "18/01/25 08:37:10 INFO mapreduce.Job:  map 0% reduce 0%\n",
      "18/01/25 08:37:17 INFO mapreduce.Job:  map 50% reduce 0%\n",
      "18/01/25 08:37:18 INFO mapreduce.Job:  map 100% reduce 0%\n",
      "18/01/25 08:37:24 INFO mapreduce.Job:  map 100% reduce 50%\n",
      "18/01/25 08:37:26 INFO mapreduce.Job:  map 100% reduce 100%\n",
      "18/01/25 08:37:26 INFO mapreduce.Job: Job job_1516867309094_0010 completed successfully\n",
      "18/01/25 08:37:26 INFO mapreduce.Job: Counters: 49\n",
      "\tFile System Counters\n",
      "\t\tFILE: Number of bytes read=183643\n",
      "\t\tFILE: Number of bytes written=835488\n",
      "\t\tFILE: Number of read operations=0\n",
      "\t\tFILE: Number of large read operations=0\n",
      "\t\tFILE: Number of write operations=0\n",
      "\t\tHDFS: Number of bytes read=217060\n",
      "\t\tHDFS: Number of bytes written=119156\n",
      "\t\tHDFS: Number of read operations=12\n",
      "\t\tHDFS: Number of large read operations=0\n",
      "\t\tHDFS: Number of write operations=4\n",
      "\tJob Counters \n",
      "\t\tLaunched map tasks=2\n",
      "\t\tLaunched reduce tasks=2\n",
      "\t\tData-local map tasks=2\n",
      "\t\tTotal time spent by all maps in occupied slots (ms)=9946\n",
      "\t\tTotal time spent by all reduces in occupied slots (ms)=10977\n",
      "\t\tTotal time spent by all map tasks (ms)=9946\n",
      "\t\tTotal time spent by all reduce tasks (ms)=10977\n",
      "\t\tTotal vcore-seconds taken by all map tasks=9946\n",
      "\t\tTotal vcore-seconds taken by all reduce tasks=10977\n",
      "\t\tTotal megabyte-seconds taken by all map tasks=10184704\n",
      "\t\tTotal megabyte-seconds taken by all reduce tasks=11240448\n",
      "\tMap-Reduce Framework\n",
      "\t\tMap input records=100\n",
      "\t\tMap output records=14558\n",
      "\t\tMap output bytes=154515\n",
      "\t\tMap output materialized bytes=183655\n",
      "\t\tInput split bytes=214\n",
      "\t\tCombine input records=0\n",
      "\t\tCombine output records=0\n",
      "\t\tReduce input groups=5065\n",
      "\t\tReduce shuffle bytes=183655\n",
      "\t\tReduce input records=14558\n",
      "\t\tReduce output records=10128\n",
      "\t\tSpilled Records=29116\n",
      "\t\tShuffled Maps =4\n",
      "\t\tFailed Shuffles=0\n",
      "\t\tMerged Map outputs=4\n",
      "\t\tGC time elapsed (ms)=155\n",
      "\t\tCPU time spent (ms)=4560\n",
      "\t\tPhysical memory (bytes) snapshot=982630400\n",
      "\t\tVirtual memory (bytes) snapshot=5479178240\n",
      "\t\tTotal committed heap usage (bytes)=844103680\n",
      "\tShuffle Errors\n",
      "\t\tBAD_ID=0\n",
      "\t\tCONNECTION=0\n",
      "\t\tIO_ERROR=0\n",
      "\t\tWRONG_LENGTH=0\n",
      "\t\tWRONG_MAP=0\n",
      "\t\tWRONG_REDUCE=0\n",
      "\tFile Input Format Counters \n",
      "\t\tBytes Read=216846\n",
      "\tFile Output Format Counters \n",
      "\t\tBytes Written=119156\n",
      "18/01/25 08:37:26 INFO streaming.StreamJob: Output directory: /user/root/HW2/eda-output\n"
     ]
    }
   ],
   "source": [
    "# part a - Hadoop streaming job (RUN THIS CELL AS IS)\n",
    "!hadoop jar {JAR_FILE} \\\n",
    "  -files EnronEDA/reducer.py,EnronEDA/mapper.py \\\n",
    "  -mapper mapper.py \\\n",
    "  -reducer reducer.py \\\n",
    "  -input {HDFS_DIR}/enron.txt \\\n",
    "  -output {HDFS_DIR}/eda-output \\\n",
    "  -numReduceTasks 2"
   ]
  },
  {
   "cell_type": "code",
   "execution_count": 13,
   "metadata": {},
   "outputs": [],
   "source": [
    "# part a - retrieve results from HDFS & copy them into a local file (RUN THIS CELL AS IS)\n",
    "!hdfs dfs -cat {HDFS_DIR}/eda-output/part-0000* > EnronEDA/results.txt"
   ]
  },
  {
   "cell_type": "code",
   "execution_count": 14,
   "metadata": {},
   "outputs": [
    {
     "name": "stdout",
     "output_type": "stream",
     "text": [
      "assistance\t1\t8\n",
      "assistance\t0\t2\n"
     ]
    }
   ],
   "source": [
    "# part b - write your grep command here\n",
    "!grep -i 'assistance' EnronEDA/results.txt"
   ]
  },
  {
   "cell_type": "code",
   "execution_count": 15,
   "metadata": {},
   "outputs": [
    {
     "name": "stdout",
     "output_type": "stream",
     "text": [
      "Deleted /user/root/HW2/eda-sort-output\n"
     ]
    }
   ],
   "source": [
    "# part d - clear the output directory in HDFS (RUN THIS CELL AS IS)\n",
    "!hdfs dfs -rm -r {HDFS_DIR}/eda-sort-output"
   ]
  },
  {
   "cell_type": "code",
   "execution_count": 16,
   "metadata": {},
   "outputs": [
    {
     "name": "stdout",
     "output_type": "stream",
     "text": [
      "packageJobJar: [] [/usr/jars/hadoop-streaming-2.6.0-cdh5.7.0.jar] /tmp/streamjob5572672756555966792.jar tmpDir=null\n",
      "18/01/25 08:37:57 INFO client.RMProxy: Connecting to ResourceManager at /0.0.0.0:8032\n",
      "18/01/25 08:37:58 INFO client.RMProxy: Connecting to ResourceManager at /0.0.0.0:8032\n",
      "18/01/25 08:37:58 INFO mapred.FileInputFormat: Total input paths to process : 2\n",
      "18/01/25 08:37:58 INFO mapreduce.JobSubmitter: number of splits:2\n",
      "18/01/25 08:37:58 INFO Configuration.deprecation: mapred.text.key.comparator.options is deprecated. Instead, use mapreduce.partition.keycomparator.options\n",
      "18/01/25 08:37:58 INFO Configuration.deprecation: mapred.output.key.comparator.class is deprecated. Instead, use mapreduce.job.output.key.comparator.class\n",
      "18/01/25 08:37:58 INFO mapreduce.JobSubmitter: Submitting tokens for job: job_1516867309094_0011\n",
      "18/01/25 08:37:59 INFO impl.YarnClientImpl: Submitted application application_1516867309094_0011\n",
      "18/01/25 08:37:59 INFO mapreduce.Job: The url to track the job: http://docker.w261:8088/proxy/application_1516867309094_0011/\n",
      "18/01/25 08:37:59 INFO mapreduce.Job: Running job: job_1516867309094_0011\n",
      "18/01/25 08:38:06 INFO mapreduce.Job: Job job_1516867309094_0011 running in uber mode : false\n",
      "18/01/25 08:38:06 INFO mapreduce.Job:  map 0% reduce 0%\n",
      "18/01/25 08:38:13 INFO mapreduce.Job:  map 50% reduce 0%\n",
      "18/01/25 08:38:14 INFO mapreduce.Job:  map 100% reduce 0%\n",
      "18/01/25 08:38:20 INFO mapreduce.Job:  map 100% reduce 50%\n",
      "18/01/25 08:38:21 INFO mapreduce.Job:  map 100% reduce 100%\n",
      "18/01/25 08:38:21 INFO mapreduce.Job: Job job_1516867309094_0011 completed successfully\n",
      "18/01/25 08:38:21 INFO mapreduce.Job: Counters: 49\n",
      "\tFile System Counters\n",
      "\t\tFILE: Number of bytes read=139424\n",
      "\t\tFILE: Number of bytes written=743182\n",
      "\t\tFILE: Number of read operations=0\n",
      "\t\tFILE: Number of large read operations=0\n",
      "\t\tFILE: Number of write operations=0\n",
      "\t\tHDFS: Number of bytes read=119394\n",
      "\t\tHDFS: Number of bytes written=119156\n",
      "\t\tHDFS: Number of read operations=12\n",
      "\t\tHDFS: Number of large read operations=0\n",
      "\t\tHDFS: Number of write operations=4\n",
      "\tJob Counters \n",
      "\t\tLaunched map tasks=2\n",
      "\t\tLaunched reduce tasks=2\n",
      "\t\tData-local map tasks=2\n",
      "\t\tTotal time spent by all maps in occupied slots (ms)=9756\n",
      "\t\tTotal time spent by all reduces in occupied slots (ms)=10056\n",
      "\t\tTotal time spent by all map tasks (ms)=9756\n",
      "\t\tTotal time spent by all reduce tasks (ms)=10056\n",
      "\t\tTotal vcore-seconds taken by all map tasks=9756\n",
      "\t\tTotal vcore-seconds taken by all reduce tasks=10056\n",
      "\t\tTotal megabyte-seconds taken by all map tasks=9990144\n",
      "\t\tTotal megabyte-seconds taken by all reduce tasks=10297344\n",
      "\tMap-Reduce Framework\n",
      "\t\tMap input records=10128\n",
      "\t\tMap output records=10128\n",
      "\t\tMap output bytes=119156\n",
      "\t\tMap output materialized bytes=139436\n",
      "\t\tInput split bytes=238\n",
      "\t\tCombine input records=0\n",
      "\t\tCombine output records=0\n",
      "\t\tReduce input groups=10128\n",
      "\t\tReduce shuffle bytes=139436\n",
      "\t\tReduce input records=10128\n",
      "\t\tReduce output records=10128\n",
      "\t\tSpilled Records=20256\n",
      "\t\tShuffled Maps =4\n",
      "\t\tFailed Shuffles=0\n",
      "\t\tMerged Map outputs=4\n",
      "\t\tGC time elapsed (ms)=116\n",
      "\t\tCPU time spent (ms)=4320\n",
      "\t\tPhysical memory (bytes) snapshot=930021376\n",
      "\t\tVirtual memory (bytes) snapshot=5487521792\n",
      "\t\tTotal committed heap usage (bytes)=896532480\n",
      "\tShuffle Errors\n",
      "\t\tBAD_ID=0\n",
      "\t\tCONNECTION=0\n",
      "\t\tIO_ERROR=0\n",
      "\t\tWRONG_LENGTH=0\n",
      "\t\tWRONG_MAP=0\n",
      "\t\tWRONG_REDUCE=0\n",
      "\tFile Input Format Counters \n",
      "\t\tBytes Read=119156\n",
      "\tFile Output Format Counters \n",
      "\t\tBytes Written=119156\n",
      "18/01/25 08:38:21 INFO streaming.StreamJob: Output directory: /user/root/HW2/eda-sort-output\n"
     ]
    }
   ],
   "source": [
    "# part d - write your Hadoop streaming job here\n",
    "!hadoop jar {JAR_FILE} \\\n",
    "  -D stream.num.map.output.key.fields=2 \\\n",
    "  -D mapred.output.key.comparator.class=org.apache.hadoop.mapred.lib.KeyFieldBasedComparator \\\n",
    "  -D mapred.text.key.comparator.options=\"-k2,2 -k3,3n\" \\\n",
    "  -mapper /bin/cat \\\n",
    "  -reducer /bin/cat \\\n",
    "  -input {HDFS_DIR}/eda-output/part-0000* \\\n",
    "  -output {HDFS_DIR}/eda-sort-output \\\n",
    "  -numReduceTasks 2"
   ]
  },
  {
   "cell_type": "code",
   "execution_count": 17,
   "metadata": {},
   "outputs": [
    {
     "name": "stdout",
     "output_type": "stream",
     "text": [
      "Top Ten Wrods for Ham:\n",
      "\n",
      "the\t0\t549\n",
      "to\t0\t398\n",
      "ect\t0\t382\n",
      "and\t0\t278\n",
      "of\t0\t230\n",
      "hou\t0\t206\n",
      "a\t0\t196\n",
      "in\t0\t182\n",
      "for\t0\t170\n",
      "on\t0\t135\n",
      "\n",
      "\n",
      "Top Ten Words for Spam: \n",
      "\n",
      "the\t1\t698\n",
      "to\t1\t566\n",
      "and\t1\t392\n",
      "your\t1\t357\n",
      "a\t1\t347\n",
      "you\t1\t345\n",
      "of\t1\t336\n",
      "in\t1\t236\n",
      "for\t1\t204\n",
      "com\t1\t153\n"
     ]
    }
   ],
   "source": [
    "# part d - print out the top ten words for each class\n",
    "\n",
    "print \"Top Ten Wrods for Ham:\\n\"\n",
    "!hdfs dfs -cat {HDFS_DIR}/eda-sort-output/part-0000* | grep -P '^[a-z]+\\t0' | sort -k3,3nr | head\n",
    "print \"\\n\"\n",
    "print \"Top Ten Words for Spam: \\n\"\n",
    "!hdfs dfs -cat {HDFS_DIR}/eda-sort-output/part-0000* | grep -P '^[a-z]+\\t1' | sort -k3,3nr | head\n",
    "\n"
   ]
  },
  {
   "cell_type": "code",
   "execution_count": 18,
   "metadata": {},
   "outputs": [
    {
     "name": "stdout",
     "output_type": "stream",
     "text": [
      "Deleted /user/root/HW2/eda-sort-output\n"
     ]
    }
   ],
   "source": [
    "# part e - clear the output directory in HDFS (RUN THIS CELL AS IS)\n",
    "!hdfs dfs -rm -r {HDFS_DIR}/eda-sort-output"
   ]
  },
  {
   "cell_type": "code",
   "execution_count": 19,
   "metadata": {},
   "outputs": [
    {
     "name": "stdout",
     "output_type": "stream",
     "text": [
      "packageJobJar: [] [/usr/jars/hadoop-streaming-2.6.0-cdh5.7.0.jar] /tmp/streamjob461333199647286782.jar tmpDir=null\n",
      "18/01/25 08:38:31 INFO client.RMProxy: Connecting to ResourceManager at /0.0.0.0:8032\n",
      "18/01/25 08:38:31 INFO client.RMProxy: Connecting to ResourceManager at /0.0.0.0:8032\n",
      "18/01/25 08:38:32 INFO mapred.FileInputFormat: Total input paths to process : 2\n",
      "18/01/25 08:38:32 INFO mapreduce.JobSubmitter: number of splits:2\n",
      "18/01/25 08:38:32 INFO Configuration.deprecation: mapred.text.key.comparator.options is deprecated. Instead, use mapreduce.partition.keycomparator.options\n",
      "18/01/25 08:38:32 INFO Configuration.deprecation: mapred.output.key.comparator.class is deprecated. Instead, use mapreduce.job.output.key.comparator.class\n",
      "18/01/25 08:38:32 INFO mapreduce.JobSubmitter: Submitting tokens for job: job_1516867309094_0012\n",
      "18/01/25 08:38:32 INFO impl.YarnClientImpl: Submitted application application_1516867309094_0012\n",
      "18/01/25 08:38:32 INFO mapreduce.Job: The url to track the job: http://docker.w261:8088/proxy/application_1516867309094_0012/\n",
      "18/01/25 08:38:32 INFO mapreduce.Job: Running job: job_1516867309094_0012\n",
      "18/01/25 08:38:38 INFO mapreduce.Job: Job job_1516867309094_0012 running in uber mode : false\n",
      "18/01/25 08:38:38 INFO mapreduce.Job:  map 0% reduce 0%\n",
      "18/01/25 08:38:44 INFO mapreduce.Job:  map 50% reduce 0%\n",
      "18/01/25 08:38:46 INFO mapreduce.Job:  map 100% reduce 0%\n",
      "18/01/25 08:38:53 INFO mapreduce.Job:  map 100% reduce 50%\n",
      "18/01/25 08:38:54 INFO mapreduce.Job:  map 100% reduce 100%\n",
      "18/01/25 08:38:54 INFO mapreduce.Job: Job job_1516867309094_0012 completed successfully\n",
      "18/01/25 08:38:54 INFO mapreduce.Job: Counters: 49\n",
      "\tFile System Counters\n",
      "\t\tFILE: Number of bytes read=149552\n",
      "\t\tFILE: Number of bytes written=764782\n",
      "\t\tFILE: Number of read operations=0\n",
      "\t\tFILE: Number of large read operations=0\n",
      "\t\tFILE: Number of write operations=0\n",
      "\t\tHDFS: Number of bytes read=119394\n",
      "\t\tHDFS: Number of bytes written=129284\n",
      "\t\tHDFS: Number of read operations=12\n",
      "\t\tHDFS: Number of large read operations=0\n",
      "\t\tHDFS: Number of write operations=4\n",
      "\tJob Counters \n",
      "\t\tLaunched map tasks=2\n",
      "\t\tLaunched reduce tasks=2\n",
      "\t\tData-local map tasks=2\n",
      "\t\tTotal time spent by all maps in occupied slots (ms)=8606\n",
      "\t\tTotal time spent by all reduces in occupied slots (ms)=8850\n",
      "\t\tTotal time spent by all map tasks (ms)=8606\n",
      "\t\tTotal time spent by all reduce tasks (ms)=8850\n",
      "\t\tTotal vcore-seconds taken by all map tasks=8606\n",
      "\t\tTotal vcore-seconds taken by all reduce tasks=8850\n",
      "\t\tTotal megabyte-seconds taken by all map tasks=8812544\n",
      "\t\tTotal megabyte-seconds taken by all reduce tasks=9062400\n",
      "\tMap-Reduce Framework\n",
      "\t\tMap input records=10128\n",
      "\t\tMap output records=10128\n",
      "\t\tMap output bytes=129284\n",
      "\t\tMap output materialized bytes=149564\n",
      "\t\tInput split bytes=238\n",
      "\t\tCombine input records=0\n",
      "\t\tCombine output records=0\n",
      "\t\tReduce input groups=10128\n",
      "\t\tReduce shuffle bytes=149564\n",
      "\t\tReduce input records=10128\n",
      "\t\tReduce output records=10128\n",
      "\t\tSpilled Records=20256\n",
      "\t\tShuffled Maps =4\n",
      "\t\tFailed Shuffles=0\n",
      "\t\tMerged Map outputs=4\n",
      "\t\tGC time elapsed (ms)=147\n",
      "\t\tCPU time spent (ms)=3680\n",
      "\t\tPhysical memory (bytes) snapshot=859541504\n",
      "\t\tVirtual memory (bytes) snapshot=5466628096\n",
      "\t\tTotal committed heap usage (bytes)=796393472\n",
      "\tShuffle Errors\n",
      "\t\tBAD_ID=0\n",
      "\t\tCONNECTION=0\n",
      "\t\tIO_ERROR=0\n",
      "\t\tWRONG_LENGTH=0\n",
      "\t\tWRONG_MAP=0\n",
      "\t\tWRONG_REDUCE=0\n",
      "\tFile Input Format Counters \n",
      "\t\tBytes Read=119156\n",
      "\tFile Output Format Counters \n",
      "\t\tBytes Written=129284\n",
      "18/01/25 08:38:54 INFO streaming.StreamJob: Output directory: /user/root/HW2/eda-sort-output\n"
     ]
    }
   ],
   "source": [
    "# part e - write your Hadoop streaming job here\n",
    "!hadoop jar {JAR_FILE} \\\n",
    "  -D stream.num.map.output.key.fields=3 \\\n",
    "  -D mapred.output.key.comparator.class=org.apache.hadoop.mapred.lib.KeyFieldBasedComparator \\\n",
    "  -D mapred.text.key.comparator.options=\"-k3,3nr\" \\\n",
    "  -D mapreduce.partition.keypartitioner.options=\"-k2,2\" \\\n",
    "  -partitioner org.apache.hadoop.mapred.lib.KeyFieldBasedPartitioner \\\n",
    "  -mapper /bin/cat \\\n",
    "  -reducer /bin/cat \\\n",
    "  -input {HDFS_DIR}/eda-output/part-0000* \\\n",
    "  -output {HDFS_DIR}/eda-sort-output \\\n",
    "  -numReduceTasks 2\n",
    "    "
   ]
  },
  {
   "cell_type": "code",
   "execution_count": 20,
   "metadata": {},
   "outputs": [
    {
     "name": "stdout",
     "output_type": "stream",
     "text": [
      "\n",
      "===== part-00000=====\n",
      "\n",
      "the\t0\t549\t\n",
      "to\t0\t398\t\n",
      "ect\t0\t382\t\n",
      "and\t0\t278\t\n",
      "of\t0\t230\t\n",
      "hou\t0\t206\t\n",
      "a\t0\t196\t\n",
      "in\t0\t182\t\n",
      "for\t0\t170\t\n",
      "on\t0\t135\t\n",
      "cat: Unable to write to output stream.\n",
      "\n",
      "===== part-00001=====\n",
      "\n",
      "the\t1\t698\t\n",
      "to\t1\t566\t\n",
      "and\t1\t392\t\n",
      "your\t1\t357\t\n",
      "a\t1\t347\t\n",
      "you\t1\t345\t\n",
      "of\t1\t336\t\n",
      "in\t1\t236\t\n",
      "for\t1\t204\t\n",
      "com\t1\t153\t\n",
      "cat: Unable to write to output stream.\n"
     ]
    }
   ],
   "source": [
    "# part e - view the top 10 records from each partition (RUN THIS CELL AS IS)\n",
    "for idx in range(2):\n",
    "    print \"\\n===== part-0000%s=====\\n\" % (idx)\n",
    "    !hdfs dfs -cat {HDFS_DIR}/eda-sort-output/part-0000{idx} | head"
   ]
  },
  {
   "cell_type": "markdown",
   "metadata": {},
   "source": [
    "__Expected output:__\n",
    "<table>\n",
    "<th>part-00000:</th>\n",
    "<th>part-00001:</th>\n",
    "<tr><td><pre>\n",
    "the\t0\t549\t\n",
    "to\t0\t398\t\n",
    "ect\t0\t382\t\n",
    "and\t0\t278\t\n",
    "of\t0\t230\t\n",
    "hou\t0\t206\t\n",
    "a\t0\t196\t\n",
    "in\t0\t182\t\n",
    "for\t0\t170\t\n",
    "on\t0\t135\n",
    "</pre></td>\n",
    "<td><pre>\n",
    "the\t1\t698\t\n",
    "to\t1\t566\t\n",
    "and\t1\t392\t\n",
    "your\t1\t357\t\n",
    "a\t1\t347\t\n",
    "you\t1\t345\t\n",
    "of\t1\t336\t\n",
    "in\t1\t236\t\n",
    "for\t1\t204\t\n",
    "com\t1\t153\n",
    "</pre></td></tr>\n",
    "</table>"
   ]
  },
  {
   "cell_type": "markdown",
   "metadata": {},
   "source": [
    "# Question 7: Document Classification Task Overview.\n",
    "The week 2 assigned reading from Chapter 13 of _Introduction to Information Retrieval_ by Manning, Raghavan and Schutze provides a thorough introduction to the document classification task and the math behind Naive Bayes. In this question we'll use the example from Table 13.1 (reproduced below) to 'train' an unsmoothed Multinomial Naive Bayes model and classify a test document by hand.\n",
    "\n",
    "<table>\n",
    "<th>DocID</th>\n",
    "<th>Class</th>\n",
    "<th>Subject</th>\n",
    "<th>Body</th>\n",
    "<tr><td>Doc1</td><td>1</td><td></td><td>Chinese Beijing Chinese</td></tr>\n",
    "<tr><td>Doc2</td><td>1</td><td></td><td>Chinese Chinese Shanghai</td></tr>\n",
    "<tr><td>Doc3</td><td>1</td><td></td><td>Chinese Macao</td></tr>\n",
    "<tr><td>Doc4</td><td>0</td><td></td><td>Tokyo Japan Chinese</td></tr>\n",
    "</table>\n",
    "\n",
    "### Q7 Tasks:\n",
    "* __a) short response:__ Equation 13.3 in Manning, Raghavan and Shutze shows how a Multinomial Naive Bayes model classifies a document. It predicts the class, $c$, for which the estimated conditional probability of the class given the document's contents,  $\\hat{P}(c|d)$, is greatest. In this equation what two pieces of information are required to calculate  $\\hat{P}(c|d)$? Your answer should include both mathematical notatation and verbal explanation.\n",
    "\n",
    "\n",
    "* __b) short response:__ The Enron data includes two classes of documents: `spam` and `ham` (they're actually labeled `1` and `0`). In plain English, explain what  $\\hat{P}(c)$ and   $\\hat{P}(t_{k} | c)$ mean in the context of this data. How will we would estimate these values from a training corpus? How many passes over the data would we need to make to retrieve this information for all classes and all words?\n",
    "\n",
    "\n",
    "* __c) hand calculations:__ Above we've reproduced the document classification example from the textbook (we added an empty subject field to mimic the Enron data format). Remember that the classes in this \"Chinese Example\" are `1` (about China) and `0` (not about China). Calculate the class priors and the conditional probabilities for an __unsmoothed__ Multinomial Naive Bayes model trained on this data. Show the calculations that lead to your result using markdown and $\\LaTeX$ in the space provided or by embedding an image of your hand written work. [`NOTE:` _Your results should NOT match those in the text -- they are training a model with +1 smoothing you are training a model without smoothing_]\n",
    "\n",
    "\n",
    "* __d) hand calculations:__ Use the model you trained to classify the following test document: `Chinese Chinese Chinese Tokyo Japan`. Show the calculations that lead to your result using markdown and   $\\LaTeX$ in the space provided or by embedding an image of your hand written work.\n",
    "\n",
    "\n",
    "* __e) short response:__ Compare the classification you get from this unsmoothed model in `d`/`e` to the results in the textbook's \"Example 1\" which reflects a model with Laplace plus 1 smoothing. How does smoothing affect our inference?"
   ]
  },
  {
   "cell_type": "markdown",
   "metadata": {},
   "source": [
    "### Q7 Student Answers:\n",
    "> __a)__ We need $\\hat{P}(c)$ which the unconditional probability of class $c$, and $\\hat{P}(t_{k} | c)$ which the probabibility of term $t_{k}$ ocurring in document of class $c$.\n",
    "\n",
    "> __b)__ $\\hat{P}(c) = \\frac{N_{c}}{N}$, that is the number of spam or ham over the total number of emails. For the conditional probability, $\\hat{P}(t_{k} | c) = \\frac{\\text{word t in class c}}{\\text{total words in class c}}$, we need to count the number of words given a class (e.g. if spam, how many times does 'the' appear and then divide it by total number of words in that class. We can estimate these numbers from counting words in the corpus, as we have done before. As before, ***one*** pass is all that is necessary to collect the needed data.\n",
    "\n",
    "> __c)__ $\\hat{P}(c=1) = 3/4 =0.75$ and $ \\hat{P}(c=0) = 1/4 =0.25.$ <p>\n",
    " \n",
    "> $\\hat{P}(\\text{Chinese} \\, | \\, c=1 ) = \\frac{5}{8} = 0.625.$ <p>\n",
    "> $\\hat{P}(\\text{Beijing} \\, | \\, c=1 ) = \\frac{1}{8} = 0.125.$ <p>\n",
    "> $\\hat{P}(\\text{Shanghai} \\, | \\, c=1 ) = \\frac{1}{8} = 0.125.$ <p>\n",
    "> $\\hat{P}(\\text{Macao} \\, | \\, c=1 ) = \\frac{1}{8} = 0.125.$ <p>\n",
    "\n",
    "> $\\hat{P}(\\text{Tokyo} \\, | \\, c=0 ) = \\frac{1}{3} = 0.333.$ <p>\n",
    "> $\\hat{P}(\\text{Japan} \\, | \\, c=0 ) = \\frac{1}{3} = 0.333.$ <p>\n",
    "> $\\hat{P}(\\text{Chinese} \\, | \\, c=0 ) = \\frac{1}{3} = 0.333.$ <p>\n",
    "\n",
    "> __d)__ $\\hat{P}(d|c=1) \\propto 0.75 \\times 0.625^3 \\times 0 \\times 0 = 0 $ and <p>\n",
    "> $\\hat{P}(d|c=0) \\propto 0.25 \\times (1/3)^3 \\times 1/3 \\times 1/3 = (1/3)^5 $ <p>\n",
    "> Without smoothing, the most likely class = 0, non China, and that is because in our training data we never saw class=1 document with world Tokyo and Japan.\n",
    "\n",
    "> __e)__ With Laplace plus one smoothing, the best class is now 1 (China). This seem intuitively correct, and we get this result because smoothing assigns some small probability to seeing words Tokyo and Japan in class 1.\n"
   ]
  },
  {
   "cell_type": "code",
   "execution_count": null,
   "metadata": {},
   "outputs": [],
   "source": [
    "# part d/e - if you didn't write out your calcuations above, embed a picture of them here:\n",
    "from IPython.display import Image\n",
    "Image(filename=\"path-to-hand-calulations-image.png\")"
   ]
  },
  {
   "cell_type": "markdown",
   "metadata": {},
   "source": [
    "# Question 8: Naive Bayes Inference.\n",
    "In the next two questions you'll write code to parallelize the Naive Bayes calculations that you performed above. We'll do this in two phases: one MapReduce job to perform training and a second MapReduce to perform inference. While in practice we'd need to train a model before we can use it to classify documents, for learning purposes we're going to develop our code in the opposite order. By first focusing on the pieces of information/format we need to perform the classification (inference) task you should find it easier to develop a solid implementation for training phase when you get to question 9 below. In both of these questions we'll continue to use the Chinese example corpus from the textbook to help us test our MapReduce code as we develop it. Below we've reproduced the corpus, test set and model in text format that matches the Enron data.\n",
    "\n",
    "### Q8 Tasks:\n",
    "* __a) short response:__ run the provided cells to create the example files and load them in to HDFS. Then take a closer look at __`chinese/model.txt`__. This text file represents a Naive Bayes model trained (with Laplace +1 smoothing) on the example corpus. What are the 'keys' and 'values' in this file? Which record means something slightly different than the rest? The value field of each record includes two numbers which will be helpful for debugging but which we don't actually need to perform inference -- what are they? [`HINT`: _This file represents the model from Example 13.1 in the textbook, if you're having trouble getting oriented try comparing our file to the numbers in that example._]\n",
    "\n",
    "\n",
    "* __b) short response:__ When performing Naive Bayes in practice instead of multiplying the probabilities (as in equation 13.3) we add their logs (as in equation 13.4). Why do we choose to work with log probabilities? If we had an unsmoothed model, what potential error could arise from this transformation?\n",
    "\n",
    "\n",
    "* __c) short response:__ Documents 6 and 8 in the test set include a word that did not appear in the training corpus (and as a result does not appear in the model). What should we do at inference time when we need a class conditional probability for this word?\n",
    "\n",
    "\n",
    "* __d) short response:__ The goal of our MapReduce job is to stream over the test set and classify each document by peforming the calculation from equation 13.4. To do this we'll load the model file (which contains the probabilities for equation 13.4) into memory on the nodes where we do our mapping. This is called an in-memory join, we'll learn more about those in Week 5. For now, explain how this is a slight departure from one of the functional programming principles. From a scalability perspective when might this departure be justified? when would it be unwise?\n",
    "\n",
    "\n",
    "* __e) code:__ Complete the code in __`NaiveBayes/classify_mapper.py`__. Read the docstring carefully to understand how this script should work and the format it should return. Run the provided unit tests to confirm that your script works as expected then write a Hadoop streaming job to classify the Chinese example test set. [`HINT 1:` _you shouldn't need a reducer for this one._ `HINT 2:` _Don't forget to add the model file to the_ `-files` _parameter in your Hadoop streaming job so that it gets shipped to the mapper nodes where it will be accessed by your script._]\n",
    "\n",
    "\n",
    "* __f) short response:__ In our test example and in the Enron data set we have fairly short documents. Since these fit fine in memory on a mapper node we didn't need a reducer and could just do all of our calculations in the mapper. However with much longer documents (eg. books) we might want a higher level of parallelization -- for example we might want to process parts of a document on different nodes. In this hypothetical scenario how would our algorithm design change? What could the mappers still do? What key-value structure would they emit? What would the reducers have to do as a last step?"
   ]
  },
  {
   "cell_type": "markdown",
   "metadata": {},
   "source": [
    "### Q8 Student Answers:\n",
    "> __a)__ The key here are the words, followed by values for, count in class 0, count in class 1, conditional probability in class 0, conditional probability in class 1. The line for ClassPriors constains the conditional class count (c=0, then c=1), and correspondng probabilities. Strictly speaking we don't need counts for ham and spam (or Chinese, non-Chinese).\n",
    "\n",
    "> __b)__ We have two reasons: 1) avoiding underflow errors (from multiply very small probabilities together), and 2) in an unsmoothed model, zero probabibility when only one estimate is zero (x*0 = 0). See example in Q7.\n",
    "\n",
    "> __c)__ The word trade is missing from our model. Hence we ignore it, or set the  $\\hat{P} (\\,Trade\\, |\\, c ) = 0$. \n",
    "\n",
    "> __d)__ The model is \"hardcoded\" and not derived from the data. In memory join might be justified if we have enough memory to run the jobs and if Hadoops \"suffle and sort\" becomes a bottle neck i.e. there is a lot of key-value pairs to process. It becomes unwise if our mapper nodes does not have enough memory. \n",
    "\n",
    "> __e)__ Complete the coding portion of this question before answering 'f'.\n",
    "\n",
    "> __f)__ If we had huge data set then we should go back to our word counting 'model' for mappers. Mappers would not load a model into memory, but rather emit the model parameters. We would then use reducers to calculate propabilities, and make the final prediction.\n"
   ]
  },
  {
   "cell_type": "markdown",
   "metadata": {},
   "source": [
    "Run these cells to create the example corpus and model."
   ]
  },
  {
   "cell_type": "code",
   "execution_count": 21,
   "metadata": {},
   "outputs": [
    {
     "name": "stdout",
     "output_type": "stream",
     "text": [
      "Overwriting NaiveBayes/chineseTrain.txt\n"
     ]
    }
   ],
   "source": [
    "%%writefile NaiveBayes/chineseTrain.txt\n",
    "D1\t1\t\tChinese Beijing Chinese\n",
    "D2\t1\t\tChinese Chinese Shanghai\n",
    "D3\t1\t\tChinese Macao\n",
    "D4\t0\t\tTokyo Japan Chinese"
   ]
  },
  {
   "cell_type": "code",
   "execution_count": 22,
   "metadata": {},
   "outputs": [
    {
     "name": "stdout",
     "output_type": "stream",
     "text": [
      "Overwriting NaiveBayes/chineseTest.txt\n"
     ]
    }
   ],
   "source": [
    "%%writefile NaiveBayes/chineseTest.txt\n",
    "D5\t1\t\tChinese Chinese Chinese Tokyo Japan\n",
    "D6\t1\t\tBeijing Shanghai Trade\n",
    "D7\t0\t\tJapan Macao Tokyo\n",
    "D8\t0\t\tTokyo Japan Trade"
   ]
  },
  {
   "cell_type": "code",
   "execution_count": 23,
   "metadata": {},
   "outputs": [
    {
     "name": "stdout",
     "output_type": "stream",
     "text": [
      "Overwriting NBmodel.txt\n"
     ]
    }
   ],
   "source": [
    "%%writefile NBmodel.txt\n",
    "beijing\t0.0,1.0,0.111111111111,0.142857142857\n",
    "chinese\t1.0,5.0,0.222222222222,0.428571428571\n",
    "tokyo\t1.0,0.0,0.222222222222,0.0714285714286\n",
    "shanghai\t0.0,1.0,0.111111111111,0.142857142857\n",
    "ClassPriors\t1.0,3.0,0.25,0.75\n",
    "japan\t1.0,0.0,0.222222222222,0.0714285714286\n",
    "macao\t0.0,1.0,0.111111111111,0.142857142857"
   ]
  },
  {
   "cell_type": "code",
   "execution_count": 24,
   "metadata": {},
   "outputs": [
    {
     "name": "stdout",
     "output_type": "stream",
     "text": [
      "copyFromLocal: `/user/root/HW2/chineseTrain.txt': File exists\n",
      "copyFromLocal: `/user/root/HW2/chineseTest.txt': File exists\n"
     ]
    }
   ],
   "source": [
    "# load the data files into HDFS\n",
    "!hdfs dfs -copyFromLocal NaiveBayes/chineseTrain.txt {HDFS_DIR}\n",
    "!hdfs dfs -copyFromLocal NaiveBayes/chineseTest.txt {HDFS_DIR}"
   ]
  },
  {
   "cell_type": "markdown",
   "metadata": {},
   "source": [
    "Your work for `part e` starts here:"
   ]
  },
  {
   "cell_type": "code",
   "execution_count": 25,
   "metadata": {},
   "outputs": [],
   "source": [
    "# part e - do your work in NaiveBayes/classify_mapper.py first, then run this cell.\n",
    "!chmod a+x NaiveBayes/classify_mapper.py"
   ]
  },
  {
   "cell_type": "code",
   "execution_count": 26,
   "metadata": {},
   "outputs": [
    {
     "name": "stdout",
     "output_type": "stream",
     "text": [
      "d5\t1\t0.0001354807\t0.0003012138\t1\n",
      "d6\t1\t0.0030864198\t0.0153061224\t1\n",
      "d7\t0\t0.0013717421\t0.0005466472\t0\n",
      "d8\t0\t0.0123456790\t0.0038265306\t0\n"
     ]
    }
   ],
   "source": [
    "# part e - unit test NaiveBayes/classify_mapper.py (RUN THIS CELL AS IS)\n",
    "!cat NaiveBayes/chineseTest.txt | NaiveBayes/classify_mapper.py"
   ]
  },
  {
   "cell_type": "code",
   "execution_count": 27,
   "metadata": {},
   "outputs": [
    {
     "name": "stdout",
     "output_type": "stream",
     "text": [
      "Deleted /user/root/HW2/chinese-output\n"
     ]
    }
   ],
   "source": [
    "# part e - clear the output directory in HDFS (RUN THIS CELL AS IS)\n",
    "!hdfs dfs -rm -r {HDFS_DIR}/chinese-output"
   ]
  },
  {
   "cell_type": "code",
   "execution_count": 28,
   "metadata": {},
   "outputs": [
    {
     "name": "stdout",
     "output_type": "stream",
     "text": [
      "packageJobJar: [] [/usr/jars/hadoop-streaming-2.6.0-cdh5.7.0.jar] /tmp/streamjob3016770233990235831.jar tmpDir=null\n",
      "18/01/25 09:07:45 INFO client.RMProxy: Connecting to ResourceManager at /0.0.0.0:8032\n",
      "18/01/25 09:07:45 INFO client.RMProxy: Connecting to ResourceManager at /0.0.0.0:8032\n",
      "18/01/25 09:07:45 INFO mapred.FileInputFormat: Total input paths to process : 1\n",
      "18/01/25 09:07:45 INFO mapreduce.JobSubmitter: number of splits:2\n",
      "18/01/25 09:07:46 INFO mapreduce.JobSubmitter: Submitting tokens for job: job_1516867309094_0013\n",
      "18/01/25 09:07:46 INFO impl.YarnClientImpl: Submitted application application_1516867309094_0013\n",
      "18/01/25 09:07:46 INFO mapreduce.Job: The url to track the job: http://docker.w261:8088/proxy/application_1516867309094_0013/\n",
      "18/01/25 09:07:46 INFO mapreduce.Job: Running job: job_1516867309094_0013\n",
      "18/01/25 09:07:52 INFO mapreduce.Job: Job job_1516867309094_0013 running in uber mode : false\n",
      "18/01/25 09:07:52 INFO mapreduce.Job:  map 0% reduce 0%\n",
      "18/01/25 09:07:58 INFO mapreduce.Job:  map 50% reduce 0%\n",
      "18/01/25 09:07:59 INFO mapreduce.Job:  map 100% reduce 0%\n",
      "18/01/25 09:08:04 INFO mapreduce.Job:  map 100% reduce 100%\n",
      "18/01/25 09:08:05 INFO mapreduce.Job: Job job_1516867309094_0013 completed successfully\n",
      "18/01/25 09:08:05 INFO mapreduce.Job: Counters: 49\n",
      "\tFile System Counters\n",
      "\t\tFILE: Number of bytes read=146\n",
      "\t\tFILE: Number of bytes written=352200\n",
      "\t\tFILE: Number of read operations=0\n",
      "\t\tFILE: Number of large read operations=0\n",
      "\t\tFILE: Number of write operations=0\n",
      "\t\tHDFS: Number of bytes read=403\n",
      "\t\tHDFS: Number of bytes written=132\n",
      "\t\tHDFS: Number of read operations=9\n",
      "\t\tHDFS: Number of large read operations=0\n",
      "\t\tHDFS: Number of write operations=2\n",
      "\tJob Counters \n",
      "\t\tLaunched map tasks=2\n",
      "\t\tLaunched reduce tasks=1\n",
      "\t\tData-local map tasks=2\n",
      "\t\tTotal time spent by all maps in occupied slots (ms)=8489\n",
      "\t\tTotal time spent by all reduces in occupied slots (ms)=3334\n",
      "\t\tTotal time spent by all map tasks (ms)=8489\n",
      "\t\tTotal time spent by all reduce tasks (ms)=3334\n",
      "\t\tTotal vcore-seconds taken by all map tasks=8489\n",
      "\t\tTotal vcore-seconds taken by all reduce tasks=3334\n",
      "\t\tTotal megabyte-seconds taken by all map tasks=8692736\n",
      "\t\tTotal megabyte-seconds taken by all reduce tasks=3414016\n",
      "\tMap-Reduce Framework\n",
      "\t\tMap input records=4\n",
      "\t\tMap output records=4\n",
      "\t\tMap output bytes=132\n",
      "\t\tMap output materialized bytes=152\n",
      "\t\tInput split bytes=226\n",
      "\t\tCombine input records=0\n",
      "\t\tCombine output records=0\n",
      "\t\tReduce input groups=4\n",
      "\t\tReduce shuffle bytes=152\n",
      "\t\tReduce input records=4\n",
      "\t\tReduce output records=4\n",
      "\t\tSpilled Records=8\n",
      "\t\tShuffled Maps =2\n",
      "\t\tFailed Shuffles=0\n",
      "\t\tMerged Map outputs=2\n",
      "\t\tGC time elapsed (ms)=87\n",
      "\t\tCPU time spent (ms)=1660\n",
      "\t\tPhysical memory (bytes) snapshot=699133952\n",
      "\t\tVirtual memory (bytes) snapshot=4107046912\n",
      "\t\tTotal committed heap usage (bytes)=668991488\n",
      "\tShuffle Errors\n",
      "\t\tBAD_ID=0\n",
      "\t\tCONNECTION=0\n",
      "\t\tIO_ERROR=0\n",
      "\t\tWRONG_LENGTH=0\n",
      "\t\tWRONG_MAP=0\n",
      "\t\tWRONG_REDUCE=0\n",
      "\tFile Input Format Counters \n",
      "\t\tBytes Read=177\n",
      "\tFile Output Format Counters \n",
      "\t\tBytes Written=132\n",
      "18/01/25 09:08:05 INFO streaming.StreamJob: Output directory: /user/root/HW2/chinese-output\n"
     ]
    }
   ],
   "source": [
    "# part e - write your Hadooop streaming job here\n",
    "!hadoop jar {JAR_FILE} \\\n",
    "  -files NaiveBayes/classify_mapper.py,NBmodel.txt \\\n",
    "  -mapper classify_mapper.py \\\n",
    "  -reducer /bin/cat \\\n",
    "  -cmdenv PATH=/opt/anaconda/bin:$PATH \\\n",
    "  -input {HDFS_DIR}/chineseTest.txt \\\n",
    "  -output {HDFS_DIR}/chinese-output "
   ]
  },
  {
   "cell_type": "code",
   "execution_count": 29,
   "metadata": {},
   "outputs": [],
   "source": [
    "# part e - retrieve test set results from HDFS\n",
    "!hdfs dfs -cat {HDFS_DIR}/chinese-output/part-000* > NaiveBayes/chineseResults.txt"
   ]
  },
  {
   "cell_type": "code",
   "execution_count": 30,
   "metadata": {},
   "outputs": [
    {
     "name": "stdout",
     "output_type": "stream",
     "text": [
      "d5\t1\t0.0001354807\t0.0003012138\t1\n",
      "d6\t1\t0.0030864198\t0.0153061224\t1\n",
      "d7\t0\t0.0013717421\t0.0005466472\t0\n",
      "d8\t0\t0.0123456790\t0.0038265306\t0\n"
     ]
    }
   ],
   "source": [
    "# part e - take a look\n",
    "!cat NaiveBayes/chineseResults.txt"
   ]
  },
  {
   "cell_type": "markdown",
   "metadata": {},
   "source": [
    "<table>\n",
    "<th> Expected output for the test set:</th>\n",
    "<tr align=Left><td><pre>\n",
    "d5\t1\t0.00013548\t0.00030121\t1\n",
    "d6\t1\t0.00308641\t0.01530612\t1\n",
    "d7\t0\t0.00137174\t0.00054664\t0\n",
    "d8\t0\t0.01234567\t0.00382653\t0\n",
    "</pre></td><tr>\n",
    "</table>"
   ]
  },
  {
   "cell_type": "markdown",
   "metadata": {},
   "source": [
    "# Question 9: Naive Bayes Training.\n",
    "In Question 8 we used a model that we had trained by hand. Next we'll develop the code to do that same training in parallel, making it suitable for use with larger corpora (like the Enron emails). The end result of the MapReduce job you write in this question should be a model text file that looks just like the example (`NBmodel.txt`) that we created by hand above.\n",
    "\n",
    "To refresh your memory about the training process take a look at  `7a` and `7b` where you described the pieces of information you'll need to collect in order to encode a Multinomial Naive Bayes model. We now want to retrieve those pieces of information while streaming over a corpus. The bulk of the task will be very similar to the word counting excercises you've already done but you may want to consider a slightly different key-value record structure to efficiently tally counts for each class. \n",
    "\n",
    "The most challenging (interesting?) design question will be how to retrieve the totals (# of documents and # of words in documents for each class). Of course, counting these numbers is easy. The hard part is the timing: you'll need to make sure you have the counts totalled up _before_ you start estimating the class conditional probabilities for each word. It would be best (i.e. most scalable) if we could find a way to do this tallying without storing the whole vocabulary in memory... _can you see why this is gong to be a challenge?_ [`HINT:` _There is a problem with trying to tally in the mapper but also a problem with waiting to do it in the reducer. _]. __For part `b` of this question you will receive full credit for any design that results in the correct conditional probabilities _without hard coding the class totals_ (i.e. you _can_ store records in memory if you so choose).__ However, for fun, we challenge you to try and figure out the stateless solution. It involves a technique that you will learn formally next week but we think you may be able to figure it out for yourself. [`HINT:` _Think about Hadoop's default sorting behavior, what determines the order in which records arrive at the reducer?  If we compute partial totals in our mappers can you think of a way to make sure that those numbers arrive at our reducer before any of the other 'regular' key-value pairs?_`]\n",
    "\n",
    "__`IMPORTANT NOTE:`__ Please use a single reducer for all of the jobs in this question.\n",
    "\n",
    "### Q9 Tasks:\n",
    "* __a) make a plan:__  Fill in the docstrings for __`NaiveBayes/train_mapper.py`__ and __`NaiveBayes/train_reducer.py`__ to appropriately reflect the format that each script will input/output. [`HINT:` _the input files_ (`enronemail_1h.txt` & `chineseTrain.txt`) _have a prespecified format and your output file should match_ `NBmodel.txt` _so you really only have to decide on an internal format for Hadoop_].\n",
    "\n",
    "\n",
    "* __b) implement it:__ Complete the code in __`NaiveBayes/train_mapper.py`__ and __`NaiveBayes/train_reducer.py`__ so that together they train a Multinomial Naive Bayes model __with no smoothing__. Make sure your end result is formatted correctly (see note above). Test your scripts independently and together (using `chineseTrain.txt` or test input of your own devising). When you are satisfied with your Python code design and run a Hadoop streaming command to run your job in parallel on the __chineseTrain.txt__. Confirm that your trained model matches your hand calculations from Question 7.\n",
    "\n",
    "\n",
    "* __c) short response:__ We saw in Question 7 that adding Laplace +1 smoothing makes our classifications less sensitve to rare words. However implementing this technique requires access to one additional piece of information that we had not previously used in our Naive Bayes training. What is that extra piece of information? [`HINT:` see equation 13.7 in Manning, Raghavan and Schutze].\n",
    "\n",
    "\n",
    "* __d) short response:__ There are three approaches that we could take to handle the extra piece of information you identified in `c`: 1) we could hard code it into our reducer (_where would we get it in the first place?_). Or 2) we could compute it inside the reducer which would require storing some information in memory (_what information?_). Or 3) we could compute it in the reducer without storing any bulky information in memory but then we'd need some postprocessing or a second MapReduce job to complete the calculation (_why?_). Breifly explain what is non-ideal about each of these options. BONUS: which of these options is incompatible with using multiple reducers?\n",
    "\n",
    "\n",
    "* __e) code + short response:__ In future weeks we'll learn better ways to handle this kind of situation. For now, chose one of the 3 options above. State your choice & reasoning in the space below then use that strategy to complete the code in __`NaiveBayes/train_reducer_smooth.py`__. Test this alternate reducer then write and run a Hadoop streaming job to train an MNB model with smoothing on the Chinese example. Your results should match the model that we provided for you in Question 9 (and the calculations in the textbook example). [`HINT:` _don't start from scratch with this one -- you can just copy over your reducer code from part `b` and make the needed modifications_]."
   ]
  },
  {
   "cell_type": "markdown",
   "metadata": {},
   "source": [
    "### Q9 Student Answers:\n",
    "> __ c)__ Size of the vocabulary i.e. number of distinct words.\n",
    "\n",
    "> __ d)__ Option 1 is not ideal because it makes our reducer less generalizable since the numbers are hard-coded. Option 2 may not work if required memory on the reducer is large (at least, it won't be so scalable). The memory problem is exacerbated since we have to keep everything in memory. I also cannot see how this method will allow multiple reducers since we will need to count total vocab and this has to be done globally. Option 3 requires us to run another mapping job, or to post-process the data.  \n",
    "\n",
    "> __ e)__ I choose to implement it via variant of Option 1 where the mapper counts the vocab and emits it (the string of distinct words) and is read by the reducer. This method does not rely on full memory join on the reducer (memory is confined to mapper nodes), does not require post-processing, and can still be run on two reducers (max).\n"
   ]
  },
  {
   "cell_type": "code",
   "execution_count": 31,
   "metadata": {},
   "outputs": [
    {
     "name": "stdout",
     "output_type": "stream",
     "text": [
      "=========== MAPPER DOCSTRING ============\n",
      "Mapper reads in text documents and emits word counts by class.\n",
      "INPUT:\n",
      "    ID \\t SPAM \\t SUBJECT \\t CONTENT \\n\n",
      "OUTPUT:\n",
      "    word \\t class \\t count \n",
      "    \n",
      "=========== REDUCER DOCSTRING ============\n",
      "Reducer aggregates word counts by class and emits frequencies.\n",
      "\n",
      "INPUT:\n",
      "    word \\t class \\t partialCount \n",
      "OUTPUT:\n",
      "    word \\t ham_count \\t spam_count \\t (P(word|ham)) \\t P(word|spam)\n"
     ]
    }
   ],
   "source": [
    "# part a - do your work in train_mapper.py and train_reducer.py then RUN THIS CELL AS IS\n",
    "!chmod a+x NaiveBayes/train_mapper.py\n",
    "!chmod a+x NaiveBayes/train_reducer.py\n",
    "!echo \"=========== MAPPER DOCSTRING ============\"\n",
    "!head -n 8 NaiveBayes/train_mapper.py | tail -n 6\n",
    "!echo \"=========== REDUCER DOCSTRING ============\"\n",
    "!head -n 8 NaiveBayes/train_reducer.py | tail -n 6"
   ]
  },
  {
   "cell_type": "markdown",
   "metadata": {},
   "source": [
    "__`Q9 part c starts here`:__ MNB _without_ Smoothing (training on Chinese Example Corpus)."
   ]
  },
  {
   "cell_type": "code",
   "execution_count": 32,
   "metadata": {},
   "outputs": [
    {
     "name": "stdout",
     "output_type": "stream",
     "text": [
      "beijing\t1\t1\n",
      "chinese\t1\t2\n",
      "shanghai\t1\t1\n",
      "chinese\t1\t2\n",
      "macao\t1\t1\n",
      "chinese\t1\t1\n",
      "japan\t0\t1\n",
      "chinese\t0\t1\n",
      "tokyo\t0\t1\n",
      "0ClassPriors\t1\t3\n",
      "0ClassPriors\t0\t1\n",
      "1PartialCounts\t1\t8\n",
      "1PartialCounts\t0\t3\n",
      "1VocabSize\t1\tbeijing,chinese,shanghai,chinese,macao,chinese,japan,chinese,tokyo\n"
     ]
    }
   ],
   "source": [
    "# part b - unit test for mapper\n",
    "!cat NaiveBayes/chineseTrain.txt | NaiveBayes/train_mapper.py"
   ]
  },
  {
   "cell_type": "code",
   "execution_count": 33,
   "metadata": {},
   "outputs": [
    {
     "name": "stdout",
     "output_type": "stream",
     "text": [
      "one\t2.0,1.0,0.666666666667,0.125000000000\n",
      "two\t1.0,0.0,0.333333333333,0.000000000000\n",
      "ClassPriors\t1.0,3.0,0.250000000000,0.750000000000\n"
     ]
    }
   ],
   "source": [
    "# part b - unit test for reducer\n",
    "!echo -e \"0ClassPriors\\t1\\t3\\n0ClassPriors\\t0\\t1\\n1PartialCounts\\t1\\t8\\n1PartialCounts\\t0\\t3\\none\t1\t1\\none\t0\t1\\none\t0\t1\\ntwo\t0\t1\" | NaiveBayes/train_reducer.py"
   ]
  },
  {
   "cell_type": "code",
   "execution_count": 34,
   "metadata": {},
   "outputs": [
    {
     "name": "stdout",
     "output_type": "stream",
     "text": [
      "beijing\t0.0,1.0,0.000000000000,0.125000000000\n",
      "chinese\t1.0,5.0,0.333333333333,0.625000000000\n",
      "japan\t1.0,0.0,0.333333333333,0.000000000000\n",
      "macao\t0.0,1.0,0.000000000000,0.125000000000\n",
      "shanghai\t0.0,1.0,0.000000000000,0.125000000000\n",
      "tokyo\t1.0,0.0,0.333333333333,0.000000000000\n",
      "ClassPriors\t1.0,3.0,0.250000000000,0.750000000000\n"
     ]
    }
   ],
   "source": [
    "# part b - system test\n",
    "!cat NaiveBayes/chineseTrain.txt | NaiveBayes/train_mapper.py | sort | NaiveBayes/train_reducer.py"
   ]
  },
  {
   "cell_type": "code",
   "execution_count": 35,
   "metadata": {},
   "outputs": [
    {
     "name": "stdout",
     "output_type": "stream",
     "text": [
      "Deleted /user/root/HW2/chinese-nbmodel\n"
     ]
    }
   ],
   "source": [
    "# part b - clear (and name) an output directory in HDFS for your unsmoothed chinese NB model\n",
    "!hdfs dfs -rm -r {HDFS_DIR}/chinese-nbmodel"
   ]
  },
  {
   "cell_type": "code",
   "execution_count": 36,
   "metadata": {},
   "outputs": [
    {
     "name": "stdout",
     "output_type": "stream",
     "text": [
      "packageJobJar: [] [/usr/jars/hadoop-streaming-2.6.0-cdh5.7.0.jar] /tmp/streamjob2495625370798676131.jar tmpDir=null\n",
      "18/01/25 09:12:30 INFO client.RMProxy: Connecting to ResourceManager at /0.0.0.0:8032\n",
      "18/01/25 09:12:30 INFO client.RMProxy: Connecting to ResourceManager at /0.0.0.0:8032\n",
      "18/01/25 09:12:31 INFO mapred.FileInputFormat: Total input paths to process : 1\n",
      "18/01/25 09:12:31 INFO mapreduce.JobSubmitter: number of splits:2\n",
      "18/01/25 09:12:31 INFO mapreduce.JobSubmitter: Submitting tokens for job: job_1516867309094_0014\n",
      "18/01/25 09:12:31 INFO impl.YarnClientImpl: Submitted application application_1516867309094_0014\n",
      "18/01/25 09:12:32 INFO mapreduce.Job: The url to track the job: http://docker.w261:8088/proxy/application_1516867309094_0014/\n",
      "18/01/25 09:12:32 INFO mapreduce.Job: Running job: job_1516867309094_0014\n",
      "18/01/25 09:12:39 INFO mapreduce.Job: Job job_1516867309094_0014 running in uber mode : false\n",
      "18/01/25 09:12:39 INFO mapreduce.Job:  map 0% reduce 0%\n",
      "18/01/25 09:12:45 INFO mapreduce.Job:  map 50% reduce 0%\n",
      "18/01/25 09:12:46 INFO mapreduce.Job:  map 100% reduce 0%\n",
      "18/01/25 09:12:51 INFO mapreduce.Job:  map 100% reduce 100%\n",
      "18/01/25 09:12:51 INFO mapreduce.Job: Job job_1516867309094_0014 completed successfully\n",
      "18/01/25 09:12:51 INFO mapreduce.Job: Counters: 49\n",
      "\tFile System Counters\n",
      "\t\tFILE: Number of bytes read=384\n",
      "\t\tFILE: Number of bytes written=352139\n",
      "\t\tFILE: Number of read operations=0\n",
      "\t\tFILE: Number of large read operations=0\n",
      "\t\tFILE: Number of write operations=0\n",
      "\t\tHDFS: Number of bytes read=387\n",
      "\t\tHDFS: Number of bytes written=321\n",
      "\t\tHDFS: Number of read operations=9\n",
      "\t\tHDFS: Number of large read operations=0\n",
      "\t\tHDFS: Number of write operations=2\n",
      "\tJob Counters \n",
      "\t\tLaunched map tasks=2\n",
      "\t\tLaunched reduce tasks=1\n",
      "\t\tData-local map tasks=2\n",
      "\t\tTotal time spent by all maps in occupied slots (ms)=8860\n",
      "\t\tTotal time spent by all reduces in occupied slots (ms)=3377\n",
      "\t\tTotal time spent by all map tasks (ms)=8860\n",
      "\t\tTotal time spent by all reduce tasks (ms)=3377\n",
      "\t\tTotal vcore-seconds taken by all map tasks=8860\n",
      "\t\tTotal vcore-seconds taken by all reduce tasks=3377\n",
      "\t\tTotal megabyte-seconds taken by all map tasks=9072640\n",
      "\t\tTotal megabyte-seconds taken by all reduce tasks=3458048\n",
      "\tMap-Reduce Framework\n",
      "\t\tMap input records=4\n",
      "\t\tMap output records=19\n",
      "\t\tMap output bytes=340\n",
      "\t\tMap output materialized bytes=390\n",
      "\t\tInput split bytes=228\n",
      "\t\tCombine input records=0\n",
      "\t\tCombine output records=0\n",
      "\t\tReduce input groups=9\n",
      "\t\tReduce shuffle bytes=390\n",
      "\t\tReduce input records=19\n",
      "\t\tReduce output records=7\n",
      "\t\tSpilled Records=38\n",
      "\t\tShuffled Maps =2\n",
      "\t\tFailed Shuffles=0\n",
      "\t\tMerged Map outputs=2\n",
      "\t\tGC time elapsed (ms)=82\n",
      "\t\tCPU time spent (ms)=1650\n",
      "\t\tPhysical memory (bytes) snapshot=695013376\n",
      "\t\tVirtual memory (bytes) snapshot=4106629120\n",
      "\t\tTotal committed heap usage (bytes)=623902720\n",
      "\tShuffle Errors\n",
      "\t\tBAD_ID=0\n",
      "\t\tCONNECTION=0\n",
      "\t\tIO_ERROR=0\n",
      "\t\tWRONG_LENGTH=0\n",
      "\t\tWRONG_MAP=0\n",
      "\t\tWRONG_REDUCE=0\n",
      "\tFile Input Format Counters \n",
      "\t\tBytes Read=159\n",
      "\tFile Output Format Counters \n",
      "\t\tBytes Written=321\n",
      "18/01/25 09:12:51 INFO streaming.StreamJob: Output directory: /user/root/HW2/chinese-nbmodel\n"
     ]
    }
   ],
   "source": [
    "# part b - write your hadoop streaming job\n",
    "!hadoop jar {JAR_FILE} \\\n",
    "  -files NaiveBayes/train_mapper.py,NaiveBayes/train_reducer.py \\\n",
    "  -mapper train_mapper.py \\\n",
    "  -reducer train_reducer.py \\\n",
    "  -input {HDFS_DIR}/chineseTrain.txt \\\n",
    "  -output {HDFS_DIR}/chinese-nbmodel \\\n",
    "  -numReduceTasks 1\n"
   ]
  },
  {
   "cell_type": "code",
   "execution_count": 37,
   "metadata": {},
   "outputs": [],
   "source": [
    "# part b - extract your results (i.e. model) to a local file\n",
    "!hdfs dfs -cat {HDFS_DIR}/chinese-nbmodel/part-000* > NaiveBayes/chineseNBmodel.txt"
   ]
  },
  {
   "cell_type": "code",
   "execution_count": 38,
   "metadata": {},
   "outputs": [
    {
     "name": "stdout",
     "output_type": "stream",
     "text": [
      "beijing\t0.0,1.0,0.000000000000,0.125000000000\n",
      "chinese\t1.0,5.0,0.333333333333,0.625000000000\n",
      "japan\t1.0,0.0,0.333333333333,0.000000000000\n",
      "macao\t0.0,1.0,0.000000000000,0.125000000000\n",
      "shanghai\t0.0,1.0,0.000000000000,0.125000000000\n",
      "tokyo\t1.0,0.0,0.333333333333,0.000000000000\n",
      "ClassPriors\t1.0,3.0,0.250000000000,0.750000000000\n"
     ]
    }
   ],
   "source": [
    "# part b - print your model so that we can confirm that it matches expected results\n",
    "!cat NaiveBayes/chineseNBmodel.txt"
   ]
  },
  {
   "cell_type": "markdown",
   "metadata": {},
   "source": [
    "__`Q9 part e starts here`:__ MNB _with_ Smoothing (training on Chinese Example Corpus)."
   ]
  },
  {
   "cell_type": "code",
   "execution_count": 39,
   "metadata": {},
   "outputs": [
    {
     "name": "stdout",
     "output_type": "stream",
     "text": [
      "beijing\t1\t1\n",
      "chinese\t1\t2\n",
      "shanghai\t1\t1\n",
      "chinese\t1\t2\n",
      "macao\t1\t1\n",
      "chinese\t1\t1\n",
      "japan\t0\t1\n",
      "chinese\t0\t1\n",
      "tokyo\t0\t1\n",
      "0ClassPriors\t1\t3\n",
      "0ClassPriors\t0\t1\n",
      "1PartialCounts\t1\t8\n",
      "1PartialCounts\t0\t3\n",
      "1VocabSize\t1\tbeijing,chinese,shanghai,chinese,macao,chinese,japan,chinese,tokyo\n"
     ]
    }
   ],
   "source": [
    "!cat NaiveBayes/chineseTrain.txt | NaiveBayes/train_mapper.py"
   ]
  },
  {
   "cell_type": "code",
   "execution_count": 40,
   "metadata": {},
   "outputs": [
    {
     "name": "stdout",
     "output_type": "stream",
     "text": [
      "one\t2.0,1.0,1.000000000000,0.250000000000\n",
      "two\t1.0,0.0,0.666666666667,0.125000000000\n",
      "ClassPriors\t1.0,3.0,0.250000000000,0.750000000000\n"
     ]
    }
   ],
   "source": [
    "# part e - write a unit test for your NEW reducer here\n",
    "!echo -e \"0ClassPriors\\t1\\t3\\n0ClassPriors\\t0\\t1\\n1PartialCounts\\t1\\t8\\n1PartialCounts\\t0\\t3\\none\t1\t1\\none\t0\t1\\none\t0\t1\\ntwo\t0\t1\" | NaiveBayes/train_reducer_smooth.py"
   ]
  },
  {
   "cell_type": "code",
   "execution_count": 41,
   "metadata": {},
   "outputs": [
    {
     "name": "stdout",
     "output_type": "stream",
     "text": [
      "beijing\t0.0,1.0,0.111111111111,0.142857142857\n",
      "chinese\t1.0,5.0,0.222222222222,0.428571428571\n",
      "japan\t1.0,0.0,0.222222222222,0.071428571429\n",
      "macao\t0.0,1.0,0.111111111111,0.142857142857\n",
      "shanghai\t0.0,1.0,0.111111111111,0.142857142857\n",
      "tokyo\t1.0,0.0,0.222222222222,0.071428571429\n",
      "ClassPriors\t1.0,3.0,0.250000000000,0.750000000000\n"
     ]
    }
   ],
   "source": [
    "# part e - write a systems test for your mapper + reducer together here\n",
    "!cat NaiveBayes/chineseTrain.txt | NaiveBayes/train_mapper.py | sort | NaiveBayes/train_reducer_smooth.py"
   ]
  },
  {
   "cell_type": "code",
   "execution_count": 42,
   "metadata": {},
   "outputs": [
    {
     "name": "stdout",
     "output_type": "stream",
     "text": [
      "Deleted /user/root/HW2/chinese-smooth-nbmodel\n"
     ]
    }
   ],
   "source": [
    "# part e - clear (and name) an output directory in HDFS for your SMOOTHED chinese NB model\n",
    "!hdfs dfs -rm -r {HDFS_DIR}/chinese-smooth-nbmodel"
   ]
  },
  {
   "cell_type": "code",
   "execution_count": 43,
   "metadata": {},
   "outputs": [
    {
     "name": "stdout",
     "output_type": "stream",
     "text": [
      "packageJobJar: [] [/usr/jars/hadoop-streaming-2.6.0-cdh5.7.0.jar] /tmp/streamjob8492116847910198917.jar tmpDir=null\n",
      "18/01/25 09:14:22 INFO client.RMProxy: Connecting to ResourceManager at /0.0.0.0:8032\n",
      "18/01/25 09:14:22 INFO client.RMProxy: Connecting to ResourceManager at /0.0.0.0:8032\n",
      "18/01/25 09:14:23 INFO mapred.FileInputFormat: Total input paths to process : 1\n",
      "18/01/25 09:14:23 INFO mapreduce.JobSubmitter: number of splits:2\n",
      "18/01/25 09:14:23 INFO mapreduce.JobSubmitter: Submitting tokens for job: job_1516867309094_0015\n",
      "18/01/25 09:14:23 INFO impl.YarnClientImpl: Submitted application application_1516867309094_0015\n",
      "18/01/25 09:14:23 INFO mapreduce.Job: The url to track the job: http://docker.w261:8088/proxy/application_1516867309094_0015/\n",
      "18/01/25 09:14:23 INFO mapreduce.Job: Running job: job_1516867309094_0015\n",
      "18/01/25 09:14:29 INFO mapreduce.Job: Job job_1516867309094_0015 running in uber mode : false\n",
      "18/01/25 09:14:29 INFO mapreduce.Job:  map 0% reduce 0%\n",
      "18/01/25 09:14:36 INFO mapreduce.Job:  map 100% reduce 0%\n",
      "18/01/25 09:14:42 INFO mapreduce.Job:  map 100% reduce 100%\n",
      "18/01/25 09:14:42 INFO mapreduce.Job: Job job_1516867309094_0015 completed successfully\n",
      "18/01/25 09:14:43 INFO mapreduce.Job: Counters: 49\n",
      "\tFile System Counters\n",
      "\t\tFILE: Number of bytes read=384\n",
      "\t\tFILE: Number of bytes written=352273\n",
      "\t\tFILE: Number of read operations=0\n",
      "\t\tFILE: Number of large read operations=0\n",
      "\t\tFILE: Number of write operations=0\n",
      "\t\tHDFS: Number of bytes read=387\n",
      "\t\tHDFS: Number of bytes written=321\n",
      "\t\tHDFS: Number of read operations=9\n",
      "\t\tHDFS: Number of large read operations=0\n",
      "\t\tHDFS: Number of write operations=2\n",
      "\tJob Counters \n",
      "\t\tLaunched map tasks=2\n",
      "\t\tLaunched reduce tasks=1\n",
      "\t\tData-local map tasks=2\n",
      "\t\tTotal time spent by all maps in occupied slots (ms)=8116\n",
      "\t\tTotal time spent by all reduces in occupied slots (ms)=3496\n",
      "\t\tTotal time spent by all map tasks (ms)=8116\n",
      "\t\tTotal time spent by all reduce tasks (ms)=3496\n",
      "\t\tTotal vcore-seconds taken by all map tasks=8116\n",
      "\t\tTotal vcore-seconds taken by all reduce tasks=3496\n",
      "\t\tTotal megabyte-seconds taken by all map tasks=8310784\n",
      "\t\tTotal megabyte-seconds taken by all reduce tasks=3579904\n",
      "\tMap-Reduce Framework\n",
      "\t\tMap input records=4\n",
      "\t\tMap output records=19\n",
      "\t\tMap output bytes=340\n",
      "\t\tMap output materialized bytes=390\n",
      "\t\tInput split bytes=228\n",
      "\t\tCombine input records=0\n",
      "\t\tCombine output records=0\n",
      "\t\tReduce input groups=9\n",
      "\t\tReduce shuffle bytes=390\n",
      "\t\tReduce input records=19\n",
      "\t\tReduce output records=7\n",
      "\t\tSpilled Records=38\n",
      "\t\tShuffled Maps =2\n",
      "\t\tFailed Shuffles=0\n",
      "\t\tMerged Map outputs=2\n",
      "\t\tGC time elapsed (ms)=98\n",
      "\t\tCPU time spent (ms)=1640\n",
      "\t\tPhysical memory (bytes) snapshot=718430208\n",
      "\t\tVirtual memory (bytes) snapshot=4106502144\n",
      "\t\tTotal committed heap usage (bytes)=627048448\n",
      "\tShuffle Errors\n",
      "\t\tBAD_ID=0\n",
      "\t\tCONNECTION=0\n",
      "\t\tIO_ERROR=0\n",
      "\t\tWRONG_LENGTH=0\n",
      "\t\tWRONG_MAP=0\n",
      "\t\tWRONG_REDUCE=0\n",
      "\tFile Input Format Counters \n",
      "\t\tBytes Read=159\n",
      "\tFile Output Format Counters \n",
      "\t\tBytes Written=321\n",
      "18/01/25 09:14:43 INFO streaming.StreamJob: Output directory: /user/root/HW2/chinese-smooth-nbmodel\n"
     ]
    }
   ],
   "source": [
    "# part e - write your hadoop streaming job\n",
    "!hadoop jar {JAR_FILE} \\\n",
    "  -files NaiveBayes/train_mapper.py,NaiveBayes/train_reducer_smooth.py \\\n",
    "  -mapper train_mapper.py \\\n",
    "  -reducer train_reducer_smooth.py \\\n",
    "  -input {HDFS_DIR}/chineseTrain.txt \\\n",
    "  -output {HDFS_DIR}/chinese-smooth-nbmodel \\\n",
    "  -numReduceTasks 1"
   ]
  },
  {
   "cell_type": "code",
   "execution_count": 44,
   "metadata": {},
   "outputs": [],
   "source": [
    "# part e - extract your results (i.e. model) to a local file\n",
    "!hdfs dfs -cat {HDFS_DIR}/chinese-smooth-nbmodel/part-000* > NaiveBayes/chineseNBmodel2.txt"
   ]
  },
  {
   "cell_type": "code",
   "execution_count": 45,
   "metadata": {},
   "outputs": [
    {
     "name": "stdout",
     "output_type": "stream",
     "text": [
      "beijing\t0.0,1.0,0.111111111111,0.142857142857\n",
      "chinese\t1.0,5.0,0.222222222222,0.428571428571\n",
      "japan\t1.0,0.0,0.222222222222,0.071428571429\n",
      "macao\t0.0,1.0,0.111111111111,0.142857142857\n",
      "shanghai\t0.0,1.0,0.111111111111,0.142857142857\n",
      "tokyo\t1.0,0.0,0.222222222222,0.071428571429\n",
      "ClassPriors\t1.0,3.0,0.250000000000,0.750000000000\n",
      "=================vs============\n",
      "\n",
      "beijing\t0.0,1.0,0.111111111111,0.142857142857\n",
      "chinese\t1.0,5.0,0.222222222222,0.428571428571\n",
      "tokyo\t1.0,0.0,0.222222222222,0.0714285714286\n",
      "shanghai\t0.0,1.0,0.111111111111,0.142857142857\n",
      "ClassPriors\t1.0,3.0,0.25,0.75\n",
      "japan\t1.0,0.0,0.222222222222,0.0714285714286\n",
      "macao\t0.0,1.0,0.111111111111,0.142857142857"
     ]
    }
   ],
   "source": [
    "!cat NaiveBayes/chineseNBmodel2.txt\n",
    "print '=================vs============\\n'\n",
    "!cat NBmodel.txt"
   ]
  },
  {
   "cell_type": "markdown",
   "metadata": {},
   "source": [
    "# Question 10: Enron Ham/Spam NB Classifier & Results.\n",
    "\n",
    "Fantastic work. We're finally ready to perform Spam Classification on the Enron Corpus. In this final homework question you'll run the analysis you've developed, report its performance, and draw some conclusions.\n",
    "\n",
    "### Q10 Tasks:\n",
    "* __a) train/test split:__ Run the provided code to split our Enron file into a training set and testing set then load them into HDFS. [`NOTE:` _If you hard coded the vocab size in question 9d make sure you re calculate the vocab size for just the training set!_]\n",
    "\n",
    "\n",
    "* __b) train 2 models:__ Write Hadoop Streaming jobs to train MNB Models on the training set with and without smoothing. Save your models to local files at __`NaiveBayes/Unsmoothed/NBmodel.txt`__ and __`NaiveBayes/Smoothed/NBmodel.txt`__. [`NOTE:` _This naming is important because we wrote our classification task so that it expects a file of that name... if this inelegance frustrates you there is an alternative that would involve a few adjustments to your code [read more about it here](http://www.tnoda.com/blog/2013-11-23). If you can let it slide for now, MRJob (the next framework we'll learn) will have an easier way to handle this._] Finally run the checks that we provide to confirm that your results are correct.\n",
    "\n",
    "\n",
    "* __c) code:__ Recall that we designed our classification job with just a mapper. An efficient way to report the performance of our models would be to simply add a reducer phase to this job and compute precision and recall right there. Complete the code in __`NaiveBayes/evaluation_reducer.py`__ and then write Hadoop jobs to evaluate your two models on the test set. Report their performance side by side. [`NOTE:` if you need a refresher on precision, recall and F1-score [Wikipedia](https://en.wikipedia.org/wiki/F1_score) is a good resource.]\n",
    "\n",
    "\n",
    "* __d) short response:__ Compare the performance of your two models. What do you notice about the unsmoothed model's predictions? Can you guess why this is happening? Which evaluation measure do you think is most relevant in our use case? [`NOTE:` _Feel free to answer using your common sense but if you want more information on evaluating the classification task checkout_ [this blogpost](https://tryolabs.com/blog/2013/03/25/why-accuracy-alone-bad-measure-classification-tasks-and-what-we-can-do-about-it/\n",
    ") or [this paper](http://www.flinders.edu.au/science_engineering/fms/School-CSEM/publications/tech_reps-research_artfcts/TRRA_2007.pdf\n",
    ")]\n",
    "\n",
    "\n",
    "* __e) code + short response:__ Let's look at the top ten words with the highest conditional probability in `Spam` and in `Ham`. We'll do this by writing a Hadoop job that sorts the model file (`NaiveBayes/Smoothed/NBmodel.py`). Normally we'd have to run two jobs -- one that sorts on $P(word|ham)$ and another that sorts on $P(word|spam)$. However if we slighly modify the data format in the model file then we can get the top words in each class with just one job. We've written a mapper that will do just this for you. Read through __`NaiveBayes/model_sort_mapper.py`__ and then briefly explain how this mapper will allow us to partition and sort our model file. Write a Hadoop job that uses our mapper and `/bin/cat` for a reducer to partition and sort. Print out the top 10 words in each class (where 'top' == highest conditional probability).[`HINT:` _this should remind you a lot of what we did in Question 6._]\n",
    "\n",
    "\n",
    "* __f) short response:__ What do you notice about the 'top words' we printed in `e`? How would increasing the smoothing parameter 'k' affect the probabilities for the top words that you identified for 'e'. How would they affect the probabilities of words that occur much more in one class than another? In summary, how does the smoothing parameter 'k' affect the bias and the variance of our model. [`NOTE:` _you do not need to code anything for this task, but if you are struggling with it you could try changing 'k' and see what happens to the test set. We don't recommend doing this exploration with the Enron data because it will be harder to see the impact with such a big vocabulary_]"
   ]
  },
  {
   "cell_type": "markdown",
   "metadata": {},
   "source": [
    "### Q10 Student Answers:\n",
    "\n",
    "> __d)__ On all metrics, the smoothed model does better. This is probably because smoothing allows us to assign some probability to words we saw for spam or ham but are not present respective class in the training set.\n",
    "\n",
    "> __e)__ The mapper splits the sample into spam and ham, the we use the partition option as in the last part of Q6 to sort by maximum conditional probability over the population of spam and ham. \n",
    "\n",
    "> __f)__ The higher the k, the higher the bias (and lower the variance). Many of the words in both classes seem to be common in English (note: one thing to do might be to exclude these words), and if we increase smoothing one would except their conditional probabilities to drop as greater probability mass is transfered to less common words. "
   ]
  },
  {
   "cell_type": "markdown",
   "metadata": {},
   "source": [
    "__Test/Train split__"
   ]
  },
  {
   "cell_type": "code",
   "execution_count": 46,
   "metadata": {},
   "outputs": [
    {
     "name": "stdout",
     "output_type": "stream",
     "text": [
      "copyFromLocal: `/user/root/HW2/enron_train.txt': File exists\n",
      "copyFromLocal: `/user/root/HW2/enron_test.txt': File exists\n"
     ]
    }
   ],
   "source": [
    "# part a - test/train split (RUN THIS CELL AS IS)\n",
    "!head -n 80 data/enronemail_1h.txt > data/enron_train.txt\n",
    "!tail -n 20 data/enronemail_1h.txt > data/enron_test.txt\n",
    "!hdfs dfs -copyFromLocal data/enron_train.txt {HDFS_DIR}\n",
    "!hdfs dfs -copyFromLocal data/enron_test.txt {HDFS_DIR}"
   ]
  },
  {
   "cell_type": "markdown",
   "metadata": {},
   "source": [
    "__Training__ (Enron MNB Model _without smoothing_ )"
   ]
  },
  {
   "cell_type": "code",
   "execution_count": 47,
   "metadata": {},
   "outputs": [
    {
     "name": "stdout",
     "output_type": "stream",
     "text": [
      "Deleted /user/root/HW2/enron-model\n",
      "packageJobJar: [] [/usr/jars/hadoop-streaming-2.6.0-cdh5.7.0.jar] /tmp/streamjob2329411672488495860.jar tmpDir=null\n",
      "18/01/25 09:18:45 INFO client.RMProxy: Connecting to ResourceManager at /0.0.0.0:8032\n",
      "18/01/25 09:18:45 INFO client.RMProxy: Connecting to ResourceManager at /0.0.0.0:8032\n",
      "18/01/25 09:18:46 INFO mapred.FileInputFormat: Total input paths to process : 1\n",
      "18/01/25 09:18:46 INFO mapreduce.JobSubmitter: number of splits:2\n",
      "18/01/25 09:18:46 INFO mapreduce.JobSubmitter: Submitting tokens for job: job_1516867309094_0016\n",
      "18/01/25 09:18:46 INFO impl.YarnClientImpl: Submitted application application_1516867309094_0016\n",
      "18/01/25 09:18:46 INFO mapreduce.Job: The url to track the job: http://docker.w261:8088/proxy/application_1516867309094_0016/\n",
      "18/01/25 09:18:46 INFO mapreduce.Job: Running job: job_1516867309094_0016\n",
      "18/01/25 09:18:54 INFO mapreduce.Job: Job job_1516867309094_0016 running in uber mode : false\n",
      "18/01/25 09:18:54 INFO mapreduce.Job:  map 0% reduce 0%\n",
      "18/01/25 09:19:01 INFO mapreduce.Job:  map 50% reduce 0%\n",
      "18/01/25 09:19:02 INFO mapreduce.Job:  map 100% reduce 0%\n",
      "18/01/25 09:19:07 INFO mapreduce.Job:  map 100% reduce 100%\n",
      "18/01/25 09:19:07 INFO mapreduce.Job: Job job_1516867309094_0016 completed successfully\n",
      "18/01/25 09:19:07 INFO mapreduce.Job: Counters: 49\n",
      "\tFile System Counters\n",
      "\t\tFILE: Number of bytes read=223645\n",
      "\t\tFILE: Number of bytes written=798646\n",
      "\t\tFILE: Number of read operations=0\n",
      "\t\tFILE: Number of large read operations=0\n",
      "\t\tFILE: Number of write operations=0\n",
      "\t\tHDFS: Number of bytes read=167388\n",
      "\t\tHDFS: Number of bytes written=208314\n",
      "\t\tHDFS: Number of read operations=9\n",
      "\t\tHDFS: Number of large read operations=0\n",
      "\t\tHDFS: Number of write operations=2\n",
      "\tJob Counters \n",
      "\t\tLaunched map tasks=2\n",
      "\t\tLaunched reduce tasks=1\n",
      "\t\tData-local map tasks=2\n",
      "\t\tTotal time spent by all maps in occupied slots (ms)=8937\n",
      "\t\tTotal time spent by all reduces in occupied slots (ms)=3678\n",
      "\t\tTotal time spent by all map tasks (ms)=8937\n",
      "\t\tTotal time spent by all reduce tasks (ms)=3678\n",
      "\t\tTotal vcore-seconds taken by all map tasks=8937\n",
      "\t\tTotal vcore-seconds taken by all reduce tasks=3678\n",
      "\t\tTotal megabyte-seconds taken by all map tasks=9151488\n",
      "\t\tTotal megabyte-seconds taken by all reduce tasks=3766272\n",
      "\tMap-Reduce Framework\n",
      "\t\tMap input records=80\n",
      "\t\tMap output records=11672\n",
      "\t\tMap output bytes=200291\n",
      "\t\tMap output materialized bytes=223651\n",
      "\t\tInput split bytes=226\n",
      "\t\tCombine input records=0\n",
      "\t\tCombine output records=0\n",
      "\t\tReduce input groups=4558\n",
      "\t\tReduce shuffle bytes=223651\n",
      "\t\tReduce input records=11672\n",
      "\t\tReduce output records=4556\n",
      "\t\tSpilled Records=23344\n",
      "\t\tShuffled Maps =2\n",
      "\t\tFailed Shuffles=0\n",
      "\t\tMerged Map outputs=2\n",
      "\t\tGC time elapsed (ms)=86\n",
      "\t\tCPU time spent (ms)=2650\n",
      "\t\tPhysical memory (bytes) snapshot=724779008\n",
      "\t\tVirtual memory (bytes) snapshot=4093321216\n",
      "\t\tTotal committed heap usage (bytes)=727711744\n",
      "\tShuffle Errors\n",
      "\t\tBAD_ID=0\n",
      "\t\tCONNECTION=0\n",
      "\t\tIO_ERROR=0\n",
      "\t\tWRONG_LENGTH=0\n",
      "\t\tWRONG_MAP=0\n",
      "\t\tWRONG_REDUCE=0\n",
      "\tFile Input Format Counters \n",
      "\t\tBytes Read=167162\n",
      "\tFile Output Format Counters \n",
      "\t\tBytes Written=208314\n",
      "18/01/25 09:19:07 INFO streaming.StreamJob: Output directory: /user/root/HW2/enron-model\n",
      "mkdir: cannot create directory `NaiveBayes/Unsmoothed': File exists\n"
     ]
    }
   ],
   "source": [
    "# part b -  Unsmoothed model (FILL IN THE MISSING CODE BELOW)\n",
    "\n",
    "# clear the output directory\n",
    "!hdfs dfs -rm -r {HDFS_DIR}/enron-model\n",
    "\n",
    "# hadoop command\n",
    "!hadoop jar {JAR_FILE} \\\n",
    "  -files NaiveBayes/train_mapper.py,NaiveBayes/train_reducer.py \\\n",
    "  -mapper train_mapper.py \\\n",
    "  -reducer train_reducer.py \\\n",
    "  -input {HDFS_DIR}/enron_train.txt \\\n",
    "  -output {HDFS_DIR}/enron-model \\\n",
    "  -numReduceTasks 1\n",
    "\n",
    "# save the model locally\n",
    "!mkdir NaiveBayes/Unsmoothed\n",
    "!hdfs dfs -cat {HDFS_DIR}/enron-model/part-000* > NaiveBayes/Unsmoothed/NBmodel.txt"
   ]
  },
  {
   "cell_type": "code",
   "execution_count": 48,
   "metadata": {},
   "outputs": [
    {
     "name": "stdout",
     "output_type": "stream",
     "text": [
      "assistance\t2.0,4.0,0.000172547666,0.000296823983\n"
     ]
    }
   ],
   "source": [
    "# part b - check your UNSMOOTHED model results (RUN THIS CELL AS IS)\n",
    "!grep assistance NaiveBayes/Unsmoothed/NBmodel.txt\n",
    "# EXPECTED OUTPUT: assistance\t2,4,0.000172547666293,0.000296823983378"
   ]
  },
  {
   "cell_type": "code",
   "execution_count": 49,
   "metadata": {},
   "outputs": [
    {
     "name": "stdout",
     "output_type": "stream",
     "text": [
      "money\t1.0,22.0,0.000086273833,0.001632531909\n"
     ]
    }
   ],
   "source": [
    "# part b - check your UNSMOOTHED model results (RUN THIS CELL AS IS)\n",
    "!grep money NaiveBayes/Unsmoothed/NBmodel.txt\n",
    "# EXPECTED OUTPUT: money\t1,22,8.62738331464e-05,0.00163253190858"
   ]
  },
  {
   "cell_type": "markdown",
   "metadata": {},
   "source": [
    "__Training__ (Enron MNB Model _with Laplace +1 smoothing_ )"
   ]
  },
  {
   "cell_type": "code",
   "execution_count": 53,
   "metadata": {},
   "outputs": [
    {
     "name": "stdout",
     "output_type": "stream",
     "text": [
      "Deleted /user/root/HW2/smooth-model\n",
      "packageJobJar: [] [/usr/jars/hadoop-streaming-2.6.0-cdh5.7.0.jar] /tmp/streamjob3572553069986832337.jar tmpDir=null\n",
      "18/01/25 09:21:00 INFO client.RMProxy: Connecting to ResourceManager at /0.0.0.0:8032\n",
      "18/01/25 09:21:00 INFO client.RMProxy: Connecting to ResourceManager at /0.0.0.0:8032\n",
      "18/01/25 09:21:01 INFO mapred.FileInputFormat: Total input paths to process : 1\n",
      "18/01/25 09:21:01 INFO mapreduce.JobSubmitter: number of splits:2\n",
      "18/01/25 09:21:01 INFO mapreduce.JobSubmitter: Submitting tokens for job: job_1516867309094_0018\n",
      "18/01/25 09:21:01 INFO impl.YarnClientImpl: Submitted application application_1516867309094_0018\n",
      "18/01/25 09:21:01 INFO mapreduce.Job: The url to track the job: http://docker.w261:8088/proxy/application_1516867309094_0018/\n",
      "18/01/25 09:21:01 INFO mapreduce.Job: Running job: job_1516867309094_0018\n",
      "18/01/25 09:21:09 INFO mapreduce.Job: Job job_1516867309094_0018 running in uber mode : false\n",
      "18/01/25 09:21:09 INFO mapreduce.Job:  map 0% reduce 0%\n",
      "18/01/25 09:21:15 INFO mapreduce.Job:  map 50% reduce 0%\n",
      "18/01/25 09:21:16 INFO mapreduce.Job:  map 100% reduce 0%\n",
      "18/01/25 09:21:26 INFO mapreduce.Job:  map 100% reduce 100%\n",
      "18/01/25 09:21:27 INFO mapreduce.Job: Job job_1516867309094_0018 completed successfully\n",
      "18/01/25 09:21:27 INFO mapreduce.Job: Counters: 49\n",
      "\tFile System Counters\n",
      "\t\tFILE: Number of bytes read=223645\n",
      "\t\tFILE: Number of bytes written=798754\n",
      "\t\tFILE: Number of read operations=0\n",
      "\t\tFILE: Number of large read operations=0\n",
      "\t\tFILE: Number of write operations=0\n",
      "\t\tHDFS: Number of bytes read=167388\n",
      "\t\tHDFS: Number of bytes written=208314\n",
      "\t\tHDFS: Number of read operations=9\n",
      "\t\tHDFS: Number of large read operations=0\n",
      "\t\tHDFS: Number of write operations=2\n",
      "\tJob Counters \n",
      "\t\tLaunched map tasks=2\n",
      "\t\tLaunched reduce tasks=1\n",
      "\t\tData-local map tasks=2\n",
      "\t\tTotal time spent by all maps in occupied slots (ms)=8500\n",
      "\t\tTotal time spent by all reduces in occupied slots (ms)=9014\n",
      "\t\tTotal time spent by all map tasks (ms)=8500\n",
      "\t\tTotal time spent by all reduce tasks (ms)=9014\n",
      "\t\tTotal vcore-seconds taken by all map tasks=8500\n",
      "\t\tTotal vcore-seconds taken by all reduce tasks=9014\n",
      "\t\tTotal megabyte-seconds taken by all map tasks=8704000\n",
      "\t\tTotal megabyte-seconds taken by all reduce tasks=9230336\n",
      "\tMap-Reduce Framework\n",
      "\t\tMap input records=80\n",
      "\t\tMap output records=11672\n",
      "\t\tMap output bytes=200291\n",
      "\t\tMap output materialized bytes=223651\n",
      "\t\tInput split bytes=226\n",
      "\t\tCombine input records=0\n",
      "\t\tCombine output records=0\n",
      "\t\tReduce input groups=4558\n",
      "\t\tReduce shuffle bytes=223651\n",
      "\t\tReduce input records=11672\n",
      "\t\tReduce output records=4556\n",
      "\t\tSpilled Records=23344\n",
      "\t\tShuffled Maps =2\n",
      "\t\tFailed Shuffles=0\n",
      "\t\tMerged Map outputs=2\n",
      "\t\tGC time elapsed (ms)=109\n",
      "\t\tCPU time spent (ms)=8060\n",
      "\t\tPhysical memory (bytes) snapshot=713957376\n",
      "\t\tVirtual memory (bytes) snapshot=4115955712\n",
      "\t\tTotal committed heap usage (bytes)=671088640\n",
      "\tShuffle Errors\n",
      "\t\tBAD_ID=0\n",
      "\t\tCONNECTION=0\n",
      "\t\tIO_ERROR=0\n",
      "\t\tWRONG_LENGTH=0\n",
      "\t\tWRONG_MAP=0\n",
      "\t\tWRONG_REDUCE=0\n",
      "\tFile Input Format Counters \n",
      "\t\tBytes Read=167162\n",
      "\tFile Output Format Counters \n",
      "\t\tBytes Written=208314\n",
      "18/01/25 09:21:27 INFO streaming.StreamJob: Output directory: /user/root/HW2/smooth-model\n",
      "mkdir: cannot create directory `NaiveBayes/Smoothed': File exists\n"
     ]
    }
   ],
   "source": [
    "# part b -  Smoothed model (FILL IN THE MISSING CODE BELOW)\n",
    "\n",
    "# clear the output directory\n",
    "!hdfs dfs -rm -r {HDFS_DIR}/smooth-model\n",
    "\n",
    "# hadoop command\n",
    "!hadoop jar {JAR_FILE} \\\n",
    "  -files NaiveBayes/train_mapper.py,NaiveBayes/train_reducer_smooth.py \\\n",
    "  -mapper train_mapper.py \\\n",
    "  -reducer train_reducer_smooth.py \\\n",
    "  -input {HDFS_DIR}/enron_train.txt \\\n",
    "  -output {HDFS_DIR}/smooth-model \\\n",
    "  -numReduceTasks 1\n",
    "\n",
    "# save the model locally\n",
    "!mkdir NaiveBayes/Smoothed\n",
    "!hdfs dfs -cat {HDFS_DIR}/smooth-model/part-000* > NaiveBayes/Smoothed/NBmodel.txt"
   ]
  },
  {
   "cell_type": "code",
   "execution_count": 54,
   "metadata": {},
   "outputs": [
    {
     "name": "stdout",
     "output_type": "stream",
     "text": [
      "assistance\t2.0,4.0,0.000185804534,0.000277300205\n"
     ]
    }
   ],
   "source": [
    "# part b - check your SMOOTHED model results (RUN THIS CELL AS IS)\n",
    "!grep assistance NaiveBayes/Smoothed/NBmodel.txt\n",
    "# EXPECTED OUTPUT: assistance\t2,4,0.000185804533631,0.000277300205202"
   ]
  },
  {
   "cell_type": "code",
   "execution_count": 55,
   "metadata": {},
   "outputs": [
    {
     "name": "stdout",
     "output_type": "stream",
     "text": [
      "money\t1.0,22.0,0.000123869689,0.001275580944\n"
     ]
    }
   ],
   "source": [
    "# part b - check your SMOOTHED model results (RUN THIS CELL AS IS)\n",
    "!grep money NaiveBayes/Smoothed/NBmodel.txt\n",
    "# EXPECTED OUTPUT: money\t1,22,0.000123869689087,0.00127558094393"
   ]
  },
  {
   "cell_type": "markdown",
   "metadata": {},
   "source": [
    "__Evaluation__"
   ]
  },
  {
   "cell_type": "code",
   "execution_count": 56,
   "metadata": {},
   "outputs": [],
   "source": [
    "# part c - write your code in NaiveBayes/evaluation_reducer.py then RUN THIS CELL\n",
    "!chmod a+x NaiveBayes/evaluation_reducer.py"
   ]
  },
  {
   "cell_type": "code",
   "execution_count": 57,
   "metadata": {},
   "outputs": [
    {
     "name": "stdout",
     "output_type": "stream",
     "text": [
      "d5\t1\t0.0001354807\t0.0003012138\t1\n",
      "d6\t1\t0.0030864198\t0.0153061224\t1\n",
      "d7\t0\t0.0013717421\t0.0005466472\t0\n",
      "d8\t0\t0.0123456790\t0.0038265306\t0\n",
      "d5\t1\t0.0001354807\t0.0003012138\tTrue\n",
      "d6\t1\t0.0030864198\t0.0153061224\tTrue\n",
      "d7\t0\t0.0013717421\t0.0005466472\tTrue\n",
      "d8\t0\t0.0123456790\t0.0038265306\tTrue\n",
      "# Documents: \t4\n",
      "True Positives: \t2\n",
      "True Negatives: \t2\n",
      "False Positives: \t0\n",
      "False Negatives: \t0\n",
      "Accuracy: \t1.0000\n",
      "Precision: \t1.0000\n",
      "Recall: \t1.0000\n",
      "F1-Score: \t1.0000\n"
     ]
    }
   ],
   "source": [
    "# part c - unit test your evaluation job on the chinese model (RUN THIS CELL AS IS)\n",
    "!cat NaiveBayes/chineseTest.txt | NaiveBayes/classify_mapper.py \n",
    "!cat NaiveBayes/chineseTest.txt | NaiveBayes/classify_mapper.py | NaiveBayes/evaluation_reducer.py"
   ]
  },
  {
   "cell_type": "code",
   "execution_count": 58,
   "metadata": {},
   "outputs": [
    {
     "name": "stdout",
     "output_type": "stream",
     "text": [
      "Deleted /user/root/HW2/evaluation-unsmooth\n",
      "packageJobJar: [] [/usr/jars/hadoop-streaming-2.6.0-cdh5.7.0.jar] /tmp/streamjob6035136005053682115.jar tmpDir=null\n",
      "18/01/25 09:22:05 INFO client.RMProxy: Connecting to ResourceManager at /0.0.0.0:8032\n",
      "18/01/25 09:22:05 INFO client.RMProxy: Connecting to ResourceManager at /0.0.0.0:8032\n",
      "18/01/25 09:22:06 INFO mapred.FileInputFormat: Total input paths to process : 1\n",
      "18/01/25 09:22:06 INFO mapreduce.JobSubmitter: number of splits:2\n",
      "18/01/25 09:22:06 INFO mapreduce.JobSubmitter: Submitting tokens for job: job_1516867309094_0019\n",
      "18/01/25 09:22:06 INFO impl.YarnClientImpl: Submitted application application_1516867309094_0019\n",
      "18/01/25 09:22:07 INFO mapreduce.Job: The url to track the job: http://docker.w261:8088/proxy/application_1516867309094_0019/\n",
      "18/01/25 09:22:07 INFO mapreduce.Job: Running job: job_1516867309094_0019\n",
      "18/01/25 09:22:14 INFO mapreduce.Job: Job job_1516867309094_0019 running in uber mode : false\n",
      "18/01/25 09:22:14 INFO mapreduce.Job:  map 0% reduce 0%\n",
      "18/01/25 09:22:21 INFO mapreduce.Job:  map 50% reduce 0%\n",
      "18/01/25 09:22:22 INFO mapreduce.Job:  map 100% reduce 0%\n",
      "18/01/25 09:22:26 INFO mapreduce.Job:  map 100% reduce 100%\n",
      "18/01/25 09:22:26 INFO mapreduce.Job: Job job_1516867309094_0019 completed successfully\n",
      "18/01/25 09:22:26 INFO mapreduce.Job: Counters: 49\n",
      "\tFile System Counters\n",
      "\t\tFILE: Number of bytes read=1095\n",
      "\t\tFILE: Number of bytes written=355343\n",
      "\t\tFILE: Number of read operations=0\n",
      "\t\tFILE: Number of large read operations=0\n",
      "\t\tFILE: Number of write operations=0\n",
      "\t\tHDFS: Number of bytes read=49908\n",
      "\t\tHDFS: Number of bytes written=1246\n",
      "\t\tHDFS: Number of read operations=9\n",
      "\t\tHDFS: Number of large read operations=0\n",
      "\t\tHDFS: Number of write operations=2\n",
      "\tJob Counters \n",
      "\t\tLaunched map tasks=2\n",
      "\t\tLaunched reduce tasks=1\n",
      "\t\tData-local map tasks=2\n",
      "\t\tTotal time spent by all maps in occupied slots (ms)=9728\n",
      "\t\tTotal time spent by all reduces in occupied slots (ms)=3284\n",
      "\t\tTotal time spent by all map tasks (ms)=9728\n",
      "\t\tTotal time spent by all reduce tasks (ms)=3284\n",
      "\t\tTotal vcore-seconds taken by all map tasks=9728\n",
      "\t\tTotal vcore-seconds taken by all reduce tasks=3284\n",
      "\t\tTotal megabyte-seconds taken by all map tasks=9961472\n",
      "\t\tTotal megabyte-seconds taken by all reduce tasks=3362816\n",
      "\tMap-Reduce Framework\n",
      "\t\tMap input records=20\n",
      "\t\tMap output records=20\n",
      "\t\tMap output bytes=1049\n",
      "\t\tMap output materialized bytes=1101\n",
      "\t\tInput split bytes=224\n",
      "\t\tCombine input records=0\n",
      "\t\tCombine output records=0\n",
      "\t\tReduce input groups=20\n",
      "\t\tReduce shuffle bytes=1101\n",
      "\t\tReduce input records=20\n",
      "\t\tReduce output records=27\n",
      "\t\tSpilled Records=40\n",
      "\t\tShuffled Maps =2\n",
      "\t\tFailed Shuffles=0\n",
      "\t\tMerged Map outputs=2\n",
      "\t\tGC time elapsed (ms)=134\n",
      "\t\tCPU time spent (ms)=1720\n",
      "\t\tPhysical memory (bytes) snapshot=734744576\n",
      "\t\tVirtual memory (bytes) snapshot=4085137408\n",
      "\t\tTotal committed heap usage (bytes)=724566016\n",
      "\tShuffle Errors\n",
      "\t\tBAD_ID=0\n",
      "\t\tCONNECTION=0\n",
      "\t\tIO_ERROR=0\n",
      "\t\tWRONG_LENGTH=0\n",
      "\t\tWRONG_MAP=0\n",
      "\t\tWRONG_REDUCE=0\n",
      "\tFile Input Format Counters \n",
      "\t\tBytes Read=49684\n",
      "\tFile Output Format Counters \n",
      "\t\tBytes Written=1246\n",
      "18/01/25 09:22:26 INFO streaming.StreamJob: Output directory: /user/root/HW2/evaluation-unsmooth\n"
     ]
    }
   ],
   "source": [
    "# part c - Evaluate the UNSMOOTHED Model Here (FILL IN THE MISSING CODE)\n",
    "\n",
    "# clear output directory\n",
    "!hdfs dfs -rm -r {HDFS_DIR}/evaluation-unsmooth\n",
    "\n",
    "# hadoop job\n",
    "!hadoop jar {JAR_FILE} \\\n",
    "  -files NaiveBayes/classify_mapper.py,NaiveBayes/evaluation_reducer.py,NaiveBayes/Unsmoothed/NBmodel.txt \\\n",
    "  -mapper classify_mapper.py \\\n",
    "  -reducer evaluation_reducer.py \\\n",
    "  -cmdenv PATH=/opt/anaconda/bin:$PATH \\\n",
    "  -input {HDFS_DIR}/enron_test.txt \\\n",
    "  -output {HDFS_DIR}/evaluation-unsmooth \\\n",
    "  -numReduceTasks 1\n",
    "\n",
    "# save the model locally\n",
    "!hdfs dfs -cat {HDFS_DIR}/evaluation-unsmooth/part-000* > NaiveBayes/Unsmoothed/results.txt\n",
    "\n",
    "# retrieve results locally\n",
    "#!cat NaiveBayes/Unsmoothed/results.txt\n"
   ]
  },
  {
   "cell_type": "code",
   "execution_count": 59,
   "metadata": {},
   "outputs": [
    {
     "name": "stdout",
     "output_type": "stream",
     "text": [
      "Deleted /user/root/HW2/evaluation-smooth\n",
      "packageJobJar: [] [/usr/jars/hadoop-streaming-2.6.0-cdh5.7.0.jar] /tmp/streamjob4012601069157368871.jar tmpDir=null\n",
      "18/01/25 09:22:34 INFO client.RMProxy: Connecting to ResourceManager at /0.0.0.0:8032\n",
      "18/01/25 09:22:34 INFO client.RMProxy: Connecting to ResourceManager at /0.0.0.0:8032\n",
      "18/01/25 09:22:35 INFO mapred.FileInputFormat: Total input paths to process : 1\n",
      "18/01/25 09:22:35 INFO mapreduce.JobSubmitter: number of splits:2\n",
      "18/01/25 09:22:35 INFO mapreduce.JobSubmitter: Submitting tokens for job: job_1516867309094_0020\n",
      "18/01/25 09:22:35 INFO impl.YarnClientImpl: Submitted application application_1516867309094_0020\n",
      "18/01/25 09:22:35 INFO mapreduce.Job: The url to track the job: http://docker.w261:8088/proxy/application_1516867309094_0020/\n",
      "18/01/25 09:22:35 INFO mapreduce.Job: Running job: job_1516867309094_0020\n",
      "18/01/25 09:22:42 INFO mapreduce.Job: Job job_1516867309094_0020 running in uber mode : false\n",
      "18/01/25 09:22:42 INFO mapreduce.Job:  map 0% reduce 0%\n",
      "18/01/25 09:22:48 INFO mapreduce.Job:  map 50% reduce 0%\n",
      "18/01/25 09:22:49 INFO mapreduce.Job:  map 100% reduce 0%\n",
      "18/01/25 09:22:55 INFO mapreduce.Job:  map 100% reduce 100%\n",
      "18/01/25 09:22:55 INFO mapreduce.Job: Job job_1516867309094_0020 completed successfully\n",
      "18/01/25 09:22:55 INFO mapreduce.Job: Counters: 49\n",
      "\tFile System Counters\n",
      "\t\tFILE: Number of bytes read=1095\n",
      "\t\tFILE: Number of bytes written=355331\n",
      "\t\tFILE: Number of read operations=0\n",
      "\t\tFILE: Number of large read operations=0\n",
      "\t\tFILE: Number of write operations=0\n",
      "\t\tHDFS: Number of bytes read=49908\n",
      "\t\tHDFS: Number of bytes written=1282\n",
      "\t\tHDFS: Number of read operations=9\n",
      "\t\tHDFS: Number of large read operations=0\n",
      "\t\tHDFS: Number of write operations=2\n",
      "\tJob Counters \n",
      "\t\tLaunched map tasks=2\n",
      "\t\tLaunched reduce tasks=1\n",
      "\t\tData-local map tasks=2\n",
      "\t\tTotal time spent by all maps in occupied slots (ms)=8205\n",
      "\t\tTotal time spent by all reduces in occupied slots (ms)=3655\n",
      "\t\tTotal time spent by all map tasks (ms)=8205\n",
      "\t\tTotal time spent by all reduce tasks (ms)=3655\n",
      "\t\tTotal vcore-seconds taken by all map tasks=8205\n",
      "\t\tTotal vcore-seconds taken by all reduce tasks=3655\n",
      "\t\tTotal megabyte-seconds taken by all map tasks=8401920\n",
      "\t\tTotal megabyte-seconds taken by all reduce tasks=3742720\n",
      "\tMap-Reduce Framework\n",
      "\t\tMap input records=20\n",
      "\t\tMap output records=20\n",
      "\t\tMap output bytes=1049\n",
      "\t\tMap output materialized bytes=1101\n",
      "\t\tInput split bytes=224\n",
      "\t\tCombine input records=0\n",
      "\t\tCombine output records=0\n",
      "\t\tReduce input groups=20\n",
      "\t\tReduce shuffle bytes=1101\n",
      "\t\tReduce input records=20\n",
      "\t\tReduce output records=29\n",
      "\t\tSpilled Records=40\n",
      "\t\tShuffled Maps =2\n",
      "\t\tFailed Shuffles=0\n",
      "\t\tMerged Map outputs=2\n",
      "\t\tGC time elapsed (ms)=116\n",
      "\t\tCPU time spent (ms)=1930\n",
      "\t\tPhysical memory (bytes) snapshot=706736128\n",
      "\t\tVirtual memory (bytes) snapshot=4114714624\n",
      "\t\tTotal committed heap usage (bytes)=627048448\n",
      "\tShuffle Errors\n",
      "\t\tBAD_ID=0\n",
      "\t\tCONNECTION=0\n",
      "\t\tIO_ERROR=0\n",
      "\t\tWRONG_LENGTH=0\n",
      "\t\tWRONG_MAP=0\n",
      "\t\tWRONG_REDUCE=0\n",
      "\tFile Input Format Counters \n",
      "\t\tBytes Read=49684\n",
      "\tFile Output Format Counters \n",
      "\t\tBytes Written=1282\n",
      "18/01/25 09:22:55 INFO streaming.StreamJob: Output directory: /user/root/HW2/evaluation-smooth\n"
     ]
    }
   ],
   "source": [
    "# part c - Evaluate the SMOOTHED Model Here (FILL IN THE MISSING CODE)\n",
    "\n",
    "# clear output directory\n",
    "!hdfs dfs -rm -r {HDFS_DIR}/evaluation-smooth\n",
    "\n",
    "# hadoop job\n",
    "!hadoop jar {JAR_FILE} \\\n",
    "  -files NaiveBayes/classify_mapper.py,NaiveBayes/evaluation_reducer.py,NaiveBayes/Smoothed/NBmodel.txt \\\n",
    "  -mapper classify_mapper.py \\\n",
    "  -reducer evaluation_reducer.py \\\n",
    "  -cmdenv PATH=/opt/anaconda/bin:$PATH \\\n",
    "  -input {HDFS_DIR}/enron_test.txt \\\n",
    "  -output {HDFS_DIR}/evaluation-smooth \\\n",
    "  -numReduceTasks 1\n",
    "\n",
    "# save the model locally\n",
    "!hdfs dfs -cat {HDFS_DIR}/evaluation-smooth/part-000* > NaiveBayes/Smoothed/results.txt\n",
    "\n",
    "# retrieve results locally\n",
    "#!cat NaiveBayes/Smoothed/results.txt\n"
   ]
  },
  {
   "cell_type": "code",
   "execution_count": 60,
   "metadata": {},
   "outputs": [
    {
     "name": "stdout",
     "output_type": "stream",
     "text": [
      "=========== UNSMOOTHED MODEL ============\n",
      "0018.2001-07-13.sa_and_hp\t1\t0.0000000000\t0.0000000000\tFalse\n",
      "0018.2003-12-18.gp\t1\t0.0000000000\t0.0000000000\tFalse\n",
      "# Documents: \t20\n",
      "True Positives: \t0\n",
      "True Negatives: \t9\n",
      "False Positives: \t0\n",
      "False Negatives: \t11\n",
      "Accuracy: \t0.45\n",
      "Recall: \t0.00\n",
      "=========== SMOOTHED MODEL ============\n",
      "# Documents: \t20\n",
      "True Positives: \t6\n",
      "True Negatives: \t7\n",
      "False Positives: \t2\n",
      "False Negatives: \t5\n",
      "Accuracy: \t0.6500\n",
      "Precision: \t0.7500\n",
      "Recall: \t0.5455\n",
      "F1-Score: \t0.6316\n"
     ]
    }
   ],
   "source": [
    "# part c - display results (RUN THIS CELL AS IS*)\n",
    "# NOTE: *feel free to modify the tail commands to match the format of your results file\n",
    "print '=========== UNSMOOTHED MODEL ============'\n",
    "!tail -n 9 NaiveBayes/Unsmoothed/results.txt\n",
    "print '=========== SMOOTHED MODEL ============'\n",
    "!tail -n 9 NaiveBayes/Smoothed/results.txt"
   ]
  },
  {
   "cell_type": "markdown",
   "metadata": {},
   "source": [
    "__`EXPECTED RESULTS:`__ \n",
    "<table>\n",
    "<th>Unsmoothed Model</th>\n",
    "<th>Smoothed Model</th>\n",
    "<tr>\n",
    "<td><pre>\n",
    "# Documents:\t20\n",
    "True Positives:\t0\n",
    "True Negatives:\t9\n",
    "False Positives:\t0\n",
    "False Negatives:\t11\n",
    "Accuracy\t0.45\n",
    "Recall\t0.0\n",
    "</pre></td>\n",
    "<td><pre>\n",
    "# Documents:\t20\n",
    "True Positives:\t6\n",
    "True Negatives:\t7\n",
    "False Positives:\t2\n",
    "False Negatives:\t5\n",
    "Accuracy\t0.65\n",
    "Precision\t0.75\n",
    "Recall\t0.5454\n",
    "F-Score\t0.6315\n",
    "</pre></td>\n",
    "</tr>\n",
    "</table>\n",
    "\n",
    "__`NOTE:`__ _Don't be too disappointed if these seem low to you. We've trained and tested on a very very small corpus... bigger datasets coming soon!_\n",
    "\n",
    "__`Q10 part d starts here:`__"
   ]
  },
  {
   "cell_type": "code",
   "execution_count": 61,
   "metadata": {},
   "outputs": [
    {
     "name": "stdout",
     "output_type": "stream",
     "text": [
      "copyFromLocal: `/user/root/HW2/NBmodel.txt': File exists\n",
      "Deleted /user/root/HW2/top-words\n",
      "packageJobJar: [] [/usr/jars/hadoop-streaming-2.6.0-cdh5.7.0.jar] /tmp/streamjob6164006592213725725.jar tmpDir=null\n",
      "18/01/25 09:23:36 INFO client.RMProxy: Connecting to ResourceManager at /0.0.0.0:8032\n",
      "18/01/25 09:23:37 INFO client.RMProxy: Connecting to ResourceManager at /0.0.0.0:8032\n",
      "18/01/25 09:23:37 INFO mapred.FileInputFormat: Total input paths to process : 1\n",
      "18/01/25 09:23:37 INFO mapreduce.JobSubmitter: number of splits:2\n",
      "18/01/25 09:23:38 INFO mapreduce.JobSubmitter: Submitting tokens for job: job_1516867309094_0021\n",
      "18/01/25 09:23:38 INFO impl.YarnClientImpl: Submitted application application_1516867309094_0021\n",
      "18/01/25 09:23:38 INFO mapreduce.Job: The url to track the job: http://docker.w261:8088/proxy/application_1516867309094_0021/\n",
      "18/01/25 09:23:38 INFO mapreduce.Job: Running job: job_1516867309094_0021\n",
      "18/01/25 09:23:44 INFO mapreduce.Job: Job job_1516867309094_0021 running in uber mode : false\n",
      "18/01/25 09:23:44 INFO mapreduce.Job:  map 0% reduce 0%\n",
      "18/01/25 09:23:51 INFO mapreduce.Job:  map 50% reduce 0%\n",
      "18/01/25 09:23:52 INFO mapreduce.Job:  map 100% reduce 0%\n",
      "18/01/25 09:23:57 INFO mapreduce.Job:  map 100% reduce 50%\n",
      "18/01/25 09:23:58 INFO mapreduce.Job:  map 100% reduce 100%\n",
      "18/01/25 09:23:59 INFO mapreduce.Job: Job job_1516867309094_0021 completed successfully\n",
      "18/01/25 09:23:59 INFO mapreduce.Job: Counters: 49\n",
      "\tFile System Counters\n",
      "\t\tFILE: Number of bytes read=311160\n",
      "\t\tFILE: Number of bytes written=1092802\n",
      "\t\tFILE: Number of read operations=0\n",
      "\t\tFILE: Number of large read operations=0\n",
      "\t\tFILE: Number of write operations=0\n",
      "\t\tHDFS: Number of bytes read=212628\n",
      "\t\tHDFS: Number of bytes written=302036\n",
      "\t\tHDFS: Number of read operations=12\n",
      "\t\tHDFS: Number of large read operations=0\n",
      "\t\tHDFS: Number of write operations=4\n",
      "\tJob Counters \n",
      "\t\tLaunched map tasks=2\n",
      "\t\tLaunched reduce tasks=2\n",
      "\t\tData-local map tasks=2\n",
      "\t\tTotal time spent by all maps in occupied slots (ms)=9233\n",
      "\t\tTotal time spent by all reduces in occupied slots (ms)=8840\n",
      "\t\tTotal time spent by all map tasks (ms)=9233\n",
      "\t\tTotal time spent by all reduce tasks (ms)=8840\n",
      "\t\tTotal vcore-seconds taken by all map tasks=9233\n",
      "\t\tTotal vcore-seconds taken by all reduce tasks=8840\n",
      "\t\tTotal megabyte-seconds taken by all map tasks=9454592\n",
      "\t\tTotal megabyte-seconds taken by all reduce tasks=9052160\n",
      "\tMap-Reduce Framework\n",
      "\t\tMap input records=4556\n",
      "\t\tMap output records=4556\n",
      "\t\tMap output bytes=302036\n",
      "\t\tMap output materialized bytes=311172\n",
      "\t\tInput split bytes=218\n",
      "\t\tCombine input records=0\n",
      "\t\tCombine output records=0\n",
      "\t\tReduce input groups=4556\n",
      "\t\tReduce shuffle bytes=311172\n",
      "\t\tReduce input records=4556\n",
      "\t\tReduce output records=4556\n",
      "\t\tSpilled Records=9112\n",
      "\t\tShuffled Maps =4\n",
      "\t\tFailed Shuffles=0\n",
      "\t\tMerged Map outputs=4\n",
      "\t\tGC time elapsed (ms)=119\n",
      "\t\tCPU time spent (ms)=3050\n",
      "\t\tPhysical memory (bytes) snapshot=863002624\n",
      "\t\tVirtual memory (bytes) snapshot=5486170112\n",
      "\t\tTotal committed heap usage (bytes)=795344896\n",
      "\tShuffle Errors\n",
      "\t\tBAD_ID=0\n",
      "\t\tCONNECTION=0\n",
      "\t\tIO_ERROR=0\n",
      "\t\tWRONG_LENGTH=0\n",
      "\t\tWRONG_MAP=0\n",
      "\t\tWRONG_REDUCE=0\n",
      "\tFile Input Format Counters \n",
      "\t\tBytes Read=212410\n",
      "\tFile Output Format Counters \n",
      "\t\tBytes Written=302036\n",
      "18/01/25 09:23:59 INFO streaming.StreamJob: Output directory: /user/root/HW2/top-words\n"
     ]
    }
   ],
   "source": [
    "# part d - write your Hadoop job here (sort smoothed model on P(word|class))\n",
    " \n",
    "# copy model file    \n",
    "!hdfs dfs -copyFromLocal NaiveBayes/Smoothed/NBmodel.txt {HDFS_DIR}\n",
    "\n",
    "# clear output directory\n",
    "!hdfs dfs -rm -r {HDFS_DIR}/top-words\n",
    "\n",
    "# hadoop job\n",
    "!hadoop jar {JAR_FILE} \\\n",
    "  -files NaiveBayes/model_sort_mapper.py \\\n",
    "  -D stream.num.map.output.key.fields=4 \\\n",
    "  -D mapreduce.job.output.key.comparator.class=org.apache.hadoop.mapred.lib.KeyFieldBasedComparator \\\n",
    "  -D mapreduce.partition.keycomparator.options=\"-k4,4nr\" \\\n",
    "  -D mapreduce.partition.keypartitioner.options=\"-k3,3\" \\\n",
    "  -partitioner org.apache.hadoop.mapred.lib.KeyFieldBasedPartitioner \\\n",
    "  -mapper model_sort_mapper.py \\\n",
    "  -reducer /bin/cat \\\n",
    "  -input {HDFS_DIR}/NBmodel.txt \\\n",
    "  -output {HDFS_DIR}/top-words \\\n",
    "  -numReduceTasks 2\n",
    "\n"
   ]
  },
  {
   "cell_type": "code",
   "execution_count": 62,
   "metadata": {},
   "outputs": [
    {
     "name": "stdout",
     "output_type": "stream",
     "text": [
      "\n",
      "===== part-00000=====\n",
      "\n",
      "ect\t378.0,0.0,0.023473306082,0.000055460041\tham\t0.023473306082\t\n",
      "and\t258.0,277.0,0.016041124737,0.015417891409\tham\t0.016041124737\t\n",
      "hou\t203.0,0.0,0.012634708287,0.000055460041\tham\t0.012634708287\t\n",
      "in\t160.0,157.0,0.009971509972,0.008762686484\tham\t0.009971509972\t\n",
      "for\t148.0,153.0,0.009228291837,0.008540846320\tham\t0.009228291837\t\n",
      "on\t122.0,95.0,0.007617985879,0.005324163940\tham\t0.007617985879\t\n",
      "enron\t116.0,0.0,0.007246376812,0.000055460041\tham\t0.007246376812\t\n",
      "i\t113.0,106.0,0.007060572278,0.005934224391\tham\t0.007060572278\t\n",
      "will\t113.0,69.0,0.007060572278,0.003882202873\tham\t0.007060572278\t\n",
      "this\t99.0,90.0,0.006193484454,0.005046863735\tham\t0.006193484454\t\n",
      "grep: write error\n",
      "cat: Unable to write to output stream.\n",
      "\n",
      "===== part-00001=====\n",
      "\n",
      "the\t453.0,535.0,0.028118419423,0.029726581998\tspam\t0.029726581998\t\n",
      "to\t350.0,420.0,0.021739130435,0.023348677278\tspam\t0.023348677278\t\n",
      "a\t168.0,274.0,0.010466988728,0.015251511286\tspam\t0.015251511286\t\n",
      "your\t35.0,271.0,0.002229654404,0.015085131163\tspam\t0.015085131163\t\n",
      "of\t188.0,252.0,0.011705685619,0.014031390383\tspam\t0.014031390383\t\n",
      "you\t80.0,252.0,0.005016722408,0.014031390383\tspam\t0.014031390383\t\n",
      "it\t30.0,119.0,0.001919980181,0.006655204925\tspam\t0.006655204925\t\n",
      "com\t74.0,108.0,0.004645113341,0.006045144473\tspam\t0.006045144473\t\n",
      "that\t71.0,100.0,0.004459308807,0.005601464145\tspam\t0.005601464145\t\n",
      "or\t41.0,88.0,0.002601263471,0.004935943653\tspam\t0.004935943653\t\n",
      "grep: write error\n",
      "cat: Unable to write to output stream.\n"
     ]
    }
   ],
   "source": [
    "# part d - print top words in each class\n",
    "for idx in range(2):\n",
    "    print \"\\n===== part-0000%s=====\\n\" % (idx)\n",
    "    !hdfs dfs -cat {HDFS_DIR}/top-words/part-0000{idx} | grep -v '^ClassPriors' | head"
   ]
  },
  {
   "cell_type": "markdown",
   "metadata": {},
   "source": [
    "# Bonus Question: Sorting with multiple Reducers (Optional)\n",
    "\n",
    "Congratulations you've completed all the required questions! If you have energy for more, let's take a moment to preview one of the important design issues that we'll tackle next week: total order sort.\n",
    "\n",
    "In the jobs in this assignment we've mostly used a single reducer and mostly used the default Hadoop sorting (alphabetical by key). However when we took the time to specify an alternate key to sort on and tried using multiple reducers (as we did in Questions 5d, 6e and 10d)... we saw that sorting and partitioning the data on different fields can cause our final output to no longer be sorted from top to bottom. Instead it will usually be sorted just within each partition. This is called a partial sort and in the examples we saw that was mostly what we wanted.\n",
    "\n",
    "So far, we've also always partitioned on a categorical field. But what if we wanted to sort on values (eg. counts in a word count file) but have too much data to fit on a single reducer and there isn't a logical categorical variable to use as a partition key? How could we ensure the the top-n words end up in `part-00000`, the next n end up in `part-00001`, etc? The solution is similar in idea to what we did in Question 10b (where we created extra fields to partition on)... but a bit more complicated because the way that Hadoop orders its partitions and writes them to file depends on an internal hash function (eg. we might expect the partition with key `ham` to end up in `part-00000` and `spam` to end up in `part-00001` but Hadoop won't necessarily order the words the way a human reader would).\n",
    "\n",
    "__Challenge Exercise:__ Write a Hadoop job that will use 5 reducers and will sort your `NBmodel.txt` file (you can use the smoothed or unsmoothed one) in descending order according to the words' conditional probability in `spam`. A few tips:\n",
    "* start by reading the [Total Sort Notebook](https://github.com/UCB-w261/main/blob/master/Resources/TotalSortGuide/_total-sort-guide-spark2.01-JAN27-2017.ipynb) that is provided in the course repo under the HelpfulResources folder.\n",
    "* you will need to write a mapper for this job, you can do this easily on the fly using the jupyter magic command `%%writefile`.\n",
    "* when you run your job, you should see that the records in `part-00000` have higher conditional probabilities in Spam, than the records in `part-00001` which in turn are higher than in `part-00002` etc."
   ]
  },
  {
   "cell_type": "markdown",
   "metadata": {},
   "source": [
    "# Bonus Question: Sorting with multiple Reducers (Optional)\n",
    "\n",
    "Congratulations you've completed all the required questions! If you have energy for more, let's take a moment to preview one of the important design issues that we'll tackle next week: total order sort.\n",
    "\n",
    "In the jobs in this assignment we've mostly used a single reducer and mostly used the default Hadoop sorting (alphabetical by key). However when we took the time to specify an alternate key to sort on and tried using multiple reducers (as we did in Questions 5d, 6e and 10d)... we saw that sorting and partitioning the data on different fields can cause our final output to no longer be sorted from top to bottom. Instead it will usually be sorted just within each partition. This is called a partial sort and in the examples we saw that was mostly what we wanted.\n",
    "\n",
    "So far, we've also always partitioned on a categorical field. But what if we wanted to sort on values (eg. counts in a word count file) but have too much data to fit on a single reducer and there isn't a logical categorical variable to use as a partition key? How could we ensure the the top-n words end up in `part-00000`, the next n end up in `part-00001`, etc? The solution is similar in idea to what we did in Question 10b (where we created extra fields to partition on)... but a bit more complicated because the way that Hadoop orders its partitions and writes them to file depends on an internal hash function (eg. we might expect the partition with key `ham` to end up in `part-00000` and `spam` to end up in `part-00001` but Hadoop won't necessarily order the words the way a human reader would).\n",
    "\n",
    "__Challenge Exercise:__ Write a Hadoop job that will use 5 reducers and will sort your `NBmodel.txt` file (you can use the smoothed or unsmoothed one) in descending order according to the words' conditional probability in `spam`. A few tips:\n",
    "* start by reading the [Total Sort Notebook](https://github.com/UCB-w261/main/blob/master/Resources/TotalSortGuide/_total-sort-guide-spark2.01-JAN27-2017.ipynb) that is provided in the course repo under the HelpfulResources folder.\n",
    "* you will need to write a mapper for this job, you can do this easily on the fly using the jupyter magic command `%%writefile`.\n",
    "* when you run your job, you should see that the records in `part-00000` have higher conditional probabilities in Spam, than the records in `part-00001` which in turn are higher than in `part-00002` etc."
   ]
  },
  {
   "cell_type": "code",
   "execution_count": 20,
   "metadata": {},
   "outputs": [
    {
     "name": "stdout",
     "output_type": "stream",
     "text": [
      "Overwriting demo/bonus_mapper.py\n"
     ]
    }
   ],
   "source": [
    "%%writefile demo/bonus_mapper.py\n",
    "#!/usr/bin/env python\n",
    "\"\"\"\n",
    "Mapper reads model and emits words their conditonal probability (for spam) and assigns them a class/partition depending on value\n",
    "\n",
    "INPUT:\n",
    "    word \\t hamCount,spamCount,pHam,pSpam\n",
    "\n",
    "OUTPUT:\n",
    "    pSpam \\t word \\t partition\n",
    "\"\"\"\n",
    "\n",
    "max = 0.0029726581998 # Max probability; got this by iterating through once\n",
    "\n",
    "import sys\n",
    "for line in sys.stdin:\n",
    "    word, payload = line.split()\n",
    "    spam_cProb = payload.strip().split(',')[3]\n",
    "    \n",
    "    # Ideally we want to split the partition by distribution but we won't know that at first read so have to manually adjust\n",
    "    #if max <= float(spam_cProb):\n",
    "    #    max = float(spam_cProb)\n",
    "    \n",
    "    if float(spam_cProb) >= 0.1*max:\n",
    "        print \"%s\\t%s\\t%s\" % (spam_cProb, word , 'A')\n",
    "    elif float(spam_cProb) >= 0.08*max and float(spam_cProb) < 0.1*max:\n",
    "        print \"%s\\t%s\\t%s\" % (spam_cProb, word , 'B')\n",
    "    elif float(spam_cProb) >= 0.05*max and float(spam_cProb) < 0.08*max:            \n",
    "        print \"%s\\t%s\\t%s\" % (spam_cProb, word , 'C')\n",
    "    elif float(spam_cProb) >= 0.02*max and float(spam_cProb) < 0.05*max:  \n",
    "        print \"%s\\t%s\\t%s\" % (spam_cProb, word , 'D')\n",
    "    else:             \n",
    "        print \"%s\\t%s\\t%s\" % (spam_cProb, word , 'E')\n",
    "\n",
    "# Used once        \n",
    "#print max\n",
    "                                                                                                                               "
   ]
  },
  {
   "cell_type": "code",
   "execution_count": 9,
   "metadata": {},
   "outputs": [],
   "source": [
    "#!hdfs dfs -cat {HDFS_DIR}/NBmodel.txt | grep -v '^ClassPriors' | demo/bonus_mapper.py"
   ]
  },
  {
   "cell_type": "code",
   "execution_count": 21,
   "metadata": {},
   "outputs": [
    {
     "name": "stdout",
     "output_type": "stream",
     "text": [
      "Deleted /user/root/HW2/bonus-sort\n",
      "packageJobJar: [] [/usr/jars/hadoop-streaming-2.6.0-cdh5.7.0.jar] /tmp/streamjob7922602681443533770.jar tmpDir=null\n",
      "18/01/25 12:28:18 INFO client.RMProxy: Connecting to ResourceManager at /0.0.0.0:8032\n",
      "18/01/25 12:28:19 INFO client.RMProxy: Connecting to ResourceManager at /0.0.0.0:8032\n",
      "18/01/25 12:28:19 INFO mapred.FileInputFormat: Total input paths to process : 1\n",
      "18/01/25 12:28:19 INFO mapreduce.JobSubmitter: number of splits:2\n",
      "18/01/25 12:28:20 INFO mapreduce.JobSubmitter: Submitting tokens for job: job_1516882655284_0004\n",
      "18/01/25 12:28:20 INFO impl.YarnClientImpl: Submitted application application_1516882655284_0004\n",
      "18/01/25 12:28:20 INFO mapreduce.Job: The url to track the job: http://docker.w261:8088/proxy/application_1516882655284_0004/\n",
      "18/01/25 12:28:20 INFO mapreduce.Job: Running job: job_1516882655284_0004\n",
      "18/01/25 12:28:27 INFO mapreduce.Job: Job job_1516882655284_0004 running in uber mode : false\n",
      "18/01/25 12:28:27 INFO mapreduce.Job:  map 0% reduce 0%\n",
      "18/01/25 12:28:33 INFO mapreduce.Job:  map 50% reduce 0%\n",
      "18/01/25 12:28:34 INFO mapreduce.Job:  map 100% reduce 0%\n",
      "18/01/25 12:28:41 INFO mapreduce.Job:  map 100% reduce 20%\n",
      "18/01/25 12:28:45 INFO mapreduce.Job:  map 100% reduce 40%\n",
      "18/01/25 12:28:46 INFO mapreduce.Job:  map 100% reduce 60%\n",
      "18/01/25 12:28:48 INFO mapreduce.Job:  map 100% reduce 80%\n",
      "18/01/25 12:28:49 INFO mapreduce.Job:  map 100% reduce 100%\n",
      "18/01/25 12:28:49 INFO mapreduce.Job: Job job_1516882655284_0004 completed successfully\n",
      "18/01/25 12:28:49 INFO mapreduce.Job: Counters: 49\n",
      "\tFile System Counters\n",
      "\t\tFILE: Number of bytes read=125916\n",
      "\t\tFILE: Number of bytes written=1073915\n",
      "\t\tFILE: Number of read operations=0\n",
      "\t\tFILE: Number of large read operations=0\n",
      "\t\tFILE: Number of write operations=0\n",
      "\t\tHDFS: Number of bytes read=212628\n",
      "\t\tHDFS: Number of bytes written=116774\n",
      "\t\tHDFS: Number of read operations=21\n",
      "\t\tHDFS: Number of large read operations=0\n",
      "\t\tHDFS: Number of write operations=10\n",
      "\tJob Counters \n",
      "\t\tLaunched map tasks=2\n",
      "\t\tLaunched reduce tasks=5\n",
      "\t\tData-local map tasks=2\n",
      "\t\tTotal time spent by all maps in occupied slots (ms)=8675\n",
      "\t\tTotal time spent by all reduces in occupied slots (ms)=41054\n",
      "\t\tTotal time spent by all map tasks (ms)=8675\n",
      "\t\tTotal time spent by all reduce tasks (ms)=41054\n",
      "\t\tTotal vcore-seconds taken by all map tasks=8675\n",
      "\t\tTotal vcore-seconds taken by all reduce tasks=41054\n",
      "\t\tTotal megabyte-seconds taken by all map tasks=8883200\n",
      "\t\tTotal megabyte-seconds taken by all reduce tasks=42039296\n",
      "\tMap-Reduce Framework\n",
      "\t\tMap input records=4556\n",
      "\t\tMap output records=4556\n",
      "\t\tMap output bytes=116774\n",
      "\t\tMap output materialized bytes=125946\n",
      "\t\tInput split bytes=218\n",
      "\t\tCombine input records=0\n",
      "\t\tCombine output records=0\n",
      "\t\tReduce input groups=4556\n",
      "\t\tReduce shuffle bytes=125946\n",
      "\t\tReduce input records=4556\n",
      "\t\tReduce output records=4556\n",
      "\t\tSpilled Records=9112\n",
      "\t\tShuffled Maps =10\n",
      "\t\tFailed Shuffles=0\n",
      "\t\tMerged Map outputs=10\n",
      "\t\tGC time elapsed (ms)=324\n",
      "\t\tCPU time spent (ms)=5760\n",
      "\t\tPhysical memory (bytes) snapshot=1273655296\n",
      "\t\tVirtual memory (bytes) snapshot=9601683456\n",
      "\t\tTotal committed heap usage (bytes)=1022885888\n",
      "\tShuffle Errors\n",
      "\t\tBAD_ID=0\n",
      "\t\tCONNECTION=0\n",
      "\t\tIO_ERROR=0\n",
      "\t\tWRONG_LENGTH=0\n",
      "\t\tWRONG_MAP=0\n",
      "\t\tWRONG_REDUCE=0\n",
      "\tFile Input Format Counters \n",
      "\t\tBytes Read=212410\n",
      "\tFile Output Format Counters \n",
      "\t\tBytes Written=116774\n",
      "18/01/25 12:28:49 INFO streaming.StreamJob: Output directory: /user/root/HW2/bonus-sort\n"
     ]
    }
   ],
   "source": [
    "# BONUS - write your hadoop job here!\n",
    "\n",
    "# clear output directory\n",
    "!hdfs dfs -rm -r {HDFS_DIR}/bonus-sort\n",
    "\n",
    "# hadoop job\n",
    "!hadoop jar {JAR_FILE} \\\n",
    "  -files demo/bonus_mapper.py \\\n",
    "  -D stream.num.map.output.key.fields=3 \\\n",
    "  -D mapreduce.job.output.key.comparator.class=org.apache.hadoop.mapred.lib.KeyFieldBasedComparator \\\n",
    "  -D mapreduce.partition.keypartitioner.options=\"-k3,3\" \\\n",
    "  -partitioner org.apache.hadoop.mapred.lib.KeyFieldBasedPartitioner \\\n",
    "  -mapper bonus_mapper.py \\\n",
    "  -reducer /bin/cat \\\n",
    "  -input {HDFS_DIR}/NBmodel.txt \\\n",
    "  -output {HDFS_DIR}/bonus-sort \\\n",
    "  -numReduceTasks 5"
   ]
  },
  {
   "cell_type": "code",
   "execution_count": 22,
   "metadata": {},
   "outputs": [
    {
     "name": "stdout",
     "output_type": "stream",
     "text": [
      "Found 6 items\n",
      "-rw-r--r--   1 root supergroup          0 2018-01-25 12:28 /user/root/HW2/bonus-sort/_SUCCESS\n",
      "-rw-r--r--   1 root supergroup      11330 2018-01-25 12:28 /user/root/HW2/bonus-sort/part-00000\n",
      "-rw-r--r--   1 root supergroup       3230 2018-01-25 12:28 /user/root/HW2/bonus-sort/part-00001\n",
      "-rw-r--r--   1 root supergroup      19523 2018-01-25 12:28 /user/root/HW2/bonus-sort/part-00002\n",
      "-rw-r--r--   1 root supergroup      44127 2018-01-25 12:28 /user/root/HW2/bonus-sort/part-00003\n",
      "-rw-r--r--   1 root supergroup      38564 2018-01-25 12:28 /user/root/HW2/bonus-sort/part-00004\n"
     ]
    }
   ],
   "source": [
    "!hdfs dfs -ls {HDFS_DIR}/bonus-sort"
   ]
  },
  {
   "cell_type": "markdown",
   "metadata": {},
   "source": [
    "## Note\n",
    "Not the best distribution but that is because words are distributed in a power law manner (Zipf's Law)."
   ]
  },
  {
   "cell_type": "code",
   "execution_count": 23,
   "metadata": {},
   "outputs": [
    {
     "name": "stdout",
     "output_type": "stream",
     "text": [
      "\n",
      "===== part-00000=====\n",
      "\n",
      "0.000332760246\tabove\tA\t\n",
      "0.000332760246\tads\tA\t\n",
      "0.000332760246\tallow\tA\t\n",
      "0.000332760246\tanswer\tA\t\n",
      "0.000332760246\tanswers\tA\t\n",
      "0.000332760246\tavoid\tA\t\n",
      "0.000332760246\taway\tA\t\n",
      "0.000332760246\tbd\tA\t\n",
      "0.000332760246\tbody\tA\t\n",
      "0.000332760246\tbonus\tA\t\n",
      "\n",
      "===== part-00001=====\n",
      "\n",
      "0.000277300205\tacross\tB\t\n",
      "0.000277300205\tactivate\tB\t\n",
      "0.000277300205\tadvertisement\tB\t\n",
      "0.000277300205\tagain\tB\t\n",
      "0.000277300205\tage\tB\t\n",
      "0.000277300205\takkabay\tB\t\n",
      "0.000277300205\tannouncement\tB\t\n",
      "0.000277300205\tapplication\tB\t\n",
      "0.000277300205\tapproved\tB\t\n",
      "0.000277300205\tassistance\tB\t\n",
      "\n",
      "===== part-00002=====\n",
      "\n",
      "0.000166380123\taccepting\tC\t\n",
      "0.000166380123\tadded\tC\t\n",
      "0.000166380123\tadding\tC\t\n",
      "0.000166380123\taddresses\tC\t\n",
      "0.000166380123\tadult\tC\t\n",
      "0.000166380123\tadvertise\tC\t\n",
      "0.000166380123\tagreement\tC\t\n",
      "0.000166380123\talhaji\tC\t\n",
      "0.000166380123\talmost\tC\t\n",
      "0.000166380123\talong\tC\t\n",
      "\n",
      "===== part-00003=====\n",
      "\n",
      "0.000110920082\tabn\tD\t\n",
      "0.000110920082\tabsenteeism\tD\t\n",
      "0.000110920082\tabsolute\tD\t\n",
      "0.000110920082\tabsolutely\tD\t\n",
      "0.000110920082\tabsorb\tD\t\n",
      "0.000110920082\tabuse\tD\t\n",
      "0.000110920082\tabused\tD\t\n",
      "0.000110920082\tacce\tD\t\n",
      "0.000110920082\taccelerate\tD\t\n",
      "0.000110920082\taccelerated\tD\t\n",
      "\n",
      "===== part-00004=====\n",
      "\n",
      "0.000055460041\tab\tE\t\n",
      "0.000055460041\tabsent\tE\t\n",
      "0.000055460041\taccepts\tE\t\n",
      "0.000055460041\taccomodate\tE\t\n",
      "0.000055460041\taccomodates\tE\t\n",
      "0.000055460041\taccompanied\tE\t\n",
      "0.000055460041\taccounting\tE\t\n",
      "0.000055460041\taccurate\tE\t\n",
      "0.000055460041\tachieve\tE\t\n",
      "0.000055460041\tachieved\tE\t\n",
      "cat: Unable to write to output stream.\n"
     ]
    }
   ],
   "source": [
    "# BONUS - show us it worked here!\n",
    "for idx in range(5):\n",
    "    print \"\\n===== part-0000%s=====\\n\" % (idx)\n",
    "    !hdfs dfs -cat {HDFS_DIR}/bonus-sort/part-0000{idx} | head"
   ]
  },
  {
   "cell_type": "markdown",
   "metadata": {},
   "source": [
    "# HW2 ends here, please refer to the `README.md` for submission instructions."
   ]
  }
 ],
 "metadata": {
  "kernelspec": {
   "display_name": "Python 2",
   "language": "python",
   "name": "python2"
  },
  "language_info": {
   "codemirror_mode": {
    "name": "ipython",
    "version": 2
   },
   "file_extension": ".py",
   "mimetype": "text/x-python",
   "name": "python",
   "nbconvert_exporter": "python",
   "pygments_lexer": "ipython2",
   "version": "2.7.14"
  }
 },
 "nbformat": 4,
 "nbformat_minor": 2
}
