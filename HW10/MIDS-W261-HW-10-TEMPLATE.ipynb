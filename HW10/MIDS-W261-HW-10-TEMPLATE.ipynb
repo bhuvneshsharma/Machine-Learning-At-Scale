{
 "cells": [
  {
   "cell_type": "markdown",
   "metadata": {
    "toc": "true"
   },
   "source": [
    "# Table of Contents\n",
    " <p><div class=\"lev1 toc-item\"><a data-toc-modified-id=\"-MIDS---w261-Machine-Learning-At-Scale--1\" href=\"#-MIDS---w261-Machine-Learning-At-Scale-\"><span class=\"toc-item-num\">1&nbsp;&nbsp;</span> MIDS - w261 Machine Learning At Scale </a></div><div class=\"lev2 toc-item\"><a data-toc-modified-id=\"Assignment---HW10-11\" href=\"#Assignment---HW10\"><span class=\"toc-item-num\">1.1&nbsp;&nbsp;</span>Assignment - HW10</a></div><div class=\"lev1 toc-item\"><a data-toc-modified-id=\"Instructions-2\" href=\"#Instructions\"><span class=\"toc-item-num\">2&nbsp;&nbsp;</span>Instructions</a></div><div class=\"lev2 toc-item\"><a data-toc-modified-id=\"IMPORTANT-21\" href=\"#IMPORTANT\"><span class=\"toc-item-num\">2.1&nbsp;&nbsp;</span>IMPORTANT</a></div><div class=\"lev3 toc-item\"><a data-toc-modified-id=\"===-INSTRUCTIONS-for-SUBMISSIONS-===-211\" href=\"#===-INSTRUCTIONS-for-SUBMISSIONS-===\"><span class=\"toc-item-num\">2.1.1&nbsp;&nbsp;</span>=== INSTRUCTIONS for SUBMISSIONS ===</a></div><div class=\"lev1 toc-item\"><a data-toc-modified-id=\"Useful-References-3\" href=\"#Useful-References\"><span class=\"toc-item-num\">3&nbsp;&nbsp;</span>Useful References</a></div><div class=\"lev1 toc-item\"><a data-toc-modified-id=\"HW-Problems-4\" href=\"#HW-Problems\"><span class=\"toc-item-num\">4&nbsp;&nbsp;</span>HW Problems</a></div><div class=\"lev1 toc-item\"><a data-toc-modified-id=\"HW10.0:-Short-answer-questions-5\" href=\"#HW10.0:-Short-answer-questions\"><span class=\"toc-item-num\">5&nbsp;&nbsp;</span>HW10.0: Short answer questions</a></div><div class=\"lev1 toc-item\"><a data-toc-modified-id=\"HW10.1-WordCount-plus-sorting-6\" href=\"#HW10.1-WordCount-plus-sorting\"><span class=\"toc-item-num\">6&nbsp;&nbsp;</span>HW10.1 WordCount plus sorting</a></div><div class=\"lev1 toc-item\"><a data-toc-modified-id=\"HW10.1.1-7\" href=\"#HW10.1.1\"><span class=\"toc-item-num\">7&nbsp;&nbsp;</span>HW10.1.1</a></div><div class=\"lev1 toc-item\"><a data-toc-modified-id=\"HW10.2:-MLlib-centric-KMeans-8\" href=\"#HW10.2:-MLlib-centric-KMeans\"><span class=\"toc-item-num\">8&nbsp;&nbsp;</span>HW10.2: MLlib-centric KMeans</a></div><div class=\"lev1 toc-item\"><a data-toc-modified-id=\"HW10.3:-Homegrown-KMeans-in-Spark-9\" href=\"#HW10.3:-Homegrown-KMeans-in-Spark\"><span class=\"toc-item-num\">9&nbsp;&nbsp;</span>HW10.3: Homegrown KMeans in Spark</a></div><div class=\"lev1 toc-item\"><a data-toc-modified-id=\"HW10.4:-KMeans-Experiments-10\" href=\"#HW10.4:-KMeans-Experiments\"><span class=\"toc-item-num\">10&nbsp;&nbsp;</span>HW10.4: KMeans Experiments</a></div><div class=\"lev1 toc-item\"><a data-toc-modified-id=\"HW10.4.1:-Making-Homegrown-KMeans-more-efficient-11\" href=\"#HW10.4.1:-Making-Homegrown-KMeans-more-efficient\"><span class=\"toc-item-num\">11&nbsp;&nbsp;</span>HW10.4.1: Making Homegrown KMeans more efficient</a></div><div class=\"lev3 toc-item\"><a data-toc-modified-id=\"HINT:-have-a-look-at--this-linear-regression-notebook-1101\" href=\"#HINT:-have-a-look-at--this-linear-regression-notebook\"><span class=\"toc-item-num\">11.0.1&nbsp;&nbsp;</span>HINT: have a look at  <a target=\"_blank\" href=\"http://nbviewer.jupyter.org/urls/dl.dropbox.com/s/atzqkc0p1eajuz6/LinearRegression-Notebook-Challenge.ipynb\">this linear regression notebook</a></a></div><div class=\"lev1 toc-item\"><a data-toc-modified-id=\"HW10.5:-OPTIONAL-Weighted-KMeans-12\" href=\"#HW10.5:-OPTIONAL-Weighted-KMeans\"><span class=\"toc-item-num\">12&nbsp;&nbsp;</span>HW10.5: OPTIONAL Weighted KMeans</a></div><div class=\"lev1 toc-item\"><a data-toc-modified-id=\"HW10.6-OPTIONAL-Linear-Regression-13\" href=\"#HW10.6-OPTIONAL-Linear-Regression\"><span class=\"toc-item-num\">13&nbsp;&nbsp;</span>HW10.6 OPTIONAL Linear Regression</a></div><div class=\"lev1 toc-item\"><a data-toc-modified-id=\"HW10.6.1-OPTIONAL-Linear-Regression-14\" href=\"#HW10.6.1-OPTIONAL-Linear-Regression\"><span class=\"toc-item-num\">14&nbsp;&nbsp;</span>HW10.6.1 OPTIONAL Linear Regression</a></div><div class=\"lev1 toc-item\"><a data-toc-modified-id=\"HW10.7-OPTIONAL-Error-surfaces-15\" href=\"#HW10.7-OPTIONAL-Error-surfaces\"><span class=\"toc-item-num\">15&nbsp;&nbsp;</span>HW10.7 OPTIONAL Error surfaces</a></div>"
   ]
  },
  {
   "cell_type": "code",
   "execution_count": 1,
   "metadata": {
    "collapsed": true
   },
   "outputs": [],
   "source": [
    "import numpy as np\n",
    "import re\n",
    "import matplotlib.pyplot as plt\n",
    "from sklearn import linear_model\n",
    "%matplotlib inline\n",
    "\n",
    "plt.style.use('seaborn-white')\n",
    "\n",
    "%reload_ext autoreload\n",
    "%autoreload 2"
   ]
  },
  {
   "cell_type": "code",
   "execution_count": 2,
   "metadata": {},
   "outputs": [],
   "source": [
    "from pyspark.sql import SparkSession\n",
    "app_name = \"Notebook_HW10\"\n",
    "master = \"local[*]\"\n",
    "spark = SparkSession\\\n",
    "        .builder\\\n",
    "        .appName(app_name)\\\n",
    "        .master(master)\\\n",
    "        .getOrCreate()\n",
    "sc = spark.sparkContext"
   ]
  },
  {
   "cell_type": "code",
   "execution_count": 3,
   "metadata": {},
   "outputs": [
    {
     "data": {
      "text/html": [
       "\n",
       "            <div>\n",
       "                <p><b>SparkSession - in-memory</b></p>\n",
       "                \n",
       "        <div>\n",
       "            <p><b>SparkContext</b></p>\n",
       "\n",
       "            <p><a href=\"http://172.18.0.2:4040\">Spark UI</a></p>\n",
       "\n",
       "            <dl>\n",
       "              <dt>Version</dt>\n",
       "                <dd><code>v2.2.1</code></dd>\n",
       "              <dt>Master</dt>\n",
       "                <dd><code>local[*]</code></dd>\n",
       "              <dt>AppName</dt>\n",
       "                <dd><code>Notebook_HW10</code></dd>\n",
       "            </dl>\n",
       "        </div>\n",
       "        \n",
       "            </div>\n",
       "        "
      ],
      "text/plain": [
       "<pyspark.sql.session.SparkSession at 0x7f53429a2b10>"
      ]
     },
     "execution_count": 3,
     "metadata": {},
     "output_type": "execute_result"
    }
   ],
   "source": [
    "spark"
   ]
  },
  {
   "cell_type": "code",
   "execution_count": 4,
   "metadata": {},
   "outputs": [
    {
     "data": {
      "text/html": [
       "\n",
       "        <div>\n",
       "            <p><b>SparkContext</b></p>\n",
       "\n",
       "            <p><a href=\"http://172.18.0.2:4040\">Spark UI</a></p>\n",
       "\n",
       "            <dl>\n",
       "              <dt>Version</dt>\n",
       "                <dd><code>v2.2.1</code></dd>\n",
       "              <dt>Master</dt>\n",
       "                <dd><code>local[*]</code></dd>\n",
       "              <dt>AppName</dt>\n",
       "                <dd><code>Notebook_HW10</code></dd>\n",
       "            </dl>\n",
       "        </div>\n",
       "        "
      ],
      "text/plain": [
       "<SparkContext master=local[*] appName=Notebook_HW10>"
      ]
     },
     "execution_count": 4,
     "metadata": {},
     "output_type": "execute_result"
    }
   ],
   "source": [
    "sc"
   ]
  },
  {
   "cell_type": "code",
   "execution_count": null,
   "metadata": {},
   "outputs": [],
   "source": [
    "import random\n",
    "num_samples = 10000000\n",
    "\n",
    "def inside(p):\n",
    "    x, y = random.random(), random.random()\n",
    "    return x*x + y*y < 1\n",
    "\n",
    "def pi_calc(count_in, n):\n",
    "    return 4 * float(count_in) / float(n)"
   ]
  },
  {
   "cell_type": "code",
   "execution_count": null,
   "metadata": {},
   "outputs": [],
   "source": [
    "%%time\n",
    "count = sc.parallelize(range(0, num_samples)).filter(inside).count()\n",
    "print pi_calc(count, num_samples)"
   ]
  },
  {
   "cell_type": "code",
   "execution_count": null,
   "metadata": {},
   "outputs": [],
   "source": [
    "%%time\n",
    "from pyspark.sql.types import BooleanType\n",
    "from pyspark.sql.functions import udf\n",
    "inside_udf = udf(inside, BooleanType())\n",
    "\n",
    "data = spark.range(0, num_samples)\n",
    "count = data.withColumn(\"inside\", inside_udf(\"id\")).where(\"inside = True\").count()\n",
    "# print data.take(1)\n",
    "print pi_calc(count, num_samples)"
   ]
  },
  {
   "cell_type": "code",
   "execution_count": null,
   "metadata": {},
   "outputs": [],
   "source": [
    "#RDD mapper\n",
    "rdd = sc.parallelize([1,2,3,3])\n",
    "rdd.map(lambda x:  x + 1).collect()\n",
    "#returns [2, 3, 4, 4]"
   ]
  },
  {
   "cell_type": "code",
   "execution_count": null,
   "metadata": {},
   "outputs": [],
   "source": [
    "#RDD flatmap ranges of integer ranges\n",
    "rdd = sc.parallelize([1,2,3,3])\n",
    "rdd.flatMap(lambda x:  range(x, 8)).collect()\n",
    "rdd.flatMap(lambda x:  range(x, 10)).distinct().collect()\n",
    "#returns [8, 1, 9, 2, 3, 4, 5, 6, 7]"
   ]
  },
  {
   "cell_type": "code",
   "execution_count": null,
   "metadata": {},
   "outputs": [],
   "source": [
    "lines = sc.parallelize([\"Data line 1\", \"Mining line 2\", \"data line 3\", \"Data line 4\", \"Data Mining line 5\"])\n",
    "pairs = lines.map(lambda x: (x.split(\" \")[0], x))  #first word and the original line\n",
    "pairs.collect()"
   ]
  },
  {
   "cell_type": "code",
   "execution_count": null,
   "metadata": {},
   "outputs": [],
   "source": [
    "def filterTerm(line):\n",
    "    if 'data' in line[1]:\n",
    "        return (line[0])\n",
    "    \n",
    "result = pairs.filter(filterTerm)\n",
    "result.collect()"
   ]
  },
  {
   "cell_type": "code",
   "execution_count": null,
   "metadata": {},
   "outputs": [],
   "source": [
    "lines = sc.parallelize([\"Data line 1\", \"Mining line 2\", \"data line 3\", \"Data line 4\", \"Data Mining line 5\"])\n",
    "counts = lines.flatMap(lambda line: line.split(\" \")) \\\n",
    "             .map(lambda word: (word, 1)) \\\n",
    "             .reduceByKey(lambda a, b: a + b)\n",
    "        \n",
    "counts.collect()"
   ]
  },
  {
   "cell_type": "code",
   "execution_count": null,
   "metadata": {},
   "outputs": [],
   "source": [
    "# a more efficent word counter (less network communication)\n",
    "lines = sc.parallelize([\"Data line 1\", \"Mining line 2\", \"data line 3\", \"Data line 4\", \"Data Mining line 5\"])\n",
    "def emitWordCounts(line):\n",
    "    wordCounts = []\n",
    "    for w in line.split(\" \"):\n",
    "        wordCounts.append((w, 1))  #could hash and do an in-memory combiner to be more efficient\n",
    "    return (wordCounts)\n",
    "    \n",
    "counts = lines.flatMap(emitWordCounts) \\\n",
    "             .reduceByKey(lambda a, b: a + b)\n",
    "counts.collect()"
   ]
  },
  {
   "cell_type": "code",
   "execution_count": null,
   "metadata": {},
   "outputs": [],
   "source": []
  },
  {
   "cell_type": "markdown",
   "metadata": {},
   "source": [
    "<h1> MIDS - w261 Machine Learning At Scale </h1>\n",
    "__Course Lead:__ Dr James G. Shanahan (__email__ Jimi via  James.Shanahan _AT_ gmail.com)\n",
    "\n",
    "<h2>Assignment - HW10</h2>\n",
    "\n",
    "\n",
    "---\n",
    "__Name:__  *Your Name Goes Here*   \n",
    "__Class:__ MIDS w261 (Section *Your Section Goes Here*, e.g., Fall 2016 Group 1)     \n",
    "__Email:__  *Your UC Berkeley Email Goes Here*@iSchool.Berkeley.edu     \n",
    "__StudentId__  123457    __End of StudentId__     \n",
    "__Week:__   10\n",
    "\n",
    "__NOTE:__ please replace `1234567` with your student id above      \n",
    "__Due Time:__ HW is due the Tuesday of the following week by 8AM (West coast time). I.e., Tuesday, April 4, 2017 in the case of this homework. \n",
    "\n",
    "# Instructions\n",
    "\n",
    "MIDS UC Berkeley, Machine Learning at Scale   \n",
    "DATSCIW261 ASSIGNMENT #10\n",
    "\n",
    "Version 2017-3-24 \n",
    "\n",
    "\n",
    "## IMPORTANT\n",
    "\n",
    "This homework can be completed locally on your computer. \n",
    "\n",
    "### === INSTRUCTIONS for SUBMISSIONS ===   \n",
    "Follow the instructions for submissions carefully.\n",
    "\n",
    "Each student has a `HW-<user>` repository for all assignments.   \n",
    "\n",
    "Click this link to enable you to create a github repo within the MIDS261 Classroom:   \n",
    "https://classroom.github.com/assignment-invitations/3b1d6c8e58351209f9dd865537111ff8   \n",
    "and follow the instructions to create a HW repo.\n",
    "\n",
    "Push the following to your HW github repo into the master branch:\n",
    "* Your local HW6 directory. Your repo file structure should look like this:\n",
    "\n",
    "```\n",
    "HW-<user>\n",
    "    --HW3\n",
    "       |__MIDS-W261-HW-03-<Student_id>.ipynb\n",
    "       |__MIDS-W261-HW-03-<Student_id>.pdf\n",
    "       |__some other hw3 file\n",
    "    --HW4\n",
    "       |__MIDS-W261-HW-04-<Student_id>.ipynb\n",
    "       |__MIDS-W261-HW-04-<Student_id>.pdf\n",
    "       |__some other hw4 file\n",
    "    etc..\n",
    "```    "
   ]
  },
  {
   "cell_type": "markdown",
   "metadata": {},
   "source": [
    "# Useful References\n",
    "\n",
    "* Karau, Holden, Konwinski, Andy, Wendell, Patrick, & Zaharia, Matei. (2015). Learning Spark: Lightning-fast big data analysis. Sebastopol, CA: O’Reilly Publishers.\n",
    "* Hastie, Trevor, Tibshirani, Robert, & Friedman, Jerome. (2009). The elements of statistical learning: Data mining, inference, and prediction (2nd ed.). Stanford, CA: Springer Science+Business Media. (Download for free [here](http://statweb.stanford.edu/~tibs/ElemStatLearn/printings/ESLII_print10.pdf))"
   ]
  },
  {
   "cell_type": "markdown",
   "metadata": {},
   "source": [
    "# HW Problems"
   ]
  },
  {
   "cell_type": "markdown",
   "metadata": {},
   "source": [
    "# HW10.0: Short answer questions\n",
    "\n",
    "\n",
    "__What is Apache Spark and how is it different to Apache Hadoop? __"
   ]
  },
  {
   "cell_type": "markdown",
   "metadata": {},
   "source": [
    "> * Both are frameworks to do distributed computing\n",
    "> * Spark improves on Hadoop by moving more computations in memory (vs disk or over networks)\n",
    "> * Hadoop replicates data on disks for fault tolerance, Spark uses resilient distributed dataset (RDD)\n",
    "> * Spark can be 10-100 times faster than Hadoop MapReduce\n",
    "> * Spark has libraries for SQL, Machine Learning, and interactive shells\n"
   ]
  },
  {
   "cell_type": "markdown",
   "metadata": {},
   "source": [
    "__Fill in the blanks:__  \n",
    "<hr>\n",
    "   \n",
    "__Spark API consists of interfaces to develop applications based on it in Java, Scala, Python, R languages (list languages). __\n",
    "\n",
    "__Using Spark, resource management can be done either in a single server instance or using a framework such as Mesos or YARN in a distributed manner. __\n",
    "\n",
    "<hr>"
   ]
  },
  {
   "cell_type": "markdown",
   "metadata": {},
   "source": [
    "__What is an RDD and show a fun example of creating one and bringing the first element back to the driver program. __"
   ]
  },
  {
   "cell_type": "markdown",
   "metadata": {},
   "source": [
    "> RDDs (Resilient Distributed Datasets) are the data storage model used in Apache Spark framework. It's immutable (read-only) and partitioned collection of records that can be stored in the volatile memory or in a persistent storage. RDDs are fault-tolerant, parallel data structures that let users explicitly persist intermediate results in memory, control their partitioning to optimize data placement, and manipulate them using a rich set of operators."
   ]
  },
  {
   "cell_type": "code",
   "execution_count": null,
   "metadata": {},
   "outputs": [],
   "source": [
    "rdd = sc.textFile(\"data.csv\")\n",
    "rdd.first()"
   ]
  },
  {
   "cell_type": "markdown",
   "metadata": {},
   "source": [
    "# HW10.1 WordCount plus sorting\n",
    "\n",
    "The following notebooks will be useful to jumpstart this collection of Homework exercises:\n",
    "\n",
    "\n",
    "* [Example Notebook with Debugging tactics in Spark](http://nbviewer.jupyter.org/urls/dl.dropbox.com/s/jqjllp8kmf1eolk/WordCountDebugging-Example.ipynb)\n",
    "* [Word Count Quiz](http://nbviewer.jupyter.org/urls/dl.dropbox.com/s/vgmpivsi4rvqz0s/WordCountQuiz.ipynb)\n",
    "* [Work Count Solution](http://nbviewer.jupyter.org/urls/dl.dropbox.com/s/dxv3dmp1vluuo8i/WordCountQuiz-Solution.ipynb)\n",
    "\n",
    "---\n",
    "In Spark write the code to count how often each word appears in a text document (or set of documents). Please use this homework document (with no solutions in it) as a the example document to run an experiment.  Report the following: \n",
    "* provide a sorted list of tokens in decreasing order of frequency of occurence limited to [top 20 most frequent only] and [bottom 10 least frequent]. \n",
    "\n",
    "\n",
    "__OPTIONAL__ \n",
    "Feel free to do a secondary sort where words with the same frequncy are sorted alphanumerically increasing. Please refer to the [following notebook](http://nbviewer.jupyter.org/urls/dl.dropbox.com/s/uu5afr3ufpm9fy8/SecondarySort.ipynb)\n",
    " for examples of secondary sorts in Spark. Please provide the following [top 20 most frequent terms only] and [bottom 10 least frequent terms]\n",
    "\n",
    "__NOTE__ [Please incorporate all referenced notebooks directly into this master notebook as cells for HW submission. I.e., HW submissions should comprise of just one notebook]__"
   ]
  },
  {
   "cell_type": "code",
   "execution_count": null,
   "metadata": {},
   "outputs": [],
   "source": [
    "%%writefile wordcount.txt\n",
    "hello hi hi hallo\n",
    "bonjour hola hi ciao\n",
    "nihao konnichiwa ola\n",
    "hola nihao hello"
   ]
  },
  {
   "cell_type": "code",
   "execution_count": 5,
   "metadata": {},
   "outputs": [
    {
     "data": {
      "text/plain": [
       "[u'hello hi hi hallo',\n",
       " u'bonjour hola hi ciao',\n",
       " u'nihao konnichiwa ola',\n",
       " u'hola nihao hello']"
      ]
     },
     "execution_count": 5,
     "metadata": {},
     "output_type": "execute_result"
    }
   ],
   "source": [
    "rdd = sc.textFile('wordcount.txt')\n",
    "rdd.collect()"
   ]
  },
  {
   "cell_type": "code",
   "execution_count": 6,
   "metadata": {},
   "outputs": [
    {
     "name": "stdout",
     "output_type": "stream",
     "text": [
      "3: hi\n",
      "2: hello\n",
      "2: hola\n",
      "2: nihao\n",
      "1: bonjour\n",
      "1: ciao\n",
      "1: hallo\n",
      "1: konnichiwa\n",
      "1: ola\n"
     ]
    }
   ],
   "source": [
    "lines = sc.textFile('wordcount.txt')\n",
    "\n",
    "def emitWordCounts(line):\n",
    "    wordCounts = []\n",
    "    for w in line.split(\" \"):\n",
    "        wordCounts.append((w, 1))  #could hash and do an in-memory combiner to be more efficient\n",
    "    return (wordCounts)\n",
    "    \n",
    "counts = lines.flatMap(emitWordCounts) \\\n",
    "            .reduceByKey(lambda a, b: a + b) \\\n",
    "            .sortByKey()\n",
    "            \n",
    "output = counts.map(lambda (k,v): (v,k)).sortByKey(False).take(20)\n",
    "for (count, word) in output:\n",
    "    print \"{}: {}\".format(count, word)"
   ]
  },
  {
   "cell_type": "code",
   "execution_count": null,
   "metadata": {},
   "outputs": [],
   "source": [
    "lines = sc.textFile('wordcount.txt')\n",
    "\n",
    "\n",
    "counts = lines.flatMap(lambda line: line.split(' ')) \\\n",
    "            .map(lambda word: ('word', 1)) \\\n",
    "            .reduceByKey(lambda a, b: a + b)\n",
    "\n",
    "counts.collect()"
   ]
  },
  {
   "cell_type": "code",
   "execution_count": 8,
   "metadata": {},
   "outputs": [
    {
     "name": "stdout",
     "output_type": "stream",
     "text": [
      "n: \t 231\n",
      "the: \t 77\n",
      "a: \t 73\n",
      "toc: \t 59\n",
      "HW10: \t 55\n",
      "1: \t 45\n",
      "span: \t 40\n",
      "div: \t 38\n",
      "nbsp: \t 38\n",
      "item: \t 38\n",
      "class: \t 38\n",
      "and: \t 37\n",
      "of: \t 36\n",
      "metadata: \t 35\n",
      "data: \t 34\n",
      "cell_type: \t 33\n",
      "in: \t 33\n",
      "source: \t 33\n",
      "10: \t 30\n",
      "KMeans: \t 26\n"
     ]
    }
   ],
   "source": [
    "# Normalize text\n",
    "def normalizeWords(text):\n",
    "    return re.compile(r'[\\W]+', re.UNICODE).split(text)\n",
    "\n",
    "\n",
    "\n",
    "# Count each word in line\n",
    "def emitWordCounts(line):\n",
    "    wordCounts = []\n",
    "    for w in line.split(\" \"):\n",
    "        if w: # Ignore empty string\n",
    "            wordCounts.append((w, 1))  #could hash and do an in-memory combiner to be more efficient\n",
    "    return (wordCounts)\n",
    "\n",
    "input = sc.textFile('/media/notebooks/main/HW10/MIDS-W261-HW-10-TEMPLATE.ipynb')\n",
    "lines = input.flatMap(normalizeWords)\n",
    "\n",
    "counts = lines.flatMap(emitWordCounts) \\\n",
    "            .reduceByKey(lambda a, b: a + b) \\\n",
    "            .takeOrdered(20, key = lambda x: -x[1])\n",
    "            \n",
    "#output = counts.map(lambda (k,v): (v,k)).sortByKey(False).take(20)\n",
    "for (count, word) in counts:\n",
    "    print \"{}: \\t {}\".format(count, word)\n",
    "\n",
    "#print counts"
   ]
  },
  {
   "cell_type": "code",
   "execution_count": 9,
   "metadata": {
    "collapsed": true
   },
   "outputs": [
    {
     "data": {
      "image/png": "[encoded data removed]",
      "text/plain": [
       "<matplotlib.figure.Figure at 0x7f5341ee27d0>"
      ]
     },
     "metadata": {},
     "output_type": "display_data"
    }
   ],
   "source": [
    "\n",
    "# this is general purpose code to produce a barplot from a list like\n",
    "# See Unit test below for an example use case\n",
    "\n",
    "def myBarPlot(dimensionMeasureList, measureStr):\n",
    "    \"\"\"\n",
    "    Show a bar chart of the total measure per item\n",
    "    \"\"\"\n",
    "    items = [d[0] for d in dimensionMeasureList]\n",
    "    minutes  = [d[1] for d in dimensionMeasureList]\n",
    "    index    = list(xrange(len(items)))\n",
    "\n",
    "    \n",
    "    fig, axe = plt.subplots(figsize=(12,10))\n",
    "    \n",
    "    bars = axe.barh(index, minutes)\n",
    "\n",
    "    # Add the total measure (e.g., wordcount) to the right\n",
    "    for idx, air, min in zip(index, items, minutes):\n",
    "        if min > 0:\n",
    "            bars[idx].set_color('#d9230f')\n",
    "            axe.annotate(\" %0.0f\" % min, xy=(min+1, idx+0.5), va='center')\n",
    "        else:\n",
    "            bars[idx].set_color('#469408')\n",
    "            axe.annotate(\" %0.0f\" % min, xy=(10, idx+0.5), va='center')\n",
    "\n",
    "    # Set the ticks\n",
    "    ticks = plt.yticks([idx+ 0.5 for idx in index], items)\n",
    "    xt = plt.xticks()[0]\n",
    "    plt.xticks(xt, [' '] * len(xt))\n",
    "\n",
    "    #minimize chartjunk\n",
    "    plt.grid(axis = 'x', color ='white', linestyle='-')\n",
    "\n",
    "    plt.title(measureStr)\n",
    "    plt.show()\n",
    "\n",
    "\n",
    "#  Unit test for myBarPlot\n",
    "myBarPlot(counts, 'frequency')\n"
   ]
  },
  {
   "cell_type": "code",
   "execution_count": 10,
   "metadata": {},
   "outputs": [
    {
     "name": "stdout",
     "output_type": "stream",
     "text": [
      "tibs: \t 1\n",
      "sameModel: \t 1\n",
      "Lead: \t 1\n",
      "vgmpivsi4rvqz0s: \t 1\n",
      "my3tnhxx7fr5qs0: \t 1\n",
      "consists: \t 1\n",
      "Business: \t 1\n",
      "norm: \t 1\n",
      "bringing: \t 1\n",
      "carefully: \t 1\n"
     ]
    }
   ],
   "source": [
    "counts = lines.flatMap(emitWordCounts) \\\n",
    "            .reduceByKey(lambda a, b: a + b) \\\n",
    "            .takeOrdered(10, key = lambda x: x[1])\n",
    "            \n",
    "#output = counts.map(lambda (k,v): (v,k)).sortByKey(False).take(20)\n",
    "for (count, word) in counts:\n",
    "    print \"{}: \\t {}\".format(count, word)"
   ]
  },
  {
   "cell_type": "markdown",
   "metadata": {},
   "source": [
    "# HW10.1.1\n",
    "\n",
    "Modify the above word count code to count words that begin with lower case letters (a-z) and report your findings. Again sort the output words in decreasing order of frequency.\n"
   ]
  },
  {
   "cell_type": "code",
   "execution_count": 11,
   "metadata": {
    "collapsed": true
   },
   "outputs": [
    {
     "name": "stdout",
     "output_type": "stream",
     "text": [
      "the: \t 44\n",
      "and: \t 23\n",
      "of: \t 17\n",
      "in: \t 17\n",
      "a: \t 12\n",
      "data: \t 11\n",
      "code: \t 10\n",
      "to: \t 9\n",
      "clusters: \t 9\n",
      "for: \t 7\n",
      "with: \t 7\n",
      "is: \t 7\n",
      "on: \t 7\n",
      "s: \t 6\n",
      "x: \t 6\n",
      "your: \t 6\n",
      "iterations: \t 5\n",
      "from: \t 5\n",
      "this: \t 5\n",
      "as: \t 5\n"
     ]
    }
   ],
   "source": [
    "# Normalize text\n",
    "def normalizeWords(text):\n",
    "    return re.compile(r'[\\W]+', re.UNICODE).split(text)\n",
    "\n",
    "# Count each word in line\n",
    "def emitWordCounts(line):\n",
    "    wordCounts = []\n",
    "    for w in line.split(\" \"):\n",
    "        if w and w[0].islower():\n",
    "            wordCounts.append((w, 1))  #could hash and do an in-memory combiner to be more efficient\n",
    "    return (wordCounts)\n",
    "\n",
    "#input = sc.textFile('/media/notebooks/main/HW10/MIDS-W261-HW-10-TEMPLATE.ipynb')\n",
    "input = sc.textFile('MIDS-MLS-HW-10.txt')\n",
    "lines = input.flatMap(normalizeWords)\n",
    "\n",
    "counts = lines.flatMap(emitWordCounts) \\\n",
    "            .reduceByKey(lambda a, b: a + b) \\\n",
    "            .takeOrdered(20, key = lambda x: -x[1])\n",
    "            \n",
    "#output = counts.map(lambda (k,v): (v,k)).sortByKey(False).take(20)\n",
    "for (count, word) in counts:\n",
    "    print \"{}: \\t {}\".format(count, word)"
   ]
  },
  {
   "cell_type": "markdown",
   "metadata": {},
   "source": [
    "# HW10.2: MLlib-centric KMeans\n",
    "\n",
    "Using the following  MLlib-centric KMeans code snippet: \n",
    "\n",
    "<pre>\n",
    "from pyspark.mllib.clustering import KMeans, KMeansModel\n",
    "from numpy import array\n",
    "from math import sqrt\n",
    "\n",
    "\n",
    "# Load and parse the data\n",
    "# NOTE  kmeans_data.txt is available here \n",
    "#          https://www.dropbox.com/s/q85t0ytb9apggnh/kmeans_data.txt?dl=0 \n",
    "data = sc.textFile(\"kmeans_data.txt\")  \n",
    "parsedData = data.map(lambda line: array([float(x) for x in line.split(' ')]))\n",
    "\n",
    "# Build the model (cluster the data)\n",
    "clusters = KMeans.train(parsedData, 2, maxIterations=10,\n",
    "        runs=10, initializationMode=\"random\")\n",
    "\n",
    "# Evaluate clustering by computing Within Set Sum of Squared Errors\n",
    "def error(point):\n",
    "    center = clusters.centers[clusters.predict(point)]\n",
    "    return sqrt(sum([x**2 for x in (point - center)]))\n",
    "\n",
    "WSSSE = parsedData.map(lambda point: error(point)).reduce(lambda x, y: x + y)\n",
    "print(\"Within Set Sum of Squared Error = \" + str(WSSSE))\n",
    "\n",
    "# Save and load model\n",
    "clusters.save(sc, \"myModelPath\")\n",
    "sameModel = KMeansModel.load(sc, \"myModelPath\")\n",
    "\n",
    "</pre>\n",
    "\n",
    "__NOTE__ <p> The  __kmeans_data.txt__ is available here https://www.dropbox.com/s/q85t0ytb9apggnh/kmeans_data.txt?dl=0 \n",
    "\n",
    "__TASKS__\n",
    "* Run this code snippet and list the clusters that your find.\n",
    "* compute the Within Set Sum of Squared Errors for the found clusters. Comment on your findings."
   ]
  },
  {
   "cell_type": "code",
   "execution_count": null,
   "metadata": {},
   "outputs": [],
   "source": [
    "!rm -rf myModelPath"
   ]
  },
  {
   "cell_type": "code",
   "execution_count": 12,
   "metadata": {
    "collapsed": true
   },
   "outputs": [
    {
     "name": "stdout",
     "output_type": "stream",
     "text": [
      "Centroids:\n",
      "[ 9.1  9.1  9.1]\n",
      "[ 0.1  0.1  0.1]\n",
      "Within Set Sum of Squared Error = 0.692820323028\n"
     ]
    }
   ],
   "source": [
    "from pyspark.mllib.clustering import KMeans, KMeansModel\n",
    "from numpy import array\n",
    "from math import sqrt\n",
    "\n",
    "data = sc.textFile('kmeans_data.txt')  \n",
    "parsedData = data.map(lambda line: array([float(x) for x in line.split(' ')]))\n",
    "\n",
    "# Build the model (cluster the data)\n",
    "clusters = KMeans.train(parsedData, 2, maxIterations=10, initializationMode=\"random\")\n",
    "\n",
    "# Evaluate clustering by computing Within Set Sum of Squared Errors\n",
    "def error(point):\n",
    "    center = clusters.centers[clusters.predict(point)]\n",
    "    return sqrt(sum([x**2 for x in (point - center)]))\n",
    "\n",
    "WSSSE = parsedData.map(lambda point: error(point)).reduce(lambda x, y: x + y)\n",
    "print 'Centroids:'\n",
    "for centroid in clusters.centers:\n",
    "    print centroid\n",
    "print 'Within Set Sum of Squared Error = ' + str(WSSSE)\n",
    "\n",
    "# Save and load model\n",
    "#clusters.save(sc, \"myModelPath\")\n",
    "#sameModel = KMeansModel.load(sc, \"myModelPath\")\n",
    "\n"
   ]
  },
  {
   "cell_type": "markdown",
   "metadata": {},
   "source": [
    "# HW10.3: Homegrown KMeans in Spark \n",
    "\n",
    "Download the following KMeans [notebook](http://nbviewer.jupyter.org/urls/dl.dropbox.com/s/3nsthvp8g2rrrdh/EM-Kmeans.ipynb).\n",
    "\n",
    "Generate 3 clusters with 100 (one hundred) data points per cluster (using the code provided). Plot the data.\n",
    "Then run MLlib's Kmean implementation on this data  and report your results as follows:\n",
    "\n",
    "* plot the resulting clusters after 1 iteration, 10 iterations, after 20 iterations, after 100 iterations.\n",
    "* in each plot please report the Within Set Sum of Squared Errors for the found clusters (as part of the title WSSSE). Comment on the progress of this measure as  the KMEans algorithms runs for more iterations. Then plot the WSSSE as a function of the iteration (1, 10, 20, 30, 40, 50, 100).\n",
    "\n"
   ]
  },
  {
   "cell_type": "code",
   "execution_count": 13,
   "metadata": {
    "collapsed": true
   },
   "outputs": [],
   "source": [
    " %matplotlib inline\n",
    "import numpy as np\n",
    "import pylab \n",
    "import json\n",
    "\n",
    "size1 = size2 = size3 = 100\n",
    "samples1 = np.random.multivariate_normal([4, 0], [[1, 0],[0, 1]], size1)\n",
    "data = samples1\n",
    "samples2 = np.random.multivariate_normal([6, 6], [[1, 0],[0, 1]], size2)\n",
    "data = np.append(data,samples2, axis=0)\n",
    "samples3 = np.random.multivariate_normal([0, 4], [[1, 0],[0, 1]], size3)\n",
    "data = np.append(data,samples3, axis=0)\n",
    "# Randomlize data\n",
    "data = data[np.random.permutation(size1+size2+size3),]\n",
    "np.savetxt('data.csv',data,delimiter = ',')"
   ]
  },
  {
   "cell_type": "code",
   "execution_count": 14,
   "metadata": {},
   "outputs": [
    {
     "data": {
      "image/png": "[encoded data removed]",
      "text/plain": [
       "<matplotlib.figure.Figure at 0x7f5341ef2d10>"
      ]
     },
     "metadata": {},
     "output_type": "display_data"
    }
   ],
   "source": [
    "plt.figure(figsize=(15,10))\n",
    "plt.plot(samples1[:, 0], samples1[:, 1],'*', color = 'red')\n",
    "plt.plot(samples2[:, 0], samples2[:, 1],'o',color = 'blue')\n",
    "plt.plot(samples3[:, 0], samples3[:, 1],'+',color = 'green')\n",
    "\n",
    "plt.show()"
   ]
  },
  {
   "cell_type": "code",
   "execution_count": 15,
   "metadata": {},
   "outputs": [],
   "source": [
    "#plot centroids and data points for each iteration\n",
    "def plot_iteration(k, iteration, means):\n",
    "    plt.figure(figsize=(15,10))\n",
    "    plt.plot(samples1[:, 0], samples1[:, 1], '.', color = 'blue')\n",
    "    plt.plot(samples2[:, 0], samples2[:, 1], '.', color = 'blue')\n",
    "    plt.plot(samples3[:, 0], samples3[:, 1],'.', color = 'blue')\n",
    "    plt.plot(means[0][0], means[0][1],'*',markersize =10,color = 'red')\n",
    "    plt.plot(means[1][0], means[1][1],'*',markersize =10,color = 'red')\n",
    "    plt.plot(means[2][0], means[2][1],'*',markersize =10,color = 'red')\n",
    "    plt.title(\"Clusters with k = {} and iterations = {}\".format(k, iteration))\n",
    "    plt.show()"
   ]
  },
  {
   "cell_type": "code",
   "execution_count": 19,
   "metadata": {},
   "outputs": [
    {
     "name": "stdout",
     "output_type": "stream",
     "text": [
      "Iteration: 1\n",
      "Centroids: \n",
      "[ 3.98555185 -0.08303659]\n",
      "[ 0.02606086  3.93311573]\n",
      "[ 5.990326    5.97262298]\n",
      "Within Set Sum of Squared Error = 354.318947642\n"
     ]
    },
    {
     "data": {
      "image/png": "[encoded data removed]",
      "text/plain": [
       "<matplotlib.figure.Figure at 0x7f5335e6b650>"
      ]
     },
     "metadata": {},
     "output_type": "display_data"
    },
    {
     "name": "stdout",
     "output_type": "stream",
     "text": [
      "354.318947642\n",
      "Iteration: 10\n",
      "Centroids: \n",
      "[ 0.00754038  3.95411625]\n",
      "[ 3.96445162 -0.06389417]\n",
      "[ 5.990326    5.97262298]\n",
      "Within Set Sum of Squared Error = 354.294900216\n"
     ]
    },
    {
     "data": {
      "image/png": "[encoded data removed]",
      "text/plain": [
       "<matplotlib.figure.Figure at 0x7f5341e885d0>"
      ]
     },
     "metadata": {},
     "output_type": "display_data"
    },
    {
     "name": "stdout",
     "output_type": "stream",
     "text": [
      "354.294900216\n",
      "Iteration: 20\n",
      "Centroids: \n",
      "[ 3.96445162 -0.06389417]\n",
      "[ 0.00754038  3.95411625]\n",
      "[ 5.990326    5.97262298]\n",
      "Within Set Sum of Squared Error = 354.294900216\n"
     ]
    },
    {
     "data": {
      "image/png": "[encoded data removed]",
      "text/plain": [
       "<matplotlib.figure.Figure at 0x7f5335aeb190>"
      ]
     },
     "metadata": {},
     "output_type": "display_data"
    },
    {
     "name": "stdout",
     "output_type": "stream",
     "text": [
      "354.294900216\n",
      "Iteration: 30\n",
      "Centroids: \n",
      "[ 5.990326    5.97262298]\n",
      "[ 0.00754038  3.95411625]\n",
      "[ 3.96445162 -0.06389417]\n",
      "Within Set Sum of Squared Error = 354.294900216\n"
     ]
    },
    {
     "data": {
      "image/png": "[encoded data removed]",
      "text/plain": [
       "<matplotlib.figure.Figure at 0x7f5335d76410>"
      ]
     },
     "metadata": {},
     "output_type": "display_data"
    },
    {
     "name": "stdout",
     "output_type": "stream",
     "text": [
      "354.294900216\n",
      "Iteration: 40\n",
      "Centroids: \n",
      "[ 5.19393516  6.26861791]\n",
      "[ 6.69655939  5.71013692]\n",
      "[ 1.96621145  1.96520109]\n",
      "Within Set Sum of Squared Error = 689.726105943\n"
     ]
    },
    {
     "data": {
      "image/png": "[encoded data removed]",
      "text/plain": [
       "<matplotlib.figure.Figure at 0x7f5335da9950>"
      ]
     },
     "metadata": {},
     "output_type": "display_data"
    },
    {
     "name": "stdout",
     "output_type": "stream",
     "text": [
      "689.726105943\n",
      "Iteration: 50\n",
      "Centroids: \n",
      "[ 3.96445162 -0.06389417]\n",
      "[ 5.990326    5.97262298]\n",
      "[ 0.00754038  3.95411625]\n",
      "Within Set Sum of Squared Error = 354.294900216\n"
     ]
    },
    {
     "data": {
      "image/png": "[encoded data removed]",
      "text/plain": [
       "<matplotlib.figure.Figure at 0x7f5335c9d6d0>"
      ]
     },
     "metadata": {},
     "output_type": "display_data"
    },
    {
     "name": "stdout",
     "output_type": "stream",
     "text": [
      "354.294900216\n",
      "Iteration: 100\n",
      "Centroids: \n",
      "[ 5.990326    5.97262298]\n",
      "[ 3.96445162 -0.06389417]\n",
      "[ 0.00754038  3.95411625]\n",
      "Within Set Sum of Squared Error = 354.294900216\n"
     ]
    },
    {
     "data": {
      "image/png": "[encoded data removed]",
      "text/plain": [
       "<matplotlib.figure.Figure at 0x7f5335c25550>"
      ]
     },
     "metadata": {},
     "output_type": "display_data"
    },
    {
     "name": "stdout",
     "output_type": "stream",
     "text": [
      "354.294900216\n"
     ]
    }
   ],
   "source": [
    "data = sc.textFile('data.csv')  \n",
    "parsedData = data.map(lambda line: array([float(x) for x in line.split(',')]))\n",
    "values = []\n",
    "k = 3\n",
    "a_range = [1, 10, 20, 30, 40, 50, 100]\n",
    "\n",
    "\n",
    "def homework(k, iter):\n",
    "    \n",
    "    # Build the model (cluster the data)\n",
    "    clusters = KMeans.train(parsedData, k, maxIterations=iter, initializationMode=\"random\")\n",
    "\n",
    "    # Evaluate clustering by computing Within Set Sum of Squared Errors\n",
    "    def error(point):\n",
    "        center = clusters.centers[clusters.predict(point)]\n",
    "        return sqrt(sum([x**2 for x in (point - center)]))\n",
    "\n",
    "    WSSSE = parsedData.map(lambda point: error(point)).reduce(lambda x, y: x + y)\n",
    "    print 'Iteration: ' + str(iter)\n",
    "    print 'Centroids: '\n",
    "    for centroid in clusters.centers:\n",
    "        print centroid\n",
    "    print 'Within Set Sum of Squared Error = ' + str(WSSSE)\n",
    "    plot_iteration(k, iter, clusters.centers)\n",
    "    \n",
    "    return WSSSE\n",
    "\n",
    "\n",
    "for i in a_range:\n",
    "    print homework(k, i)\n",
    "    \n",
    "#print values"
   ]
  },
  {
   "cell_type": "code",
   "execution_count": 25,
   "metadata": {},
   "outputs": [
    {
     "name": "stdout",
     "output_type": "stream",
     "text": [
      "Iteration: 2\n",
      "Centroids: \n",
      "[ 5.97822277  6.00568646]\n",
      "[ 0.02606086  3.93311573]\n",
      "[ 4.01790533 -0.05493179]\n",
      "Within Set Sum of Squared Error = 354.375728937\n"
     ]
    },
    {
     "data": {
      "image/png": "[encoded data removed]",
      "text/plain": [
       "<matplotlib.figure.Figure at 0x7f5335a76490>"
      ]
     },
     "metadata": {},
     "output_type": "display_data"
    },
    {
     "data": {
      "text/plain": [
       "354.3757289371142"
      ]
     },
     "execution_count": 25,
     "metadata": {},
     "output_type": "execute_result"
    }
   ],
   "source": [
    "homework(3,2)"
   ]
  },
  {
   "cell_type": "code",
   "execution_count": null,
   "metadata": {},
   "outputs": [],
   "source": [
    "plt.figure(figsize=(15,10))\n",
    "plt.plot(a_range, values)\n",
    "plt.show()"
   ]
  },
  {
   "cell_type": "markdown",
   "metadata": {},
   "source": [
    "# HW10.4: KMeans Experiments\n",
    "\n",
    "Using this provided [homegrown Kmeans code](http://nbviewer.jupyter.org/urls/dl.dropbox.com/s/3nsthvp8g2rrrdh/EM-Kmeans.ipynb)   repeat the experiments in HW10.3. Explain any differences between the results in HW10.3 and HW10.4. "
   ]
  },
  {
   "cell_type": "code",
   "execution_count": null,
   "metadata": {
    "collapsed": true
   },
   "outputs": [],
   "source": [
    "#Calculate which class each data point belongs to\n",
    "def nearest_centroid(line):\n",
    "    x = np.array([float(f) for f in line.split(',')])\n",
    "    closest_centroid_idx = np.sum((x - centroids)**2, axis=1).argmin()\n",
    "    return (closest_centroid_idx,(x,1))"
   ]
  },
  {
   "cell_type": "code",
   "execution_count": null,
   "metadata": {},
   "outputs": [],
   "source": [
    "K = 3\n",
    "# Initialization: initialization of parameter is fixed to show an example\n",
    "centroids = np.array([[0.0,0.0],[2.0,2.0],[0.0,7.0]])\n",
    "\n",
    "D = sc.textFile(\"data.csv\").cache()\n",
    "iter_num = 0\n",
    "for i in range(10):  \n",
    "    res = D.map(nearest_centroid).reduceByKey(lambda x,y : (x[0]+y[0],x[1]+y[1])).collect()\n",
    "    res = sorted(res,key = lambda x : x[0])  #sort based on clusted ID\n",
    "    centroids_new = np.array([x[1][0]/x[1][1] for x in res])  #divide by cluster size\n",
    "    if np.sum(np.absolute(centroids_new-centroids))<0.0001:\n",
    "        break\n",
    "    print \"Iteration \" + str(iter_num + 1)\n",
    "    iter_num = iter_num + 1 \n",
    "    centroids = centroids_new\n",
    "    print centroids\n",
    "    plot_iteration(K, i+1, centroids)\n",
    "print \"Final Results:\"\n",
    "print centroids"
   ]
  },
  {
   "cell_type": "markdown",
   "metadata": {},
   "source": [
    "# HW10.4.1: Making Homegrown KMeans more efficient\n",
    "\n",
    "The above provided homegrown KMeans implentation in not the most efficient. How can you make it more efficient? Make this change in the code and show it work and comment on the gains you achieve. "
   ]
  },
  {
   "cell_type": "markdown",
   "metadata": {},
   "source": [
    "### HINT: have a look at  [this linear regression notebook](    http://nbviewer.jupyter.org/urls/dl.dropbox.com/s/atzqkc0p1eajuz6/LinearRegression-Notebook-Challenge.ipynb)"
   ]
  },
  {
   "cell_type": "code",
   "execution_count": null,
   "metadata": {
    "collapsed": true
   },
   "outputs": [],
   "source": [
    "# START STUDENT CODE 10.4.1\n",
    "# (ADD CELLS AS NEEDED)\n",
    "\n",
    "# END STUDENT CODE 10.4.1"
   ]
  },
  {
   "cell_type": "code",
   "execution_count": null,
   "metadata": {},
   "outputs": [],
   "source": [
    "%%time\n",
    "from pyspark.ml.feature import VectorAssembler\n",
    "from pyspark.ml.clustering import KMeans\n",
    "from pyspark.sql.functions import *\n",
    "\n",
    "#load data and convert to dense vectors for use with \n",
    "data = spark.read.format(\"csv\").load(\"./data.csv\")\n",
    "\n",
    "data = data.select(*(col(c).cast(\"float\").alias(c) for c in data.columns))\n",
    "assembler = VectorAssembler(\n",
    "  inputCols=[\"_c0\",\"_c1\"], outputCol=\"features\"\n",
    ")\n",
    "assembled = assembler.transform(data)\n",
    "\n",
    "kmeans = KMeans(k=3, seed=1)\n",
    "model = kmeans.fit(assembled.select(\"features\"))\n",
    "\n",
    "for centroid in model.clusterCenters():\n",
    "    print centroid\n",
    "\n",
    "plot_iteration(model.clusterCenters())"
   ]
  },
  {
   "cell_type": "markdown",
   "metadata": {},
   "source": [
    "# HW10.5: OPTIONAL Weighted KMeans\n",
    "\n",
    "Using this provided [homegrown Kmeans code](http://nbviewer.jupyter.org/urls/dl.dropbox.com/s/3nsthvp8g2rrrdh/EM-Kmeans.ipynb), modify it to do a weighted KMeans and repeat the experiements in HW10.3. Explain  any differences between the results in HW10.3 and HW10.5.\n",
    "\n",
    "NOTE: Weight each example as follows using the inverse vector length (Euclidean norm): \n",
    "\n",
    "> weight(X)= 1/||X||, \n",
    "\n",
    "where ||X|| = SQRT(X.X)= SQRT(X1^2 + X2^2)\n",
    "\n",
    "Here X is vector made up of two values X1 and X2.\n",
    "\n",
    "__[Please incorporate all referenced notebooks directly into this master notebook as cells for HW submission. I.e., HW submissions should comprise of just one notebook]__"
   ]
  },
  {
   "cell_type": "code",
   "execution_count": null,
   "metadata": {
    "collapsed": true
   },
   "outputs": [],
   "source": [
    "\n",
    "def nearest_centroid(x):    \n",
    "    norm = np.sqrt(sum(x**2))\n",
    "    closest_centroid_idx = np.sum((x - centroids)**2, axis=1).argmin()\n",
    "    # weight centroid\n",
    "    return (closest_centroid_idx,(x/norm,1/norm))\n",
    "\n",
    "def DistancetoCenter(p):\n",
    "    return np.sqrt(np.sum((p-centroids)**2, axis=1).min())\n",
    "\n",
    "K = 3\n",
    "# Initialization\n",
    "centroids = np.array([[0.0,0.0],[2.0,2.0],[0.0,7.0]])\n",
    "\n",
    "D = sc.textFile(\"data.csv\").map(lambda line: np.array([float(x) for x in line.split(',')])).cache()\n",
    "for i in range(200):  \n",
    "    res = D.map(nearest_centroid).reduceByKey(lambda x,y : (x[0]+y[0],x[1]+y[1])).collect()\n",
    "    res = sorted(res,key = lambda x : x[0]) \n",
    "    centroids_new = np.array([x[1][0]/x[1][1] for x in res]) \n",
    "    centroids = centroids_new\n",
    "    if (i+1) in [1,10,20,100]:        \n",
    "        print \"\\nIteration %d\" %(i+1)     \n",
    "        # print centroids\n",
    "        plot_iteration(K, i+1, centroids)\n",
    "        WSSSE = D.map(DistancetoCenter).reduce(lambda x, y: x + y)\n",
    "        print(\"Within Set Sum of Squared Error = \" + str(WSSSE))\n",
    "print \"\\nFinal Results:\"\n",
    "print centroids"
   ]
  },
  {
   "cell_type": "markdown",
   "metadata": {},
   "source": [
    "# HW10.6 OPTIONAL Linear Regression\n",
    "\n",
    "Using [this linear regression notebook](    http://nbviewer.jupyter.org/urls/dl.dropbox.com/s/atzqkc0p1eajuz6/LinearRegression-Notebook-Challenge.ipynb):\n",
    "\n",
    "\n",
    "* Generate 2 sets of data with 100 data points using the data generation code provided and plot each in separate plots. Call one the training set and the other the testing set.\n",
    "\n",
    "* Using MLLib's LinearRegressionWithSGD train up a linear regression model with the training dataset and evaluate with the testing set. What a good number of iterations for training the linear regression model? Justify with plots (e.g., plot MSE as a function of the number of iterations) and words. \n"
   ]
  },
  {
   "cell_type": "code",
   "execution_count": null,
   "metadata": {
    "collapsed": true
   },
   "outputs": [],
   "source": [
    "import numpy as np\n",
    "import csv\n",
    "def data_generate(fileName, w=[0,0], size=100, seed=0):\n",
    "    np.random.seed(seed)\n",
    "    x = np.random.uniform(-4, 4, size)\n",
    "    noise = np.random.normal(0, 2, size)\n",
    "    y = (x * w[0] + w[1] + noise)\n",
    "    data = zip(y, x)\n",
    "    with open(fileName,'wb') as f:\n",
    "        writer = csv.writer(f)\n",
    "        for row in data:\n",
    "            writer.writerow(row)\n",
    "    return True\n",
    "# model wegiht, true model y = 6x − 3.\n",
    "\n",
    "w = [6,-3]\n",
    "# training data\n",
    "data_generate('data_train_10_6.csv', w, 100, 0)\n",
    "data_generate('data_test_10_6.csv', w, 100, 1)"
   ]
  },
  {
   "cell_type": "code",
   "execution_count": null,
   "metadata": {},
   "outputs": [],
   "source": [
    "# true model\n",
    "x = [-4, 4]\n",
    "y = [(i * w[0] + w[1]) for i in x]\n",
    "# load data\n",
    "with open('data_train_10_6.csv', 'r') as f:\n",
    "    dataTrain = [[float(p) for p in line.split(',')] for line in f.readlines()]\n",
    "with open('data_test_10_6.csv', 'r') as f:\n",
    "    dataTest = [[float(p) for p in line.split(',')] for line in f.readlines()]\n",
    "\n",
    "# plot the data\n",
    "f, (ax1, ax2) = plt.subplots(1, 2, sharey=True, figsize=(20,20))\n",
    "ax1.plot([k[1] for k in dataTrain], [k[0] for k in dataTrain], 'rx')\n",
    "ax1.plot(x, y, linewidth=2.0)\n",
    "ax1.set_title('Training Data')\n",
    "ax1.set_ylabel('y')\n",
    "ax1.set_xlabel('x')\n",
    "ax1.grid()\n",
    "ax2.plot([k[1] for k in dataTest], [k[0] for k in dataTest], 'yx')\n",
    "ax2.plot(x, y, linewidth=2.0)\n",
    "ax2.set_title('Test Data')\n",
    "ax2.set_xlabel('x')\n",
    "ax2.grid()\n",
    "plt.show()"
   ]
  },
  {
   "cell_type": "code",
   "execution_count": null,
   "metadata": {},
   "outputs": [],
   "source": [
    "from pyspark.mllib.regression import LabeledPoint, LinearRegressionWithSGD, LinearRegressionModel\n",
    "from math import sqrt\n",
    "\n",
    "# Load and parse the data\n",
    "def parsePoint(line):\n",
    "    values = [float(x) for x in line.split(',')]\n",
    "    return LabeledPoint(values[0], values[1:])\n",
    "\n",
    "\n",
    "trainData = sc.textFile(\"data_train_10_6.csv\").map(parsePoint)\n",
    "testData = sc.textFile('data_test_10_6.csv').map(lambda l: [float(x) for x in l.split(',')])\n",
    "\n",
    "# x-range\n",
    "x = [-4, 4]\n",
    "#w = truew\n",
    "y = [(i * w[0] + w[1]) for i in x]\n",
    "plt.figure(figsize=(15,10))\n",
    "plt.plot(x, y, 'b', label=\"True line\", linewidth=4.0)\n",
    "\n",
    "# Build the model\n",
    "iterations = [1, 10, 20, 30, 40, 50]\n",
    "linestyle = ['m--', 'r--', 'g--', 'y--', 'c--', 'k--']\n",
    "weight = inter = 0\n",
    "for it, ls in zip(iterations, linestyle):\n",
    "    model = LinearRegressionWithSGD.train(trainData, intercept=True, iterations=it)\n",
    "    weight, inter = model.weights[0], model.intercept\n",
    "    y = [i*weight+inter for i in x]\n",
    "    # evaluate prediction error\n",
    "    rms = testData.map(lambda p: ((p[1]*weight+inter - p[0])**2, 1)).reduce(lambda a,b: (a[0]+b[0], a[1]+b[1]))\n",
    "    print 'After %d iterations: model - %s, Error - %.4f' %(it, str([weight, inter]), sqrt(rms[0]/rms[1]))\n",
    "    plt.plot(x, y, ls, label=\"After %d Iterations\" %it, linewidth=2.0)\n",
    "#print model\n",
    "\n",
    "# display the plot\n",
    "plt.legend(bbox_to_anchor=(1.05, 1), loc=2, fontsize=20, borderaxespad=0.)\n",
    "plt.xlabel(\"x\")\n",
    "plt.ylabel(\"y\")\n",
    "plt.grid()\n",
    "plt.show()"
   ]
  },
  {
   "cell_type": "markdown",
   "metadata": {},
   "source": [
    "# HW10.6.1 OPTIONAL Linear Regression\n",
    "\n",
    "In the notebook provided above, in the cell labeled \"Gradient descent (regularization)\".\n",
    "\n",
    "* Fill in the blanks and get this code to work for LASS0 and RIDGE linear regression.\n",
    "\n",
    "* Using the data from HW10.6.1 tune the hyper parameters of your LASS0 and RIDGE regression. Report your findings with words and plots."
   ]
  },
  {
   "cell_type": "code",
   "execution_count": null,
   "metadata": {
    "collapsed": true
   },
   "outputs": [],
   "source": [
    "import numpy as np\n",
    "\n",
    "def LR_GDReg(data, wInitial=None, learningRate=0.05, iterations=50, regParam=0.01, regType=None):\n",
    "    featureLen = len(data.take(1)[0])-1\n",
    "    n = data.count()\n",
    "    if wInitial is None:\n",
    "        w = np.random.normal(size=featureLen)\n",
    "    else:\n",
    "        w = wInitial\n",
    "    for i in range(iterations):\n",
    "        wBroadcast = sc.broadcast(w)\n",
    "        gradient = data.map(lambda d: -2 * (d[0] - np.dot(wBroadcast.value, d[1:])) * np.array(d[1:])) \\\n",
    "                    .reduce(lambda a, b: a + b)\n",
    "        if regType == \"Ridge\":            \n",
    "            wReg = 2*(wBroadcast.value[:-1]+[0])\n",
    "        elif regType == \"Lasso\":\n",
    "            wReg = np.array([np.sign(x) for x in wBroadcast.value[:-1]]+[0])\n",
    "        else:\n",
    "            wReg = np.zeros(w.shape[0])\n",
    "        gradient = gradient + regParam * wReg  #gradient:  GD of Sqaured Error+ GD of regularized term \n",
    "        w = w - learningRate * gradient / n\n",
    "    return w"
   ]
  },
  {
   "cell_type": "code",
   "execution_count": null,
   "metadata": {},
   "outputs": [],
   "source": [
    "def ierationsPlot(fileName, truew, regT='Ridge', regP=0.01, learningR=0.05, iterStep=2):\n",
    "    print 'Regulation type: %s, lambda: %.2f, learning rate: %.2f' %(regT, regP, learningR)\n",
    "    x = [-4, 4]\n",
    "    \n",
    "    w = truew\n",
    "    y = [(i * w[0] + w[1]) for i in x]\n",
    "    plt.plot(x, y, 'b', label=\"True line\", linewidth=4.0)\n",
    "    \n",
    "    data = sc.textFile(fileName).map(lambda line: [float(v) for v in line.split(',')]+[1.0]).cache()\n",
    "    n = data.count()\n",
    "    \n",
    "    np.random.seed(400)\n",
    "    w = np.random.normal(0,1,2)\n",
    "    y = [(i * w[0] + w[1]) for i in x]\n",
    "    plt.plot(x, y, 'r--', label=\"After 0 Iterations\", linewidth=2.0)\n",
    "    squared_error = data.map(lambda d: (d[0] - np.dot(w, d[1:]))**2).reduce(lambda a, b: a + b)\n",
    "    print \"Mean Squared Error after 0 iterations: \" + str(squared_error/n)\n",
    "    \n",
    "    \n",
    "    w = LR_GDReg(data, iterations=iterStep, regParam=regP, regType=regT, learningRate=learningR)\n",
    "    y = [(i * w[0] + w[1]) for i in x]\n",
    "    plt.plot(x, y, 'g--', label=\"After %d Iterations\" %iterStep, linewidth=2.0)\n",
    "    squared_error = data.map(lambda d: (d[0] - np.dot(w, d[1:]))**2).reduce(lambda a, b: a + b)\n",
    "    print \"Mean Squared Error after %d iterations: %.4f\" %(iterStep, squared_error/n)\n",
    "    \n",
    "    w = LR_GDReg(data, wInitial=w, iterations=iterStep, regParam=regP, regType=regT, learningRate=learningR)\n",
    "    y = [(i * w[0] + w[1]) for i in x]\n",
    "    plt.plot(x, y, 'm--', label=\"After %d Iterations\" %(2*iterStep), linewidth=2.0)\n",
    "    squared_error = data.map(lambda d: (d[0] - np.dot(w, d[1:]))**2).reduce(lambda a, b: a + b)\n",
    "    print \"Mean Squared Error after %d iterations: %.4f\" %(2*iterStep, squared_error/n)\n",
    "    \n",
    "    w = LR_GDReg(data, wInitial=w, iterations=iterStep, regParam=regP, regType=regT, learningRate=learningR)\n",
    "    y = [(i * w[0] + w[1]) for i in x]\n",
    "    plt.plot(x, y, 'y--', label=\"After %d Iterations\" %(3*iterStep), linewidth=2.0)\n",
    "    squared_error = data.map(lambda d: (d[0] - np.dot(w, d[1:]))**2).reduce(lambda a, b: a + b)\n",
    "    print \"Mean Squared Error after %d iterations: %.4f\" %(3*iterStep, squared_error/n)\n",
    "    \n",
    "    plt.legend(bbox_to_anchor=(1.05, 1), loc=2, fontsize=20, borderaxespad=0.)\n",
    "    plt.xlabel(\"x\")\n",
    "    plt.ylabel(\"y\")\n",
    "    plt.grid()\n",
    "    plt.show()"
   ]
  },
  {
   "cell_type": "code",
   "execution_count": null,
   "metadata": {},
   "outputs": [],
   "source": [
    "\n",
    "ierationsPlot('data_train_10_6.csv', [6, -3], regP=0.01, regT='Ridge', learningR=0.05, iterStep=3)"
   ]
  },
  {
   "cell_type": "code",
   "execution_count": null,
   "metadata": {},
   "outputs": [],
   "source": [
    "ierationsPlot('data_train_10_6.csv', [6, -3], regP=0.01, regT='Lasso', learningR=0.05, iterStep=3)\n"
   ]
  },
  {
   "cell_type": "markdown",
   "metadata": {},
   "source": [
    "# HW10.7 OPTIONAL Error surfaces\n",
    "\n",
    "Here is a link to R code with 1 test drivers that plots the linear regression model in  model space and in the domain space:\n",
    "\n",
    "> https://www.dropbox.com/s/3xc3kwda6d254l5/PlotModelAndDomainSpaces.R?dl=0\n",
    "\n",
    "Here is a sample output from this script: \n",
    "      \n",
    "> https://www.dropbox.com/s/my3tnhxx7fr5qs0/image%20%281%29.png?dl=0\n",
    "\n",
    "Please use this as inspiration and code a equivalent error surface and heatmap (with isolines) in Spark and show the trajectory of learning taken during gradient descent (after each n-iterations of Gradient Descent):\n",
    "\n",
    "\n",
    "Using Spark and  Python (using the above R Script as inspiration), plot the error surface for the linear regression model using a heatmap and contour plot. \n",
    "Also plot the current model in the original domain space for every 10th iteration.  Plot them side by side if possible  for each iteration: lefthand side plot is the model space(w0 and w01) and the righthand side plot is domain space (plot the corresponding model and training data in the problem domain space) with a final pair of graphs showing the entire trajectory in the model and domain space. Make sure to label your plots with iteration numbers, function, model space versus original domain space, MSE on the training data etc.\n",
    "\n",
    "Also plot the MSE as a function of each iteration (possibly every 10th iteration). Dont forget to label both axis and the graph also. __[Please incorporate all referenced notebooks directly into this master notebook as cells for HW submission. I.e., HW submissions should comprise of just one notebook]__\n",
    "\n",
    "\n",
    "\n"
   ]
  },
  {
   "cell_type": "code",
   "execution_count": null,
   "metadata": {
    "collapsed": true
   },
   "outputs": [],
   "source": [
    "# START STUDENT CODE 10.7\n",
    "# (ADD CELLS AS NEEDED)\n",
    "\n",
    "# END STUDENT CODE 10.7"
   ]
  },
  {
   "cell_type": "code",
   "execution_count": null,
   "metadata": {
    "collapsed": true
   },
   "outputs": [],
   "source": []
  }
 ],
 "metadata": {
  "kernelspec": {
   "display_name": "Python 2",
   "language": "python",
   "name": "python2"
  },
  "language_info": {
   "codemirror_mode": {
    "name": "ipython",
    "version": 2
   },
   "file_extension": ".py",
   "mimetype": "text/x-python",
   "name": "python",
   "nbconvert_exporter": "python",
   "pygments_lexer": "ipython2",
   "version": "2.7.14"
  },
  "toc": {
   "colors": {
    "hover_highlight": "#DAA520",
    "running_highlight": "#FF0000",
    "selected_highlight": "#FFD700"
   },
   "moveMenuLeft": true,
   "nav_menu": {
    "height": "417px",
    "width": "252px"
   },
   "navigate_menu": true,
   "number_sections": true,
   "sideBar": false,
   "threshold": 4,
   "toc_cell": true,
   "toc_section_display": "block",
   "toc_window_display": true
  }
 },
 "nbformat": 4,
 "nbformat_minor": 2
}
