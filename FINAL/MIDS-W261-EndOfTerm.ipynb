{
 "cells": [
  {
   "cell_type": "markdown",
   "metadata": {},
   "source": [
    "# W261  MIDS Machine Learning at Scale  \n",
    "## End of Term exam  \n",
    "\n",
    "Spring, 2018  \n",
    "__Student Name__: Leslie TEO  \n",
    "__Student ID:__   303218617\n",
    "\n",
    "__Email:__   lteo01@berkeley.edu | lteo@ischool.berkeley.edu  "
   ]
  },
  {
   "cell_type": "markdown",
   "metadata": {},
   "source": [
    "# Instructions for exam \n",
    "\n",
    "\n",
    "* Please keep all your work and responses in ONE (1) notebook only (and submit to your github repository in a directory named FINAL)\n",
    "\n",
    "* Please submit your solutions and notebook via ISVC. Go to: Coursework -> Assignments & Grading -> End of Term Exam\n",
    "\n",
    "* **Question types:** \n",
    "*    Knowledge test Programmatic/doodle (take photos; embed the photos in your notebook) and put them on GitHub\n",
    "*    All programmatic questions can be run locally on your laptop (using Apache Spark only)\n",
    "\n",
    "* This is an open book exam meaning you can consult webpages and textbooks, class notes, slides etc. but you can not discuss with each other or any other person/group until after the course finishes. \n",
    "\n",
    "* If there is any collusion, then this will result in a zero grade and will be grounds for dismissal from the entire program for those involved. Please complete this exam by yourself within the time limit.\n",
    "\n",
    "7. For markdown help in iPython Notebooks please see:\n",
    "https://sourceforge.net/p/ipython/discussion/markdown_syntax\n",
    "\n"
   ]
  },
  {
   "cell_type": "markdown",
   "metadata": {},
   "source": [
    "# Exam helper functions:"
   ]
  },
  {
   "cell_type": "markdown",
   "metadata": {},
   "source": [
    "### Questions requiring a SINGLE numeric response"
   ]
  },
  {
   "cell_type": "code",
   "execution_count": 1,
   "metadata": {
    "collapsed": false
   },
   "outputs": [
    {
     "name": "stdout",
     "output_type": "stream",
     "text": [
      "3.14\n"
     ]
    }
   ],
   "source": [
    "import numpy as np\n",
    "# for two decimal places; \n",
    "# change this to the desired precision as needed\n",
    "ans=3.145  #replace with your answer\n",
    "print(\"%.2f\"%np.round(ans, 2))\n",
    "#prints 3.14\n",
    "#if this was your response then paste 3.14 (no spaces before or after; no extra characters; just 4 character: 3, ., 1, 14)"
   ]
  },
  {
   "cell_type": "markdown",
   "metadata": {},
   "source": [
    "### Questions requiring a MULTIPLE numeric responses"
   ]
  },
  {
   "cell_type": "code",
   "execution_count": 2,
   "metadata": {
    "collapsed": false
   },
   "outputs": [
    {
     "name": "stdout",
     "output_type": "stream",
     "text": [
      "1.14,2.44,3.44\n"
     ]
    }
   ],
   "source": [
    "import numpy as np\n",
    "# for two decimal places; \n",
    "# change this to the desired precision as needed\n",
    "ans1=1.145  #replace with your answer\n",
    "ans2=2.44333\n",
    "ans3=3.444443\n",
    "print(\"%.2f,%.2f,%.2f\" %(np.round(ans1, 2), np.round(ans2, 2), np.round(ans3, 2)))\n",
    "#prints 1.14,2.44,3.44\n",
    "#if this was your response then paste this string 1.14,2.44,3.44 (no spaces before or after; no extra characters)"
   ]
  },
  {
   "cell_type": "markdown",
   "metadata": {},
   "source": [
    "### Import libraries, set up spark"
   ]
  },
  {
   "cell_type": "code",
   "execution_count": 3,
   "metadata": {},
   "outputs": [],
   "source": [
    "import numpy as np\n",
    "import re\n",
    "import matplotlib.pyplot as plt\n",
    "%matplotlib inline\n",
    "\n",
    "plt.style.use('ggplot')\n",
    "\n",
    "%reload_ext autoreload\n",
    "%autoreload 2"
   ]
  },
  {
   "cell_type": "code",
   "execution_count": 4,
   "metadata": {},
   "outputs": [],
   "source": [
    "from pyspark.sql import SparkSession\n",
    "app_name = \"Notebook_FINAL\"\n",
    "master = \"local[*]\"\n",
    "spark = SparkSession\\\n",
    "        .builder\\\n",
    "        .appName(app_name)\\\n",
    "        .master(master)\\\n",
    "        .getOrCreate()\n",
    "sc = spark.sparkContext"
   ]
  },
  {
   "cell_type": "code",
   "execution_count": 5,
   "metadata": {},
   "outputs": [
    {
     "data": {
      "text/html": [
       "\n",
       "            <div>\n",
       "                <p><b>SparkSession - in-memory</b></p>\n",
       "                \n",
       "        <div>\n",
       "            <p><b>SparkContext</b></p>\n",
       "\n",
       "            <p><a href=\"http://docker.w261:4040\">Spark UI</a></p>\n",
       "\n",
       "            <dl>\n",
       "              <dt>Version</dt>\n",
       "                <dd><code>v2.3.0</code></dd>\n",
       "              <dt>Master</dt>\n",
       "                <dd><code>local[*]</code></dd>\n",
       "              <dt>AppName</dt>\n",
       "                <dd><code>Notebook_FINAL</code></dd>\n",
       "            </dl>\n",
       "        </div>\n",
       "        \n",
       "            </div>\n",
       "        "
      ],
      "text/plain": [
       "<pyspark.sql.session.SparkSession at 0x7ff23b1b3310>"
      ]
     },
     "execution_count": 5,
     "metadata": {},
     "output_type": "execute_result"
    }
   ],
   "source": [
    "spark"
   ]
  },
  {
   "cell_type": "code",
   "execution_count": 6,
   "metadata": {},
   "outputs": [
    {
     "data": {
      "text/html": [
       "\n",
       "        <div>\n",
       "            <p><b>SparkContext</b></p>\n",
       "\n",
       "            <p><a href=\"http://docker.w261:4040\">Spark UI</a></p>\n",
       "\n",
       "            <dl>\n",
       "              <dt>Version</dt>\n",
       "                <dd><code>v2.3.0</code></dd>\n",
       "              <dt>Master</dt>\n",
       "                <dd><code>local[*]</code></dd>\n",
       "              <dt>AppName</dt>\n",
       "                <dd><code>Notebook_FINAL</code></dd>\n",
       "            </dl>\n",
       "        </div>\n",
       "        "
      ],
      "text/plain": [
       "<SparkContext master=local[*] appName=Notebook_FINAL>"
      ]
     },
     "execution_count": 6,
     "metadata": {},
     "output_type": "execute_result"
    }
   ],
   "source": [
    "sc"
   ]
  },
  {
   "cell_type": "markdown",
   "metadata": {},
   "source": [
    "# Exam questions begins here"
   ]
  },
  {
   "cell_type": "markdown",
   "metadata": {},
   "source": [
    "##  ET:1\n",
    "Calculate the signed normalizaed perpendicular distance from hyperplane $4x + 3y = 2$ to the point $(1, 3)$\n",
    "Please provide a response  within two decimal digits of precision in your notebook the submission form.\n"
   ]
  },
  {
   "cell_type": "code",
   "execution_count": 7,
   "metadata": {
    "collapsed": false
   },
   "outputs": [
    {
     "data": {
      "image/png": "[encoded data removed]",
      "text/plain": [
       "<Figure size 432x288 with 1 Axes>"
      ]
     },
     "metadata": {},
     "output_type": "display_data"
    }
   ],
   "source": [
    "import numpy as np\n",
    "import os\n",
    "\n",
    "import matplotlib.pyplot as plt\n",
    "%matplotlib inline\n",
    "x = np.arange(-2, 5)\n",
    "plt.plot(x, (2. - 4. * x) / 3.)\n",
    "plt.gca().set_aspect('equal', adjustable='box')\n",
    "plt.scatter([1],[3], c=\"r\", s=40)\n",
    "plt.xlim([-2, 4])\n",
    "plt.ylim([-2, 4])\n",
    "plt.grid(1)\n",
    "plt.show()"
   ]
  },
  {
   "cell_type": "code",
   "execution_count": 8,
   "metadata": {},
   "outputs": [
    {
     "name": "stdout",
     "output_type": "stream",
     "text": [
      "2.20\n"
     ]
    }
   ],
   "source": [
    "plane = [4,3,-2]\n",
    "point = [1,3]\n",
    "normal_vector = plane[:-1]\n",
    "normal_vector_magnitude = np.sqrt(np.dot(normal_vector, normal_vector))\n",
    "normal_unit_vector = normal_vector / normal_vector_magnitude\n",
    "\n",
    "#print normal_vector\n",
    "#print normal_vector_magnitude\n",
    "#print normal_unit_vector\n",
    "\n",
    "perpendicular_distance = (np.dot(plane, point + [1]))/ normal_vector_magnitude \n",
    "print(\"%.2f\"%np.round(perpendicular_distance, 2)) \n",
    "\n"
   ]
  },
  {
   "cell_type": "markdown",
   "metadata": {},
   "source": [
    "**Answer: 2.20 **"
   ]
  },
  {
   "cell_type": "markdown",
   "metadata": {},
   "source": [
    "##  ET:2\n",
    "Consider a three-class classification problem with the following separating hyperplanes:\n",
    "\n",
    "$$\n",
    "\\begin{align}\n",
    "4x + 3y - 9 = 0 & & 1^{\\text{st}} \\text{ class}\\\\\n",
    "-4x + 3y - 11 = 0 & & 2^{\\text{nd}} \\text{ class}\\\\\n",
    "-x - 3y - 1 = 0 & & 3^{\\text{rd}} \\text{ class}\n",
    "\\end{align}\n",
    "$$\n",
    "\n",
    "Calculate the score (signed unnormalized perpendicular distance) for each class and the point (0, 1).\n",
    "\n",
    "As a response provide all class scores within two decimal digits precision.   \n",
    "Provide your response in your notebook here and in the submission form.   \n",
    "Use the above provided helper functions to format your answers.   "
   ]
  },
  {
   "cell_type": "code",
   "execution_count": 9,
   "metadata": {
    "collapsed": false
   },
   "outputs": [
    {
     "data": {
      "image/png": "[encoded data removed]",
      "text/plain": [
       "<Figure size 432x288 with 1 Axes>"
      ]
     },
     "metadata": {},
     "output_type": "display_data"
    }
   ],
   "source": [
    "import numpy as np\n",
    "import os\n",
    "import matplotlib.pyplot as plt\n",
    "\n",
    "x = np.arange(-3, 5)\n",
    "plt.plot(x, (9. - 4. * x) / 3., label=\"1st\")\n",
    "plt.plot(x, (11. + 4. * x) / 3., label=\"2nd\")\n",
    "plt.plot(x, (-1. - 1. * x) / 3., label=\"3rd\")\n",
    "plt.gca().set_aspect('equal', adjustable='box')\n",
    "plt.scatter([0], [1], c=\"k\", s=40)\n",
    "plt.xlim([-3, 4])\n",
    "plt.ylim([-3, 4])\n",
    "plt.legend()\n",
    "plt.grid(1)\n",
    "plt.show()"
   ]
  },
  {
   "cell_type": "code",
   "execution_count": 10,
   "metadata": {},
   "outputs": [
    {
     "name": "stdout",
     "output_type": "stream",
     "text": [
      "-1.20\n"
     ]
    }
   ],
   "source": [
    "# 1st Class\n",
    "plane = [4,3,-9]\n",
    "point = [0,1]\n",
    "normal_vector = plane[:-1]\n",
    "normal_vector_magnitude = np.sqrt(np.dot(normal_vector, normal_vector))\n",
    "\n",
    "perpendicular_distance = np.dot(plane, point + [1])/normal_vector_magnitude\n",
    "print(\"%.2f\"%np.round(perpendicular_distance, 2)) "
   ]
  },
  {
   "cell_type": "code",
   "execution_count": 11,
   "metadata": {},
   "outputs": [
    {
     "name": "stdout",
     "output_type": "stream",
     "text": [
      "-1.60\n"
     ]
    }
   ],
   "source": [
    "# 2nd Class\n",
    "plane = [-4,3,-11]\n",
    "point = [0,1]\n",
    "normal_vector = plane[:-1]\n",
    "normal_vector_magnitude = np.sqrt(np.dot(normal_vector, normal_vector))\n",
    "\n",
    "perpendicular_distance = np.dot(plane, point + [1])/normal_vector_magnitude\n",
    "print(\"%.2f\"%np.round(perpendicular_distance, 2)) "
   ]
  },
  {
   "cell_type": "code",
   "execution_count": 12,
   "metadata": {},
   "outputs": [
    {
     "name": "stdout",
     "output_type": "stream",
     "text": [
      "-1.26\n"
     ]
    }
   ],
   "source": [
    "# 3rd Class\n",
    "plane = [-1,-3,-1]\n",
    "point = [0,1]\n",
    "normal_vector = plane[:-1]\n",
    "normal_vector_magnitude = np.sqrt(np.dot(normal_vector, normal_vector))\n",
    "\n",
    "perpendicular_distance = np.dot(plane, point + [1])/normal_vector_magnitude\n",
    "print(\"%.2f\"%np.round(perpendicular_distance, 2)) "
   ]
  },
  {
   "cell_type": "markdown",
   "metadata": {},
   "source": [
    "**Answer**: ** 1st class: -1.20; 2nd class: -1.60; 3rd class: -1.26 ** "
   ]
  },
  {
   "cell_type": "markdown",
   "metadata": {},
   "source": [
    "##  ET:3\n",
    "Take the data from question ET2  above and calculate the class conditional probabilities for the point (0, 1) with respect to each class in this multinomial logistic regression model.\n",
    "\n",
    "\n",
    "As a response provide all class conditional probabilities within **five** decimal digits precision.   \n",
    "Use the helper functions above to format your answer. Make sure to adjust it to produce 5 decimal precision digits."
   ]
  },
  {
   "cell_type": "code",
   "execution_count": 13,
   "metadata": {},
   "outputs": [
    {
     "name": "stdout",
     "output_type": "stream",
     "text": [
      "Conditional probability of class 1: 0.38284\n",
      "Conditional probability of class 2: 0.25662\n",
      "Conditional probability of class 3: 0.36054\n"
     ]
    }
   ],
   "source": [
    "# Scores for (0,1)\n",
    "score_1 = -1.20\n",
    "score_2 = -1.60\n",
    "score_3 = -1.26\n",
    "\n",
    "# Total unormalized scores\n",
    "total = np.exp(score_1) + np.exp(score_2) + np.exp(score_3)\n",
    "\n",
    "print 'Conditional probability of class 1: %.5f' %np.round(np.exp(score_1)/total,5)\n",
    "print 'Conditional probability of class 2: %.5f' %np.round(np.exp(score_2)/total,5)\n",
    "print 'Conditional probability of class 3: %.5f' %np.round(np.exp(score_3)/total,5)"
   ]
  },
  {
   "cell_type": "markdown",
   "metadata": {},
   "source": [
    "**Answer**: **Class 1: 0.38284; Class 2: 0.25662; Class 3: 0.36054 **"
   ]
  },
  {
   "cell_type": "markdown",
   "metadata": {},
   "source": [
    "## ET:4\n",
    "Take the data from question ET3 above and predict the right class using the above multinomial logistic regression model.\n",
    "\n",
    "Select the correct response from the following.\n",
    "\n",
    "\n",
    "(a) Class 1     \n",
    "(b) Class 2     \n",
    "(c) Class 3     \n",
    "(d) all classes are equally likely\n"
   ]
  },
  {
   "cell_type": "markdown",
   "metadata": {},
   "source": [
    "**Answer**: **(a) Class 1 **"
   ]
  },
  {
   "cell_type": "markdown",
   "metadata": {},
   "source": [
    "##  ET:5\n",
    "In the following (and also referring to HW12: http://nbviewer.jupyter.org/urls/dl.dropbox.com/s/1wb2rdqbet54y1h/MIDS-MLS-Project-Criteo-CTR.ipynb) we have hashed the three sample points using numBuckets=4 and numBuckets=100. Complete the  statement below about these hashed features summarized in the following table using each answer once.\n",
    "\n",
    "|Name|Raw Features|4 Buckets|100 Buckets|\n",
    "|--|--|--|--|\n",
    "|sampleOne|[(0, 'mouse'), (1, 'black')]|{2: 1.0, 3: 1.0}|{14: 1.0, 31: 1.0}|\n",
    "|sampleTwo|[(0, 'cat'), (1, 'tabby'), (2, 'mouse')]|{0: 2.0, 2: 1.0}|{40: 1.0, 16: 1.0, 62: 1.0}|\n",
    "|sampleThree|[(0, 'bear'), (1, 'black'), (2, 'salmon')|{0: 1.0, 1: 1.0, 2: 1.0}|{72: 1.0, 5: 1.0, 14: 1.0}|\n",
    "\n",
    "With 4 buckets, sampleTwo and sampleThree both contain index 0 due to __________.\n",
    "\n",
    "(a) A hash collision  \n",
    "(b) Underlying properties of the data  \n",
    "(c) The fact that we use 4 buckets  \n",
    "(d) none of the above\n"
   ]
  },
  {
   "cell_type": "markdown",
   "metadata": {},
   "source": [
    "**Answer**: **(a)**"
   ]
  },
  {
   "cell_type": "markdown",
   "metadata": {},
   "source": [
    "##  ET:6  \n",
    "When applying numerical machine learning approaches (and for non-numerical approaches if required) to big data problems which of the following steps are could be used during modeling and are recommended:\n",
    "\n",
    "Select one:   \n",
    "(a) Convert categorical features to numerical features via one-hot-encoding and store in a dense representation  \n",
    "(b) Transform  categorical features using hashing regardless of how many unique categorical values exist in training and test data  \n",
    "(c) Use matrix factorization to remap your input vectors to latent concepts  \n",
    "(d) none of the above  "
   ]
  },
  {
   "cell_type": "markdown",
   "metadata": {},
   "source": [
    "**Answer**: **(b) is the best answer.** [(a) is true if it is stored in a sparse representation, for (b) \"regardless\" might be too strong depending on number and categories reduced to, (c) does not make sense.]"
   ]
  },
  {
   "cell_type": "markdown",
   "metadata": {},
   "source": [
    "##  ET:7\n",
    "When dealing with numercial data which of the following are ways to deal with missing data:\n",
    "\n",
    "Select one:   \n",
    "(a) Delete records that have missing input values  \n",
    "(b) Standardize the data and set all missing values to 1 (one)  \n",
    "(c) Use K-nearest neighbours based on the test set to fill in missing values in the training set  \n",
    "(d) none of the above"
   ]
  },
  {
   "cell_type": "markdown",
   "metadata": {},
   "source": [
    "**Answer**: **(a)** [Although not the best, (b) may not work since 1 means something, (c) works but we are contaminating test and training data.]"
   ]
  },
  {
   "cell_type": "markdown",
   "metadata": {},
   "source": [
    "##  ET:8\n",
    "In the Criteo project, we're trying to predict what:\n",
    "\n",
    "Select one:   \n",
    "(a) Revenue from click events  \n",
    "(b) Click-through vs not click event  \n",
    "(c) Probability of a purchase  \n",
    "(d) none of the above  "
   ]
  },
  {
   "cell_type": "markdown",
   "metadata": {},
   "source": [
    "**Answer**: **(b)**"
   ]
  },
  {
   "cell_type": "markdown",
   "metadata": {},
   "source": [
    "##  ET:9\n",
    "Which of the following are true about the purpose of a loss function?\n",
    "\n",
    "Select one or more:   \n",
    "(a) It’s a way to penalize a model for incorrect predictions  \n",
    "(b) It precisely defines the optimization problem to be solved for a particular learning model  \n",
    "(c) Loss functions can be used for modeling both classification and regression problems  \n",
    "(d) none of the above"
   ]
  },
  {
   "cell_type": "markdown",
   "metadata": {},
   "source": [
    "**Answer**: **(a), (b), (c) **"
   ]
  },
  {
   "cell_type": "markdown",
   "metadata": {},
   "source": [
    "##  ET:10\n",
    "Many standard machine learning methods can be formulated as a convex optimization problem, i.e. the task of finding a minimizer of a convex function _f_ that depends on a variable vector __w__ (called weights in the code), which has _d_ entries. Formally, we can write this as the optimization problem min<sub>w∈ℝ<sup>d</sup></sub>f(w), where the objective function is of the form  (JGS)\n",
    "\n",
    "\\begin{equation*}\n",
    "minimize   \\left(f(w):= λR(w) + \\sum_{k=1}^n \\left(w;w_i,y_i \\right) \\right) \n",
    "\\end{equation*}\n",
    "\n",
    "Here the vectors x<sub>i</sub>∈ℝ<sup>d</sup> are the training data examples, for 1≤i≤n, and y<sub>i</sub>∈ℝ are their corresponding labels, which we want to predict. We call the method linear if _L(w;x,y)_ can be expressed as a function of _ __w<sup>T</sup>__x _ and y. Several of spark.mllib’s classification and regression algorithms fall into this category.\n",
    "\n",
    "The objective function __f__ has two parts: the regularizer that controls the complexity of the model, and the loss that measures the error of the model on the training data. The loss function _L(w;.)_ is typically a convex function in __w__. The fixed regularization parameter λ≥0λ≥0 (regParam in the code) defines the trade-off between the two goals of minimizing the loss (i.e., training error) and minimizing model complexity (i.e., to avoid overfitting).\n",
    "\n",
    "\n",
    "When implementing Logistic (or linear) Regression with Regularization in Spark which of the following apply when using the above cost functions (mulitple options may apply): \n",
    "\n",
    "(I)   When lambda equals one, it provides the same result as standard logistic/linear regression   \n",
    "(II)  One only needs to modify the standard logistic (linear) regression (i.e., with no regularization term) by adding some code after the map-reduce (loss) gradient steps    \n",
    "(III) When lambda equals zero, it provides the same result as standard logistic (linear) regression \n",
    "(IV)  None of the above\n",
    "\n",
    "Select the most correct from the following:\n",
    "\n",
    "* (a) I, II, III\n",
    "* (b) II, III\n",
    "* (c) III\n",
    "* (d) IV"
   ]
  },
  {
   "cell_type": "markdown",
   "metadata": {},
   "source": [
    "**Answer**: **(b)**"
   ]
  },
  {
   "cell_type": "markdown",
   "metadata": {},
   "source": [
    "##  ET:11\n",
    "In the context of ecommerce you have just deployed a new conversion rate prediction model to production. This model (aka treatment model) will challenge the control nodel (i.e., the current model) in AB Test manner to see if it can be produce better revenue. Here is the data that was taken from this live AB Test. \n",
    "\n",
    "```\n",
    "CONTROL MODEL (our new CTR model)\n",
    "Impression ID   Revenue  \n",
    "1                $0.50\n",
    "2                $0.50\n",
    "3                $3.00\n",
    "......               \n",
    "20000            $3.00\n",
    "20001            $3.00\n",
    "20002            $3.00\n",
    "20003            $3.00\n",
    "......\n",
    "50,001           $3.00\n",
    ".....\n",
    "100,000          $4.00\n",
    "```\n",
    "\n",
    "All other impressions in this 100,000 sample resulted in zero transactions and therefore zero revenue. \n",
    "\n",
    "```\n",
    "TREATMENT MODEL (our new CTR model)\n",
    "Impression ID   Revenue  \n",
    "1                $1.50\n",
    "2                $0.50\n",
    "3                $0.00\n",
    "......\n",
    "50,001           $3.00\n",
    ".....\n",
    "100,000          $4.00\n",
    "```\n",
    "All other impressions in this 100,000 sample resulted in zero transactions and therefore zero revenue. \n",
    "\n",
    "\n",
    "P-values are a common way to determine the statistical significance of a test. The smaller it is, the more confident you can be that the test results are due to something other than random chance.\n",
    "A common p-value of .05 is a 5% significance level. Similarly, a p-value of .01 is a 1% significance level. A p-value of .20 is a 20% significance level. For this problem set the p-value to 0.01\n",
    "\n",
    "\n",
    "Which of the following are true:\n",
    "\n",
    "(a) Based on revenue there is no statistical significant difference between the Control and the Treatment at p-value of 0.05 for a one-sided t-test  \n",
    "(b) Based on transaction rates (tranactions that generated revenue versus not) there is no statistical significant difference between the Control and the Treatment at p-value of 0.05 for a one-sided t-test  \n",
    "(c) AB testing using differences in revenue for this problem is a  useful means of determining if the Treatment conversion rate prediction model is better than the control model.  \n",
    "(d) none of the above"
   ]
  },
  {
   "cell_type": "code",
   "execution_count": 1,
   "metadata": {
    "collapsed": false
   },
   "outputs": [
    {
     "data": {
      "text/plain": [
       "(Ttest_indResult(statistic=1.4142505069117979, pvalue=0.1572899198561911),\n",
       " Ttest_indResult(statistic=1.3867952958906298, pvalue=0.1655057375790788))"
      ]
     },
     "execution_count": 1,
     "metadata": {},
     "output_type": "execute_result"
    }
   ],
   "source": [
    " # Note discrepancy between this code and the exam\n",
    "import numpy as np\n",
    "from scipy.sparse import coo_matrix\n",
    "import scipy.stats\n",
    "\n",
    "control=[.5, .5, 3, 3, 3, 3, 3, 3, 4]\n",
    "control.extend([0]*(100000-len(control)))\n",
    "control=np.asarray(control)\n",
    "\n",
    "treatment=[ 1.5, .5, 0, 0, 0, 0, 0, 3, 4]\n",
    "treatment.extend([0]*(100000-len(treatment)))\n",
    "treatment=np.asarray(treatment)\n",
    "\n",
    "#nb 2-sided test\n",
    "scipy.stats.ttest_ind(control, treatment), scipy.stats.ttest_ind(control.astype(bool), treatment.astype(bool))"
   ]
  },
  {
   "cell_type": "markdown",
   "metadata": {},
   "source": [
    "**Answer**: **(a) ** [Scipy gives us a 2-tailed test so we have to divide it's output by 2. In both cases, The p-value is still greater than 0.05. NOTE: In exame we only have one choice. Here it implies we can have more than one.]"
   ]
  },
  {
   "cell_type": "markdown",
   "metadata": {},
   "source": [
    "##  ET:12\n",
    "Given this graph expressed in the form of an adjacency list,\n",
    "\n",
    "```\n",
    "Node  adjacentNode:weightAssociatedWithEdge\n",
    "N1    N6:10,  N2:2\n",
    "N2    N3:1\n",
    "N3    N4:1\n",
    "N4    N5:1\n",
    "N5    N6:1\n",
    "N6    N7:1\n",
    "N7    N8:1\n",
    "N8    N9:1\n",
    "```\n",
    "\n",
    "Using the parallel breadth-first search algorithm for determining the shortest path from a single source, how many iterations are required to discover the shortest distances to all nodes from Node 1 \n",
    "\n",
    "A 7   \n",
    "B 8    \n",
    "C 13  \n",
    "D None of the above"
   ]
  },
  {
   "cell_type": "markdown",
   "metadata": {},
   "source": [
    "**Answer**: **(b) ** One iteration for each node to node 1 => 9-1 iterations"
   ]
  },
  {
   "cell_type": "markdown",
   "metadata": {},
   "source": [
    "##  ET:13 \n",
    "Many standard machine learning methods can be formulated as a convex optimization problem, i.e. the task of finding a minimizer of a convex function f that depends on a variable vector w (called weights in the code), which has d entries. Formally, we can write this as the optimization problem where the objective function is of the form\n",
    " <img src=\"softSVM.png\"/>\n",
    " \n",
    "$$\n",
    "f(w):= λR(w) + \\frac{1}{n}\\sum_{i=1}^n L\\left(w;w_i,y_i \\right) \n",
    "$$\n",
    " \n",
    " \n",
    "Here the vectors $x_i \\in ℝ_d$ are the training data examples, for $1≤i≤n$, and $y_i \\in ℝ$ are their corresponding labels, which we want to predict.    \n",
    "\n",
    "We call the method linear if $L(w;x,y)$ can be expressed as a function of $wTx$ and $y$. (where $wT$ denotes the transpose of the weight vector or matrix w )   \n",
    "\n",
    "By default, linear SVMs are trained with an L2 regularization with a hinge loss that is defined as follows:  $max\\{0,1−ywTx\\},y \\in \\{−1,+1\\}$\n",
    "\n",
    "Given the a softSVM as defined above select the most correct combination of statements from the following:   \n",
    "\n",
    "(I) When λ is super small (e.g., 0.000001), then the above Langrangian will yield a Hard SVM approximately   \n",
    "(II) In the context of support vector machines, linear kernels can be readily parallelized in map reduce frameworks such as Spark   \n",
    "(III) Sequential learning via algorithms such as perceptron can take advantage of map-reduce frameworks and yield   exactly the same results as a single core implementation with significant reductions in training time   \n",
    "(IV) When λ is 1.0, then the above Langrangian will yield a Soft SVM    \n",
    "\n",
    "Select one:\n",
    "\n",
    "(a) I, II, III   \n",
    "(b) I, III, IV   \n",
    "(c) I, II, IV   \n",
    "(d) none of the above statements are correct   "
   ]
  },
  {
   "cell_type": "markdown",
   "metadata": {},
   "source": [
    "**Answer**: **(d)** [lambda above and C (defining the \"soft\" vs \"hard\" are not the same. lamba emphasizes or de-emphasizes the regularization parameter. C is about the margin around the support vector.]"
   ]
  },
  {
   "cell_type": "markdown",
   "metadata": {},
   "source": [
    "##  ET:14 \n",
    "Given the following paired RDDs \n",
    "RDD1 = {(1, 2), (3, 4), (3, 6)}\n",
    "RDD2 = {(3, 9) (3, 6)}\n",
    "\n",
    "Using PySpark, write code to perform an inner join of these paired RDDs. What is the resulting RDD? Make your Spark available in your notebook:\n",
    "\n",
    "A: [(3, (4, 9)), (3, (6, 9))]  \n",
    "B: [(3, (4, 9)), (3, (4, 6)), (3, (6, 9)), (3, (6, 6))]  \n",
    "C: [(3, (4, 9)), (3, (4, 6)), (3, (6, 9)), (3, (6, 9))]  \n",
    "D: None of the above"
   ]
  },
  {
   "cell_type": "code",
   "execution_count": 15,
   "metadata": {},
   "outputs": [
    {
     "name": "stdout",
     "output_type": "stream",
     "text": [
      "[(3, (4, 9)), (3, (4, 6)), (3, (6, 9)), (3, (6, 6))]\n"
     ]
    }
   ],
   "source": [
    "RDD1 = sc.parallelize([(1, 2), (3, 4), (3, 6)])\n",
    "RDD2 = sc.parallelize([(3, 9), (3, 6)])\n",
    "print RDD1.join(RDD2).collect()"
   ]
  },
  {
   "cell_type": "markdown",
   "metadata": {},
   "source": [
    "**Answer**: **(b)** [See above]"
   ]
  },
  {
   "cell_type": "markdown",
   "metadata": {},
   "source": [
    "##  ET:15  \n",
    "You have been tasked to build a predictive model to forecast beer sales for a chain of stores.\n",
    "After doing basic exploratory analysis on the data, what is the first thing you do regarding modeling?\n",
    "\n",
    "Select one:   \n",
    "(a) Construct a baseline model  \n",
    "(b) Determine a metric to evaluate your machine learnt models  \n",
    "(c) Split your data into training, validation and test subsets (or split using cross fold validatation)  \n",
    "(d) All of the  of the above"
   ]
  },
  {
   "cell_type": "markdown",
   "metadata": {},
   "source": [
    "**Answer**: **(c) ** [Although depending on interpretation, (d) is possible as all 3 are early steps.]"
   ]
  },
  {
   "cell_type": "markdown",
   "metadata": {},
   "source": [
    "##  ET:16 \n",
    "Use Spark and the following notebook to answer this question:\n",
    "\n",
    "* http://nbviewer.jupyter.org/urls/dl.dropbox.com/s/6s5ph41h74bggwi/Linear-Regression-on-Beer-Data.ipynb\n",
    "* https://www.dropbox.com/s/6s5ph41h74bggwi/Linear-Regression-on-Beer-Data.ipynb?dl=0 \n",
    "\n",
    "The mean absolute percentage error (MAPE), also known as mean absolute percentage deviation (MAPD), is a measure of prediction accuracy of a model for say a forecasting method in statistics, \n",
    "for example in trend estimation. It usually expresses accuracy as a percentage, and is defined by the formula:\n",
    "\n",
    "MAPE = average over all examples (100*Abs(Actual - Predicted) / Actual)) \n",
    "\n",
    "Note when Actual is zero that test row is dropped from the evaluation.\n",
    "\n",
    "Construct a mean model for target variable `CASES18PK`. Calculate the MAPE for the mean model over the training set. Select the closest answer.\n",
    "\n",
    "Select one:   \n",
    "(a) 200%  \n",
    "(b) 250%  \n",
    "(c) 20%  \n",
    "(d) 180%"
   ]
  },
  {
   "cell_type": "code",
   "execution_count": 16,
   "metadata": {},
   "outputs": [
    {
     "name": "stdout",
     "output_type": "stream",
     "text": [
      "200.44422333\n"
     ]
    }
   ],
   "source": [
    "# Load data\n",
    "rawSales = sc.textFile('beerSales.txt', use_unicode=False)\n",
    "\n",
    "# Select sales18PK\n",
    "sales = (rawSales\n",
    "         .map(lambda x: x.split('\\t'))\n",
    "         .filter(lambda x: x[0] != 'Week')\n",
    "         .map(lambda x: float(x[5]))\n",
    "        )\n",
    "\n",
    "sales18Pk = sales.collect()\n",
    "\n",
    "# Mean model is just mean of cases18pk sales\n",
    "meanModel = sum(sales18Pk)/len(sales18Pk)\n",
    "mm = sc.broadcast(meanModel)\n",
    "\n",
    "mape = (sales\n",
    "        .map(lambda x: 100*abs(x - mm.value) / x)\n",
    "       )\n",
    "\n",
    "print mape.sum() / mape.count()"
   ]
  },
  {
   "cell_type": "markdown",
   "metadata": {},
   "source": [
    "**Answer**: **(a)** [See above]"
   ]
  },
  {
   "cell_type": "markdown",
   "metadata": {},
   "source": [
    "##  ET:17\n",
    "Use Spark and the following notebook to answer this question:\n",
    "\n",
    "* http://nbviewer.jupyter.org/urls/dl.dropbox.com/s/6s5ph41h74bggwi/Linear-Regression-on-Beer-Data.ipynb\n",
    "* https://www.dropbox.com/s/6s5ph41h74bggwi/Linear-Regression-on-Beer-Data.ipynb?dl=0 \n",
    "\n",
    "The target variable `CASES18P`K is skewed, so take the log of it (and make it more normally distributed) and compute the MAPE of the mean model for `CASES18PK`. Select the closest answer to your calculated MAPE.\n",
    "\n",
    "(a) 200%  \n",
    "(b) 30%  \n",
    "(c) 20%  \n",
    "(d) 10%"
   ]
  },
  {
   "cell_type": "code",
   "execution_count": 17,
   "metadata": {},
   "outputs": [
    {
     "name": "stdout",
     "output_type": "stream",
     "text": [
      "[6.0844994130751715, 4.584967478670572, 4.248495242049359, 3.9512437185814275, 4.1588830833596715]\n"
     ]
    }
   ],
   "source": [
    "from math import log\n",
    "\n",
    "# Convert to log\n",
    "logSales = (sales\n",
    "            .map(lambda x: log(x))\n",
    "           )\n",
    "print logSales.take(5)"
   ]
  },
  {
   "cell_type": "code",
   "execution_count": 18,
   "metadata": {},
   "outputs": [
    {
     "name": "stdout",
     "output_type": "stream",
     "text": [
      "19.5849342896\n"
     ]
    }
   ],
   "source": [
    "# Log data\n",
    "logSales18Pk = logSales.collect()\n",
    "meanModelLog = sum(logSales18Pk)/len(logSales18Pk)\n",
    "mml = sc.broadcast(meanModelLog)\n",
    "\n",
    "# Calculate mape\n",
    "mapeLog = (logSales\n",
    "           .map(lambda x: 100*abs(x - mml.value) / x)\n",
    "          )\n",
    "\n",
    "print mapeLog.sum() / mapeLog.count()"
   ]
  },
  {
   "cell_type": "markdown",
   "metadata": {},
   "source": [
    "**Answer**: **(c)** [See above]"
   ]
  },
  {
   "cell_type": "markdown",
   "metadata": {},
   "source": [
    "##  ET:18\n",
    "Use Spark and the following notebook to answer this question:\n",
    "\n",
    "* http://nbviewer.jupyter.org/urls/dl.dropbox.com/s/6s5ph41h74bggwi/Linear-Regression-on-Beer-Data.ipynb\n",
    "* https://www.dropbox.com/s/6s5ph41h74bggwi/Linear-Regression-on-Beer-Data.ipynb?dl=0 \n",
    "\n",
    "\n",
    "Build a linear regression model using the following variables:\n",
    "\n",
    "Log(CASES18PK)  ~  log(PRICE12PK), \tlog(PRICE18PK),\tlog(PRICE30PK)\n",
    "\n",
    "Please train the model on the full data and calculate  the MAPE over the same dataset and select a response from the following options that is closest this MAPE\". \n",
    "\n",
    "Select one:   \n",
    "(a) 4.3%  \n",
    "(b) 4.6%  \n",
    "(c) 3.5%  \n",
    "(d) 3.9%"
   ]
  },
  {
   "cell_type": "code",
   "execution_count": 19,
   "metadata": {},
   "outputs": [
    {
     "name": "stdout",
     "output_type": "stream",
     "text": [
      "Mean Squared Error = 1.6577766584023382e+93\n",
      "8.482926161125784e+47\n",
      "(weights=[-4.863280432596992e+45,-4.639704353376874e+45,-4.401262424915796e+45], intercept=-1.6521026830999922e+45)\n"
     ]
    }
   ],
   "source": [
    "# Not sure why mlib regression with SGD is unstable so implemented with scikit learn (MSE is large, \n",
    "# very sensitve to step size)\n",
    "from pyspark.mllib.regression import LabeledPoint, LinearRegressionWithSGD, LinearRegressionModel\n",
    "from math import log\n",
    "\n",
    "data = sc.textFile('beerSales.txt')\n",
    "\n",
    "# Load and parse the data\n",
    "def parsePoint(line):\n",
    "    values = [x for x in line.split('\\t')]\n",
    "    if values[0] != 'Week':\n",
    "        return LabeledPoint(log(float(values[5])), [log(float(values[1])), log(float(values[2])), log(float(values[3]))])\n",
    "\n",
    "parsedData = data.map(parsePoint).filter(lambda x: x != None)\n",
    "\n",
    "# Train the model\n",
    "model = LinearRegressionWithSGD.train(parsedData, intercept=True)\n",
    "\n",
    "# Fit model \n",
    "valuesAndPreds = parsedData.map(lambda p: (p.label, model.predict(p.features)))\n",
    "\n",
    "# Evaluate model\n",
    "MSE = valuesAndPreds \\\n",
    "    .map(lambda (v, p): (v - p)**2) \\\n",
    "    .reduce(lambda x, y: x + y) / valuesAndPreds.count()\n",
    "print(\"Mean Squared Error = \" + str(MSE))\n",
    "\n",
    "# Calculate MAPE \n",
    "MAPE18 = valuesAndPreds \\\n",
    "    .map(lambda (v,p): 100*abs(v - p)/v) \\\n",
    "    .reduce(lambda x, y: x + y) / valuesAndPreds.count()\n",
    "    \n",
    "print MAPE18\n",
    "print model\n"
   ]
  },
  {
   "cell_type": "markdown",
   "metadata": {},
   "source": [
    "With scikit learn"
   ]
  },
  {
   "cell_type": "code",
   "execution_count": 20,
   "metadata": {},
   "outputs": [
    {
     "name": "stdout",
     "output_type": "stream",
     "text": [
      "('Coefficients: \\n', array([ 2.01637714, -6.33092326,  2.47016635]))\n",
      "Mean squared error: 0.07\n",
      "Variance score: 0.93\n",
      "MAPE: 4.22\n"
     ]
    }
   ],
   "source": [
    "import numpy as np\n",
    "import pandas as pd\n",
    "from sklearn import linear_model\n",
    "from sklearn.metrics import mean_squared_error, r2_score, mean_absolute_error\n",
    "\n",
    "data = pd.read_table('beerSales.txt')\n",
    "y = np.log(data['CASES18PK'])\n",
    "\n",
    "columns = ['PRICE12PK', 'PRICE18PK', 'PRICE30PK']\n",
    "X = pd.DataFrame(data, columns=columns)\n",
    "X = np.log(X)\n",
    "\n",
    "model = linear_model.LinearRegression(fit_intercept=True)\n",
    "model.fit(X,y)\n",
    "modelpred = model.predict(X)\n",
    "print('Coefficients: \\n', model.coef_)\n",
    "# The mean squared error\n",
    "print('Mean squared error: %.2f'\n",
    "      % mean_squared_error(y, modelpred))\n",
    "# Explained variance score: 1 is perfect prediction\n",
    "print('Variance score: %.2f' % r2_score(y, modelpred))\n",
    "\n",
    "MAPE = sum(100*abs(y - modelpred)/y)/len(y)\n",
    "# MAPE\n",
    "print ('MAPE: %.2f' % MAPE )"
   ]
  },
  {
   "cell_type": "markdown",
   "metadata": {},
   "source": [
    "**Answer**: **(a)**"
   ]
  },
  {
   "cell_type": "markdown",
   "metadata": {},
   "source": [
    "## ET:19\n",
    "Recall that Spark automatically sends all variables referenced in your closures to the\n",
    "worker nodes. While this is convenient, it can also be inefficient because (1) the\n",
    "default task launching mechanism is optimized for small task sizes, and (2) you\n",
    "might, in fact, use the same variable in multiple parallel operations, but Spark will\n",
    "send it separately for each operation. As an example, say that we wanted to write a\n",
    "Spark program that looks up countries by their call signs (e.g., the call sign for Ireland is EJZ) by prefix matching in an\n",
    "table. In the following the \"signPrefixes\" variable is essentially a table with two columns \"Sign\" and \"Country Name\". The goal is \n",
    "to join the following tables:\n",
    "\n",
    "`signPrefixes` table with columns \"Sign\" and \"Country Name\"  \n",
    "`contactCounts` table with columns \"Sign\" and \"count\"\n",
    "\n",
    "to yield  a new table:\n",
    "\n",
    "`countryContactCounts` with the following columns \"Country Name\" and \"count\"\n",
    "\n",
    "Use Spark and the following notebook to answer this question:\n",
    "\n",
    "* http://nbviewer.jupyter.org/urls/dl.dropbox.com/s/6s5ph41h74bggwi/Linear-Regression-on-Beer-Data.ipynb\n",
    "* https://www.dropbox.com/s/6s5ph41h74bggwi/Linear-Regression-on-Beer-Data.ipynb?dl=0 \n"
   ]
  },
  {
   "cell_type": "markdown",
   "metadata": {},
   "source": [
    "How can we modfify this code to make it more efficient? Choose one response only\n",
    "\n",
    "(a) modify line 18 with `sc.broadcast(loadCallSignTable())`\n",
    "(b) Use accumulators to store the counts for each country  \n",
    "(c) The code is already optimal  \n",
    "(d) none of the above"
   ]
  },
  {
   "cell_type": "markdown",
   "metadata": {},
   "source": [
    "**Answer**:  **(a)**       "
   ]
  },
  {
   "cell_type": "code",
   "execution_count": null,
   "metadata": {
    "collapsed": true
   },
   "outputs": [],
   "source": []
  }
 ],
 "metadata": {
  "anaconda-cloud": {},
  "kernelspec": {
   "display_name": "Python 2",
   "language": "python",
   "name": "python2"
  },
  "language_info": {
   "codemirror_mode": {
    "name": "ipython",
    "version": 2
   },
   "file_extension": ".py",
   "mimetype": "text/x-python",
   "name": "python",
   "nbconvert_exporter": "python",
   "pygments_lexer": "ipython2",
   "version": "2.7.14"
  },
  "toc": {
   "colors": {
    "hover_highlight": "#DAA520",
    "running_highlight": "#FF0000",
    "selected_highlight": "#FFD700"
   },
   "moveMenuLeft": true,
   "nav_menu": {
    "height": "454px",
    "width": "252px"
   },
   "navigate_menu": true,
   "number_sections": true,
   "sideBar": true,
   "threshold": 4,
   "toc_cell": false,
   "toc_section_display": "block",
   "toc_window_display": false
  }
 },
 "nbformat": 4,
 "nbformat_minor": 2
}
