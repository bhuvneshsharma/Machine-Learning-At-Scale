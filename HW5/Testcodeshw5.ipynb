{
 "cells": [
  {
   "cell_type": "code",
   "execution_count": 22,
   "metadata": {},
   "outputs": [
    {
     "name": "stdout",
     "output_type": "stream",
     "text": [
      "{'CA': 'Canada', 'UK': 'United Kingdom', 'US': 'United States', 'IT': 'Italy'}\n"
     ]
    }
   ],
   "source": [
    "import os, sys\n",
    "\n",
    "transactions = {}\n",
    "with open('/media/notebooks/SP18-1-maynard242/HW5/Countries.dat', 'r') as f:\n",
    "    for line in f:\n",
    "        tokens = line.strip().split('|')\n",
    "        transactions[tokens[1]] = tokens[0]\n",
    "\n",
    "print transactions"
   ]
  },
  {
   "cell_type": "code",
   "execution_count": 23,
   "metadata": {},
   "outputs": [
    {
     "data": {
      "text/plain": [
       "dict"
      ]
     },
     "execution_count": 23,
     "metadata": {},
     "output_type": "execute_result"
    }
   ],
   "source": [
    "type(transactions)"
   ]
  },
  {
   "cell_type": "code",
   "execution_count": 24,
   "metadata": {},
   "outputs": [],
   "source": [
    "x = transactions.keys()"
   ]
  },
  {
   "cell_type": "code",
   "execution_count": 25,
   "metadata": {},
   "outputs": [
    {
     "name": "stdout",
     "output_type": "stream",
     "text": [
      "CA\n",
      "UK\n",
      "US\n",
      "IT\n"
     ]
    }
   ],
   "source": [
    "for countries in transactions.keys():\n",
    "    print countries"
   ]
  },
  {
   "cell_type": "code",
   "execution_count": 26,
   "metadata": {},
   "outputs": [],
   "source": [
    "y = ['US', 'CA', 'CA', 'UK', 'US', 'CA', 'CA', 'UK']\n"
   ]
  },
  {
   "cell_type": "code",
   "execution_count": 28,
   "metadata": {},
   "outputs": [
    {
     "name": "stdout",
     "output_type": "stream",
     "text": [
      "['CA', 'UK', 'US', 'IT'] ['US', 'CA', 'CA', 'UK', 'US', 'CA', 'CA', 'UK']\n"
     ]
    }
   ],
   "source": [
    "print x,y"
   ]
  },
  {
   "cell_type": "code",
   "execution_count": 32,
   "metadata": {},
   "outputs": [],
   "source": [
    "z = set(x) - set(y)"
   ]
  },
  {
   "cell_type": "code",
   "execution_count": 34,
   "metadata": {},
   "outputs": [
    {
     "data": {
      "text/plain": [
       "set"
      ]
     },
     "execution_count": 34,
     "metadata": {},
     "output_type": "execute_result"
    }
   ],
   "source": [
    "type(z)"
   ]
  },
  {
   "cell_type": "code",
   "execution_count": 43,
   "metadata": {},
   "outputs": [
    {
     "name": "stdout",
     "output_type": "stream",
     "text": [
      "CA\n",
      "US\n",
      "UK\n",
      "IT\n"
     ]
    }
   ],
   "source": [
    "for i in set(x):print i"
   ]
  },
  {
   "cell_type": "code",
   "execution_count": 1,
   "metadata": {},
   "outputs": [],
   "source": [
    "x=\"NULL|NULL|Italy\""
   ]
  },
  {
   "cell_type": "code",
   "execution_count": 3,
   "metadata": {},
   "outputs": [
    {
     "data": {
      "text/plain": [
       "True"
      ]
     },
     "execution_count": 3,
     "metadata": {},
     "output_type": "execute_result"
    }
   ],
   "source": [
    "x.startswith('NULL')"
   ]
  },
  {
   "cell_type": "code",
   "execution_count": 105,
   "metadata": {},
   "outputs": [],
   "source": [
    "x = {u'atlas': {u'boon': u'50'}, u'boon': {u'atlas': u'50'}}\n",
    "y = {u'dipped': {u'boon': u'10', u'cava': u'10'}, u'boon': {u'dipped': u'10', u'cava': u'10'}, u'cava': {u'dipped': u'10', u'boon': u'10'}}"
   ]
  },
  {
   "cell_type": "code",
   "execution_count": 106,
   "metadata": {},
   "outputs": [
    {
     "name": "stdout",
     "output_type": "stream",
     "text": [
      "{u'atlas': {u'boon': u'50'}, u'boon': {u'atlas': u'50'}}\n",
      "{u'dipped': {u'boon': u'10', u'cava': u'10'}, u'boon': {u'dipped': u'10', u'cava': u'10'}, u'cava': {u'dipped': u'10', u'boon': u'10'}}\n"
     ]
    }
   ],
   "source": [
    "print x\n",
    "print y"
   ]
  },
  {
   "cell_type": "code",
   "execution_count": 123,
   "metadata": {},
   "outputs": [
    {
     "name": "stdout",
     "output_type": "stream",
     "text": [
      "[u'atlas', u'boon']\n",
      "[u'dipped', u'boon', u'cava']\n",
      "[(u'atlas', {u'boon': u'50'}), (u'boon', {u'atlas': u'50'})]\n",
      "[(u'dipped', u'10'), (u'cava', u'10')]\n",
      "[(u'dipped', u'10'), (u'cava', u'10'), (u'boon', u'50')]\n",
      "{u'dipped': u'10', u'boon': u'50', u'cava': u'10'}\n"
     ]
    }
   ],
   "source": [
    "print x.keys()\n",
    "print y.keys()\n",
    "print x.items()\n",
    "print y['boon'].items()\n",
    "z = y['boon'].items()\n",
    "z = z + x['atlas'].items()\n",
    "print z\n",
    "print dict(z)"
   ]
  },
  {
   "cell_type": "code",
   "execution_count": 96,
   "metadata": {},
   "outputs": [],
   "source": [
    "!x = {'a':1, 'b':1}\n",
    "!y = {'c':2, 'a':4}"
   ]
  },
  {
   "cell_type": "code",
   "execution_count": 114,
   "metadata": {},
   "outputs": [
    {
     "name": "stdout",
     "output_type": "stream",
     "text": [
      "[(u'atlas', {u'boon': u'50'}), (u'boon', {u'atlas': u'50'})]\n",
      "[(u'atlas', {u'boon': u'50'}), (u'boon', {u'atlas': u'50'}), (u'dipped', {u'boon': u'10', u'cava': u'10'}), (u'boon', {u'dipped': u'10', u'cava': u'10'}), (u'cava', {u'dipped': u'10', u'boon': u'10'})]\n",
      "{u'atlas': {u'boon': u'50'}, u'dipped': {u'boon': u'10', u'cava': u'10'}, u'boon': {u'dipped': u'10', u'cava': u'10'}, u'cava': {u'dipped': u'10', u'boon': u'10'}}\n"
     ]
    }
   ],
   "source": [
    "z = x.items()\n",
    "print z\n",
    "z.extend(y.items())\n",
    "print z\n",
    "print dict(z)"
   ]
  },
  {
   "cell_type": "code",
   "execution_count": 104,
   "metadata": {},
   "outputs": [
    {
     "name": "stdout",
     "output_type": "stream",
     "text": [
      "a 1\n",
      "b 1\n",
      "a 4\n",
      "c 2\n"
     ]
    }
   ],
   "source": [
    "for i in z:\n",
    "    print i[0], i[1] \n",
    "    "
   ]
  },
  {
   "cell_type": "code",
   "execution_count": 22,
   "metadata": {},
   "outputs": [
    {
     "data": {
      "text/plain": [
       "2.0"
      ]
     },
     "execution_count": 22,
     "metadata": {},
     "output_type": "execute_result"
    }
   ],
   "source": [
    "import numpy as np\n",
    "\n",
    "x = [1,2,3]\n",
    "np.mean(x)"
   ]
  },
  {
   "cell_type": "code",
   "execution_count": null,
   "metadata": {},
   "outputs": [],
   "source": []
  }
 ],
 "metadata": {
  "kernelspec": {
   "display_name": "Python 2",
   "language": "python",
   "name": "python2"
  },
  "language_info": {
   "codemirror_mode": {
    "name": "ipython",
    "version": 2
   },
   "file_extension": ".py",
   "mimetype": "text/x-python",
   "name": "python",
   "nbconvert_exporter": "python",
   "pygments_lexer": "ipython2",
   "version": "2.7.14"
  }
 },
 "nbformat": 4,
 "nbformat_minor": 2
}
