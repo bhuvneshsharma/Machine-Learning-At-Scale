{
 "cells": [
  {
   "cell_type": "markdown",
   "metadata": {
    "toc": "true"
   },
   "source": [
    "# Table of Contents\n",
    " <p><div class=\"lev1 toc-item\"><a href=\"#MIDS-w261-Machine-Learning-at-Scale\" data-toc-modified-id=\"MIDS-w261-Machine-Learning-at-Scale-1\"><span class=\"toc-item-num\">1&nbsp;&nbsp;</span>MIDS w261 Machine Learning at Scale</a></div><div class=\"lev2 toc-item\"><a href=\"#MidTerm-Exam\" data-toc-modified-id=\"MidTerm-Exam-11\"><span class=\"toc-item-num\">1.1&nbsp;&nbsp;</span>MidTerm Exam</a></div><div class=\"lev3 toc-item\"><a href=\"#Please-insert-your-contact-information-here\" data-toc-modified-id=\"Please-insert-your-contact-information-here-111\"><span class=\"toc-item-num\">1.1.1&nbsp;&nbsp;</span>Please insert your contact information here</a></div><div class=\"lev1 toc-item\"><a href=\"#Exam-Instructions\" data-toc-modified-id=\"Exam-Instructions-2\"><span class=\"toc-item-num\">2&nbsp;&nbsp;</span>Exam Instructions</a></div><div class=\"lev1 toc-item\"><a href=\"#Exam-questions-begins-here\" data-toc-modified-id=\"Exam-questions-begins-here-3\"><span class=\"toc-item-num\">3&nbsp;&nbsp;</span>Exam questions begins here</a></div><div class=\"lev3 toc-item\"><a href=\"#MT1.-Which-of-the-following-statememts-about-map-reduce-are-true?\" data-toc-modified-id=\"MT1.-Which-of-the-following-statememts-about-map-reduce-are-true?-301\"><span class=\"toc-item-num\">3.0.1&nbsp;&nbsp;</span>MT1. Which of the following statememts about map-reduce are true?</a></div><div class=\"lev3 toc-item\"><a href=\"#MT2.-normalized-product-co-occurrence\" data-toc-modified-id=\"MT2.-normalized-product-co-occurrence-302\"><span class=\"toc-item-num\">3.0.2&nbsp;&nbsp;</span>MT2. normalized product co-occurrence</a></div><div class=\"lev3 toc-item\"><a href=\"#MT3.-What-is-the-input-to-the-Reduce-function-in-MRJob?-Select-the-most-correct-choice.\" data-toc-modified-id=\"MT3.-What-is-the-input-to-the-Reduce-function-in-MRJob?-Select-the-most-correct-choice.-303\"><span class=\"toc-item-num\">3.0.3&nbsp;&nbsp;</span>MT3. What is the input to the Reduce function in MRJob? Select the most correct choice.</a></div><div class=\"lev3 toc-item\"><a href=\"#MT4.-When-building-a-Bayesian-document-classifier,-Laplace-smoothing-serves-what-purpose?\" data-toc-modified-id=\"MT4.-When-building-a-Bayesian-document-classifier,-Laplace-smoothing-serves-what-purpose?-304\"><span class=\"toc-item-num\">3.0.4&nbsp;&nbsp;</span>MT4. When building a Bayesian document classifier, Laplace smoothing serves what purpose?</a></div><div class=\"lev3 toc-item\"><a href=\"#MT5.-Combiners-can-be-integral-to-the-successful-utilization-of-the-Hadoop-shuffle.\" data-toc-modified-id=\"MT5.-Combiners-can-be-integral-to-the-successful-utilization-of-the-Hadoop-shuffle.-305\"><span class=\"toc-item-num\">3.0.5&nbsp;&nbsp;</span>MT5. Combiners can be integral to the successful utilization of the Hadoop shuffle.</a></div><div class=\"lev1 toc-item\"><a href=\"#Direct-the-student-to-write-their-code-in-the-notebook.-Questions-6-and-7-are-related-to-the-description-and-instructions-below\" data-toc-modified-id=\"Direct-the-student-to-write-their-code-in-the-notebook.-Questions-6-and-7-are-related-to-the-description-and-instructions-below-4\"><span class=\"toc-item-num\">4&nbsp;&nbsp;</span>Direct the student to write their code in the notebook. Questions 6 and 7 are related to the description and instructions below</a></div><div class=\"lev4 toc-item\"><a href=\"#Pairwise-similarity-using-K-L-divergence\" data-toc-modified-id=\"Pairwise-similarity-using-K-L-divergence-4001\"><span class=\"toc-item-num\">4.0.0.1&nbsp;&nbsp;</span>Pairwise similarity using K-L divergence</a></div><div class=\"lev4 toc-item\"><a href=\"#Using-the-MRJob-Class-below--calculate-the--KL-divergence-of-the-following-two-string-objects.\" data-toc-modified-id=\"Using-the-MRJob-Class-below--calculate-the--KL-divergence-of-the-following-two-string-objects.-4002\"><span class=\"toc-item-num\">4.0.0.2&nbsp;&nbsp;</span>Using the MRJob Class below  calculate the  KL divergence of the following two string objects.</a></div><div class=\"lev4 toc-item\"><a href=\"#MRjob-class-for-calculating-pairwise-similarity-using-K-L-Divergence-as-the-similarity-measure\" data-toc-modified-id=\"MRjob-class-for-calculating-pairwise-similarity-using-K-L-Divergence-as-the-similarity-measure-4003\"><span class=\"toc-item-num\">4.0.0.3&nbsp;&nbsp;</span>MRjob class for calculating pairwise similarity using K-L Divergence as the similarity measure</a></div><div class=\"lev3 toc-item\"><a href=\"#MT6.-Which-number-below-is-the-closest-to-the-result-you-get-for-KLD(Line1||line2)?\" data-toc-modified-id=\"MT6.-Which-number-below-is-the-closest-to-the-result-you-get-for-KLD(Line1||line2)?-401\"><span class=\"toc-item-num\">4.0.1&nbsp;&nbsp;</span>MT6. Which number below is the closest to the result you get for KLD(Line1||line2)?</a></div><div class=\"lev3 toc-item\"><a href=\"#MT7.-The-KL-divergence-on-multinomials-is-defined-only-when-they-have-nonzero-entries.\" data-toc-modified-id=\"MT7.-The-KL-divergence-on-multinomials-is-defined-only-when-they-have-nonzero-entries.-402\"><span class=\"toc-item-num\">4.0.2&nbsp;&nbsp;</span>MT7. The KL divergence on multinomials is defined only when they have nonzero entries.</a></div><div class=\"lev3 toc-item\"><a href=\"#MT8.-Block-size,-and-mapper-tasks\" data-toc-modified-id=\"MT8.-Block-size,-and-mapper-tasks-403\"><span class=\"toc-item-num\">4.0.3&nbsp;&nbsp;</span>MT8. Block size, and mapper tasks</a></div><div class=\"lev3 toc-item\"><a href=\"#MT9.-Aggregation\" data-toc-modified-id=\"MT9.-Aggregation-404\"><span class=\"toc-item-num\">4.0.4&nbsp;&nbsp;</span>MT9. Aggregation</a></div><div class=\"lev3 toc-item\"><a href=\"#MT10.-Naive-Bayes\" data-toc-modified-id=\"MT10.-Naive-Bayes-405\"><span class=\"toc-item-num\">4.0.5&nbsp;&nbsp;</span>MT10. Naive Bayes</a></div><div class=\"lev1 toc-item\"><a href=\"#Direct-the-student-to-write-their-code-in-the-notebook.-Question-11-is-related-to-the-description-and-instructions-below\" data-toc-modified-id=\"Direct-the-student-to-write-their-code-in-the-notebook.-Question-11-is-related-to-the-description-and-instructions-below-5\"><span class=\"toc-item-num\">5&nbsp;&nbsp;</span>Direct the student to write their code in the notebook. Question 11 is related to the description and instructions below</a></div><div class=\"lev3 toc-item\"><a href=\"#MT11.-Naive-Bayes-SPAM-model\" data-toc-modified-id=\"MT11.-Naive-Bayes-SPAM-model-501\"><span class=\"toc-item-num\">5.0.1&nbsp;&nbsp;</span>MT11. Naive Bayes SPAM model</a></div><div class=\"lev3 toc-item\"><a href=\"#MT12.-To-enable-an-efficient-stateless-mapreduce-job-in-Hadoop-to-accomplish-a-total-sort-which-combination-of-the-following-are-required:\" data-toc-modified-id=\"MT12.-To-enable-an-efficient-stateless-mapreduce-job-in-Hadoop-to-accomplish-a-total-sort-which-combination-of-the-following-are-required:-502\"><span class=\"toc-item-num\">5.0.2&nbsp;&nbsp;</span>MT12. To enable an efficient stateless mapreduce job in Hadoop to accomplish a total sort which combination of the following are required:</a></div><div class=\"lev3 toc-item\"><a href=\"#MT13.-What-happens-if-mapper-output-does-not-match-reducer-input?\" data-toc-modified-id=\"MT13.-What-happens-if-mapper-output-does-not-match-reducer-input?-503\"><span class=\"toc-item-num\">5.0.3&nbsp;&nbsp;</span>MT13. What happens if mapper output does not match reducer input?</a></div><div class=\"lev3 toc-item\"><a href=\"#MT14.-Why-would-a-developer-create-a-map-reduce-without-the-reduce-step?\" data-toc-modified-id=\"MT14.-Why-would-a-developer-create-a-map-reduce-without-the-reduce-step?-504\"><span class=\"toc-item-num\">5.0.4&nbsp;&nbsp;</span>MT14. Why would a developer create a map-reduce without the reduce step?</a></div><div class=\"lev3 toc-item\"><a href=\"#MT15.-Which-of-the-following-are-true-statements-with-respect-to-gradient-descent-for-machine-learning,-where-alpha-is-the-learning-rate.-Select-all-that-apply\" data-toc-modified-id=\"MT15.-Which-of-the-following-are-true-statements-with-respect-to-gradient-descent-for-machine-learning,-where-alpha-is-the-learning-rate.-Select-all-that-apply-505\"><span class=\"toc-item-num\">5.0.5&nbsp;&nbsp;</span>MT15. Which of the following are true statements with respect to gradient descent for machine learning, where alpha is the learning rate. Select all that apply</a></div><div class=\"lev3 toc-item\"><a href=\"#MT16.-Which-result-below-is-the-closest-to-the-centroids-you-got-after-running-your-weighted-K-means-code-for-K=3-for-10-iterations?\" data-toc-modified-id=\"MT16.-Which-result-below-is-the-closest-to-the-centroids-you-got-after-running-your-weighted-K-means-code-for-K=3-for-10-iterations?-506\"><span class=\"toc-item-num\">5.0.6&nbsp;&nbsp;</span>MT16. Which result below is the closest to the centroids you got after running your weighted K-means code for K=3 for 10 iterations?</a></div><div class=\"lev3 toc-item\"><a href=\"#MT17-Regularization:-Which-Regularizer-is-used\" data-toc-modified-id=\"MT17-Regularization:-Which-Regularizer-is-used-507\"><span class=\"toc-item-num\">5.0.7&nbsp;&nbsp;</span>MT17 Regularization: Which Regularizer is used</a></div><div class=\"lev3 toc-item\"><a href=\"#MT18-Regularization:-ElasticNet-for-Linear-Regression\" data-toc-modified-id=\"MT18-Regularization:-ElasticNet-for-Linear-Regression-508\"><span class=\"toc-item-num\">5.0.8&nbsp;&nbsp;</span>MT18 Regularization: ElasticNet for Linear Regression</a></div><div class=\"lev3 toc-item\"><a href=\"#MT19-Regularization:-L1/L2-for-Linear-Regression\" data-toc-modified-id=\"MT19-Regularization:-L1/L2-for-Linear-Regression-509\"><span class=\"toc-item-num\">5.0.9&nbsp;&nbsp;</span>MT19 Regularization: L1/L2 for Linear Regression</a></div><div class=\"lev1 toc-item\"><a href=\"#END-of-Exam\" data-toc-modified-id=\"END-of-Exam-6\"><span class=\"toc-item-num\">6&nbsp;&nbsp;</span>END of Exam</a></div>"
   ]
  },
  {
   "cell_type": "code",
   "execution_count": 1,
   "metadata": {
    "collapsed": false
   },
   "outputs": [],
   "source": [
    "import numpy as np\n",
    "from __future__ import division\n",
    "\n",
    "%reload_ext autoreload\n",
    "%autoreload 2\n"
   ]
  },
  {
   "cell_type": "markdown",
   "metadata": {},
   "source": [
    "# MIDS w261 Machine Learning at Scale\n",
    "## MidTerm Exam  \n",
    "\n",
    "\n",
    "MIDS Machine Learning at Scale\n",
    "\n",
    "\n",
    "\n",
    "### Please insert your contact information here\n",
    "__Insert you name here__           : Leslie TEO  \n",
    "__Insert you email here__          : lteo01@berkeley.edu | lteo@ischool.berkeley.edu  \n",
    "__Insert your  UC Berkeley ID here__:303218617 \n",
    "\n",
    "# Exam Instructions\n",
    "\n",
    "1. : Please insert Name and Email address in the first cell of this notebook\n",
    "2. : Please keep all your work and responses in ONE (1) notebook only \n",
    "3. : For the midterm you will need access to MrJob and Jupyter on your local machines (should be more than sufficient) or on Altiscale/AWS to complete some of the questions (like fill in the code to do X).\n",
    "4. : As for question types:\n",
    "    + Knowledge test Programmatic/doodle (take photos; embed the photos in your notebook, along with the photos directory in a zip file) \n",
    "    + All programmatic questions can be run locally on your laptop (using MrJob only) or on the cluster\n",
    "\n",
    "5. : This is an open book exam meaning you can consult webpages and textbooks, class notes, slides etc. but you can not discuss with each other or any other person/group. If any collusion, then this will result in a zero grade and will be grounds for dismissal from the entire program. Please complete this exam by yourself within the time limit. "
   ]
  },
  {
   "cell_type": "markdown",
   "metadata": {},
   "source": [
    "# Exam questions begins here"
   ]
  },
  {
   "cell_type": "markdown",
   "metadata": {},
   "source": [
    "===Map-Reduce==="
   ]
  },
  {
   "cell_type": "markdown",
   "metadata": {},
   "source": [
    "### MT1. Which of the following statememts about map-reduce are true? \n",
    "\n",
    "(I) If you only have 1 computer with 1 computing core, then map-reduce is unlikely to help   \n",
    "(II) If we run map-reduce using N single-core computers, then it is likely to get at least an N-Fold speedup compared to using 1 computer   \n",
    "(III) Because of network latency and other overhead associated with map-reduce, if we run map-reduce using N    computers, then we will get less than N-Fold speedup compared to using 1 computer   \n",
    "(IV) When using map-reduce for learning a naive Bayes classifier for SPAM classification, we usually use a single machine that accumulates the partial class and word stats from each of the map machines, in order to compute the final model.\n",
    "\n",
    "Please select one from the following that is most correct:\n",
    "\n",
    "* (a) I, II, III, IV\n",
    "* (b) I, III, IV\n",
    "* (c) I, III\n",
    "* (d) I,II, III"
   ]
  },
  {
   "cell_type": "markdown",
   "metadata": {},
   "source": [
    "**Answer: (b)** The key here is whether II is true. Because of network and other i/o overheads, it is not likely that we **at least** get an N-fold speed up. "
   ]
  },
  {
   "cell_type": "markdown",
   "metadata": {},
   "source": [
    "===Order inversion===\n",
    "\n",
    "### MT2. normalized product co-occurrence \n",
    "\n",
    "Suppose you wish to write a MapReduce job that creates  normalized product co-occurrence (i.e., pairs of products that have been purchased together) data form a large transaction file of shopping baskets. In addition, we want the relative frequency of coocurring products. Given this scenario, to ensure that all (potentially many) reducers\n",
    "receive appropriate normalization factors (denominators)for a product\n",
    "in the most effcient order in their input streams (so as to minimize memory overhead on the reducer side), \n",
    "the mapper should emit/yield records according to which pattern for the product occurence totals:   \n",
    "\n",
    "(a) emit (\\*,product) count   \n",
    "(b) There is no need to use  order inversion here   \n",
    "(c) emit (product,\\*) count   \n",
    "(d) None of the above   "
   ]
  },
  {
   "cell_type": "markdown",
   "metadata": {},
   "source": [
    "**Answer: (a)** We want to emit the totals first => I read (a) to mean that with the * is appended to key so shuffle sort emits it first. "
   ]
  },
  {
   "cell_type": "markdown",
   "metadata": {},
   "source": [
    "===Map-Reduce===\n",
    "\n",
    "### MT3. What is the input to the Reduce function in MRJob? Select the most correct choice.  \n",
    "\n",
    "   \n",
    "(a) An arbitrarily sized list of key/value pairs.    \n",
    "(b) One key and a list of some values associated with that key  \n",
    "(c) One key and a list of all values associated with that key.   \n",
    "(d) None of the above   "
   ]
  },
  {
   "cell_type": "markdown",
   "metadata": {},
   "source": [
    "**Answer: (c)**"
   ]
  },
  {
   "cell_type": "markdown",
   "metadata": {},
   "source": [
    "===Bayesian document classification===   \n",
    "  \n",
    "### MT4. When building a Bayesian document classifier, Laplace smoothing serves what purpose?   \n",
    "\n",
    "(a) It allows you to use your training data as your validation data.   \n",
    "(b) It prevents zero-products in the posterior distribution.  \n",
    "(c) It accounts for words that were missed by regular expressions.    \n",
    "(d) None of the above   "
   ]
  },
  {
   "cell_type": "markdown",
   "metadata": {},
   "source": [
    "**Answer: (b)** I'm no sure about wording but we are trying to a avoid a situation where a conditional probability is 0 and (unless we use logs), the numerator is 0."
   ]
  },
  {
   "cell_type": "markdown",
   "metadata": {},
   "source": [
    "### MT5. Combiners can be integral to the successful utilization of the Hadoop shuffle.  \n",
    "Using combiners result in what?  \n",
    "\n",
    "* (I) minimization of reducer workload     \n",
    "* (II) minimization of disk storage for mapper results   \n",
    "* (III) minimization of network traffic    \n",
    "* (IV) none of the above \n",
    "\n",
    "Select most correct option (i.e., select one option only) from the following:\n",
    "\n",
    "* (a) I   \n",
    "* (b) I, II and III   \n",
    "* (c) II and III   \n",
    "* (d) IV   \n"
   ]
  },
  {
   "cell_type": "markdown",
   "metadata": {},
   "source": [
    "**Answer: (b) ** "
   ]
  },
  {
   "cell_type": "markdown",
   "metadata": {},
   "source": [
    "# Direct the student to write their code in the notebook. Questions 6 and 7 are related to the description and instructions below\n",
    "\n",
    "#### Pairwise similarity using K-L divergence\n",
    "\n",
    "In probability theory and information theory, the Kullback–Leibler divergence \n",
    "(also information divergence, information gain, relative entropy, KLIC, or KL divergence) \n",
    "is a non-symmetric measure of the difference between two probability distributions P and Q. \n",
    "Specifically, the Kullback–Leibler divergence of Q from P, denoted DKL(P\\‖Q), \n",
    "is a measure of the information lost when Q is used to approximate P:\n",
    "\n",
    "For discrete probability distributions P and Q, \n",
    "the Kullback–Leibler divergence of Q from P is defined to be\n",
    "\n",
    "    + KLDistance(P, Q) = Sum_over_item_i (P(i) log (P(i) / Q(i))      \n",
    "\n",
    "In the extreme cases, the KL Divergence is 1 when P and Q are maximally different\n",
    "and is 0 when the two distributions are exactly the same (follow the same distribution).\n",
    "\n",
    "For more information on K-L Divergence see:\n",
    "\n",
    "    + [K-L Divergence](https://en.wikipedia.org/wiki/Kullback%E2%80%93Leibler_divergence)\n",
    "\n",
    "For the next three question we will use an MRjob class for calculating pairwise similarity \n",
    "using K-L Divergence as the similarity measure:\n",
    "\n",
    "* Job 1: create inverted index (assume just two objects)\n",
    "* Job 2: calculate/accumulate the similarity of each pair of objects using K-L Divergence\n",
    "\n",
    "\n",
    "Using the following cells  then fill in the code for the first reducer to calculate \n",
    "the K-L divergence of objects (letter documents) in line1 and line2, i.e., KLD(Line1||line2).\n",
    "\n",
    "Here we ignore characters which are not alphabetical. And all alphabetical characters are lower-cased in the first mapper."
   ]
  },
  {
   "cell_type": "markdown",
   "metadata": {},
   "source": [
    "#### Using the MRJob Class below  calculate the  KL divergence of the following two string objects."
   ]
  },
  {
   "cell_type": "code",
   "execution_count": 2,
   "metadata": {
    "collapsed": false
   },
   "outputs": [
    {
     "name": "stdout",
     "output_type": "stream",
     "text": [
      "Overwriting kltext.txt\n"
     ]
    }
   ],
   "source": [
    "%%writefile kltext.txt\n",
    "1.Data Science is an interdisciplinary field about processes and systems to extract knowledge or insights from large volumes of data in various forms (data in various forms, data in various forms, data in various forms), either structured or unstructured,[1][2] which is a continuation of some of the data analysis fields such as statistics, data mining and predictive analytics, as well as Knowledge Discovery in Databases.\n",
    "2.Machine learning is a subfield of computer science[1] that evolved from the study of pattern recognition and computational learning theory in artificial intelligence.[1] Machine learning explores the study and construction of algorithms that can learn from and make predictions on data.[2] Such algorithms operate by building a model from example inputs in order to make data-driven predictions or decisions,[3]:2 rather than following strictly static program instructions."
   ]
  },
  {
   "cell_type": "markdown",
   "metadata": {},
   "source": [
    "#### MRjob class for calculating pairwise similarity using K-L Divergence as the similarity measure\n",
    "\n",
    "Job 1: create inverted index (assume just two objects) <P>\n",
    "Job 2: calculate the similarity of each pair of objects "
   ]
  },
  {
   "cell_type": "code",
   "execution_count": 3,
   "metadata": {
    "collapsed": false
   },
   "outputs": [
    {
     "data": {
      "text/plain": [
       "1.0986122886681098"
      ]
     },
     "execution_count": 3,
     "metadata": {},
     "output_type": "execute_result"
    }
   ],
   "source": [
    "import numpy as np\n",
    "np.log(3)"
   ]
  },
  {
   "cell_type": "code",
   "execution_count": 4,
   "metadata": {
    "collapsed": false
   },
   "outputs": [
    {
     "name": "stdout",
     "output_type": "stream",
     "text": [
      "1.Data Science is an interdisciplinary field about processes and systems to extract knowledge or insights from large volumes of data in various forms (data in various forms, data in various forms, data in various forms), either structured or unstructured,[1][2] which is a continuation of some of the data analysis fields such as statistics, data mining and predictive analytics, as well as Knowledge Discovery in Databases.\n",
      "2.Machine learning is a subfield of computer science[1] that evolved from the study of pattern recognition and computational learning theory in artificial intelligence.[1] Machine learning explores the study and construction of algorithms that can learn from and make predictions on data.[2] Such algorithms operate by building a model from example inputs in order to make data-driven predictions or decisions,[3]:2 rather than following strictly static program instructions."
     ]
    }
   ],
   "source": [
    "!cat kltext.txt"
   ]
  },
  {
   "cell_type": "code",
   "execution_count": 39,
   "metadata": {
    "collapsed": false
   },
   "outputs": [
    {
     "name": "stdout",
     "output_type": "stream",
     "text": [
      "Overwriting kldivergence.py\n"
     ]
    }
   ],
   "source": [
    "%%writefile kldivergence.py\n",
    "#coding: utf-8\n",
    "from __future__ import division\n",
    "from mrjob.job import MRJob\n",
    "from mrjob.step import MRStep  ## NOTE: ADDED IN SINCE SELF.MR DID NOT WORK\n",
    "import re\n",
    "import numpy as np\n",
    "\n",
    "class kldivergence(MRJob):\n",
    "    \n",
    "    # process each string character by character\n",
    "    # the relative frequency of each character emitting Pr(character|str)\n",
    "    # for input record 1.abcbe\n",
    "    # emit \"a\"    [1, 0.2]\n",
    "    # emit \"b\"    [1, 0.4] etc...\n",
    "    def mapper1(self, _, line):\n",
    "        index = int(line.split('.',1)[0])\n",
    "        letter_list = re.sub(r\"[^A-Za-z]+\", '', line).lower()\n",
    "        count = {}\n",
    "        for l in letter_list:\n",
    "            if count.has_key(l):\n",
    "                count[l] += 1\n",
    "            else:\n",
    "                count[l] = 1\n",
    "        for key in count:\n",
    "            yield key, [index, count[key]*1.0/len(letter_list)]\n",
    "\n",
    "    # on a component i calculate (e.g., \"b\")\n",
    "    # Kullback–Leibler divergence of Q from P is defined\n",
    "    #  (P(i) log (P(i) / Q(i))\n",
    "    #\n",
    "    def reducer1(self, key, values):\n",
    "        p = 0\n",
    "        q = 0\n",
    "        for v in values:\n",
    "            if v[0] == 1:  #String 1\n",
    "                p = v[1]\n",
    "            else:          # String 2\n",
    "                q = v[1]\n",
    "                \n",
    "        ###### SOLUTION #############           \n",
    "        yield None, p*np.log(p/q)\n",
    "        #############################\n",
    "\n",
    "    #Aggegate components            \n",
    "    def reducer2(self, key, values):\n",
    "        kl_sum = 0\n",
    "        for value in values:\n",
    "            kl_sum = kl_sum + value\n",
    "        yield \"KLDivergence\", kl_sum\n",
    "        \n",
    "            \n",
    "    def steps(self):\n",
    "        return [MRStep(mapper=self.mapper1,\n",
    "                        reducer=self.reducer1),\n",
    "                \n",
    "                MRStep(reducer=self.reducer2)\n",
    "               \n",
    "               ]\n",
    "\n",
    "if __name__ == '__main__':\n",
    "    kldivergence.run()"
   ]
  },
  {
   "cell_type": "code",
   "execution_count": 40,
   "metadata": {},
   "outputs": [
    {
     "name": "stdout",
     "output_type": "stream",
     "text": [
      "No configs found; falling back on auto-configuration\n",
      "No configs specified for local runner\n",
      "Creating temp directory /tmp/kldivergence.root.20180228.154109.208604\n",
      "Running step 1 of 2...\n",
      "Running step 2 of 2...\n",
      "Streaming final output from /tmp/kldivergence.root.20180228.154109.208604/output...\n",
      "\"KLDivergence\"\t0.0808827844\n",
      "Removing temp directory /tmp/kldivergence.root.20180228.154109.208604...\n"
     ]
    }
   ],
   "source": [
    "!python kldivergence.py \\\n",
    "    -r local kltext.txt \\\n",
    "    --cmdenv PATH=/opt/anaconda/bin:$PATH"
   ]
  },
  {
   "cell_type": "code",
   "execution_count": 7,
   "metadata": {
    "collapsed": false
   },
   "outputs": [
    {
     "name": "stderr",
     "output_type": "stream",
     "text": [
      "No handlers could be found for logger \"mrjob.conf\"\n"
     ]
    },
    {
     "name": "stdout",
     "output_type": "stream",
     "text": [
      "(u'KLDivergence', 0.0808827844)\n"
     ]
    }
   ],
   "source": [
    "%reload_ext autoreload\n",
    "%autoreload 2\n",
    "from mrjob.job import MRJob\n",
    "from kldivergence import kldivergence\n",
    "\n",
    "#dont forget to save kltext.txt (see earlier cell)\n",
    "mr_job = kldivergence(args=['-r', 'hadoop', '--cmdenv', 'PATH=/opt/anaconda/bin:$PATH', 'kltext.txt'])  ## ADDED IN PARAMETERS\n",
    "with mr_job.make_runner() as runner: \n",
    "    runner.run()\n",
    "    # stream_output: get access of the output \n",
    "    for line in runner.stream_output():\n",
    "        print mr_job.parse_output_line(line)"
   ]
  },
  {
   "cell_type": "markdown",
   "metadata": {},
   "source": [
    "Questions:"
   ]
  },
  {
   "cell_type": "markdown",
   "metadata": {},
   "source": [
    "### MT6. Which number below is the closest to the result you get for KLD(Line1||line2)?   \n",
    "(a) 0.7   \n",
    "(b) 0.5   \n",
    "(c) 0.2   \n",
    "(d) 0.1  "
   ]
  },
  {
   "cell_type": "markdown",
   "metadata": {},
   "source": [
    "**Answer: (d) although more precisely 0.08 (using np.log) or 0.11 (using np.log2)** See calculations above."
   ]
  },
  {
   "cell_type": "code",
   "execution_count": 8,
   "metadata": {
    "collapsed": false
   },
   "outputs": [
    {
     "name": "stdout",
     "output_type": "stream",
     "text": [
      "Overwriting kldivergence_smooth.py\n"
     ]
    }
   ],
   "source": [
    "%%writefile kldivergence_smooth.py\n",
    "from __future__ import division\n",
    "from mrjob.job import MRJob\n",
    "from mrjob.job import MRStep  ## ADDED IN\n",
    "import re\n",
    "import numpy as np\n",
    "class kldivergence_smooth(MRJob):\n",
    "    \n",
    "    # process each string character by character\n",
    "    # the relative frequency of each character emitting Pr(character|str)\n",
    "    # for input record 1.abcbe\n",
    "    # emit \"a\"    [1, (1+1)/(5+24)]\n",
    "    # emit \"b\"    [1, (2+1)/(5+24) etc...\n",
    "    def mapper1(self, _, line):\n",
    "        index = int(line.split('.',1)[0])\n",
    "        letter_list = re.sub(r\"[^A-Za-z]+\", '', line).lower()\n",
    "        count = {}\n",
    "        \n",
    "        # (ni+1)/(n+24)\n",
    "        \n",
    "        for l in letter_list:\n",
    "            if count.has_key(l):\n",
    "                count[l] += 1\n",
    "            else:\n",
    "                count[l] = 1\n",
    "        for key in count:\n",
    "            \n",
    "            ###### SOLUTION ############# \n",
    "            yield key, [index, (count[key]+1)*1.0/(len(letter_list)+24)]\n",
    "            #############################            \n",
    "    \n",
    "    def reducer1(self, key, values):\n",
    "        p = 0\n",
    "        q = 0\n",
    "        for v in values:\n",
    "            if v[0] == 1:\n",
    "                p = v[1]\n",
    "            else:\n",
    "                q = v[1]\n",
    "        \n",
    "        ###### SOLUTION #############         \n",
    "        yield None, p*np.log(p/q)\n",
    "        #############################\n",
    "        \n",
    "    # Aggregate components             \n",
    "    def reducer2(self, key, values):\n",
    "        kl_sum = 0\n",
    "        for value in values:\n",
    "            kl_sum = kl_sum + value\n",
    "        yield \"KLDivergence\", kl_sum\n",
    "            \n",
    "    def steps(self):\n",
    "        return [MRStep(mapper=self.mapper1,\n",
    "                        reducer=self.reducer1),\n",
    "                MRStep(reducer=self.reducer2)\n",
    "               \n",
    "               ]\n",
    "\n",
    "if __name__ == '__main__':\n",
    "    kldivergence_smooth.run()"
   ]
  },
  {
   "cell_type": "code",
   "execution_count": 9,
   "metadata": {},
   "outputs": [
    {
     "name": "stdout",
     "output_type": "stream",
     "text": [
      "No configs found; falling back on auto-configuration\n",
      "No configs specified for local runner\n",
      "Creating temp directory /tmp/kldivergence_smooth.root.20180228.153030.532852\n",
      "Running step 1 of 2...\n",
      "Running step 2 of 2...\n",
      "Streaming final output from /tmp/kldivergence_smooth.root.20180228.153030.532852/output...\n",
      "\"KLDivergence\"\t0.0672699729\n",
      "Removing temp directory /tmp/kldivergence_smooth.root.20180228.153030.532852...\n"
     ]
    }
   ],
   "source": [
    "!python kldivergence_smooth.py \\\n",
    "    -r local kltext.txt"
   ]
  },
  {
   "cell_type": "code",
   "execution_count": 10,
   "metadata": {
    "collapsed": false
   },
   "outputs": [
    {
     "name": "stdout",
     "output_type": "stream",
     "text": [
      "(u'KLDivergence', 0.0672699729)\n"
     ]
    }
   ],
   "source": [
    "%reload_ext autoreload\n",
    "%autoreload 2\n",
    "\n",
    "from kldivergence_smooth import kldivergence_smooth\n",
    "mr_job = kldivergence_smooth(args=['-r', 'hadoop', '--cmdenv', 'PATH=/opt/anaconda/bin:$PATH', 'kltext.txt'])\n",
    "with mr_job.make_runner() as runner: \n",
    "    runner.run()\n",
    "    # stream_output: get access of the output \n",
    "    for line in runner.stream_output():\n",
    "        print mr_job.parse_output_line(line)"
   ]
  },
  {
   "cell_type": "markdown",
   "metadata": {},
   "source": [
    "### MT7. The KL divergence on multinomials is defined only when they have nonzero entries. \n",
    "For zero entries, we have to smooth distributions. Suppose we smooth in this way:    \n",
    "\n",
    "(ni+1)/(n+24)   \n",
    "\n",
    "where ni is the count for letter i and n is the total count of all letters.    \n",
    "After smoothing, which number below is the closest to the result you get for KLD(Line1||line2)??   \n",
    "\n",
    "(a) 0.08   \n",
    "(b) 0.71     \n",
    "(c) 0.02    \n",
    "(d) 0.11   \n",
    "\n"
   ]
  },
  {
   "cell_type": "markdown",
   "metadata": {},
   "source": [
    "**Answer: (a) although my exact answer is 0.067 (using np.log) and 0.097 (using np.log2).** See calculations above."
   ]
  },
  {
   "cell_type": "markdown",
   "metadata": {},
   "source": [
    "### MT8. Block size, and mapper tasks\n",
    "Given ten (10) files in the input directory for a Hadoop Streaming job (MRjob or just Hadoop) with the following filesizes (in megabytes): 1, 2,3,4,5,6,7,8,9,10; and a block size of 5M (NOTE: normally we should set the blocksize to 1 GigB using modern computers). How many map tasks will result from processing the data in the input directory? Select the closest number from the following list.\n",
    "\n",
    " (a) 1  \n",
    " (b) 15  \n",
    " (c) 12   \n",
    " (d) 20 "
   ]
  },
  {
   "cell_type": "markdown",
   "metadata": {},
   "source": [
    "**Answer: (c). ** We have 55MB of data. Each blocksize is 5MB. Thus we should see 55/5 = 11 map tasks."
   ]
  },
  {
   "cell_type": "markdown",
   "metadata": {},
   "source": [
    "### MT9. Aggregation\n",
    "Given a purchase transaction log file where each purchase transaction contains the customer identifier, item purchased and much more information about the transaction. Which of the following statements are true about a MapReduce job that performs an  “aggregation” such as get the number of transaction per customer.\n",
    "\n",
    "__Statements__\n",
    "* (I) A mapper only job will not suffice, as each map task only gets to see a subset of the data (e.g., one block). As such a mapper only job will only produce intermediate tallys for each customer. \n",
    "* (II) A reducer only job will suffice and is most efficient computationally\n",
    "* (III) If the developer provides a  Mapper and Reducer it can potentially be more efficient than option II\n",
    "* (IV) A reducer only job with a custom partitioner will suffice.\n",
    "\n",
    "Select the most correct option from the following:\n",
    "\n",
    "* (a) I, II, III, IV\n",
    "* (b) II, IV\n",
    "* (c) III, IV\n",
    "* (d) III"
   ]
  },
  {
   "cell_type": "markdown",
   "metadata": {},
   "source": [
    "**Answer: (a). ** I assume II allows for an identity mapper. "
   ]
  },
  {
   "cell_type": "markdown",
   "metadata": {},
   "source": [
    "### MT10. Naive Bayes\n",
    "Which of the following statements are true regarding Naive Bayes?\n",
    "\n",
    "__Statements__\n",
    "* (I) Naive Bayes is a machine learning algorithm that can be used for classifcation problems only\n",
    "* (II) Multinomial Naive Bayes is a flavour of Naive Bayes for discrete input variables and can be combined  with Laplace smoothing to avoid zero predictions for class posterior probabilities  when attribute value combinations show up during classification but were not present during training. \n",
    "* (III) Naive Bayes can be used for continous valued input variables. In this case, one can use Gaussian distributions to model the class conditional probability distributions Pr(X|Class).\n",
    "* (IV) Naive Bayes can model continous target variables directly.\n",
    "\n",
    "Please select the single most correct combination from the following:\n",
    "    \n",
    "\n",
    "* (a) I, II, III, IV\n",
    "* (b) I, II, III\n",
    "* (c) I, III, IV\n",
    "* (d) I, II\n"
   ]
  },
  {
   "cell_type": "markdown",
   "metadata": {},
   "source": [
    "**Answer: (b).** The key statements here are II and IV. For II, statements on MBN and Laplace smoothing seem correct. For IV, I don't think NB can model continuos target variables directly unless we redefine many discrete as an approximation. But we would need a lot of data for that..."
   ]
  },
  {
   "cell_type": "markdown",
   "metadata": {},
   "source": [
    "# Direct the student to write their code in the notebook. Question 11 is related to the description and instructions below\n",
    "### MT11. Naive Bayes SPAM model\n",
    "Given the following document dataset for a  Two-Class problem: ham and spam. Use MRJob (please include your code) to build a muiltnomial Naive Bayes classifier. Please use Laplace Smoothing with a hyperparameter of 1. Please use words only (a-z) as features. Please lowercase all words."
   ]
  },
  {
   "cell_type": "raw",
   "metadata": {},
   "source": [
    "# Training Data\n",
    "# Record format\n",
    "#   Class docID:\"doc contents string\"\n",
    "ham d1: “good.”\n",
    "ham d2: “very good.”\n",
    "spam d3: “bad.”\n",
    "spam d4: “very bad.”\n",
    "spam d5: “very bad, very BAD.”"
   ]
  },
  {
   "cell_type": "raw",
   "metadata": {},
   "source": [
    "#Test Data\n",
    "? d6: “good? bad! very Bad!” "
   ]
  },
  {
   "cell_type": "code",
   "execution_count": 11,
   "metadata": {},
   "outputs": [
    {
     "name": "stdout",
     "output_type": "stream",
     "text": [
      "Overwriting NB_training.txt\n"
     ]
    }
   ],
   "source": [
    "%%writefile NB_training.txt\n",
    "ham d1: “good.”\n",
    "ham d2: “very good.”\n",
    "spam d3: “bad.”\n",
    "spam d4: “very bad.”\n",
    "spam d5: “very bad, very BAD.”"
   ]
  },
  {
   "cell_type": "code",
   "execution_count": 12,
   "metadata": {},
   "outputs": [
    {
     "name": "stdout",
     "output_type": "stream",
     "text": [
      "ham d1: ���good.���\n",
      "ham d2: ���very good.���\n",
      "spam d3: ���bad.���\n",
      "spam d4: ���very bad.���\n",
      "spam d5: ���very bad, very BAD.���"
     ]
    }
   ],
   "source": [
    "!cat NB_training.txt"
   ]
  },
  {
   "cell_type": "code",
   "execution_count": 13,
   "metadata": {},
   "outputs": [
    {
     "name": "stdout",
     "output_type": "stream",
     "text": [
      "Overwriting NB_test.txt\n"
     ]
    }
   ],
   "source": [
    "%%writefile NB_test.txt\n",
    "? d6: “good? bad! very Bad!” "
   ]
  },
  {
   "cell_type": "markdown",
   "metadata": {},
   "source": [
    "## First do some EDA to get vocab size. Using MRJob is probably overkill but this will be scalable."
   ]
  },
  {
   "cell_type": "code",
   "execution_count": 14,
   "metadata": {},
   "outputs": [
    {
     "name": "stdout",
     "output_type": "stream",
     "text": [
      "Overwriting NB_vocabsize.py\n"
     ]
    }
   ],
   "source": [
    "%%writefile NB_vocabsize.py\n",
    "#!/usr/bin/env python\n",
    "# -*- coding: utf-8 -*-\n",
    "\n",
    "import re\n",
    "import sys\n",
    "import numpy as np\n",
    "from mrjob.job import MRJob\n",
    "from mrjob.step import MRStep\n",
    "\n",
    "class Naivebayes_count(MRJob):\n",
    "    \n",
    "    def mapper(self, _, line):\n",
    "        \n",
    "        words = re.findall(r'[a-z0-9]+', line.lower())[2:]\n",
    "        for word in words:\n",
    "            yield None, word\n",
    "            \n",
    "    def reducer_init(self):\n",
    "        self.l = []\n",
    "            \n",
    "    def reducer(self, key, value):\n",
    "        for v in value:\n",
    "            self.l.append(v)\n",
    "        yield None, len(set(self.l))\n",
    "        \n",
    "    def steps(self):\n",
    "        return [MRStep(\n",
    "                       mapper=self.mapper,\n",
    "                       reducer_init=self.reducer_init,\n",
    "                       reducer=self.reducer,\n",
    "                      ),\n",
    "               ]\n",
    "        \n",
    "if __name__ == '__main__':\n",
    "    Naivebayes_count.run()\n",
    "    \n"
   ]
  },
  {
   "cell_type": "code",
   "execution_count": 15,
   "metadata": {},
   "outputs": [
    {
     "name": "stdout",
     "output_type": "stream",
     "text": [
      "No configs found; falling back on auto-configuration\n",
      "No configs specified for local runner\n",
      "Creating temp directory /tmp/NB_vocabsize.root.20180228.153120.225199\n",
      "Running step 1 of 1...\n",
      "Streaming final output from /tmp/NB_vocabsize.root.20180228.153120.225199/output...\n",
      "null\t3\n",
      "Removing temp directory /tmp/NB_vocabsize.root.20180228.153120.225199...\n"
     ]
    }
   ],
   "source": [
    "!python NB_vocabsize.py \\\n",
    "    -r local NB_training.txt \\\n",
    "    --cmdenv PATH=/opt/anaconda/bin:$PATH \\\n",
    "    "
   ]
  },
  {
   "cell_type": "code",
   "execution_count": 16,
   "metadata": {},
   "outputs": [
    {
     "name": "stdout",
     "output_type": "stream",
     "text": [
      "Overwriting NB_model.py\n"
     ]
    }
   ],
   "source": [
    "%%writefile NB_model.py\n",
    "#!/usr/bin/env python\n",
    "# -*- coding: utf-8 -*-\n",
    "\n",
    "from __future__ import division\n",
    "import json\n",
    "import re\n",
    "import sys\n",
    "import numpy as np\n",
    "from mrjob.job import MRJob\n",
    "from mrjob.step import MRStep  \n",
    "\n",
    "\n",
    "class Naivebayes(MRJob):\n",
    "    \n",
    "    SORT_VALUES = True\n",
    "    \n",
    "\n",
    "    def mapper1_init(self):\n",
    "        self.docTotals = np.array([0,0])\n",
    "        self.wordTotals = np.array([0,0])\n",
    "\n",
    "    def mapper1(self, _, line):\n",
    "        \n",
    "        tokens = re.findall(r'[a-z0-9]+', line.lower())\n",
    "        class_ = tokens[0]\n",
    "        docid = tokens[1]\n",
    "        words = tokens[2:]\n",
    "        \n",
    "        class_ = 1 if class_ == 'spam' else 0\n",
    "        increment = [1,0] if class_ == 0 else [0,1]\n",
    "         \n",
    "        self.docTotals = increment\n",
    "        self.wordTotals = np.array(increment)*len(words)\n",
    "        \n",
    "        for word in words:\n",
    "            yield word, increment\n",
    "            \n",
    "        yield '!docTotals', self.docTotals\n",
    "        yield '!wordTotals', self.wordTotals\n",
    "\n",
    "    def reducer1_init(self):\n",
    "        k = 1\n",
    "        V = 3\n",
    "        self.k = np.array([k,k])\n",
    "        self.total = np.array([V,V])\n",
    "        self.docTotals = 0\n",
    "        self.wordTotals = 0\n",
    "        \n",
    "    \n",
    "    def reducer1(self, key, value):\n",
    "        curr_sum = 0\n",
    "        for v in value:\n",
    "            curr_sum += np.array(v)\n",
    "            \n",
    "        if key == '!docTotals':\n",
    "            yield key, (curr_sum, curr_sum/sum(curr_sum))\n",
    "            \n",
    "        elif key == '!wordTotals':\n",
    "            self.wordTotals = curr_sum\n",
    "    \n",
    "        else:\n",
    "            yield key, (curr_sum, (curr_sum+self.k)/(self.wordTotals+self.total))\n",
    "\n",
    "        \n",
    "\n",
    "    def steps(self):\n",
    "        return [MRStep(mapper_init=self.mapper1_init,\n",
    "                       mapper=self.mapper1,\n",
    "                       reducer_init=self.reducer1_init,\n",
    "                       reducer=self.reducer1,\n",
    "                      ),\n",
    "               \n",
    "               ]\n",
    "\n",
    "if __name__ == '__main__':\n",
    "    Naivebayes.run()\n",
    "    "
   ]
  },
  {
   "cell_type": "code",
   "execution_count": 17,
   "metadata": {},
   "outputs": [
    {
     "name": "stdout",
     "output_type": "stream",
     "text": [
      "No configs found; falling back on auto-configuration\n",
      "No configs specified for hadoop runner\n",
      "Looking for hadoop binary in $PATH...\n",
      "Found hadoop binary: /usr/bin/hadoop\n",
      "Using Hadoop version 2.6.0\n",
      "Looking for Hadoop streaming jar in /home/hadoop/contrib...\n",
      "Looking for Hadoop streaming jar in /usr/lib/hadoop-mapreduce...\n",
      "Found Hadoop streaming jar: /usr/lib/hadoop-mapreduce/hadoop-streaming.jar\n",
      "Creating temp directory /tmp/NB_model.root.20180228.153121.572044\n",
      "Copying local files to hdfs:///user/root/tmp/mrjob/NB_model.root.20180228.153121.572044/files/...\n",
      "Running step 1 of 1...\n",
      "  packageJobJar: [] [/usr/jars/hadoop-streaming-2.6.0-cdh5.7.0.jar] /tmp/streamjob3402238246109163672.jar tmpDir=null\n",
      "  Connecting to ResourceManager at /0.0.0.0:8032\n",
      "  Connecting to ResourceManager at /0.0.0.0:8032\n",
      "  Total input paths to process : 1\n",
      "  number of splits:2\n",
      "  Submitting tokens for job: job_1519807751186_0005\n",
      "  Submitted application application_1519807751186_0005\n",
      "  The url to track the job: http://docker.w261:8088/proxy/application_1519807751186_0005/\n",
      "  Running job: job_1519807751186_0005\n",
      "  Job job_1519807751186_0005 running in uber mode : false\n",
      "   map 0% reduce 0%\n",
      "   map 50% reduce 0%\n",
      "   map 100% reduce 0%\n",
      "   map 100% reduce 100%\n",
      "  Job job_1519807751186_0005 completed successfully\n",
      "  Output directory: hdfs:///user/root/tmp/mrjob/NB_model.root.20180228.153121.572044/output\n",
      "Counters: 49\n",
      "\tFile Input Format Counters \n",
      "\t\tBytes Read=186\n",
      "\tFile Output Format Counters \n",
      "\t\tBytes Written=123\n",
      "\tFile System Counters\n",
      "\t\tFILE: Number of bytes read=387\n",
      "\t\tFILE: Number of bytes written=356327\n",
      "\t\tFILE: Number of large read operations=0\n",
      "\t\tFILE: Number of read operations=0\n",
      "\t\tFILE: Number of write operations=0\n",
      "\t\tHDFS: Number of bytes read=510\n",
      "\t\tHDFS: Number of bytes written=123\n",
      "\t\tHDFS: Number of large read operations=0\n",
      "\t\tHDFS: Number of read operations=9\n",
      "\t\tHDFS: Number of write operations=2\n",
      "\tJob Counters \n",
      "\t\tData-local map tasks=2\n",
      "\t\tLaunched map tasks=2\n",
      "\t\tLaunched reduce tasks=1\n",
      "\t\tTotal megabyte-seconds taken by all map tasks=4687872\n",
      "\t\tTotal megabyte-seconds taken by all reduce tasks=2455552\n",
      "\t\tTotal time spent by all map tasks (ms)=4578\n",
      "\t\tTotal time spent by all maps in occupied slots (ms)=4578\n",
      "\t\tTotal time spent by all reduce tasks (ms)=2398\n",
      "\t\tTotal time spent by all reduces in occupied slots (ms)=2398\n",
      "\t\tTotal vcore-seconds taken by all map tasks=4578\n",
      "\t\tTotal vcore-seconds taken by all reduce tasks=2398\n",
      "\tMap-Reduce Framework\n",
      "\t\tCPU time spent (ms)=1530\n",
      "\t\tCombine input records=0\n",
      "\t\tCombine output records=0\n",
      "\t\tFailed Shuffles=0\n",
      "\t\tGC time elapsed (ms)=41\n",
      "\t\tInput split bytes=324\n",
      "\t\tMap input records=5\n",
      "\t\tMap output bytes=341\n",
      "\t\tMap output materialized bytes=393\n",
      "\t\tMap output records=20\n",
      "\t\tMerged Map outputs=2\n",
      "\t\tPhysical memory (bytes) snapshot=911462400\n",
      "\t\tReduce input groups=11\n",
      "\t\tReduce input records=20\n",
      "\t\tReduce output records=4\n",
      "\t\tReduce shuffle bytes=393\n",
      "\t\tShuffled Maps =2\n",
      "\t\tSpilled Records=40\n",
      "\t\tTotal committed heap usage (bytes)=1513095168\n",
      "\t\tVirtual memory (bytes) snapshot=4239650816\n",
      "\tShuffle Errors\n",
      "\t\tBAD_ID=0\n",
      "\t\tCONNECTION=0\n",
      "\t\tIO_ERROR=0\n",
      "\t\tWRONG_LENGTH=0\n",
      "\t\tWRONG_MAP=0\n",
      "\t\tWRONG_REDUCE=0\n",
      "Streaming final output from hdfs:///user/root/tmp/mrjob/NB_model.root.20180228.153121.572044/output...\n",
      "\"!docTotals\"\t[[2,3],[0.4,0.6]]\n",
      "\"bad\"\t[[0,4],[0.1666666667,0.5]]\n",
      "\"good\"\t[[2,0],[0.5,0.1]]\n",
      "\"very\"\t[[1,3],[0.3333333333,0.4]]\n",
      "Removing HDFS temp directory hdfs:///user/root/tmp/mrjob/NB_model.root.20180228.153121.572044...\n",
      "Removing temp directory /tmp/NB_model.root.20180228.153121.572044...\n"
     ]
    }
   ],
   "source": [
    "!python NB_model.py \\\n",
    "    -r hadoop NB_training.txt \\\n",
    "    --cmdenv PATH=/opt/anaconda/bin:$PATH \\\n",
    "    "
   ]
  },
  {
   "cell_type": "code",
   "execution_count": 18,
   "metadata": {},
   "outputs": [
    {
     "name": "stdout",
     "output_type": "stream",
     "text": [
      "The predicted class is (1=Spam, 0=Ham):  1\n",
      "More info: docid, probability ham, probability spam:  d6: 0.00185185185241 0.006\n",
      "\n",
      "\n",
      "Useful info for question:\n",
      "P(very|ham):  0.3333333333\n",
      "P(good|ham):  0.5\n",
      "P(ham|d6):  0.00185185185241\n",
      "Predicted classed for d6:  1\n"
     ]
    }
   ],
   "source": [
    "# Code runs MRJob to train model, then estimates predicted class from test data. Extra code for question.\n",
    "\n",
    "import numpy as np\n",
    "from __future__ import division\n",
    "import json\n",
    "import re\n",
    "from NB_model import Naivebayes\n",
    "mr_job = Naivebayes(args=['-r',\n",
    "                    'hadoop',\n",
    "                    'NB_training.txt',\n",
    "                    '--cmdenv',\n",
    "                    'PATH=/opt/anaconda/bin:$PATH', \n",
    "                      ])\n",
    "# Run MrJob and train model\n",
    "MODEL = {}\n",
    "\n",
    "with mr_job.make_runner() as runner: \n",
    "    runner.run()\n",
    "    # stream_output: get access of the output \n",
    "    for line in runner.stream_output():\n",
    "        #print mr_job.parse_output_line(line)\n",
    "        word, token = line.split()\n",
    "        word = word.strip('\"')\n",
    "        token = json.loads(token)\n",
    "        ham_cProb, spam_cProb = token[1][0], token[1][1]\n",
    "        take_log = lambda x: np.log(x) if x != 0 else float('-inf')\n",
    "        MODEL[word] = (take_log(float(ham_cProb)), take_log(float(spam_cProb)))\n",
    "        \n",
    "    #print MODEL\n",
    "        \n",
    "# Use model to predict class\n",
    "\n",
    "with open('NB_test.txt') as f:\n",
    "    line = f.readlines()\n",
    "    tokens = str(line[0]).split()\n",
    "    class_ = tokens[0]\n",
    "    docid = tokens[1]\n",
    "    words = tokens[2:]\n",
    "    words = ' '.join(words)\n",
    "    words = re.findall(r'[a-z0-9]+', words.lower())\n",
    "    \n",
    "    pHam, pSpam, pClass = None, None, None\n",
    "    \n",
    "    conditionals = np.array([MODEL.get(word, 0.0) for word in words])\n",
    "    pHam, pSpam = np.exp(conditionals.sum(axis=0) + MODEL[\"!docTotals\"])\n",
    "    pClass = np.argmax([pHam, pSpam])\n",
    "    \n",
    "    print \"The predicted class is (1=Spam, 0=Ham): \",  pClass\n",
    "    print \"More info: docid, probability ham, probability spam: \", docid, pHam, pSpam\n",
    "    \n",
    "# Code to answer questions\n",
    "\n",
    "    print \"\\n\"\n",
    "    print \"Useful info for question:\"\n",
    "    print \"P(very|ham): \", np.exp(MODEL[\"very\"][0]) \n",
    "    print \"P(good|ham): \", np.exp(MODEL[\"good\"][0]) \n",
    "    print \"P(ham|d6): \", pHam\n",
    "    print \"Predicted classed for d6: \", pClass\n",
    "\n"
   ]
  },
  {
   "cell_type": "code",
   "execution_count": null,
   "metadata": {},
   "outputs": [],
   "source": []
  },
  {
   "cell_type": "markdown",
   "metadata": {},
   "source": [
    "__QUESTION__\n",
    "\n",
    "Having learnt the Naive Bayes text classification model for this problem using the training data and classified the test data (d6) please indicate which of the following is true:\n",
    "\n",
    "__Statements__\n",
    "* (I)  P(very|ham) = 0.33\n",
    "* (II) P(good|ham) = 0.50\n",
    "* (III)  Posterior Probability P(ham| d6) is approximately 24%\n",
    "* (IV) Class of d6 is ham\n",
    "\n",
    "Please select the single most correct combination of these statements from the following:\n",
    "    \n",
    "\n",
    "* (a) I, II, III, IV\n",
    "* (b) I, II, III\n",
    "* (c) I, III, IV\n",
    "* (d) I, II"
   ]
  },
  {
   "cell_type": "markdown",
   "metadata": {},
   "source": [
    "**Answer: (d). See calculations above.**"
   ]
  },
  {
   "cell_type": "markdown",
   "metadata": {},
   "source": [
    "### MT12. To enable an efficient stateless mapreduce job in Hadoop to accomplish a total sort which combination of the following are required:\n",
    " \n",
    "* (I)   Order inversion pattern\n",
    "* (II)  Secondary sort\n",
    "* (III) Combiners\n",
    "* (IV)  Custom partitioner\n",
    "\n",
    "Select the most correct combination from below:\n",
    "\n",
    "* (a) I, II, III, IV \n",
    "* (b) II, III, IV\n",
    "* (c) II, IV\n",
    "* (d) I, II, IV"
   ]
  },
  {
   "cell_type": "markdown",
   "metadata": {},
   "source": [
    "**Answer: (d).** The important statemnts here are III and I. Combiners might help but are not required. Order inversion is used to exploit the \"shuffle and sort phase\" in MR."
   ]
  },
  {
   "cell_type": "markdown",
   "metadata": {},
   "source": [
    "### MT13. What happens if mapper output does not match reducer input?   \n",
    " \n",
    "(a)  Hadoop API will convert the data to the type that is needed by the reducer.    \n",
    "(b)  Data input/output inconsistency cannot occur. A preliminary validation check is executed prior to the full execution of the job to ensure there is consistency.    \n",
    "(c)  The java compiler will report an error during compilation but the job will complete with exceptions.    \n",
    "(d)  A real-time exception will be thrown and map-reduce job will fail."
   ]
  },
  {
   "cell_type": "markdown",
   "metadata": {},
   "source": [
    "**Answer: (d). ** I wish (a) and (b) were true. (c) is also not true since the MR job fails."
   ]
  },
  {
   "cell_type": "markdown",
   "metadata": {},
   "source": [
    "### MT14. Why would a developer create a map-reduce without the reduce step?   \n",
    " \n",
    "(a)  Developers should design Map-Reduce jobs without reducers only if no reduce slots are available on the cluster.    \n",
    "(b)  Developers should never design Map-Reduce jobs without reducers. An error will occur upon compile.    \n",
    "(c)  There is a CPU intensive step that occurs between the map and reduce steps. Disabling the reduce step speeds up data processing.  \n",
    "(d)  It is not possible to create a map-reduce job without at least one reduce step. A developer may decide to limit to one reducer for debugging purposes.   \n",
    "\n"
   ]
  },
  {
   "cell_type": "markdown",
   "metadata": {},
   "source": [
    "**Answer: (c) is best.** Reducers may not be needed if we just want the \"shuffle, sort\" function of the mapper, for example."
   ]
  },
  {
   "cell_type": "markdown",
   "metadata": {},
   "source": [
    "===Gradient descent===\n",
    "### MT15. Which of the following are true statements with respect to gradient descent for machine learning, where alpha is the learning rate. Select all that apply\n",
    "\n",
    "* (I) To make gradient descent converge, we must slowly decrease alpha over time and use a combiner in the context of Hadoop.\n",
    "* (II) Gradient descent is guaranteed to find the global minimum for any unconstrained convex objective function J() regardless of using a combiner or not in the context of Hadoop\n",
    "* (III) Gradient descent can converge even if alpha is kept fixed. (But alpha cannot be too large, or else it may fail to converge.) Combiners will help speed up the process.\n",
    "* (IV) For the specific choice of cost function J() used in linear regression, there is no local optima (other than the global optimum).\n",
    "\n",
    "\n",
    "Select a single correct response from the following:\n",
    "* (a) I, II, III, IV\n",
    "* (b) I, III, IV\n",
    "* (c) II, III\n",
    "* (d) II,III, IV"
   ]
  },
  {
   "cell_type": "markdown",
   "metadata": {},
   "source": [
    "**Answer: (d).** (I) is not correct as we do not have to decrese alpha to get convergence. (IV) is true as cost functions for linear regression are convex and thus any local min or max is also global."
   ]
  },
  {
   "cell_type": "markdown",
   "metadata": {},
   "source": [
    "===Weighted K-means===\n",
    "\n",
    "Write a MapReduce job in MRJob to do the training at scale of a weighted K-means algorithm.\n",
    "\n",
    "You can write your own code or you can use most of the code from the following notebook:\n",
    "\n",
    "* http://nbviewer.jupyter.org/urls/dl.dropbox.com/s/oppgyfqxphlh69g/MrJobKmeans_Corrected.ipynb\n",
    "\n",
    "Weight each example as follows using the inverse vector length (Euclidean norm): \n",
    "\n",
    "weight(X)= 1/||X||, \n",
    "\n",
    "where ||X|| = SQRT(X.X)= SQRT(X1^2 + X2^2)\n",
    "\n",
    "Here X is vector made up of two component X1 and X2.\n",
    "\n",
    "Using the following data to answer the following TWO questions:\n",
    "\n",
    "* https://www.dropbox.com/s/ai1uc3q2ucverly/Kmeandata.csv?dl=0"
   ]
  },
  {
   "cell_type": "markdown",
   "metadata": {},
   "source": [
    "## Code to Do Weighted K-Means. Note: only see one question ie. MT16."
   ]
  },
  {
   "cell_type": "code",
   "execution_count": 19,
   "metadata": {},
   "outputs": [
    {
     "name": "stdout",
     "output_type": "stream",
     "text": [
      "(3000, 2)\n"
     ]
    },
    {
     "data": {
      "text/plain": [
       "[<matplotlib.lines.Line2D at 0x7f7e187e3590>]"
      ]
     },
     "execution_count": 19,
     "metadata": {},
     "output_type": "execute_result"
    },
    {
     "data": {
      "image/png": "[encoded data removed]",
      "text/plain": [
       "<matplotlib.figure.Figure at 0x7f7e1b6d0c90>"
      ]
     },
     "metadata": {},
     "output_type": "display_data"
    }
   ],
   "source": [
    " %matplotlib inline\n",
    "import numpy as np\n",
    "import pylab \n",
    "\n",
    "# Load data from dropbox\n",
    "data = np.loadtxt('Kmeandata.csv',delimiter = \",\")\n",
    "print data.shape\n",
    "pylab.plot(data[:,0], data[:,1], '*',color = 'blue') \n",
    "\n"
   ]
  },
  {
   "cell_type": "code",
   "execution_count": 20,
   "metadata": {},
   "outputs": [
    {
     "name": "stdout",
     "output_type": "stream",
     "text": [
      "Overwriting Kmeans.py\n"
     ]
    }
   ],
   "source": [
    "%%writefile Kmeans.py\n",
    "from numpy import argmin, array, random, sqrt, sum\n",
    "from mrjob.job import MRJob\n",
    "from mrjob.step import MRStep\n",
    "from itertools import chain\n",
    "import os\n",
    "\n",
    "#Calculate find the nearest centroid for data point \n",
    "def MinDist(datapoint, centroid_points):\n",
    "    datapoint = array(datapoint)\n",
    "    centroid_points = array(centroid_points)\n",
    "    diff = datapoint - centroid_points \n",
    "    ## Weighted distance\n",
    "    weights = sqrt(sum((diff)**2))\n",
    "    diffsq = diff*diff/weights\n",
    "    # Get the nearest centroid for each instance\n",
    "    minidx = argmin(list(diffsq.sum(axis = 1)))\n",
    "    return minidx\n",
    "\n",
    "#Check whether centroids converge\n",
    "def stop_criterion(centroid_points_old, centroid_points_new,T):\n",
    "    oldvalue = list(chain(*centroid_points_old))\n",
    "    newvalue = list(chain(*centroid_points_new))\n",
    "    Diff = [abs(x-y) for x, y in zip(oldvalue, newvalue)]\n",
    "    Flag = True\n",
    "    for i in Diff:\n",
    "        if(i>T):\n",
    "            Flag = False\n",
    "            break\n",
    "    return Flag\n",
    "\n",
    "class MRKmeans(MRJob):\n",
    "    centroid_points=[]\n",
    "    k=3    \n",
    "    def steps(self):\n",
    "        return [\n",
    "            MRStep(mapper_init = self.mapper_init, mapper=self.mapper,combiner = self.combiner,reducer=self.reducer)\n",
    "               ]\n",
    "    #load centroids info from file\n",
    "    def mapper_init(self):\n",
    "        print \"Current path:\", os.path.dirname(os.path.realpath(__file__))\n",
    "        \n",
    "        self.centroid_points = [map(float,s.split('\\n')[0].split(',')) for s in open(\"Centroids.txt\").readlines()]\n",
    "        #open('Centroids.txt', 'w').close()\n",
    "        \n",
    "        print \"Centroids: \", self.centroid_points\n",
    "        \n",
    "    #load data and output the nearest centroid index and data point \n",
    "    def mapper(self, _, line):\n",
    "        D = (map(float,line.split(',')))\n",
    "        yield int(MinDist(D,self.centroid_points)), (D[0],D[1],1)\n",
    "    #Combine sum of data points locally\n",
    "    def combiner(self, idx, inputdata):\n",
    "        sumx = sumy = num = 0\n",
    "        for x,y,n in inputdata:\n",
    "            num = num + n\n",
    "            sumx = sumx + x\n",
    "            sumy = sumy + y\n",
    "        yield idx,(sumx,sumy,num)\n",
    "    #Aggregate sum for each cluster and then calculate the new centroids\n",
    "    def reducer(self, idx, inputdata): \n",
    "        centroids = []\n",
    "        num = [0]*self.k \n",
    "        for i in range(self.k):\n",
    "            centroids.append([0,0])\n",
    "        for x, y, n in inputdata:\n",
    "            num[idx] = num[idx] + n\n",
    "            centroids[idx][0] = centroids[idx][0] + x\n",
    "            centroids[idx][1] = centroids[idx][1] + y\n",
    "        centroids[idx][0] = centroids[idx][0]/num[idx]\n",
    "        centroids[idx][1] = centroids[idx][1]/num[idx]\n",
    "\n",
    "        yield idx,(centroids[idx][0],centroids[idx][1])\n",
    "      \n",
    "if __name__ == '__main__':\n",
    "    MRKmeans.run()"
   ]
  },
  {
   "cell_type": "code",
   "execution_count": 21,
   "metadata": {},
   "outputs": [
    {
     "name": "stdout",
     "output_type": "stream",
     "text": [
      "iteration0:\n",
      "Current path: /tmp/Kmeans.root.20180228.153225.548660/step/000/cache\n",
      "Centroids:  [[0.995614990231, -2.37975427788], [-1.21908386769, 2.78374011103], [-1.06006001986, -0.0558908324254]]\n",
      "Current path: /tmp/Kmeans.root.20180228.153225.548660/step/000/cache\n",
      "Centroids:  [[0.995614990231, -2.37975427788], [-1.21908386769, 2.78374011103], [-1.06006001986, -0.0558908324254]]\n",
      "Current path: /tmp/Kmeans.root.20180228.153225.548660/step/000/cache\n",
      "Centroids:  [[0.995614990231, -2.37975427788], [-1.21908386769, 2.78374011103], [-1.06006001986, -0.0558908324254]]\n",
      "Current path: /tmp/Kmeans.root.20180228.153225.548660/step/000/cache\n",
      "Centroids:  [[0.995614990231, -2.37975427788], [-1.21908386769, 2.78374011103], [-1.06006001986, -0.0558908324254]]\n",
      "Current path: /tmp/Kmeans.root.20180228.153225.548660/step/000/cache\n",
      "Centroids:  [[0.995614990231, -2.37975427788], [-1.21908386769, 2.78374011103], [-1.06006001986, -0.0558908324254]]\n",
      "Current path: /tmp/Kmeans.root.20180228.153225.548660/step/000/cache\n",
      "Centroids:  [[0.995614990231, -2.37975427788], [-1.21908386769, 2.78374011103], [-1.06006001986, -0.0558908324254]]\n",
      "Current path: /tmp/Kmeans.root.20180228.153225.548660/step/000/cache\n",
      "Centroids:  [[0.995614990231, -2.37975427788], [-1.21908386769, 2.78374011103], [-1.06006001986, -0.0558908324254]]\n",
      "Current path: /tmp/Kmeans.root.20180228.153225.548660/step/000/cache\n",
      "Centroids:  [[0.995614990231, -2.37975427788], [-1.21908386769, 2.78374011103], [-1.06006001986, -0.0558908324254]]\n",
      "Current path: /tmp/Kmeans.root.20180228.153225.548660/step/000/cache\n",
      "Centroids:  [[0.995614990231, -2.37975427788], [-1.21908386769, 2.78374011103], [-1.06006001986, -0.0558908324254]]\n",
      "Current path: /tmp/Kmeans.root.20180228.153225.548660/step/000/cache\n",
      "Centroids:  [[0.995614990231, -2.37975427788], [-1.21908386769, 2.78374011103], [-1.06006001986, -0.0558908324254]]\n",
      "Current path: /tmp/Kmeans.root.20180228.153225.548660/step/000/cache\n",
      "Centroids:  [[0.995614990231, -2.37975427788], [-1.21908386769, 2.78374011103], [-1.06006001986, -0.0558908324254]]\n",
      "Current path: /tmp/Kmeans.root.20180228.153225.548660/step/000/cache\n",
      "Centroids:  [[0.995614990231, -2.37975427788], [-1.21908386769, 2.78374011103], [-1.06006001986, -0.0558908324254]]\n",
      "Current path: /tmp/Kmeans.root.20180228.153225.548660/step/000/cache\n",
      "Centroids:  [[0.995614990231, -2.37975427788], [-1.21908386769, 2.78374011103], [-1.06006001986, -0.0558908324254]]\n",
      "Current path: /tmp/Kmeans.root.20180228.153225.548660/step/000/cache\n",
      "Centroids:  [[0.995614990231, -2.37975427788], [-1.21908386769, 2.78374011103], [-1.06006001986, -0.0558908324254]]\n",
      "Current path: /tmp/Kmeans.root.20180228.153225.548660/step/000/cache\n",
      "Centroids:  [[0.995614990231, -2.37975427788], [-1.21908386769, 2.78374011103], [-1.06006001986, -0.0558908324254]]\n",
      "Current path: /tmp/Kmeans.root.20180228.153225.548660/step/000/cache\n",
      "Centroids:  [[0.995614990231, -2.37975427788], [-1.21908386769, 2.78374011103], [-1.06006001986, -0.0558908324254]]\n",
      "Current path: /tmp/Kmeans.root.20180228.153225.548660/step/000/cache\n",
      "Centroids:  [[0.995614990231, -2.37975427788], [-1.21908386769, 2.78374011103], [-1.06006001986, -0.0558908324254]]\n",
      "Current path: /tmp/Kmeans.root.20180228.153225.548660/step/000/cache\n",
      "Centroids:  [[0.995614990231, -2.37975427788], [-1.21908386769, 2.78374011103], [-1.06006001986, -0.0558908324254]]\n",
      "Current path: /tmp/Kmeans.root.20180228.153225.548660/step/000/cache\n",
      "Centroids:  [[0.995614990231, -2.37975427788], [-1.21908386769, 2.78374011103], [-1.06006001986, -0.0558908324254]]\n",
      "Current path: /tmp/Kmeans.root.20180228.153225.548660/step/000/cache\n",
      "Centroids:  [[0.995614990231, -2.37975427788], [-1.21908386769, 2.78374011103], [-1.06006001986, -0.0558908324254]]\n",
      "Current path: /tmp/Kmeans.root.20180228.153225.548660/step/000/cache\n",
      "Centroids:  [[0.995614990231, -2.37975427788], [-1.21908386769, 2.78374011103], [-1.06006001986, -0.0558908324254]]\n",
      "Current path: /tmp/Kmeans.root.20180228.153225.548660/step/000/cache\n",
      "Centroids:  [[0.995614990231, -2.37975427788], [-1.21908386769, 2.78374011103], [-1.06006001986, -0.0558908324254]]\n",
      "Current path: /tmp/Kmeans.root.20180228.153225.548660/step/000/cache\n",
      "Centroids:  [[0.995614990231, -2.37975427788], [-1.21908386769, 2.78374011103], [-1.06006001986, -0.0558908324254]]\n",
      "Current path: /tmp/Kmeans.root.20180228.153225.548660/step/000/cache\n",
      "Centroids:  [[0.995614990231, -2.37975427788], [-1.21908386769, 2.78374011103], [-1.06006001986, -0.0558908324254]]\n",
      "Current path: /tmp/Kmeans.root.20180228.153225.548660/step/000/cache\n",
      "Centroids:  [[0.995614990231, -2.37975427788], [-1.21908386769, 2.78374011103], [-1.06006001986, -0.0558908324254]]\n",
      "Current path: /tmp/Kmeans.root.20180228.153225.548660/step/000/cache\n",
      "Centroids:  [[0.995614990231, -2.37975427788], [-1.21908386769, 2.78374011103], [-1.06006001986, -0.0558908324254]]\n",
      "Current path: /tmp/Kmeans.root.20180228.153225.548660/step/000/cache\n",
      "Centroids:  [[0.995614990231, -2.37975427788], [-1.21908386769, 2.78374011103], [-1.06006001986, -0.0558908324254]]\n",
      "Current path: /tmp/Kmeans.root.20180228.153225.548660/step/000/cache\n",
      "Centroids:  [[0.995614990231, -2.37975427788], [-1.21908386769, 2.78374011103], [-1.06006001986, -0.0558908324254]]\n",
      "Current path: /tmp/Kmeans.root.20180228.153225.548660/step/000/cache\n",
      "Centroids:  [[0.995614990231, -2.37975427788], [-1.21908386769, 2.78374011103], [-1.06006001986, -0.0558908324254]]\n",
      "Current path: /tmp/Kmeans.root.20180228.153225.548660/step/000/cache\n",
      "Centroids:  [[0.995614990231, -2.37975427788], [-1.21908386769, 2.78374011103], [-1.06006001986, -0.0558908324254]]\n",
      "Current path: /tmp/Kmeans.root.20180228.153225.548660/step/000/cache\n",
      "Centroids:  [[0.995614990231, -2.37975427788], [-1.21908386769, 2.78374011103], [-1.06006001986, -0.0558908324254]]\n",
      "Current path: /tmp/Kmeans.root.20180228.153225.548660/step/000/cache\n",
      "Centroids:  [[0.995614990231, -2.37975427788], [-1.21908386769, 2.78374011103], [-1.06006001986, -0.0558908324254]]\n",
      "Current path: /tmp/Kmeans.root.20180228.153225.548660/step/000/cache\n",
      "Centroids:  [[0.995614990231, -2.37975427788], [-1.21908386769, 2.78374011103], [-1.06006001986, -0.0558908324254]]\n",
      "2 [-4.9263345039, -0.3838259684]\n",
      "0 [5.0808983245, -0.12853428420000002]\n",
      "1 [-0.5804844156, 4.4470840601]\n",
      "\n",
      "\n",
      "iteration1:\n",
      "Current path: /tmp/Kmeans.root.20180228.153226.053881/step/000/cache\n",
      "Centroids:  [[5.0808983245, -0.1285342842], [-0.5804844156, 4.4470840601], [-4.9263345039, -0.3838259684]]\n",
      "Current path: /tmp/Kmeans.root.20180228.153226.053881/step/000/cache\n",
      "Centroids:  [[5.0808983245, -0.1285342842], [-0.5804844156, 4.4470840601], [-4.9263345039, -0.3838259684]]\n",
      "Current path: /tmp/Kmeans.root.20180228.153226.053881/step/000/cache\n",
      "Centroids:  [[5.0808983245, -0.1285342842], [-0.5804844156, 4.4470840601], [-4.9263345039, -0.3838259684]]\n",
      "Current path: /tmp/Kmeans.root.20180228.153226.053881/step/000/cache\n",
      "Centroids:  [[5.0808983245, -0.1285342842], [-0.5804844156, 4.4470840601], [-4.9263345039, -0.3838259684]]\n",
      "Current path: /tmp/Kmeans.root.20180228.153226.053881/step/000/cache\n",
      "Centroids:  [[5.0808983245, -0.1285342842], [-0.5804844156, 4.4470840601], [-4.9263345039, -0.3838259684]]\n",
      "Current path: /tmp/Kmeans.root.20180228.153226.053881/step/000/cache\n",
      "Centroids:  [[5.0808983245, -0.1285342842], [-0.5804844156, 4.4470840601], [-4.9263345039, -0.3838259684]]\n",
      "Current path: /tmp/Kmeans.root.20180228.153226.053881/step/000/cache\n",
      "Centroids:  [[5.0808983245, -0.1285342842], [-0.5804844156, 4.4470840601], [-4.9263345039, -0.3838259684]]\n",
      "Current path: /tmp/Kmeans.root.20180228.153226.053881/step/000/cache\n",
      "Centroids:  [[5.0808983245, -0.1285342842], [-0.5804844156, 4.4470840601], [-4.9263345039, -0.3838259684]]\n",
      "Current path: /tmp/Kmeans.root.20180228.153226.053881/step/000/cache\n",
      "Centroids:  [[5.0808983245, -0.1285342842], [-0.5804844156, 4.4470840601], [-4.9263345039, -0.3838259684]]\n",
      "Current path: /tmp/Kmeans.root.20180228.153226.053881/step/000/cache\n",
      "Centroids:  [[5.0808983245, -0.1285342842], [-0.5804844156, 4.4470840601], [-4.9263345039, -0.3838259684]]\n",
      "Current path: /tmp/Kmeans.root.20180228.153226.053881/step/000/cache\n",
      "Centroids:  [[5.0808983245, -0.1285342842], [-0.5804844156, 4.4470840601], [-4.9263345039, -0.3838259684]]\n",
      "Current path: /tmp/Kmeans.root.20180228.153226.053881/step/000/cache\n",
      "Centroids:  [[5.0808983245, -0.1285342842], [-0.5804844156, 4.4470840601], [-4.9263345039, -0.3838259684]]\n",
      "Current path: /tmp/Kmeans.root.20180228.153226.053881/step/000/cache\n",
      "Centroids:  [[5.0808983245, -0.1285342842], [-0.5804844156, 4.4470840601], [-4.9263345039, -0.3838259684]]\n",
      "Current path: /tmp/Kmeans.root.20180228.153226.053881/step/000/cache\n",
      "Centroids:  [[5.0808983245, -0.1285342842], [-0.5804844156, 4.4470840601], [-4.9263345039, -0.3838259684]]\n",
      "Current path: /tmp/Kmeans.root.20180228.153226.053881/step/000/cache\n",
      "Centroids:  [[5.0808983245, -0.1285342842], [-0.5804844156, 4.4470840601], [-4.9263345039, -0.3838259684]]\n",
      "Current path: /tmp/Kmeans.root.20180228.153226.053881/step/000/cache\n",
      "Centroids:  [[5.0808983245, -0.1285342842], [-0.5804844156, 4.4470840601], [-4.9263345039, -0.3838259684]]\n",
      "Current path: /tmp/Kmeans.root.20180228.153226.053881/step/000/cache\n",
      "Centroids:  [[5.0808983245, -0.1285342842], [-0.5804844156, 4.4470840601], [-4.9263345039, -0.3838259684]]\n",
      "Current path: /tmp/Kmeans.root.20180228.153226.053881/step/000/cache\n",
      "Centroids:  [[5.0808983245, -0.1285342842], [-0.5804844156, 4.4470840601], [-4.9263345039, -0.3838259684]]\n",
      "Current path: /tmp/Kmeans.root.20180228.153226.053881/step/000/cache\n",
      "Centroids:  [[5.0808983245, -0.1285342842], [-0.5804844156, 4.4470840601], [-4.9263345039, -0.3838259684]]\n",
      "Current path: /tmp/Kmeans.root.20180228.153226.053881/step/000/cache\n",
      "Centroids:  [[5.0808983245, -0.1285342842], [-0.5804844156, 4.4470840601], [-4.9263345039, -0.3838259684]]\n",
      "Current path: /tmp/Kmeans.root.20180228.153226.053881/step/000/cache\n",
      "Centroids:  [[5.0808983245, -0.1285342842], [-0.5804844156, 4.4470840601], [-4.9263345039, -0.3838259684]]\n",
      "Current path: /tmp/Kmeans.root.20180228.153226.053881/step/000/cache\n",
      "Centroids:  [[5.0808983245, -0.1285342842], [-0.5804844156, 4.4470840601], [-4.9263345039, -0.3838259684]]\n",
      "Current path: /tmp/Kmeans.root.20180228.153226.053881/step/000/cache\n",
      "Centroids:  [[5.0808983245, -0.1285342842], [-0.5804844156, 4.4470840601], [-4.9263345039, -0.3838259684]]\n",
      "Current path: /tmp/Kmeans.root.20180228.153226.053881/step/000/cache\n",
      "Centroids:  [[5.0808983245, -0.1285342842], [-0.5804844156, 4.4470840601], [-4.9263345039, -0.3838259684]]\n",
      "Current path: /tmp/Kmeans.root.20180228.153226.053881/step/000/cache\n",
      "Centroids:  [[5.0808983245, -0.1285342842], [-0.5804844156, 4.4470840601], [-4.9263345039, -0.3838259684]]\n",
      "Current path: /tmp/Kmeans.root.20180228.153226.053881/step/000/cache\n",
      "Centroids:  [[5.0808983245, -0.1285342842], [-0.5804844156, 4.4470840601], [-4.9263345039, -0.3838259684]]\n",
      "Current path: /tmp/Kmeans.root.20180228.153226.053881/step/000/cache\n",
      "Centroids:  [[5.0808983245, -0.1285342842], [-0.5804844156, 4.4470840601], [-4.9263345039, -0.3838259684]]\n",
      "Current path: /tmp/Kmeans.root.20180228.153226.053881/step/000/cache\n",
      "Centroids:  [[5.0808983245, -0.1285342842], [-0.5804844156, 4.4470840601], [-4.9263345039, -0.3838259684]]\n",
      "Current path: /tmp/Kmeans.root.20180228.153226.053881/step/000/cache\n",
      "Centroids:  [[5.0808983245, -0.1285342842], [-0.5804844156, 4.4470840601], [-4.9263345039, -0.3838259684]]\n",
      "Current path: /tmp/Kmeans.root.20180228.153226.053881/step/000/cache\n",
      "Centroids:  [[5.0808983245, -0.1285342842], [-0.5804844156, 4.4470840601], [-4.9263345039, -0.3838259684]]\n",
      "Current path: /tmp/Kmeans.root.20180228.153226.053881/step/000/cache\n",
      "Centroids:  [[5.0808983245, -0.1285342842], [-0.5804844156, 4.4470840601], [-4.9263345039, -0.3838259684]]\n",
      "Current path: /tmp/Kmeans.root.20180228.153226.053881/step/000/cache\n",
      "Centroids:  [[5.0808983245, -0.1285342842], [-0.5804844156, 4.4470840601], [-4.9263345039, -0.3838259684]]\n",
      "Current path: /tmp/Kmeans.root.20180228.153226.053881/step/000/cache\n",
      "Centroids:  [[5.0808983245, -0.1285342842], [-0.5804844156, 4.4470840601], [-4.9263345039, -0.3838259684]]\n",
      "2 [-5.0034991478, -0.018153795]\n",
      "0 [5.0389609702, -0.0222973214]\n",
      "1 [0.026817351000000003, 4.9680355808000005]\n",
      "\n",
      "\n",
      "iteration2:\n",
      "Current path: /tmp/Kmeans.root.20180228.153226.558170/step/000/cache\n",
      "Centroids:  [[5.0389609702, -0.0222973214], [0.026817351, 4.9680355808], [-5.0034991478, -0.018153795]]\n",
      "Current path: /tmp/Kmeans.root.20180228.153226.558170/step/000/cache\n",
      "Centroids:  [[5.0389609702, -0.0222973214], [0.026817351, 4.9680355808], [-5.0034991478, -0.018153795]]\n",
      "Current path: /tmp/Kmeans.root.20180228.153226.558170/step/000/cache\n",
      "Centroids:  [[5.0389609702, -0.0222973214], [0.026817351, 4.9680355808], [-5.0034991478, -0.018153795]]\n",
      "Current path: /tmp/Kmeans.root.20180228.153226.558170/step/000/cache\n",
      "Centroids:  [[5.0389609702, -0.0222973214], [0.026817351, 4.9680355808], [-5.0034991478, -0.018153795]]\n",
      "Current path: /tmp/Kmeans.root.20180228.153226.558170/step/000/cache\n",
      "Centroids:  [[5.0389609702, -0.0222973214], [0.026817351, 4.9680355808], [-5.0034991478, -0.018153795]]\n",
      "Current path: /tmp/Kmeans.root.20180228.153226.558170/step/000/cache\n",
      "Centroids:  [[5.0389609702, -0.0222973214], [0.026817351, 4.9680355808], [-5.0034991478, -0.018153795]]\n",
      "Current path: /tmp/Kmeans.root.20180228.153226.558170/step/000/cache\n",
      "Centroids:  [[5.0389609702, -0.0222973214], [0.026817351, 4.9680355808], [-5.0034991478, -0.018153795]]\n",
      "Current path: /tmp/Kmeans.root.20180228.153226.558170/step/000/cache\n",
      "Centroids:  [[5.0389609702, -0.0222973214], [0.026817351, 4.9680355808], [-5.0034991478, -0.018153795]]\n",
      "Current path: /tmp/Kmeans.root.20180228.153226.558170/step/000/cache\n",
      "Centroids:  [[5.0389609702, -0.0222973214], [0.026817351, 4.9680355808], [-5.0034991478, -0.018153795]]\n",
      "Current path: /tmp/Kmeans.root.20180228.153226.558170/step/000/cache\n",
      "Centroids:  [[5.0389609702, -0.0222973214], [0.026817351, 4.9680355808], [-5.0034991478, -0.018153795]]\n",
      "Current path: /tmp/Kmeans.root.20180228.153226.558170/step/000/cache\n",
      "Centroids:  [[5.0389609702, -0.0222973214], [0.026817351, 4.9680355808], [-5.0034991478, -0.018153795]]\n",
      "Current path: /tmp/Kmeans.root.20180228.153226.558170/step/000/cache\n",
      "Centroids:  [[5.0389609702, -0.0222973214], [0.026817351, 4.9680355808], [-5.0034991478, -0.018153795]]\n",
      "Current path: /tmp/Kmeans.root.20180228.153226.558170/step/000/cache\n",
      "Centroids:  [[5.0389609702, -0.0222973214], [0.026817351, 4.9680355808], [-5.0034991478, -0.018153795]]\n",
      "Current path: /tmp/Kmeans.root.20180228.153226.558170/step/000/cache\n",
      "Centroids:  [[5.0389609702, -0.0222973214], [0.026817351, 4.9680355808], [-5.0034991478, -0.018153795]]\n",
      "Current path: /tmp/Kmeans.root.20180228.153226.558170/step/000/cache\n",
      "Centroids:  [[5.0389609702, -0.0222973214], [0.026817351, 4.9680355808], [-5.0034991478, -0.018153795]]\n",
      "Current path: /tmp/Kmeans.root.20180228.153226.558170/step/000/cache\n",
      "Centroids:  [[5.0389609702, -0.0222973214], [0.026817351, 4.9680355808], [-5.0034991478, -0.018153795]]\n",
      "Current path: /tmp/Kmeans.root.20180228.153226.558170/step/000/cache\n",
      "Centroids:  [[5.0389609702, -0.0222973214], [0.026817351, 4.9680355808], [-5.0034991478, -0.018153795]]\n",
      "Current path: /tmp/Kmeans.root.20180228.153226.558170/step/000/cache\n",
      "Centroids:  [[5.0389609702, -0.0222973214], [0.026817351, 4.9680355808], [-5.0034991478, -0.018153795]]\n",
      "Current path: /tmp/Kmeans.root.20180228.153226.558170/step/000/cache\n",
      "Centroids:  [[5.0389609702, -0.0222973214], [0.026817351, 4.9680355808], [-5.0034991478, -0.018153795]]\n",
      "Current path: /tmp/Kmeans.root.20180228.153226.558170/step/000/cache\n",
      "Centroids:  [[5.0389609702, -0.0222973214], [0.026817351, 4.9680355808], [-5.0034991478, -0.018153795]]\n",
      "Current path: /tmp/Kmeans.root.20180228.153226.558170/step/000/cache\n",
      "Centroids:  [[5.0389609702, -0.0222973214], [0.026817351, 4.9680355808], [-5.0034991478, -0.018153795]]\n",
      "Current path: /tmp/Kmeans.root.20180228.153226.558170/step/000/cache\n",
      "Centroids:  [[5.0389609702, -0.0222973214], [0.026817351, 4.9680355808], [-5.0034991478, -0.018153795]]\n",
      "Current path: /tmp/Kmeans.root.20180228.153226.558170/step/000/cache\n",
      "Centroids:  [[5.0389609702, -0.0222973214], [0.026817351, 4.9680355808], [-5.0034991478, -0.018153795]]\n",
      "Current path: /tmp/Kmeans.root.20180228.153226.558170/step/000/cache\n",
      "Centroids:  [[5.0389609702, -0.0222973214], [0.026817351, 4.9680355808], [-5.0034991478, -0.018153795]]\n",
      "Current path: /tmp/Kmeans.root.20180228.153226.558170/step/000/cache\n",
      "Centroids:  [[5.0389609702, -0.0222973214], [0.026817351, 4.9680355808], [-5.0034991478, -0.018153795]]\n",
      "Current path: /tmp/Kmeans.root.20180228.153226.558170/step/000/cache\n",
      "Centroids:  [[5.0389609702, -0.0222973214], [0.026817351, 4.9680355808], [-5.0034991478, -0.018153795]]\n",
      "Current path: /tmp/Kmeans.root.20180228.153226.558170/step/000/cache\n",
      "Centroids:  [[5.0389609702, -0.0222973214], [0.026817351, 4.9680355808], [-5.0034991478, -0.018153795]]\n",
      "Current path: /tmp/Kmeans.root.20180228.153226.558170/step/000/cache\n",
      "Centroids:  [[5.0389609702, -0.0222973214], [0.026817351, 4.9680355808], [-5.0034991478, -0.018153795]]\n",
      "Current path: /tmp/Kmeans.root.20180228.153226.558170/step/000/cache\n",
      "Centroids:  [[5.0389609702, -0.0222973214], [0.026817351, 4.9680355808], [-5.0034991478, -0.018153795]]\n",
      "Current path: /tmp/Kmeans.root.20180228.153226.558170/step/000/cache\n",
      "Centroids:  [[5.0389609702, -0.0222973214], [0.026817351, 4.9680355808], [-5.0034991478, -0.018153795]]\n",
      "Current path: /tmp/Kmeans.root.20180228.153226.558170/step/000/cache\n",
      "Centroids:  [[5.0389609702, -0.0222973214], [0.026817351, 4.9680355808], [-5.0034991478, -0.018153795]]\n",
      "Current path: /tmp/Kmeans.root.20180228.153226.558170/step/000/cache\n",
      "Centroids:  [[5.0389609702, -0.0222973214], [0.026817351, 4.9680355808], [-5.0034991478, -0.018153795]]\n",
      "Current path: /tmp/Kmeans.root.20180228.153226.558170/step/000/cache\n",
      "Centroids:  [[5.0389609702, -0.0222973214], [0.026817351, 4.9680355808], [-5.0034991478, -0.018153795]]\n",
      "2 [-4.9858056889, 0.0009376094000000001]\n",
      "0 [5.0402327161, -0.026294230000000002]\n",
      "1 [0.053065423800000004, 4.9877934239]\n",
      "\n",
      "\n",
      "iteration3:\n",
      "Current path: /tmp/Kmeans.root.20180228.153227.106818/step/000/cache\n",
      "Centroids:  [[5.0402327161, -0.02629423], [0.0530654238, 4.9877934239], [-4.9858056889, 0.0009376094]]\n",
      "Current path: /tmp/Kmeans.root.20180228.153227.106818/step/000/cache\n",
      "Centroids:  [[5.0402327161, -0.02629423], [0.0530654238, 4.9877934239], [-4.9858056889, 0.0009376094]]\n",
      "Current path: /tmp/Kmeans.root.20180228.153227.106818/step/000/cache\n",
      "Centroids:  [[5.0402327161, -0.02629423], [0.0530654238, 4.9877934239], [-4.9858056889, 0.0009376094]]\n",
      "Current path: /tmp/Kmeans.root.20180228.153227.106818/step/000/cache\n",
      "Centroids:  [[5.0402327161, -0.02629423], [0.0530654238, 4.9877934239], [-4.9858056889, 0.0009376094]]\n",
      "Current path: /tmp/Kmeans.root.20180228.153227.106818/step/000/cache\n",
      "Centroids:  [[5.0402327161, -0.02629423], [0.0530654238, 4.9877934239], [-4.9858056889, 0.0009376094]]\n",
      "Current path: /tmp/Kmeans.root.20180228.153227.106818/step/000/cache\n",
      "Centroids:  [[5.0402327161, -0.02629423], [0.0530654238, 4.9877934239], [-4.9858056889, 0.0009376094]]\n",
      "Current path: /tmp/Kmeans.root.20180228.153227.106818/step/000/cache\n",
      "Centroids:  [[5.0402327161, -0.02629423], [0.0530654238, 4.9877934239], [-4.9858056889, 0.0009376094]]\n",
      "Current path: /tmp/Kmeans.root.20180228.153227.106818/step/000/cache\n",
      "Centroids:  [[5.0402327161, -0.02629423], [0.0530654238, 4.9877934239], [-4.9858056889, 0.0009376094]]\n",
      "Current path: /tmp/Kmeans.root.20180228.153227.106818/step/000/cache\n",
      "Centroids:  [[5.0402327161, -0.02629423], [0.0530654238, 4.9877934239], [-4.9858056889, 0.0009376094]]\n",
      "Current path: /tmp/Kmeans.root.20180228.153227.106818/step/000/cache\n",
      "Centroids:  [[5.0402327161, -0.02629423], [0.0530654238, 4.9877934239], [-4.9858056889, 0.0009376094]]\n",
      "Current path: /tmp/Kmeans.root.20180228.153227.106818/step/000/cache\n",
      "Centroids:  [[5.0402327161, -0.02629423], [0.0530654238, 4.9877934239], [-4.9858056889, 0.0009376094]]\n",
      "Current path: /tmp/Kmeans.root.20180228.153227.106818/step/000/cache\n",
      "Centroids:  [[5.0402327161, -0.02629423], [0.0530654238, 4.9877934239], [-4.9858056889, 0.0009376094]]\n",
      "Current path: /tmp/Kmeans.root.20180228.153227.106818/step/000/cache\n",
      "Centroids:  [[5.0402327161, -0.02629423], [0.0530654238, 4.9877934239], [-4.9858056889, 0.0009376094]]\n",
      "Current path: /tmp/Kmeans.root.20180228.153227.106818/step/000/cache\n",
      "Centroids:  [[5.0402327161, -0.02629423], [0.0530654238, 4.9877934239], [-4.9858056889, 0.0009376094]]\n",
      "Current path: /tmp/Kmeans.root.20180228.153227.106818/step/000/cache\n",
      "Centroids:  [[5.0402327161, -0.02629423], [0.0530654238, 4.9877934239], [-4.9858056889, 0.0009376094]]\n",
      "Current path: /tmp/Kmeans.root.20180228.153227.106818/step/000/cache\n",
      "Centroids:  [[5.0402327161, -0.02629423], [0.0530654238, 4.9877934239], [-4.9858056889, 0.0009376094]]\n",
      "Current path: /tmp/Kmeans.root.20180228.153227.106818/step/000/cache\n",
      "Centroids:  [[5.0402327161, -0.02629423], [0.0530654238, 4.9877934239], [-4.9858056889, 0.0009376094]]\n",
      "Current path: /tmp/Kmeans.root.20180228.153227.106818/step/000/cache\n",
      "Centroids:  [[5.0402327161, -0.02629423], [0.0530654238, 4.9877934239], [-4.9858056889, 0.0009376094]]\n",
      "Current path: /tmp/Kmeans.root.20180228.153227.106818/step/000/cache\n",
      "Centroids:  [[5.0402327161, -0.02629423], [0.0530654238, 4.9877934239], [-4.9858056889, 0.0009376094]]\n",
      "Current path: /tmp/Kmeans.root.20180228.153227.106818/step/000/cache\n",
      "Centroids:  [[5.0402327161, -0.02629423], [0.0530654238, 4.9877934239], [-4.9858056889, 0.0009376094]]\n",
      "Current path: /tmp/Kmeans.root.20180228.153227.106818/step/000/cache\n",
      "Centroids:  [[5.0402327161, -0.02629423], [0.0530654238, 4.9877934239], [-4.9858056889, 0.0009376094]]\n",
      "Current path: /tmp/Kmeans.root.20180228.153227.106818/step/000/cache\n",
      "Centroids:  [[5.0402327161, -0.02629423], [0.0530654238, 4.9877934239], [-4.9858056889, 0.0009376094]]\n",
      "Current path: /tmp/Kmeans.root.20180228.153227.106818/step/000/cache\n",
      "Centroids:  [[5.0402327161, -0.02629423], [0.0530654238, 4.9877934239], [-4.9858056889, 0.0009376094]]\n",
      "Current path: /tmp/Kmeans.root.20180228.153227.106818/step/000/cache\n",
      "Centroids:  [[5.0402327161, -0.02629423], [0.0530654238, 4.9877934239], [-4.9858056889, 0.0009376094]]\n",
      "Current path: /tmp/Kmeans.root.20180228.153227.106818/step/000/cache\n",
      "Centroids:  [[5.0402327161, -0.02629423], [0.0530654238, 4.9877934239], [-4.9858056889, 0.0009376094]]\n",
      "Current path: /tmp/Kmeans.root.20180228.153227.106818/step/000/cache\n",
      "Centroids:  [[5.0402327161, -0.02629423], [0.0530654238, 4.9877934239], [-4.9858056889, 0.0009376094]]\n",
      "Current path: /tmp/Kmeans.root.20180228.153227.106818/step/000/cache\n",
      "Centroids:  [[5.0402327161, -0.02629423], [0.0530654238, 4.9877934239], [-4.9858056889, 0.0009376094]]\n",
      "Current path: /tmp/Kmeans.root.20180228.153227.106818/step/000/cache\n",
      "Centroids:  [[5.0402327161, -0.02629423], [0.0530654238, 4.9877934239], [-4.9858056889, 0.0009376094]]\n",
      "Current path: /tmp/Kmeans.root.20180228.153227.106818/step/000/cache\n",
      "Centroids:  [[5.0402327161, -0.02629423], [0.0530654238, 4.9877934239], [-4.9858056889, 0.0009376094]]\n",
      "Current path: /tmp/Kmeans.root.20180228.153227.106818/step/000/cache\n",
      "Centroids:  [[5.0402327161, -0.02629423], [0.0530654238, 4.9877934239], [-4.9858056889, 0.0009376094]]\n",
      "Current path: /tmp/Kmeans.root.20180228.153227.106818/step/000/cache\n",
      "Centroids:  [[5.0402327161, -0.02629423], [0.0530654238, 4.9877934239], [-4.9858056889, 0.0009376094]]\n",
      "Current path: /tmp/Kmeans.root.20180228.153227.106818/step/000/cache\n",
      "Centroids:  [[5.0402327161, -0.02629423], [0.0530654238, 4.9877934239], [-4.9858056889, 0.0009376094]]\n",
      "Current path: /tmp/Kmeans.root.20180228.153227.106818/step/000/cache\n",
      "Centroids:  [[5.0402327161, -0.02629423], [0.0530654238, 4.9877934239], [-4.9858056889, 0.0009376094]]\n",
      "2 [-4.9858056889, 0.0009376094000000001]\n",
      "0 [5.0402327161, -0.026294230000000002]\n",
      "1 [0.053065423800000004, 4.9877934239]\n",
      "\n",
      "\n",
      "Centroids\n",
      "\n",
      "[[5.0402327161, -0.026294230000000002], [0.053065423800000004, 4.9877934239], [-4.9858056889, 0.0009376094000000001]]\n"
     ]
    }
   ],
   "source": [
    "%reload_ext autoreload\n",
    "%autoreload 2\n",
    "from numpy import random\n",
    "from Kmeans import MRKmeans, stop_criterion\n",
    "mr_job = MRKmeans(args=['Kmeandata.csv', '--file=Centroids.txt'])\n",
    "\n",
    "#Geneate initial centroids\n",
    "centroid_points = []\n",
    "k = 3\n",
    "for i in range(k):\n",
    "    centroid_points.append([random.uniform(-3,3),random.uniform(-3,3)])\n",
    "with open('Centroids.txt', 'w+') as f:\n",
    "        f.writelines(','.join(str(j) for j in i) + '\\n' for i in centroid_points)\n",
    "\n",
    "# Update centroids iteratively\n",
    "i = 0\n",
    "while i < 10: ## MODIFY  - 10 ITERATIONS, CONVERGES BEFORE   \n",
    "    # save previous centoids to check convergency\n",
    "    centroid_points_old = centroid_points[:]\n",
    "    print \"iteration\"+str(i)+\":\"\n",
    "    with mr_job.make_runner() as runner: \n",
    "        runner.run()\n",
    "        # stream_output: get access of the output \n",
    "        for line in runner.stream_output():\n",
    "            key,value =  mr_job.parse_output_line(line)\n",
    "            print key, value\n",
    "            centroid_points[key] = value\n",
    "            \n",
    "        # Update the centroids for the next iteration\n",
    "        with open('Centroids.txt', 'w') as f:\n",
    "            f.writelines(','.join(str(j) for j in i) + '\\n' for i in centroid_points)\n",
    "        \n",
    "    print \"\\n\"\n",
    "    i = i + 1\n",
    "    if(stop_criterion(centroid_points_old,centroid_points,0.01)):\n",
    "        break\n",
    "print \"Centroids\\n\"\n",
    "print centroid_points"
   ]
  },
  {
   "cell_type": "markdown",
   "metadata": {},
   "source": [
    "## Plot to help with MT16"
   ]
  },
  {
   "cell_type": "code",
   "execution_count": 22,
   "metadata": {},
   "outputs": [
    {
     "data": {
      "image/png": "[encoded data removed]",
      "text/plain": [
       "<matplotlib.figure.Figure at 0x7f7e1b6d0e90>"
      ]
     },
     "metadata": {},
     "output_type": "display_data"
    }
   ],
   "source": [
    " %matplotlib inline\n",
    "import pylab \n",
    "\n",
    "data_a = np.array([[-4.0,0.0], [4.0,0.0], [6.0,6.0]])\n",
    "data_b = np.array([[-4.5,0.0], [4.5,0.0], [0.0,4.5]])\n",
    "data_c = np.array([[-5.5,0.0], [0.0,0.0], [3.0,3.0]])\n",
    "data_d = np.array([[-4.5,0.0], [-4.0,0.0], [0.0,4.5]])\n",
    "\n",
    "pylab.plot(data[:,0], data[:,1], '.',color = 'blue')\n",
    "for point in centroid_points:\n",
    "    pylab.plot(point[0], point[1], '*',color='pink',markersize=20)\n",
    "pylab.plot(data_a[:,0], data_a[:,1], 'X',color='green', markersize=30)\n",
    "pylab.show()"
   ]
  },
  {
   "cell_type": "code",
   "execution_count": 23,
   "metadata": {},
   "outputs": [
    {
     "data": {
      "image/png": "[encoded data removed]",
      "text/plain": [
       "<matplotlib.figure.Figure at 0x7f7e1ac1d450>"
      ]
     },
     "metadata": {},
     "output_type": "display_data"
    }
   ],
   "source": [
    "pylab.plot(data[:,0], data[:,1], '.',color = 'blue')\n",
    "for point in centroid_points:\n",
    "    pylab.plot(point[0], point[1], '*',color='pink',markersize=20)\n",
    "pylab.plot(data_b[:,0], data_b[:,1], 'X',color='green', markersize=30)\n",
    "pylab.show()"
   ]
  },
  {
   "cell_type": "code",
   "execution_count": 24,
   "metadata": {},
   "outputs": [
    {
     "data": {
      "image/png": "[encoded data removed]",
      "text/plain": [
       "<matplotlib.figure.Figure at 0x7f7e187c2e50>"
      ]
     },
     "metadata": {},
     "output_type": "display_data"
    }
   ],
   "source": [
    "pylab.plot(data[:,0], data[:,1], '.',color = 'blue')\n",
    "for point in centroid_points:\n",
    "    pylab.plot(point[0], point[1], '*',color='pink',markersize=20)\n",
    "pylab.plot(data_c[:,0], data_c[:,1], 'X',color='green', markersize=30)\n",
    "pylab.show()"
   ]
  },
  {
   "cell_type": "code",
   "execution_count": 25,
   "metadata": {},
   "outputs": [
    {
     "data": {
      "image/png": "[encoded data removed]",
      "text/plain": [
       "<matplotlib.figure.Figure at 0x7f7e1863bd10>"
      ]
     },
     "metadata": {},
     "output_type": "display_data"
    }
   ],
   "source": [
    "pylab.plot(data[:,0], data[:,1], '.',color = 'blue')\n",
    "for point in centroid_points:\n",
    "    pylab.plot(point[0], point[1], '*',color='pink',markersize=20)\n",
    "pylab.plot(data_d[:,0], data_d[:,1], 'X',color='green', markersize=30)\n",
    "pylab.show()"
   ]
  },
  {
   "cell_type": "markdown",
   "metadata": {},
   "source": [
    "### MT16. Which result below is the closest to the centroids you got after running your weighted K-means code for K=3 for 10 iterations? \n",
    "(old11-12)\n",
    "\n",
    "* (a) (-4.0,0.0), (4.0,0.0), (6.0,6.0)     \n",
    "* (b) (-4.5,0.0), (4.5,0.0), (0.0,4.5)    \n",
    "* (c) (-5.5,0.0), (0.0,0.0), (3.0,3.0)    \n",
    "* (d) (-4.5,0.0), (-4.0,0.0), (0.0,4.5)  "
   ]
  },
  {
   "cell_type": "markdown",
   "metadata": {},
   "source": [
    "**Answer: (b).** See above plots. (We can also calculate distance and sum them.)"
   ]
  },
  {
   "cell_type": "markdown",
   "metadata": {},
   "source": [
    "### MT17 Regularization: Which Regularizer is used"
   ]
  },
  {
   "cell_type": "code",
   "execution_count": 26,
   "metadata": {
    "collapsed": true
   },
   "outputs": [],
   "source": [
    "import numpy as np\n",
    "W = np.array([6, -3, -2, 1])\n",
    "x = np.array([[1], \n",
    "              [2], \n",
    "              [3], \n",
    "              [4]])\n",
    "y = 2\n",
    "lam = 0.1\n",
    "total_loss = 22.2"
   ]
  },
  {
   "cell_type": "code",
   "execution_count": 27,
   "metadata": {},
   "outputs": [
    {
     "name": "stdout",
     "output_type": "stream",
     "text": [
      "L1:  16.6\n",
      "L2:  16.3741657387\n",
      "ElasticNet:  16.9741657387\n",
      "\n",
      "HOWEVER if lam = 1 not 0.1:\n",
      "L1:  22.0\n",
      "L2:  19.7416573868\n",
      "ElasticNet:  25.7416573868\n"
     ]
    }
   ],
   "source": [
    "# Calculations \n",
    "\n",
    "N = float(x.shape[1]) # Sample size\n",
    "lam = 0.1 \n",
    "loss_L1 = 1/N * np.sum((y - np.matmul(W,x))**2) + lam * np.sum(np.absolute(W[1:]))\n",
    "print \"L1: \", loss_L1\n",
    "\n",
    "loss_L2 =  1/N * np.sum((y - np.matmul(W,x))**2) + lam * np.sqrt(np.sum(np.square(W[1:])))\n",
    "print \"L2: \", loss_L2\n",
    "\n",
    "loss_Elastic = 1/N * np.sum((y - np.matmul(W,x))**2) + lam * np.sqrt(np.sum(np.square(W[1:]))) + lam * np.sum(np.absolute(W[1:]))\n",
    "print \"ElasticNet: \", loss_Elastic\n",
    "\n",
    "##NOTE IF LAM = 1 THEN WE GET L1 TOTAL LOSS AT 22\n",
    "\n",
    "lam = 1\n",
    "print \"\\nHOWEVER if lam = 1 not 0.1:\"\n",
    "loss_L1 = 1/N * np.sum((y - np.matmul(W,x))**2) + lam * np.sum(np.absolute(W[1:]))\n",
    "print \"L1: \", loss_L1\n",
    "\n",
    "loss_L2 =  1/N * np.sum((y - np.matmul(W,x))**2) + lam * np.sqrt(np.sum(np.square(W[1:])))\n",
    "print \"L2: \", loss_L2\n",
    "\n",
    "loss_Elastic = 1/N * np.sum((y - np.matmul(W,x))**2) + lam * np.sqrt(np.sum(np.square(W[1:]))) + lam * np.sum(np.absolute(W[1:]))\n",
    "print \"ElasticNet: \", loss_Elastic\n"
   ]
  },
  {
   "cell_type": "markdown",
   "metadata": {},
   "source": [
    "Using the code provided above and assuming that we have the following weight vector denoting the weights of a linear regression model,  a sample training example, and its corresponding target value y\n",
    "\n",
    "$$\n",
    "\\mathbf{w}^{\\text{T}} = \n",
    "\\begin{bmatrix}\n",
    "6\\\\\n",
    "-3\\\\\n",
    "-2\\\\\n",
    "1\\\\\n",
    "\\end{bmatrix},\\,\\,\n",
    "\\mathbf{x} = \n",
    "\\begin{bmatrix}\n",
    "1\\\\\n",
    "2\\\\\n",
    "3\\\\\n",
    "4\\\\\n",
    "\\end{bmatrix},\\,\\,\n",
    "y = 2\n",
    "$$\n",
    "\n",
    "Calculate the prediction using the linear transformation function.  Assuming that the loss function is made up of  an **MSE** component and a regularization component with $\\lambda=0.1$ for any regularization components used,  we get a total loss of $22.2$.\n",
    "\n",
    "What type of regularization was used?\n",
    "\n",
    "Select the single most correct response from the following: \n",
    "\n",
    "(a) L1   \n",
    "(b) L2   \n",
    "(c) ElacticNet (L1+L2)   \n",
    "(d) None of the above    \n"
   ]
  },
  {
   "cell_type": "markdown",
   "metadata": {},
   "source": [
    "**Answer: (d) none of the above unless lam = 1.** See calculations above."
   ]
  },
  {
   "cell_type": "markdown",
   "metadata": {},
   "source": [
    "### MT18 Regularization: ElasticNet for Linear Regression"
   ]
  },
  {
   "cell_type": "markdown",
   "metadata": {},
   "source": [
    "Take $\\text{BasicLinearRegressionHomegrown}$ *python class* from the first assignment and implement **ElasticNet** regularization which is L1 and L2 at the same time (with different regularization constants)\n",
    "\n",
    "$$\n",
    "\\text{obj} = \\|\\text{X}\\cdot\\boldsymbol{\\theta} - \\mathbf{y}\\|_2^2 + \\lambda_1 \\|\\boldsymbol{\\theta}\\|_1 + \\lambda_2 \\|\\boldsymbol{\\theta}\\|_2^2\n",
    "$$\n",
    "\n",
    "Provide the value of the objective function for $\\lambda_1 = 0.1,\\, \\lambda_2 = 0.2$ and with two decimal digits of precision. "
   ]
  },
  {
   "cell_type": "code",
   "execution_count": 28,
   "metadata": {
    "collapsed": true
   },
   "outputs": [],
   "source": [
    "# generate data artificially\n",
    "X = np.arange(1, 20)\n",
    "\n",
    "k, b = 1.5, 3\n",
    "\n",
    "y = k * X + b\n",
    "\n",
    "np.random.seed(21)\n",
    "y += np.random.normal(loc=0.0, scale=3.0, size=len(X))"
   ]
  },
  {
   "cell_type": "code",
   "execution_count": 29,
   "metadata": {
    "collapsed": true
   },
   "outputs": [
    {
     "data": {
      "image/png": "[encoded data removed]",
      "text/plain": [
       "<matplotlib.figure.Figure at 0x7f7e18682c50>"
      ]
     },
     "metadata": {},
     "output_type": "display_data"
    }
   ],
   "source": [
    "plt.scatter(X, y)\n",
    "plt.plot([0, 20], [b, k * 20 + b], \"r\", linewidth=2, label=\"Real\")\n",
    "plt.xlim([0, 20])\n",
    "plt.ylim([0, 35])\n",
    "plt.legend(loc=\"lower right\")\n",
    "plt.show()"
   ]
  },
  {
   "cell_type": "code",
   "execution_count": 30,
   "metadata": {
    "collapsed": true
   },
   "outputs": [],
   "source": [
    "X = X.reshape(-1, 1)"
   ]
  },
  {
   "cell_type": "code",
   "execution_count": 31,
   "metadata": {
    "collapsed": true
   },
   "outputs": [],
   "source": [
    "class BasicLinearRegressionHomegrown(object):\n",
    "    \n",
    "    def __init__(self, l1=0.0, l2=0.0):\n",
    "        self.coef_ = None       # weight vector\n",
    "        self.intercept_ = None  # bias term\n",
    "        self._theta = None      # augmented weight vector, i.e., bias + weights\n",
    "                                # this allows to treat all decision variables homogeneously\n",
    "        self.l1 = l1\n",
    "        self.l2 = l2\n",
    "        \n",
    "    # calculate gradient of objective function\n",
    "    def _grad(self, X, y):\n",
    "        pred = np.dot(X, self._theta)\n",
    "        error = pred - y\n",
    "        gradient = 2 * np.dot(error, X) / X.shape[0]\n",
    "        return gradient\n",
    "    \n",
    "    # full gradient descent, i.e., not stochastic gd\n",
    "    def _gd(self, X, y, max_iter, alpha=0.005):\n",
    "        for i in range(max_iter):\n",
    "            # calculate gradient\n",
    "            grad = self._grad(X, y)\n",
    "            # do gradient step\n",
    "            self._theta -= alpha * grad\n",
    "    \n",
    "    # public API for fitting a linear regression model\n",
    "    def fit(self, X, y, max_iter=1000):\n",
    "        # Augment the data with the bias term.\n",
    "        # So we can treat the the input variables and the bias term homogeneously \n",
    "        # from a vectorization perspective\n",
    "        X = np.c_[np.ones(X.shape[0]), X]\n",
    "        # initialize if the first step\n",
    "        if self._theta is None:\n",
    "            np.random.seed(21)\n",
    "            self._theta = np.random.rand(X.shape[1])\n",
    "        \n",
    "        # do full gradient descent\n",
    "        self._gd(X, y, max_iter)\n",
    "        \n",
    "        self.intercept_ = self._theta[0]\n",
    "        self.coef_ = self._theta[1:]\n",
    "        \n",
    "    def score(self, X, y):\n",
    "        pred = self.predict(X)\n",
    "        error = pred - y\n",
    "        obj = np.sum(error ** 2) / X.shape[0]\n",
    "        return obj\n",
    "        \n",
    "    def predict(self, X):\n",
    "        # check whether X has appended bias feature or not\n",
    "        if X.shape[1] == len(self._theta):\n",
    "            pred = np.dot(X, self._theta)\n",
    "        else:\n",
    "            pred = np.dot(X, self.coef_) + self.intercept_\n",
    "        return pred"
   ]
  },
  {
   "cell_type": "markdown",
   "metadata": {},
   "source": [
    "## New class based on Homegrown"
   ]
  },
  {
   "cell_type": "code",
   "execution_count": 32,
   "metadata": {},
   "outputs": [],
   "source": [
    "class RegularizedLinearRegressionHomegrown(BasicLinearRegressionHomegrown):\n",
    "    \n",
    "    def __init__(self, l1_reg=0.0, l2_reg=0.0):\n",
    "        # call the constructor of the parent class\n",
    "        super(RegularizedLinearRegressionHomegrown, self).__init__()\n",
    "        self.l1_reg = l1_reg\n",
    "        self.l2_reg = l2_reg\n",
    "        \n",
    "    def _grad(self, X, y):\n",
    "        pred = np.dot(X, self._theta)\n",
    "        error = pred - y\n",
    "        gradient = 2 * np.dot(error, X) / X.shape[0]\n",
    "        # penalties only for weights\n",
    "        gradient[1:] += 2 * self.l2_reg * self._theta[1:] + self.l1_reg * np.sign(self._theta[1:])\n",
    "        return gradient"
   ]
  },
  {
   "cell_type": "code",
   "execution_count": 33,
   "metadata": {},
   "outputs": [],
   "source": [
    "model_homegrown_regularized_l1l2 = RegularizedLinearRegressionHomegrown(l1_reg=0.1, l2_reg=0.2)"
   ]
  },
  {
   "cell_type": "code",
   "execution_count": 34,
   "metadata": {},
   "outputs": [
    {
     "data": {
      "text/plain": [
       "7.2295510586333869"
      ]
     },
     "execution_count": 34,
     "metadata": {},
     "output_type": "execute_result"
    }
   ],
   "source": [
    "model_homegrown_regularized_l1l2.fit(X,y,max_iter=40000)\n",
    "model_homegrown_regularized_l1l2.score(X,y)"
   ]
  },
  {
   "cell_type": "markdown",
   "metadata": {},
   "source": [
    "**Answer: 7.23.** See above for calculations."
   ]
  },
  {
   "cell_type": "markdown",
   "metadata": {},
   "source": [
    "### MT19 Regularization: L1/L2 for Linear Regression"
   ]
  },
  {
   "cell_type": "markdown",
   "metadata": {},
   "source": [
    "There is an another way of combining L1 and L2 regularizers in machine learning - you can glue them together and define a piecewise regularizer function.\n",
    "\n",
    "$$\n",
    "\\text{obj} = \\|\\text{X}\\cdot\\boldsymbol{\\theta} - \\mathbf{y}\\|_2^2 + \\mu \\sum_{j=1}^{m}R_{\\lambda}(\\theta_j),\\\\\n",
    "\\text{where}\\\\\n",
    "R_{\\lambda}(\\theta_j) = \n",
    "\\begin{cases}\n",
    "2 \\lambda \\cdot |\\theta_j|, & \\|\\theta_j\\| \\leq \\lambda\\\\\n",
    "\\lambda^2 + \\theta_j^2, & \\|\\theta_j\\| \\geq \\lambda\n",
    "\\end{cases}\n",
    "$$\n",
    "\n",
    "![l1l2](l1l2.png)\n",
    "\n",
    "Implement this type of regularization for $\\text{BasicLinearRegressionHomegrown}$ class (that was used in question 22 above).\n",
    "\n",
    "Provide the value of the objective function for $\\lambda = 1,\\, \\mu = 0.5$ and with two decimal digits of precision. "
   ]
  },
  {
   "cell_type": "code",
   "execution_count": 35,
   "metadata": {
    "collapsed": true
   },
   "outputs": [],
   "source": [
    "class BasicLinearRegressionHomegrown(object):\n",
    "    \n",
    "    def __init__(self, l=0.0, mu=0.0):\n",
    "        self.coef_ = None       # weight vector\n",
    "        self.intercept_ = None  # bias term\n",
    "        self._theta = None      # augmented weight vector, i.e., bias + weights\n",
    "                                # this allows to treat all decision variables homogeneously\n",
    "        self.l = l\n",
    "        self.mu = mu\n",
    "    \n",
    "    # calculate gradient of objective function\n",
    "    def _grad(self, X, y):\n",
    "        pred = np.dot(X, self._theta)\n",
    "        error = pred - y\n",
    "        gradient = 2 * np.dot(error, X) / X.shape[0]\n",
    "        \n",
    "        # New gradients\n",
    "        if np.absolute(self._theta[1:]) <= self.l:\n",
    "            gradient[1:] = self.mu * 2 * self.l * np.sign(self._theta[1:])\n",
    "        else:\n",
    "            gradient[1:] = self.mu * 2 * self._theta[1:]\n",
    "        \n",
    "        return gradient\n",
    "    \n",
    "    # full gradient descent, i.e., not stochastic gd\n",
    "    def _gd(self, X, y, max_iter, alpha=0.005):\n",
    "        for i in range(max_iter):\n",
    "            # calculate gradient\n",
    "            grad = self._grad(X, y)\n",
    "            # do gradient step\n",
    "            self._theta -= alpha * grad\n",
    "    \n",
    "    # public API for fitting a linear regression model\n",
    "    def fit(self, X, y, max_iter=1000):\n",
    "        # Augment the data with the bias term.\n",
    "        # So we can treat the the input variables and the bias term homogeneously \n",
    "        # from a vectorization perspective\n",
    "        X = np.c_[np.ones(X.shape[0]), X]\n",
    "        # initialize if the first step\n",
    "        if self._theta is None:\n",
    "            np.random.seed(21)\n",
    "            self._theta = np.random.rand(X.shape[1])\n",
    "        \n",
    "        # do full gradient descent\n",
    "        self._gd(X, y, max_iter)\n",
    "        \n",
    "        self.intercept_ = self._theta[0]\n",
    "        self.coef_ = self._theta[1:]\n",
    "        \n",
    "    \n",
    "    def score(self, X, y):\n",
    "        pred = self.predict(X)\n",
    "        error = pred - y\n",
    "        obj = np.sum(error ** 2) / X.shape[0]\n",
    "        return obj\n",
    "        \n",
    "    def predict(self, X):\n",
    "        # check whether X has appended bias feature or not\n",
    "        if X.shape[1] == len(self._theta):\n",
    "            pred = np.dot(X, self._theta)\n",
    "        else:\n",
    "            pred = np.dot(X, self.coef_) + self.intercept_\n",
    "        return pred"
   ]
  },
  {
   "cell_type": "code",
   "execution_count": 36,
   "metadata": {},
   "outputs": [
    {
     "data": {
      "text/plain": [
       "75.460626244706035"
      ]
     },
     "execution_count": 36,
     "metadata": {},
     "output_type": "execute_result"
    }
   ],
   "source": [
    "new_model_homegrown = BasicLinearRegressionHomegrown(l=1.0, mu=0.5)\n",
    "new_model_homegrown.fit(X,y,max_iter=40000)\n",
    "new_model_homegrown.score(X,y)"
   ]
  },
  {
   "cell_type": "markdown",
   "metadata": {},
   "source": [
    "**Answer: 75.46. ** See above."
   ]
  },
  {
   "cell_type": "markdown",
   "metadata": {},
   "source": [
    "# END of Exam"
   ]
  }
 ],
 "metadata": {
  "anaconda-cloud": {},
  "kernelspec": {
   "display_name": "Python 2",
   "language": "python",
   "name": "python2"
  },
  "language_info": {
   "codemirror_mode": {
    "name": "ipython",
    "version": 2
   },
   "file_extension": ".py",
   "mimetype": "text/x-python",
   "name": "python",
   "nbconvert_exporter": "python",
   "pygments_lexer": "ipython2",
   "version": "2.7.14"
  },
  "toc": {
   "colors": {
    "hover_highlight": "#DAA520",
    "running_highlight": "#FF0000",
    "selected_highlight": "#FFD700"
   },
   "moveMenuLeft": true,
   "nav_menu": {
    "height": "512px",
    "width": "252px"
   },
   "navigate_menu": true,
   "number_sections": true,
   "sideBar": false,
   "threshold": 4,
   "toc_cell": true,
   "toc_section_display": "block",
   "toc_window_display": false
  }
 },
 "nbformat": 4,
 "nbformat_minor": 2
}
