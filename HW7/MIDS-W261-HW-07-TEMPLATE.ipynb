{
 "cells": [
  {
   "cell_type": "markdown",
   "metadata": {},
   "source": [
    "<h1> MIDS - w261 Machine Learning At Scale </h1>\n",
    "__Course Lead:__ Dr James G. Shanahan (__email__ Jimi via  James.Shanahan _AT_ gmail.com)\n",
    "\n",
    "<h2>Assignment - HW7</h2>\n",
    "\n",
    "\n",
    "---\n",
    "__Name:__  Leslie Teo\n",
    "__Class:__ MIDS w261 (Section 1, Winter 2018)     \n",
    "__Email:__  lteo@iSchool.Berkeley.edu; lteo01@berkeley.edu      \n",
    "__StudentId__  303218617     __End of StudentId__     \n",
    "__Week:__   \n",
    "\n",
    "__NOTE:__ please replace `1234567` with your student id above      \n",
    "__Due Time:__ HW is due the Tuesday of the following week by 8AM (West coast time). I.e., Tuesday, Mar 14, 2017 in the case of this homework. \n",
    "\n",
    "# Instructions\n",
    "\n",
    "MIDS UC Berkeley, Machine Learning at Scale   \n",
    "DATSCIW261 ASSIGNMENT #7\n",
    "\n",
    "Version 2017-3-9 \n",
    "\n",
    "\n",
    "## IMPORTANT\n",
    "\n",
    "This homework can be completed locally on your computer \n",
    "\n",
    "### === INSTRUCTIONS for SUBMISSIONS ===   \n",
    "Follow the instructions for submissions carefully.\n",
    "\n",
    "Each student has a `HW-<user>` repository for all assignments.   \n",
    "\n",
    "Click this link to enable you to create a github repo within the MIDS261 Classroom:   \n",
    "https://classroom.github.com/assignment-invitations/3b1d6c8e58351209f9dd865537111ff8   \n",
    "and follow the instructions to create a HW repo.\n",
    "\n",
    "Push the following to your HW github repo into the master branch:\n",
    "* Your local HW6 directory. Your repo file structure should look like this:\n",
    "\n",
    "```\n",
    "HW-<user>\n",
    "    --HW3\n",
    "       |__MIDS-W261-HW-03-<Student_id>.ipynb\n",
    "       |__MIDS-W261-HW-03-<Student_id>.pdf\n",
    "       |__some other hw3 file\n",
    "    --HW4\n",
    "       |__MIDS-W261-HW-04-<Student_id>.ipynb\n",
    "       |__MIDS-W261-HW-04-<Student_id>.pdf\n",
    "       |__some other hw4 file\n",
    "    etc..\n",
    "```    "
   ]
  },
  {
   "cell_type": "markdown",
   "metadata": {},
   "source": [
    "<h1 style=\"color:#021353;\">Dataset Description</h1>\n",
    "\n",
    "Download the dataset from: https://www.dropbox.com/sh/2c0k5adwz36lkcw/AAAAKsjQfF9uHfv-X9mCqr9wa?dl=0\n",
    "\n",
    "undirected_toy.txt - Undirected toy network dataset\n",
    "\n",
    "directed_toy.txt - Directed toy network dataset\n",
    "\n",
    "synNet/synNet.txt - a sparse representation of the synNet network in indexed form\n",
    "\n",
    "synNet/indices.txt - the same network in a lookup list of indices and words\n",
    "\n",
    "wikipedia/all-pages-indexed-out.txt - Graph of Wikipedia\n",
    "\n",
    "wikipedia/indices.txt - Page titles and page Ids\n",
    "\n",
    "wikipedia/all-pages-indexed-out.txt - network in indexed format\n",
    "\n",
    "wikipedia/all-pages-indexed-in.txt - network in indexed format\n",
    "\n",
    "wikipedia/indices.txt - network in indexed format"
   ]
  },
  {
   "cell_type": "markdown",
   "metadata": {},
   "source": [
    "<h1 style=\"color:#021353;\">General Description</h1>\n",
    "<div style=\"margin:10px;border-left:5px solid #eee;\">\n",
    "<pre style=\"font-family:sans-serif;background-color:transparent\">\n",
    "In this assignment you will explore networks and develop MRJob code for \n",
    "finding shortest path graph distances. To build up to large data \n",
    "you will develop your code on some very simple, toy networks.\n",
    "After this you will take your developed code forward and modify it and \n",
    "apply it to two larger datasets (performing EDA along the way).\n",
    "\n",
    "<h3>Undirected toy network dataset</h3>\n",
    "\n",
    "\n",
    "In an undirected network all links are symmetric, \n",
    "i.e., for a pair of nodes 'A' and 'B,' both of the links:\n",
    "\n",
    "A -> B and B -> A\n",
    "\n",
    "will exist. \n",
    "\n",
    "The toy data are available in a sparse (stripes) representation:\n",
    "\n",
    "(node) \\t (dictionary of links)\n",
    "\n",
    "on Dropbox - undirected_toy.txt\n",
    "\n",
    "In the dictionary, target nodes are keys, link weights are values \n",
    "(here, all weights are 1, i.e., the network is unweighted).\n",
    "\n",
    "\n",
    "<h3>Directed toy network dataset</h3>\n",
    "\n",
    "In a directed network all links are not necessarily symmetric, \n",
    "i.e., for a pair of nodes 'A' and 'B,' it is possible for only one of:\n",
    "\n",
    "A -> B or B -> A\n",
    "\n",
    "to exist. \n",
    "\n",
    "These toy data are available in a sparse (stripes) representation:\n",
    "\n",
    "(node) \\t (dictionary of links)\n",
    "\n",
    "on Dropbox - directed_toy.txt\n",
    "\n",
    "In the dictionary, target nodes are keys, link weights are values \n",
    "(here, all weights are 1, i.e., the network is unweighted).\n",
    "</pre>\n",
    "</div>"
   ]
  },
  {
   "cell_type": "markdown",
   "metadata": {},
   "source": [
    "<h1 style=\"color:#021353;\">HW 7.0: Shortest path graph distances (toy networks)</h1>"
   ]
  },
  {
   "cell_type": "markdown",
   "metadata": {},
   "source": [
    "## HW 7.0.1\n",
    "\n",
    "<div style=\"margin:10px;border-left:5px solid #eee;\">\n",
    "<pre style=\"font-family:sans-serif;background-color:transparent\">\n",
    "In this part of your assignment you will develop the base of your code for the week.\n",
    "\n",
    "Write MRJob classes to find shortest path graph distances, as described in the lectures. In addition to finding the distances, your code should also output a distance-minimizing path between the source and target.\n",
    "Work locally for this part of the assignment, and use both of the undirected and directed toy networks.\n",
    "\n",
    "To proof you code's function, run the following jobs\n",
    "\n",
    "- shortest path in the undirected network from node 1 to node 4\n",
    "Solution: 1,5,4. NOTE: There is another shortest path also (HINT: 1->5->4)! Either will suffice (you will find this also in the remaining problems. E.g., 7.2 and 7.4.\n",
    " \n",
    "\n",
    "- shortest path in the directed network from node 1 to node 5\n",
    "Solution: 1,2,4,5\n",
    "\n",
    "and report your output---make sure it is correct!"
   ]
  },
  {
   "cell_type": "code",
   "execution_count": 1,
   "metadata": {},
   "outputs": [
    {
     "name": "stdout",
     "output_type": "stream",
     "text": [
      "Overwriting directed_toy_graph.txt\n"
     ]
    }
   ],
   "source": [
    "%%writefile directed_toy_graph.txt\n",
    "1\t{'2': 1, '6': 1}\n",
    "2\t{'1': 1, '3': 1, '4': 1}\n",
    "3\t{'2': 1, '4': 1}\n",
    "4\t{'2': 1, '5': 1}\n",
    "5\t{'1': 1, '2': 1, '4': 1}"
   ]
  },
  {
   "cell_type": "code",
   "execution_count": 2,
   "metadata": {},
   "outputs": [
    {
     "name": "stdout",
     "output_type": "stream",
     "text": [
      "Overwriting undirected_toy_graph.txt\n"
     ]
    }
   ],
   "source": [
    "%%writefile undirected_toy_graph.txt\n",
    "1\t{'2': 1,'5': 1}\n",
    "2\t{'1': 1,'3': 1,'4': 1,'5': 1}\n",
    "3\t{'2': 1, '4': 1}\n",
    "4\t{'2': 1,'3': 1,'5': 1}\n",
    "5\t{'1': 1, '2': 1, '4': 1}"
   ]
  },
  {
   "cell_type": "code",
   "execution_count": 3,
   "metadata": {},
   "outputs": [
    {
     "name": "stdout",
     "output_type": "stream",
     "text": [
      "Overwriting undirected_weighted_toy_graph.txt\n"
     ]
    }
   ],
   "source": [
    "%%writefile undirected_weighted_toy_graph.txt\n",
    "1\t{\"2\": 1, \"5\": 100}\n",
    "2\t{\"1\": 1, \"3\": 1, \"5\": 1, \"4\": 1}\n",
    "3\t{\"2\": 1, \"4\": 1}\n",
    "4\t{\"3\": 1, \"2\": 1, \"5\": 1}\n",
    "5\t{\"1\": 100, \"2\": 1, \"4\": 1, \"6\":1}\n",
    "6\t{\"5\": 1, \"7\": 1}\n",
    "7\t{\"6\": 1}"
   ]
  },
  {
   "cell_type": "code",
   "execution_count": 4,
   "metadata": {},
   "outputs": [
    {
     "name": "stdout",
     "output_type": "stream",
     "text": [
      "1\t{'2': 1, '6': 1}\n",
      "2\t{'1': 1, '3': 1, '4': 1}\n",
      "3\t{'2': 1, '4': 1}\n",
      "4\t{'2': 1, '5': 1}\n",
      "5\t{'1': 1, '2': 1, '4': 1}\n",
      "----------------------------------------------------------------------------------------------------\n",
      "1\t{'2': 1,'5': 1}\n",
      "2\t{'1': 1,'3': 1,'4': 1,'5': 1}\n",
      "3\t{'2': 1, '4': 1}\n",
      "4\t{'2': 1,'3': 1,'5': 1}\n",
      "5\t{'1': 1, '2': 1, '4': 1}\n",
      "----------------------------------------------------------------------------------------------------\n",
      "1\t{\"2\": 1, \"5\": 100}\n",
      "2\t{\"1\": 1, \"3\": 1, \"5\": 1, \"4\": 1}\n",
      "3\t{\"2\": 1, \"4\": 1}\n",
      "4\t{\"3\": 1, \"2\": 1, \"5\": 1}\n",
      "5\t{\"1\": 100, \"2\": 1, \"4\": 1, \"6\":1}\n",
      "6\t{\"5\": 1, \"7\": 1}\n",
      "7\t{\"6\": 1}"
     ]
    }
   ],
   "source": [
    "!cat directed_toy_graph.txt\n",
    "print \"\\n\",\"-\"*100\n",
    "!cat undirected_toy_graph.txt\n",
    "print \"\\n\",\"-\"*100\n",
    "!cat undirected_weighted_toy_graph.txt"
   ]
  },
  {
   "cell_type": "code",
   "execution_count": 5,
   "metadata": {},
   "outputs": [],
   "source": [
    "# Set Up\n",
    "import numpy as np\n",
    "from __future__ import division\n",
    "import os\n",
    "\n",
    "%matplotlib inline\n",
    "import matplotlib\n",
    "matplotlib.pyplot.style.use('ggplot')\n",
    "\n",
    "%reload_ext autoreload\n",
    "%autoreload 2"
   ]
  },
  {
   "cell_type": "code",
   "execution_count": 6,
   "metadata": {},
   "outputs": [
    {
     "name": "stdout",
     "output_type": "stream",
     "text": [
      "Overwriting start_sssp.py\n"
     ]
    }
   ],
   "source": [
    "%%writefile start_sssp.py\n",
    "#!/opt/anaconda/bin/python\n",
    "\n",
    "from mrjob.job import MRJob\n",
    "from mrjob.step import MRStep\n",
    "import sys, ast\n",
    "\n",
    "class MRstart_sssp(MRJob):\n",
    "\n",
    "    # Set initial node conditions\n",
    "    def configure_options(self):\n",
    "        super(MRstart_sssp, self).configure_options()\n",
    "        self.add_passthrough_option('--startNode', default='1')\n",
    "\n",
    "    # Process lines\n",
    "    def mapper(self, _, line):\n",
    "        fields = line.strip().split('\\t')\n",
    "        name = fields[0]\n",
    "        neighbors = ast.literal_eval(fields[1])\n",
    "        if name == self.options.startNode:\n",
    "            yield name, (neighbors, 0, [name], 'Q')\n",
    "        else:\n",
    "            yield name, (neighbors, sys.maxint, [], 'U')\n",
    "\n",
    "if __name__ == '__main__':\n",
    "    MRstart_sssp.run()"
   ]
  },
  {
   "cell_type": "code",
   "execution_count": 7,
   "metadata": {},
   "outputs": [
    {
     "name": "stdout",
     "output_type": "stream",
     "text": [
      "No handlers could be found for logger \"mrjob.launch\"\n",
      "No configs found; falling back on auto-configuration\n",
      "No configs specified for local runner\n",
      "Creating temp directory /tmp/start_sssp.root.20180321.132039.257617\n",
      "Running step 1 of 1...\n",
      "Streaming final output from /tmp/start_sssp.root.20180321.132039.257617/output...\n",
      "\"5\"\t[{\"1\":1,\"2\":1,\"4\":1},9223372036854775807,[],\"U\"]\n",
      "\"3\"\t[{\"2\":1,\"4\":1},9223372036854775807,[],\"U\"]\n",
      "\"1\"\t[{\"2\":1,\"5\":1},0,[\"1\"],\"Q\"]\n",
      "\"2\"\t[{\"1\":1,\"3\":1,\"5\":1,\"4\":1},9223372036854775807,[],\"U\"]\n",
      "\"4\"\t[{\"3\":1,\"2\":1,\"5\":1},9223372036854775807,[],\"U\"]\n",
      "Removing temp directory /tmp/start_sssp.root.20180321.132039.257617...\n"
     ]
    }
   ],
   "source": [
    "!python start_sssp.py -r local ./undirected_toy.out --start 1"
   ]
  },
  {
   "cell_type": "code",
   "execution_count": 8,
   "metadata": {
    "collapsed": true
   },
   "outputs": [
    {
     "name": "stdout",
     "output_type": "stream",
     "text": [
      "Overwriting sssp.py\n"
     ]
    }
   ],
   "source": [
    "%%writefile sssp.py\n",
    "#!/opt/anaconda/bin/python\n",
    "\n",
    "from mrjob.job import MRJob\n",
    "from mrjob.step import MRStep\n",
    "import sys, ast\n",
    "\n",
    "class MRsssp(MRJob):\n",
    "    \n",
    "    # Process lines\n",
    "    def mapper(self, _, line):\n",
    "\n",
    "        # Split text to get our data\n",
    "        fields = line.strip().split('\\t')     \n",
    "        name = str(ast.literal_eval(fields[0]))\n",
    "        value = ast.literal_eval(fields[1])\n",
    "        neighbors = value[0]\n",
    "        distance = int(value[1])\n",
    "        path = value[2]\n",
    "        status = value[3]\n",
    "        \n",
    "        # If this node is queued, contine expand\n",
    "        if status == 'Q':\n",
    "            yield name, [neighbors, distance, path, 'V']\n",
    "            if neighbors:\n",
    "                for node in neighbors:\n",
    "                    temp_path = list(path)\n",
    "                    temp_path.append(node)\n",
    "                    yield node, [None, distance + 1, temp_path, 'Q']\n",
    "        else:\n",
    "            yield name, [neighbors, distance, path, status]\n",
    "\n",
    "    # Cycle through nodes\n",
    "    def reducer(self, key, values):\n",
    "        neighbors = {}\n",
    "        distance = sys.maxint\n",
    "        status = None\n",
    "        path = []\n",
    "\n",
    "        for val in values:\n",
    "            if val[3] == 'V':\n",
    "                neighbors = val[0]\n",
    "                distance = val[1]\n",
    "                path = val[2]\n",
    "                status = val[3]\n",
    "                break\n",
    "            elif val[0]:\n",
    "                neighbors = val[0]\n",
    "                if status != 'Q':\n",
    "                    status = val[3]\n",
    "            else:\n",
    "                path = val[2]\n",
    "                status = val[3]\n",
    "                \n",
    "            # Update minimum distance if necessary\n",
    "            distance = min(distance, val[1])\n",
    "\n",
    "        yield key, [neighbors, distance, path, status]\n",
    "\n",
    "if __name__ == '__main__':\n",
    "    MRsssp.run()"
   ]
  },
  {
   "cell_type": "code",
   "execution_count": 9,
   "metadata": {},
   "outputs": [
    {
     "name": "stdout",
     "output_type": "stream",
     "text": [
      "Writing sssp_alternative.py\n"
     ]
    }
   ],
   "source": [
    "%%writefile sssp_alternative.py\n",
    "#!/opt/anaconda/bin/python\n",
    "\n",
    "from mrjob.job import MRJob\n",
    "from mrjob.step import MRStep\n",
    "import sys, ast\n",
    "\n",
    "class MRsssp(MRJob):\n",
    "    \n",
    "    def steps(self):\n",
    "        return [\n",
    "            MRStep(mapper = self.mapper_1,\n",
    "            ),\n",
    "            MRStep(mapper=self.mapper_2,\n",
    "                   reducer=self.reducer_2,\n",
    "            )\n",
    "    ] \n",
    "    \n",
    "\n",
    "    # Set initial node conditions\n",
    "    def configure_options(self):\n",
    "        super(MRsssp, self).configure_options()\n",
    "        self.add_passthrough_option('--startNode', default='1')\n",
    "\n",
    "    # Process lines\n",
    "    def mapper_1(self, _, line):\n",
    "        fields = line.strip().split('\\t')\n",
    "        name = fields[0]\n",
    "        neighbors = ast.literal_eval(fields[1])\n",
    "        if name == self.options.startNode:\n",
    "            yield name, (neighbors, 0, [name], 'Q')\n",
    "        else:\n",
    "            yield name, (neighbors, sys.maxint, [], 'U')\n",
    "            \n",
    "    # Process lines\n",
    "    def mapper_2(self, key, values):\n",
    "\n",
    "        # Split text to get our data  \n",
    "        name = key\n",
    "        #values = ast.literal_eval(values)\n",
    "        neighbors = values[0]\n",
    "        distance = int(values[1])\n",
    "        path = values[2]\n",
    "        status = values[3]\n",
    "        \n",
    "        # If this node is queued, contine expand\n",
    "        if status == 'Q':\n",
    "            yield name, [neighbors, distance, path, 'V']\n",
    "            if neighbors:\n",
    "                for node in neighbors:\n",
    "                    temp_path = list(path)\n",
    "                    temp_path.append(node)\n",
    "                    yield node, [None, distance + 1, temp_path, 'Q']\n",
    "        else:\n",
    "            yield name, [neighbors, distance, path, status]\n",
    "\n",
    "    # Cycle through nodes\n",
    "    def reducer_2(self, key, values):\n",
    "        neighbors = {}\n",
    "        distance = sys.maxint\n",
    "        status = None\n",
    "        path = []\n",
    "\n",
    "        for val in values:\n",
    "            if val[3] == 'V':\n",
    "                neighbors = val[0]\n",
    "                distance = val[1]\n",
    "                path = val[2]\n",
    "                status = val[3]\n",
    "                break\n",
    "            elif val[0]:\n",
    "                neighbors = val[0]\n",
    "                if status != 'Q':\n",
    "                    status = val[3]\n",
    "            else:\n",
    "                path = val[2]\n",
    "                status = val[3]\n",
    "                \n",
    "            # Update minimum distance if necessary\n",
    "            distance = min(distance, val[1])\n",
    "\n",
    "        yield key, [neighbors, distance, path, status]\n",
    "\n",
    "if __name__ == '__main__':\n",
    "    MRsssp.run()"
   ]
  },
  {
   "cell_type": "code",
   "execution_count": 10,
   "metadata": {},
   "outputs": [
    {
     "name": "stdout",
     "output_type": "stream",
     "text": [
      "No handlers could be found for logger \"mrjob.launch\"\n",
      "No configs found; falling back on auto-configuration\n",
      "No configs specified for local runner\n",
      "Creating temp directory /tmp/start_sssp.root.20180321.132045.741214\n",
      "Running step 1 of 1...\n",
      "Streaming final output from /tmp/start_sssp.root.20180321.132045.741214/output...\n",
      "Removing temp directory /tmp/start_sssp.root.20180321.132045.741214...\n",
      "No configs found; falling back on auto-configuration\n",
      "No configs specified for local runner\n",
      "Creating temp directory /tmp/sssp.root.20180321.132046.557916\n",
      "Running step 1 of 1...\n",
      "Streaming final output from /tmp/sssp.root.20180321.132046.557916/output...\n",
      "\"5\"\t[{\"1\":1,\"2\":1,\"4\":1},1,[\"1\",\"5\"],\"Q\"]\n",
      "\"3\"\t[{\"2\":1,\"4\":1},9223372036854775807,[],\"U\"]\n",
      "\"1\"\t[{\"2\":1,\"5\":1},0,[\"1\"],\"V\"]\n",
      "\"2\"\t[{\"1\":1,\"3\":1,\"5\":1,\"4\":1},1,[\"1\",\"2\"],\"Q\"]\n",
      "\"4\"\t[{\"3\":1,\"2\":1,\"5\":1},9223372036854775807,[],\"U\"]\n",
      "Removing temp directory /tmp/sssp.root.20180321.132046.557916...\n"
     ]
    }
   ],
   "source": [
    "#!cp ./undirected_toy_graph.txt ./undirected_toy.out\n",
    "!python start_sssp.py -r local ./undirected_toy.txt --start 1 > test\n",
    "!python sssp.py -r local ./test"
   ]
  },
  {
   "cell_type": "code",
   "execution_count": 11,
   "metadata": {},
   "outputs": [],
   "source": [
    "from start_sssp import MRstart_sssp\n",
    "from sssp import MRsssp\n",
    "\n",
    "def findSSP(filename, startNode, finalNode):\n",
    "    temp_dir = 'w261_temp/' + os.path.dirname(filename)\n",
    "    !mkdir -p $temp_dir\n",
    "\n",
    "    filenameState = 'w261_temp/' + filename\n",
    "\n",
    "    # Initiate graph adjacency list to track state\n",
    "    mr_job_init = MRstart_sssp(args=[\n",
    "        filename, '-r', 'local',\n",
    "        '--cmdenv', 'PATH=/opt/anaconda/bin:$PATH',\n",
    "        '--startNode', startNode\n",
    "    ])\n",
    "\n",
    "    with open(filenameState, 'w') as myfile:\n",
    "        with mr_job_init.make_runner() as runner:\n",
    "            runner.run()\n",
    "\n",
    "            for line in runner.stream_output():\n",
    "                out = mr_job_init.parse_output_line(line)\n",
    "                myfile.write(str(out[0]) + '\\t' + str(out[1]) + '\\n')\n",
    "\n",
    "    filenameTemp = filenameState + '.tmp'\n",
    "\n",
    "    mr_job = MRsssp(args=[\n",
    "        filenameState,\n",
    "    ])\n",
    "\n",
    "    for i in range(10):\n",
    "        with open(filenameTemp, 'w') as myfile:\n",
    "            with mr_job.make_runner() as runner:\n",
    "                # Run MRJob\n",
    "                runner.run()\n",
    "\n",
    "                # Write stream_output to file\n",
    "                for line in runner.stream_output():\n",
    "                    out = mr_job.parse_output_line(line)\n",
    "                    myfile.write(str(out[0]) + '\\t' + str(out[1]) + '\\n')\n",
    "\n",
    "                    if out[0] == finalNode and out[1][3] == 'V':\n",
    "                        path = out[1][2]\n",
    "                        return path\n",
    "\n",
    "        !mv {filenameTemp} {filenameState}"
   ]
  },
  {
   "cell_type": "markdown",
   "metadata": {},
   "source": [
    "<img src=\"http://www.candpgeneration.com/images/graphs.png\" style=\"float:left;\"/>"
   ]
  },
  {
   "cell_type": "code",
   "execution_count": 12,
   "metadata": {},
   "outputs": [
    {
     "name": "stdout",
     "output_type": "stream",
     "text": [
      "Shortest path in undirected_toy.txt: \n"
     ]
    },
    {
     "name": "stderr",
     "output_type": "stream",
     "text": [
      "No handlers could be found for logger \"mrjob.launch\"\n"
     ]
    },
    {
     "name": "stdout",
     "output_type": "stream",
     "text": [
      "[u'1', u'2', u'4']\n",
      "Length:  2\n",
      "\n",
      "Shortest path in directed_toy.txt: \n",
      "[u'1', u'2', u'4', u'5']\n",
      "Length:  3\n"
     ]
    }
   ],
   "source": [
    "# Solution\n",
    "\n",
    "print 'Shortest path in', 'undirected_toy.txt: '\n",
    "path = findSSP('undirected_toy.txt', '1', '4')\n",
    "print path\n",
    "print \"Length: \", len(path)-1\n",
    "\n",
    "print '\\nShortest path in', 'directed_toy.txt: '\n",
    "path = findSSP('directed_toy.txt', '1', '5')\n",
    "print path\n",
    "print \"Length: \", len(path)-1"
   ]
  },
  {
   "cell_type": "markdown",
   "metadata": {},
   "source": [
    "## HW 7.0.2\n",
    "\n",
    "<h3>Main dataset 1: NLTK synonyms</h3>\n",
    "\n",
    "In the next part of this assignment you will explore a network derived from the NLTK synonym database used for evaluation in HW 5. At a high level, this network is undirected, defined so that there exists link between two nodes/words if the pair or words are a synonym. These data may be found at the location:\n",
    "\n",
    "synNet/synNet.txt\n",
    "\n",
    "synNet/indices.txt\n",
    "\n",
    "where synNet.txt contains a sparse representation of the network:\n",
    "\n",
    "(index) \\t (dictionary of links)\n",
    "\n",
    "in indexed form, and indices.txt contains a lookup list\n",
    "\n",
    "(word) \\t (index)\n",
    "\n",
    "of indices and words. This network is small enough for you to explore and run\n",
    "scripts locally, but will also be good for a systems test (for later) on AWS.\n",
    "\n",
    "In the dictionary, target nodes are keys, link weights are values \n",
    "(here, all weights are 1, i.e., the network is unweighted).\n",
    "</pre>\n",
    "</div>"
   ]
  },
  {
   "cell_type": "code",
   "execution_count": 13,
   "metadata": {
    "collapsed": true
   },
   "outputs": [],
   "source": [
    "# NOT APPLICABLE\n",
    "\n",
    "# START STUDENT CODE 7.0.2\n",
    "\n",
    "# END STUDENT CODE 7.0.2"
   ]
  },
  {
   "cell_type": "markdown",
   "metadata": {},
   "source": [
    "<h1 style=\"color:#021353;\">HW 7.1: Exploratory data analysis (NLTK synonyms)</h1>\n",
    "<div style=\"margin:10px;border-left:5px solid #eee;\">\n",
    "<pre style=\"font-family:sans-serif;background-color:transparent\">\n",
    "Using MRJob, explore the synonyms network data.\n",
    "Consider plotting the degree distribution (does it follow a power law?),\n",
    "and determine some of the key features, like:\n",
    "\n",
    "number of nodes, \n",
    "number links,\n",
    "or the average degree (i.e., the average number of links per node),\n",
    "etc...\n",
    "\n",
    "As you develop your code, please be sure to run it locally first (though on the whole dataset). \n",
    "Once you have gotten you code to run locally, deploy it on AWS as a systems test\n",
    "in preparation for our next dataset (which will require AWS).\n",
    "</pre>\n",
    "</div>"
   ]
  },
  {
   "cell_type": "code",
   "execution_count": 14,
   "metadata": {
    "collapsed": true
   },
   "outputs": [
    {
     "name": "stdout",
     "output_type": "stream",
     "text": [
      "Overwriting statistics.py\n"
     ]
    }
   ],
   "source": [
    "%%writefile statistics.py\n",
    "\n",
    "from mrjob.job import MRJob\n",
    "from mrjob.step import MRStep\n",
    "import ast\n",
    "\n",
    "# Count number of nodes and links\n",
    "class MRcounts(MRJob):\n",
    "    \n",
    "    def steps(self):\n",
    "        return [\n",
    "            MRStep(mapper = self.mapper,\n",
    "                   reducer = self.reducer,\n",
    "            )\n",
    "        ] \n",
    "    \n",
    "    # Number of links for node\n",
    "    def mapper(self, _, line):\n",
    "        node, info = line.strip().split('\\t')\n",
    "        edges = ast.literal_eval(info)\n",
    "        count = len(edges.items())\n",
    "        yield None, count\n",
    "        \n",
    "    # Sum links\n",
    "    def reducer(self, _, counts):\n",
    "        cnts = list(counts)\n",
    "        yield len(cnts), (sum(cnts), float(sum(cnts))/len(cnts))\n",
    "\n",
    "if __name__ == '__main__':\n",
    "    MRcounts.run()"
   ]
  },
  {
   "cell_type": "code",
   "execution_count": 15,
   "metadata": {},
   "outputs": [
    {
     "name": "stdout",
     "output_type": "stream",
     "text": [
      "Overwriting process_stat.py\n"
     ]
    }
   ],
   "source": [
    "%%writefile process_stat.py\n",
    "\n",
    "import sys, ast\n",
    "\n",
    "for line in sys.stdin:\n",
    "    values = line.strip().split()\n",
    "    print \"\\nBasic Statistics on Data\"\n",
    "    print \"-\"*80\n",
    "    print \"Number of nodes: \", values[0]\n",
    "    print \"Number of links: \", ast.literal_eval(values[1])[0]\n",
    "    print \"Average links per node: \", ast.literal_eval(values[1])[1]"
   ]
  },
  {
   "cell_type": "code",
   "execution_count": 16,
   "metadata": {},
   "outputs": [
    {
     "name": "stdout",
     "output_type": "stream",
     "text": [
      "No configs found; falling back on auto-configuration\n",
      "No configs specified for local runner\n",
      "Creating temp directory /tmp/statistics.root.20180321.132115.874954\n",
      "Running step 1 of 1...\n",
      "Streaming final output from /tmp/statistics.root.20180321.132115.874954/output...\n",
      "Removing temp directory /tmp/statistics.root.20180321.132115.874954...\n",
      "\n",
      "Basic Statistics on Data\n",
      "--------------------------------------------------------------------------------\n",
      "Number of nodes:  8271\n",
      "Number of links:  61134\n",
      "Average links per node:  7.3913674284\n"
     ]
    }
   ],
   "source": [
    "!python statistics.py -r local synNet/synNet.txt > stats.out\n",
    "!python process_stat.py < stats.out"
   ]
  },
  {
   "cell_type": "code",
   "execution_count": 17,
   "metadata": {},
   "outputs": [
    {
     "name": "stdout",
     "output_type": "stream",
     "text": [
      "Overwriting distribution.py\n"
     ]
    }
   ],
   "source": [
    "%%writefile distribution.py\n",
    "\n",
    "from mrjob.job import MRJob\n",
    "from mrjob.step import MRStep\n",
    "import ast\n",
    "\n",
    "# Distribution\n",
    "class MRdistribution(MRJob):\n",
    "\n",
    "    def steps(self):\n",
    "        return [\n",
    "            MRStep(mapper = self.mapper,\n",
    "                   reducer = self.reducer,\n",
    "            )\n",
    "        ] \n",
    "    \n",
    "    def mapper(self, _, line):\n",
    "        node, info = line.strip().split('\\t')\n",
    "        edges = ast.literal_eval(info)\n",
    "        count = len(edges.items())\n",
    "        yield int(count), 1\n",
    "        \n",
    "    def reducer(self, count, values):\n",
    "        yield int(count), sum(values)\n",
    "\n",
    "if __name__ == '__main__':\n",
    "    MRdistribution.run()"
   ]
  },
  {
   "cell_type": "code",
   "execution_count": 18,
   "metadata": {},
   "outputs": [
    {
     "name": "stdout",
     "output_type": "stream",
     "text": [
      "No configs found; falling back on auto-configuration\n",
      "No configs specified for local runner\n",
      "Creating temp directory /tmp/distribution.root.20180321.132122.596979\n",
      "Running step 1 of 1...\n",
      "Streaming final output from /tmp/distribution.root.20180321.132122.596979/output...\n",
      "Removing temp directory /tmp/distribution.root.20180321.132122.596979...\n"
     ]
    }
   ],
   "source": [
    "!python distribution.py -r local synNet/synNet.txt | sort -nr -k2,2 > distribution.dat"
   ]
  },
  {
   "cell_type": "code",
   "execution_count": 19,
   "metadata": {},
   "outputs": [
    {
     "data": {
      "image/png": "[encoded data removed]",
      "text/plain": [
       "<matplotlib.figure.Figure at 0x7f729d4431d0>"
      ]
     },
     "metadata": {},
     "output_type": "display_data"
    }
   ],
   "source": [
    "import pylab as pl\n",
    "    \n",
    "results = []\n",
    "for line in open('./distribution.dat').readlines():\n",
    "    line = line.strip()\n",
    "    count, freq = line.strip().split(\"\\t\")\n",
    "    results.append([int(count),int(freq)])\n",
    "\n",
    "items = (np.array(results)[::1].T)\n",
    "fig = pl.figure(figsize=(17,7))\n",
    "ax = pl.subplot(111)\n",
    "width = 0.8\n",
    "ax.bar(range(len(items[0])), items[1], width=width)\n",
    "ax.set_xticks(np.arange(len(items[0])) + width/2)\n",
    "ax.set_xticklabels(items[0], rotation=90)\n",
    "\n",
    "pl.title(\"Node Degree Distribution\")\n",
    "pl.show()"
   ]
  },
  {
   "cell_type": "markdown",
   "metadata": {},
   "source": [
    "<h1 style=\"color:#021353;\">HW 7.2: Shortest path graph distances (NLTK synonyms)</h1>\n",
    "<div style=\"margin:10px;border-left:5px solid #eee;\">\n",
    "<pre style=\"font-family:sans-serif;background-color:transparent\">\n",
    "Write (reuse your code from 7.0) an MRJob class to find shortest path graph distances, \n",
    "and apply it to the NLTK synonyms network dataset. \n",
    "\n",
    "Proof your code's function by running the job:\n",
    "\n",
    "- shortest path starting at \"walk\" (index=7827) and ending at \"make\" (index=536),\n",
    "\n",
    "and showing you code's output. Once again, your output should include the path and the distance.\n",
    "\n",
    "As you develop your code, please be sure to run it locally first (though on the whole dataset). \n",
    "Once you have gotten you code to run locally, deploy it on Altiscale as a systems test\n",
    "in preparation for our next dataset (which will require Altiscale).\n",
    "\n",
    "=====================================\n",
    "\n",
    "wikipedia\n",
    "\n",
    "wikipedia/all-pages-indexed-out.txt # Graph\n",
    "\n",
    "wikipedia/indices.txt # Page titles and page Ids\n",
    "\n",
    "For the remainder of this assignment you will explore the English Wikipedia hyperlink network.\n",
    "\n",
    "The dataset is built from the Sept. 2015 XML snapshot of English Wikipedia.\n",
    "For this directed network, a link between articles: \n",
    "\n",
    "A -> B\n",
    "\n",
    "is defined by the existence of a hyperlink in A pointing to B.\n",
    "This network also exists in the indexed format:\n",
    "\n",
    "Data: wikipedia/all-pages-indexed-out.txt\n",
    "\n",
    "Data: wikipedia/all-pages-indexed-in.txt\n",
    "\n",
    "Data: wikipedia/indices.txt\n",
    "\n",
    "but has an index with more detailed data:\n",
    "\n",
    "(article name) \\t (index) \\t (in degree) \\t (out degree)\n",
    "\n",
    "In the dictionary, target nodes are keys, link weights are values .\n",
    "Here, a weight indicates the number of time a page links to another.\n",
    "However, for the sake of this assignment, treat this an unweighted network,\n",
    "and set all weights to 1 upon data input.\n",
    "\n",
    "</pre>\n",
    "</div>"
   ]
  },
  {
   "cell_type": "code",
   "execution_count": 20,
   "metadata": {
    "collapsed": true
   },
   "outputs": [],
   "source": [
    "def printPath(indexFile, path):\n",
    "    path_Dict = {}\n",
    "    pathSet = set(path)\n",
    "\n",
    " \n",
    "    with open(indexFile, 'r') as myfile:\n",
    "        for line in myfile:\n",
    "            fields = line.strip().split('\\t')\n",
    "\n",
    "           \n",
    "            if fields[1] in pathSet:\n",
    "                path_Dict[fields[1]] = fields[0]\n",
    "\n",
    "    print '{:<10s}{:<50s}'.format('INDEX', 'NAME')\n",
    "    distance = 0\n",
    "    for node in path:\n",
    "        distance = distance + 1\n",
    "        print '{:<10s}{:<50s}'.format(node, path_Dict[node])\n",
    "    print 'Total Distance is ', '{:,d}'.format(distance - 1)"
   ]
  },
  {
   "cell_type": "code",
   "execution_count": 21,
   "metadata": {},
   "outputs": [
    {
     "name": "stdout",
     "output_type": "stream",
     "text": [
      "INDEX     NAME                                              \n",
      "7827      walk                                              \n",
      "4655      passes                                            \n",
      "2160      clear                                             \n",
      "536       make                                              \n",
      "Total Distance is  3\n"
     ]
    }
   ],
   "source": [
    "filename = 'synNet/synNet.txt'\n",
    "path = findSSP(filename, '7827', '536')\n",
    "printPath('synNet/indices.txt', path)"
   ]
  },
  {
   "cell_type": "code",
   "execution_count": 22,
   "metadata": {},
   "outputs": [
    {
     "name": "stdout",
     "output_type": "stream",
     "text": [
      "Python Version: 2.7.14 \n",
      "HDFS filesystem running at: \n",
      "\t hdfs://quickstart.cloudera:8020\n"
     ]
    }
   ],
   "source": [
    "import sys\n",
    "# print some configuration details for future replicability.\n",
    "print 'Python Version: %s' % (sys.version.split('|')[0])\n",
    "hdfs_conf = !hdfs getconf -confKey fs.defaultFS ### UNCOMMENT ON DOCKER\n",
    "#hdfs_conf = !hdfs getconf -confKey fs.default.name ### UNCOMMENT ON ALTISCALE\n",
    "print 'HDFS filesystem running at: \\n\\t %s' % (hdfs_conf[0])"
   ]
  },
  {
   "cell_type": "code",
   "execution_count": 23,
   "metadata": {},
   "outputs": [
    {
     "name": "stdout",
     "output_type": "stream",
     "text": [
      "mkdir: `/user/root/HW7': File exists\n",
      "mkdir: `/user/root/HW7/OUTPUT': File exists\n"
     ]
    }
   ],
   "source": [
    "JAR_FILE = \"/usr/lib/hadoop-mapreduce/hadoop-streaming-2.6.0-cdh5.7.0.jar\"\n",
    "HDFS_DIR = \"/user/root/HW7\"\n",
    "HOME_DIR = \"/media/notebooks/SP18-1-maynard242\"\n",
    "OUTPUT_DIR = HDFS_DIR + \"/OUTPUT\"\n",
    "!hdfs dfs -mkdir {HDFS_DIR}\n",
    "!hdfs dfs -mkdir {OUTPUT_DIR}\n"
   ]
  },
  {
   "cell_type": "code",
   "execution_count": 24,
   "metadata": {},
   "outputs": [
    {
     "name": "stdout",
     "output_type": "stream",
     "text": [
      "Found 4 items\n",
      "drwxr-xr-x   - root supergroup          0 2018-03-20 15:38 /user/root/HW7/OUTPUT\n",
      "drwxr-xr-x   - root supergroup          0 2018-03-20 15:38 /user/root/HW7/OUTPUTTemp1\n",
      "drwxr-xr-x   - root supergroup          0 2018-03-20 15:39 /user/root/HW7/OUTPUTTemp2\n",
      "drwxr-xr-x   - root supergroup          0 2018-03-20 15:40 /user/root/HW7/OUTPUTTemp3\n"
     ]
    }
   ],
   "source": [
    "!hdfs dfs -ls {HDFS_DIR}"
   ]
  },
  {
   "cell_type": "code",
   "execution_count": 52,
   "metadata": {},
   "outputs": [],
   "source": [
    "from datetime import datetime\n",
    "from start_sssp import MRstart_sssp\n",
    "from sssp import MRsssp\n",
    "\n",
    "def findSSPHadoop(filename, startNode, endNode):\n",
    "\n",
    "    outputDirName = 'OUTPUT'\n",
    "    outputDirState = 'hdfs://%s/%s' % (HDFS_DIR, outputDirName)\n",
    "\n",
    "    !hdfs dfs -rm -r -f -skipTrash $outputDirState > /dev/null\n",
    "    \n",
    "    print datetime.today(), 'Initializing adjacency list'\n",
    "\n",
    "    # Initiate graph adjacency list to track state\n",
    "    mr_job_init = MRstart_sssp(args=[\n",
    "        filename,\n",
    "        '--startNode', startNode,\n",
    "        '-r', 'hadoop',\n",
    "        '--cmdenv', 'PATH=/opt/anaconda/bin:$PATH',\n",
    "        '--output-dir', outputDirState\n",
    "    ])\n",
    "\n",
    "    with mr_job_init.make_runner() as runner:\n",
    "        runner.run()\n",
    "\n",
    "    # Iterate over the adjacency list with state until all nodes are visited\n",
    "    inputDir = outputDirState + '/'\n",
    "    outputDir = outputDirState + 'Temp1'\n",
    "\n",
    "    finished = False\n",
    "    path = None\n",
    "\n",
    "    i = 1\n",
    "\n",
    "    while not finished and path is None:\n",
    "        !hdfs dfs -rm -r -f -skipTrash $outputDir > /dev/null\n",
    "        print datetime.today(), 'Beginning iteration', i\n",
    "\n",
    "        mr_job = MRsssp(args=[\n",
    "            inputDir,\n",
    "            '-r', 'hadoop',\n",
    "            '--cmdenv', 'PATH=/opt/anaconda/bin:$PATH',\n",
    "            '--output-dir', outputDir\n",
    "        ])\n",
    "\n",
    "        with mr_job.make_runner() as runner:\n",
    "            # Run MRJob\n",
    "            runner.run()\n",
    "\n",
    "            print datetime.today(), 'Completed iteration', i\n",
    "            finished = True\n",
    "\n",
    "            # Write stream_output to file\n",
    "            for line in runner.stream_output():\n",
    "                out = mr_job.parse_output_line(line)\n",
    "                if out[0] == endNode and out[1][3] != 'U':\n",
    "                    path = out[1][2]\n",
    "                elif out[1][3] == 'Q':\n",
    "                    finished = False\n",
    "\n",
    "        # Update inputDir and outputDir for next iteration\n",
    "        inputDir = outputDirState + 'Temp' + str(i) + '/'\n",
    "        outputDir = outputDirState + 'Temp' + str(i + 1)\n",
    "\n",
    "        i += 1\n",
    "\n",
    "    return path"
   ]
  },
  {
   "cell_type": "code",
   "execution_count": 26,
   "metadata": {},
   "outputs": [
    {
     "name": "stdout",
     "output_type": "stream",
     "text": [
      "2018-03-21 13:22:03.906977 Initializing adjacency list\n",
      "2018-03-21 13:22:30.261934 Beginning iteration 1\n",
      "2018-03-21 13:22:56.922794 Completed iteration 1\n",
      "2018-03-21 13:23:03.653482 Beginning iteration 2\n",
      "2018-03-21 13:23:30.110598 Completed iteration 2\n",
      "2018-03-21 13:23:36.829185 Beginning iteration 3\n",
      "2018-03-21 13:24:03.234068 Completed iteration 3\n",
      "INDEX     NAME                                              \n",
      "7827      walk                                              \n",
      "1426      pass                                              \n",
      "3552      drawings                                          \n",
      "536       make                                              \n",
      "Total Distance is  3\n"
     ]
    }
   ],
   "source": [
    "# Hadoop\n",
    "\n",
    "filename = 'synNet/synNet.txt'\n",
    "startNode = '7827'\n",
    "finalNode = '536'\n",
    "\n",
    "path = findSSPHadoop(filename, startNode, finalNode)\n",
    "printPath('synNet/indices.txt', path)"
   ]
  },
  {
   "cell_type": "markdown",
   "metadata": {},
   "source": [
    "<h1 style=\"color:#021353;\">HW 7.3: Exploratory data analysis (Wikipedia)</h1>\n",
    "<div style=\"margin:10px;border-left:5px solid #eee;\">\n",
    "<pre style=\"font-family:sans-serif;background-color:transparent\">\n",
    "Using MRJob, explore the Wikipedia network data on the AWS cloud. Reuse your code from HW 7.1---does is scale well? \n",
    "\n",
    "Be cautioned that Wikipedia is a directed network, where links are not symmetric. \n",
    "So, even though a node may be linked to, it will not appear as a primary record itself if it has no out-links. \n",
    "\n",
    "This means that you may have to ADJUST your code (depending on its design). \n",
    "\n",
    "To be sure of your code's functionality in this context, run a systems test on the directed_toy.txt network.\n",
    "</pre>\n",
    "</div>"
   ]
  },
  {
   "cell_type": "code",
   "execution_count": 27,
   "metadata": {},
   "outputs": [
    {
     "name": "stdout",
     "output_type": "stream",
     "text": [
      "No configs found; falling back on auto-configuration\n",
      "No configs specified for local runner\n",
      "Creating temp directory /tmp/statistics.root.20180321.132503.884762\n",
      "Running step 1 of 1...\n",
      "Streaming final output from /tmp/statistics.root.20180321.132503.884762/output...\n",
      "5\t[12,2.4]\n",
      "Removing temp directory /tmp/statistics.root.20180321.132503.884762...\n"
     ]
    }
   ],
   "source": [
    "# Test on directed graph\n",
    "!python statistics.py -r local directed_toy_graph.txt"
   ]
  },
  {
   "cell_type": "code",
   "execution_count": 28,
   "metadata": {
    "collapsed": true
   },
   "outputs": [
    {
     "name": "stdout",
     "output_type": "stream",
     "text": [
      "No configs found; falling back on auto-configuration\n",
      "No configs specified for local runner\n",
      "Creating temp directory /tmp/statistics.root.20180321.132506.761181\n",
      "Running step 1 of 1...\n",
      "Streaming final output from /tmp/statistics.root.20180321.132506.761181/output...\n",
      "Removing temp directory /tmp/statistics.root.20180321.132506.761181...\n",
      "\n",
      "Basic Statistics on Data\n",
      "--------------------------------------------------------------------------------\n",
      "Number of nodes:  5781290\n",
      "Number of links:  142114057\n",
      "Average links per node:  24.5817208616\n"
     ]
    }
   ],
   "source": [
    "!python statistics.py -r local wikipedia/all-pages-indexed-out.txt > stats.out\n",
    "!python process_stat.py < stats.out"
   ]
  },
  {
   "cell_type": "code",
   "execution_count": 29,
   "metadata": {},
   "outputs": [
    {
     "name": "stdout",
     "output_type": "stream",
     "text": [
      "No configs found; falling back on auto-configuration\n",
      "No configs specified for local runner\n",
      "Creating temp directory /tmp/distribution.root.20180321.132624.323236\n",
      "Running step 1 of 1...\n",
      "Streaming final output from /tmp/distribution.root.20180321.132624.323236/output...\n",
      "Removing temp directory /tmp/distribution.root.20180321.132624.323236...\n"
     ]
    }
   ],
   "source": [
    "!python distribution.py -r local wikipedia/all-pages-indexed-out.txt | sort -nr -k2,2 > distribution.dat"
   ]
  },
  {
   "cell_type": "code",
   "execution_count": 30,
   "metadata": {},
   "outputs": [
    {
     "data": {
      "image/png": "[encoded data removed]",
      "text/plain": [
       "<matplotlib.figure.Figure at 0x7f729c1e19d0>"
      ]
     },
     "metadata": {},
     "output_type": "display_data"
    }
   ],
   "source": [
    "import pylab as pl\n",
    "    \n",
    "results = []\n",
    "for line in open('./distribution.dat').readlines():\n",
    "    line = line.strip()\n",
    "    count, freq = line.strip().split(\"\\t\")\n",
    "    results.append([int(count),int(freq)])\n",
    "\n",
    "items = (np.array(results)[::1].T)\n",
    "fig = pl.figure(figsize=(17,7))\n",
    "ax = pl.subplot(111)\n",
    "width = 2\n",
    "ax.bar(range(len(items[0])), items[1], width=width)\n",
    "\n",
    "pl.title(\"Node Degree Distribution\")\n",
    "pl.show()"
   ]
  },
  {
   "cell_type": "markdown",
   "metadata": {},
   "source": [
    "<h1 style=\"color:#021353;\">HW 7.4: Shortest path graph distances (Wikipedia)</h1>\n",
    "<div style=\"margin:10px;border-left:5px solid #eee;\">\n",
    "<pre style=\"font-family:sans-serif;background-color:transparent\">\n",
    "Using MRJob, find shortest path graph distances in the Wikipedia network on the AWS cloud.\n",
    "Reuse your code from 7.2, but once again be warned of Wikipedia being a directed network.\n",
    "To be sure of your code's functionality in this context, run a systems test on the directed_toy.txt network.\n",
    "\n",
    "When running your code on the Wikipedia network, proof its function by running the job:\n",
    "\n",
    "- shortest path from \"Ireland\" (index=6176135) to \"University of California, Berkeley\" (index=13466359),\n",
    "\n",
    "and show your code's output. Show the shortest path in terms of just page IDS but also in terms of the name of page (show of your MapReduce join skills!!)\n",
    "\n",
    "Once your code is running, find some other shortest paths and report your results.\n",
    "</pre>\n",
    "</div>"
   ]
  },
  {
   "cell_type": "code",
   "execution_count": 47,
   "metadata": {},
   "outputs": [
    {
     "name": "stdout",
     "output_type": "stream",
     "text": [
      "2018-03-19 13:44:03.450808 Initializing adjacency list\n",
      "2018-03-19 13:44:28.972794 Beginning iteration 1\n",
      "2018-03-19 13:44:55.588703 Completed iteration 1\n",
      "2018-03-19 13:45:02.337259 Beginning iteration 2\n",
      "2018-03-19 13:45:27.873886 Completed iteration 2\n",
      "2018-03-19 13:45:34.573958 Beginning iteration 3\n",
      "2018-03-19 13:46:01.054213 Completed iteration 3\n",
      "[u'1', u'2', u'4', u'5']\n"
     ]
    }
   ],
   "source": [
    "# Testing\n",
    "\n",
    "filename = 'directed_toy_graph.txt'\n",
    "path = findSSPHadoop(filename, '1', '5')\n",
    "print path"
   ]
  },
  {
   "cell_type": "code",
   "execution_count": 48,
   "metadata": {},
   "outputs": [
    {
     "name": "stdout",
     "output_type": "stream",
     "text": [
      "2018-03-19 13:46:07.759964 Initializing adjacency list\n",
      "2018-03-19 13:48:21.565157 Beginning iteration 1\n",
      "2018-03-19 13:52:06.861007 Completed iteration 1\n",
      "2018-03-19 13:52:53.361049 Beginning iteration 2\n",
      "2018-03-19 13:56:46.808067 Completed iteration 2\n",
      "INDEX     NAME                                              \n",
      "6176135   Ireland                                           \n",
      "11607791  Seamus Heaney                                     \n",
      "13466359  University of California, Berkeley                \n",
      "Total Distance is  2\n"
     ]
    }
   ],
   "source": [
    "# Hadoop\n",
    "\n",
    "filename = 'wikipedia/all-pages-indexed-out.txt'\n",
    "startNode = '6176135'\n",
    "finalNode = '13466359'\n",
    "\n",
    "path = findSSPHadoop(filename, startNode, finalNode)\n",
    "printPath('wikipedia/indices.txt', path)"
   ]
  },
  {
   "cell_type": "code",
   "execution_count": 49,
   "metadata": {},
   "outputs": [
    {
     "name": "stdout",
     "output_type": "stream",
     "text": [
      "2018-03-19 13:57:41.199967 Initializing adjacency list\n",
      "2018-03-19 13:59:53.591140 Beginning iteration 1\n",
      "2018-03-19 14:03:36.339457 Completed iteration 1\n",
      "2018-03-19 14:04:23.641929 Beginning iteration 2\n",
      "2018-03-19 14:08:16.405413 Completed iteration 2\n",
      "2018-03-19 14:09:03.646850 Beginning iteration 3\n",
      "2018-03-19 14:12:59.264133 Completed iteration 3\n",
      "INDEX     NAME                                              \n",
      "23910     100 Federal Street                                \n",
      "13455888  United States                                     \n",
      "13739204  Vostok 1                                          \n",
      "14495387  apsis                                             \n",
      "Total Distance is  3\n"
     ]
    }
   ],
   "source": [
    "# Hadoop - Example 1\n",
    "\n",
    "filename = 'wikipedia/all-pages-indexed-out.txt'\n",
    "startNode = '23910'\n",
    "finalNode = '14495387'\n",
    "\n",
    "path = findSSPHadoop(filename, startNode, finalNode)\n",
    "printPath('wikipedia/indices.txt', path)"
   ]
  },
  {
   "cell_type": "code",
   "execution_count": 19,
   "metadata": {
    "collapsed": true
   },
   "outputs": [
    {
     "name": "stdout",
     "output_type": "stream",
     "text": [
      "2018-03-20 14:11:55.155871 Initializing adjacency list\n"
     ]
    },
    {
     "name": "stderr",
     "output_type": "stream",
     "text": [
      "No handlers could be found for logger \"mrjob.launch\"\n"
     ]
    },
    {
     "name": "stdout",
     "output_type": "stream",
     "text": [
      "2018-03-20 14:14:07.476182 Beginning iteration 1\n",
      "2018-03-20 14:17:50.966179 Completed iteration 1\n",
      "INDEX     NAME                                              \n",
      "131358    1969 Chicago Cubs season                          \n",
      "10798821  Randy Bobb                                        \n",
      "Total Distance is  1\n"
     ]
    }
   ],
   "source": [
    "# Hadoop - Example 2\n",
    "\n",
    "filename = 'wikipedia/all-pages-indexed-out.txt'\n",
    "startNode = '131358'\n",
    "finalNode = '10798821'\n",
    "\n",
    "path = findSSPHadoop(filename, startNode, finalNode)\n",
    "printPath('wikipedia/indices.txt', path)"
   ]
  },
  {
   "cell_type": "markdown",
   "metadata": {},
   "source": [
    "<h1 style=\"color:#021353;\">HW 7.5: Conceptual exercise: Largest single-source network distances</h1>\n",
    "<div style=\"margin:10px;border-left:5px solid #eee;\">\n",
    "<pre style=\"font-family:sans-serif;background-color:transparent\">\n",
    "Suppose you wanted to find the largest network distance from a single source,\n",
    "i.e., a node that is the furthest (but still reachable) from a single source.\n",
    "\n",
    "How would you implement this task? \n",
    "How is this different from finding the shortest path graph distances?\n",
    "\n",
    "Is this task more difficult to implement than the shortest path distance?\n",
    "\n",
    "As you respond, please comment on program structure, runtimes, iterations, general system requirements, etc...\n",
    "</pre>\n",
    "</div>"
   ]
  },
  {
   "cell_type": "markdown",
   "metadata": {},
   "source": [
    "**First, we have to define what we mean by the largest network distance e.g. we could traverse nodes multiple times.** One definition builds on our exercise so far. For each node, we calculate all shortest paths, then find the longest of these paths. This is the longest path from our source. Using this defintion:\n",
    "\n",
    "**1) Calculate shortest paths for each node from our source**. In comparison to shortest path problem we have to do this for all possible destination nodes. This will require X additional runs, where X is the number of possible final nodes. However, for each node the SSP algorithm works even though we have to make X $\\times$ SSP algo calculations.\n",
    "**2) Compare shortest paths**. Once we have all the shortest paths, we compare the paths and pick the max value. This is the longest path from our source."
   ]
  },
  {
   "cell_type": "code",
   "execution_count": 41,
   "metadata": {
    "collapsed": true
   },
   "outputs": [
    {
     "name": "stdout",
     "output_type": "stream",
     "text": [
      "(2, [u'1', u'2', u'3'])\n"
     ]
    }
   ],
   "source": [
    "#  Not sure if we are supposed to code but here is an example\n",
    "\n",
    "def findlargest(filename, source, total):\n",
    "    max_distance = 0\n",
    "    max_path = None\n",
    "    for i in range(1, total + 1):\n",
    "        path = findSSP(filename, source, str(i))\n",
    "        if (len(path) - 1) > max_distance:\n",
    "            max_distance = len(path) - 1\n",
    "            max_path = path\n",
    "    \n",
    "    return max_distance, max_path\n",
    "    \n",
    "# Toy data model to try\n",
    "filename = 'undirected_toy.txt' \n",
    "source = '1'\n",
    "total = 5\n",
    "\n",
    "print(findlargest(filename, source, total))"
   ]
  },
  {
   "cell_type": "code",
   "execution_count": null,
   "metadata": {
    "collapsed": true
   },
   "outputs": [],
   "source": [
    "# END STUDENT CODE 7.5"
   ]
  },
  {
   "cell_type": "markdown",
   "metadata": {},
   "source": [
    "<h1 style=\"color:#021353;\">HW 7.5.1: </h1>\n",
    "<div style=\"margin:10px;border-left:5px solid #eee;\">\n",
    "<pre style=\"font-family:sans-serif;background-color:transparent\">\n",
    "Can we utilize combiners in the HW 7 to perform the shortest path implementation?\n",
    "Does order inversion help with the HW 7 shortest path implementation?\n",
    "</pre>\n",
    "</div>"
   ]
  },
  {
   "cell_type": "markdown",
   "metadata": {},
   "source": [
    "**Yes we can use combiners.** Combiners will do no harm, but could be run by hadoop to imrpove the workload.\n",
    "\n",
    "**Order inversion can help if we want to sort intermediate results**. We can minimize computation/processing by using order inversion  to retain only the shortest distances. Note, however, that my solution above does not use order inversion. "
   ]
  },
  {
   "cell_type": "code",
   "execution_count": null,
   "metadata": {
    "collapsed": true
   },
   "outputs": [],
   "source": [
    "# With combiners"
   ]
  },
  {
   "cell_type": "code",
   "execution_count": 42,
   "metadata": {
    "collapsed": true
   },
   "outputs": [
    {
     "name": "stdout",
     "output_type": "stream",
     "text": [
      "Overwriting sssp_comb.py\n"
     ]
    }
   ],
   "source": [
    "%%writefile sssp_comb.py\n",
    "#!/opt/anaconda/bin/python\n",
    "\n",
    "from mrjob.job import MRJob\n",
    "from mrjob.step import MRStep\n",
    "import sys, ast\n",
    "\n",
    "class MRsssp(MRJob):\n",
    "    \n",
    "    def steps(self):\n",
    "        return [\n",
    "            MRStep(mapper = self.mapper,\n",
    "                   combiner = self.combiner,\n",
    "                   reducer = self.reducer,\n",
    "            ),\n",
    "    ] \n",
    "    \n",
    "    \n",
    "    # Process lines\n",
    "    def mapper(self, _, line):\n",
    "\n",
    "        fields = line.strip().split('\\t')     \n",
    "        name = str(ast.literal_eval(fields[0]))\n",
    "        value = ast.literal_eval(fields[1])\n",
    "        neighbors = value[0]\n",
    "        distance = int(value[1])\n",
    "        path = value[2]\n",
    "        status = value[3]\n",
    "        \n",
    "        # If this node is queued, contine expand\n",
    "        if status == 'Q':\n",
    "            yield name, [neighbors, distance, path, 'V']\n",
    "            if neighbors:\n",
    "                for node in neighbors:\n",
    "                    temp_path = list(path)\n",
    "                    temp_path.append(node)\n",
    "                    yield node, [None, distance + 1, temp_path, 'Q']\n",
    "        else:\n",
    "            yield name, [neighbors, distance, path, status]\n",
    "            \n",
    "    def combiner(self, key, values):\n",
    "        neighbors = {}\n",
    "        distance = sys.maxint\n",
    "        status = None\n",
    "        path = []\n",
    "\n",
    "        for val in values:\n",
    "            if val[3] == 'V':\n",
    "                neighbors = val[0]\n",
    "                distance = val[1]\n",
    "                path = val[2]\n",
    "                status = val[3]\n",
    "                break\n",
    "            elif val[0]:\n",
    "                neighbors = val[0]\n",
    "                if status != 'Q':\n",
    "                    status = val[3]\n",
    "            else:\n",
    "                path = val[2]\n",
    "                status = val[3]\n",
    "                \n",
    "            distance = min(distance, val[1])\n",
    "            \n",
    "        yield key, [neighbors, distance, path, status]\n",
    "        \n",
    "    # Cycle through nodes\n",
    "    def reducer(self, key, values):\n",
    "        neighbors = {}\n",
    "        distance = sys.maxint\n",
    "        status = None\n",
    "        path = []\n",
    "\n",
    "        for val in values:\n",
    "            if val[3] == 'V':\n",
    "                neighbors = val[0]\n",
    "                distance = val[1]\n",
    "                path = val[2]\n",
    "                status = val[3]\n",
    "                break\n",
    "            elif val[0]:\n",
    "                neighbors = val[0]\n",
    "                if status != 'Q':\n",
    "                    status = val[3]\n",
    "            else:\n",
    "                path = val[2]\n",
    "                status = val[3]\n",
    "                \n",
    "            # Update minimum distance if necessary\n",
    "            distance = min(distance, val[1])\n",
    "\n",
    "        yield key, [neighbors, distance, path, status]\n",
    "\n",
    "if __name__ == '__main__':\n",
    "    MRsssp.run()"
   ]
  },
  {
   "cell_type": "code",
   "execution_count": 43,
   "metadata": {},
   "outputs": [
    {
     "name": "stdout",
     "output_type": "stream",
     "text": [
      "No handlers could be found for logger \"mrjob.launch\"\n",
      "No configs found; falling back on auto-configuration\n",
      "No configs specified for local runner\n",
      "Creating temp directory /tmp/start_sssp.root.20180321.142129.581519\n",
      "Running step 1 of 1...\n",
      "Streaming final output from /tmp/start_sssp.root.20180321.142129.581519/output...\n",
      "Removing temp directory /tmp/start_sssp.root.20180321.142129.581519...\n",
      "No configs found; falling back on auto-configuration\n",
      "No configs specified for local runner\n",
      "Creating temp directory /tmp/sssp_comb.root.20180321.142130.403816\n",
      "Running step 1 of 1...\n",
      "Streaming final output from /tmp/sssp_comb.root.20180321.142130.403816/output...\n",
      "\"5\"\t[{\"1\":1,\"2\":1,\"4\":1},1,[\"1\",\"5\"],\"Q\"]\n",
      "\"3\"\t[{\"2\":1,\"4\":1},9223372036854775807,[],\"U\"]\n",
      "\"1\"\t[{\"2\":1,\"5\":1},0,[\"1\"],\"V\"]\n",
      "\"2\"\t[{\"1\":1,\"3\":1,\"5\":1,\"4\":1},1,[\"1\",\"2\"],\"Q\"]\n",
      "\"4\"\t[{\"3\":1,\"2\":1,\"5\":1},9223372036854775807,[],\"U\"]\n",
      "Removing temp directory /tmp/sssp_comb.root.20180321.142130.403816...\n"
     ]
    }
   ],
   "source": [
    "!python start_sssp.py -r local ./undirected_toy.txt --start 1 > test\n",
    "!python sssp_comb.py -r local ./test"
   ]
  },
  {
   "cell_type": "code",
   "execution_count": 44,
   "metadata": {},
   "outputs": [],
   "source": [
    "from datetime import datetime\n",
    "from start_sssp import MRstart_sssp\n",
    "from sssp_comb import MRsssp\n",
    "\n",
    "def findSSPHadoop_C(filename, startNode, endNode):\n",
    "\n",
    "    outputDirName = 'OUTPUT'\n",
    "    outputDirState = 'hdfs://%s/%s' % (HDFS_DIR, outputDirName)\n",
    "\n",
    "    !hdfs dfs -rm -r -f -skipTrash $outputDirState > /dev/null\n",
    "    \n",
    "    print datetime.today(), 'Initializing adjacency list'\n",
    "\n",
    "    # Initiate graph adjacency list to track state\n",
    "    mr_job_init = MRstart_sssp(args=[\n",
    "        filename,\n",
    "        '--startNode', startNode,\n",
    "        '-r', 'hadoop',\n",
    "        '--cmdenv', 'PATH=/opt/anaconda/bin:$PATH',\n",
    "        '--output-dir', outputDirState\n",
    "    ])\n",
    "\n",
    "    with mr_job_init.make_runner() as runner:\n",
    "        runner.run()\n",
    "\n",
    "    # Iterate over the adjacency list with state until all nodes are visited\n",
    "    inputDir = outputDirState + '/'\n",
    "    outputDir = outputDirState + 'Temp1'\n",
    "\n",
    "    finished = False\n",
    "    path = None\n",
    "\n",
    "    i = 1\n",
    "\n",
    "    while not finished and path is None:\n",
    "        !hdfs dfs -rm -r -f -skipTrash $outputDir > /dev/null\n",
    "        print datetime.today(), 'Beginning iteration', i\n",
    "\n",
    "        mr_job = MRsssp(args=[\n",
    "            inputDir,\n",
    "            '-r', 'hadoop',\n",
    "            '--cmdenv', 'PATH=/opt/anaconda/bin:$PATH',\n",
    "            '--output-dir', outputDir\n",
    "        ])\n",
    "\n",
    "        with mr_job.make_runner() as runner:\n",
    "            # Run MRJob\n",
    "            runner.run()\n",
    "\n",
    "            print datetime.today(), 'Completed iteration', i\n",
    "            finished = True\n",
    "\n",
    "            # Write stream_output to file\n",
    "            for line in runner.stream_output():\n",
    "                out = mr_job.parse_output_line(line)\n",
    "                if out[0] == endNode and out[1][3] != 'U':\n",
    "                    path = out[1][2]\n",
    "                elif out[1][3] == 'Q':\n",
    "                    finished = False\n",
    "\n",
    "        # Update inputDir and outputDir for next iteration\n",
    "        inputDir = outputDirState + 'Temp' + str(i) + '/'\n",
    "        outputDir = outputDirState + 'Temp' + str(i + 1)\n",
    "\n",
    "        i += 1\n",
    "\n",
    "    return path"
   ]
  },
  {
   "cell_type": "code",
   "execution_count": 54,
   "metadata": {},
   "outputs": [
    {
     "name": "stdout",
     "output_type": "stream",
     "text": [
      "0 None 5\n",
      "2018-03-21 14:55:18.022893 Initializing adjacency list\n",
      "2018-03-21 14:55:43.974592 Beginning iteration 1\n",
      "2018-03-21 14:56:10.398302 Completed iteration 1\n",
      "[u'1']\n",
      "2018-03-21 14:56:17.097705 Initializing adjacency list\n",
      "2018-03-21 14:56:43.144781 Beginning iteration 1\n",
      "2018-03-21 14:57:09.547713 Completed iteration 1\n",
      "[u'1', u'2']\n",
      "2018-03-21 14:57:16.278817 Initializing adjacency list\n",
      "2018-03-21 14:57:42.320138 Beginning iteration 1\n",
      "2018-03-21 14:58:07.789873 Completed iteration 1\n",
      "2018-03-21 14:58:14.464588 Beginning iteration 2\n",
      "2018-03-21 14:58:39.974643 Completed iteration 2\n",
      "[u'1', u'2', u'3']\n",
      "2018-03-21 14:58:46.727797 Initializing adjacency list\n",
      "2018-03-21 14:59:11.842093 Beginning iteration 1\n",
      "2018-03-21 14:59:38.201635 Completed iteration 1\n",
      "2018-03-21 14:59:44.953069 Beginning iteration 2\n",
      "2018-03-21 15:00:10.591460 Completed iteration 2\n",
      "[u'1', u'5', u'4']\n",
      "2018-03-21 15:00:17.326829 Initializing adjacency list\n",
      "2018-03-21 15:00:42.339827 Beginning iteration 1\n",
      "2018-03-21 15:01:08.736661 Completed iteration 1\n",
      "[u'1', u'5']\n",
      "(2, [u'1', u'2', u'3'])\n"
     ]
    }
   ],
   "source": [
    "# Find farthest distance with no combiner\n",
    "\n",
    "def findlargestHadoop(filename, source, total):\n",
    "    max_distance = 0\n",
    "    max_path = None\n",
    "    print max_distance, max_path, total\n",
    "    for i in range(1, total + 1):\n",
    "        path = findSSPHadoop(filename, source, str(i))\n",
    "        print path\n",
    "        if (len(path) - 1) > max_distance:\n",
    "            max_distance = len(path) - 1\n",
    "            max_path = path\n",
    "    \n",
    "    return max_distance, max_path\n",
    "    \n",
    "# Toy data model to try\n",
    "filename = 'undirected_toy.txt' \n",
    "source = '1'\n",
    "total = 5\n",
    "\n",
    "print(findlargestHadoop(filename, source, total))"
   ]
  },
  {
   "cell_type": "code",
   "execution_count": 55,
   "metadata": {},
   "outputs": [
    {
     "name": "stdout",
     "output_type": "stream",
     "text": [
      "2018-03-21 15:02:26.779298 Initializing adjacency list\n",
      "2018-03-21 15:02:53.113917 Beginning iteration 1\n",
      "2018-03-21 15:03:18.562620 Completed iteration 1\n",
      "[u'1']\n",
      "2018-03-21 15:03:25.338084 Initializing adjacency list\n",
      "2018-03-21 15:03:50.354690 Beginning iteration 1\n",
      "2018-03-21 15:04:15.675769 Completed iteration 1\n",
      "[u'1', u'2']\n",
      "2018-03-21 15:04:22.219450 Initializing adjacency list\n",
      "2018-03-21 15:04:48.319130 Beginning iteration 1\n",
      "2018-03-21 15:05:13.764557 Completed iteration 1\n",
      "2018-03-21 15:05:20.411167 Beginning iteration 2\n",
      "2018-03-21 15:05:46.940873 Completed iteration 2\n",
      "[u'1', u'2', u'3']\n",
      "2018-03-21 15:05:53.610742 Initializing adjacency list\n",
      "2018-03-21 15:06:19.716200 Beginning iteration 1\n",
      "2018-03-21 15:06:45.249935 Completed iteration 1\n",
      "2018-03-21 15:06:52.059199 Beginning iteration 2\n",
      "2018-03-21 15:07:18.644661 Completed iteration 2\n",
      "[u'1', u'5', u'4']\n",
      "2018-03-21 15:07:25.471923 Initializing adjacency list\n",
      "2018-03-21 15:07:51.614557 Beginning iteration 1\n",
      "2018-03-21 15:08:16.926697 Completed iteration 1\n",
      "[u'1', u'5']\n",
      "(2, [u'1', u'2', u'3'])\n"
     ]
    }
   ],
   "source": [
    "# Find farthest distance with  combiner\n",
    "\n",
    "def findlargestHadoop_C(filename, source, total):\n",
    "    max_distance = 0\n",
    "    max_path = None\n",
    "    for i in range(1, total + 1):\n",
    "        path = findSSPHadoop_C(filename, source, str(i))\n",
    "        print path\n",
    "        if (len(path) - 1) > max_distance:\n",
    "            max_distance = len(path) - 1\n",
    "            max_path = path\n",
    "    \n",
    "    return max_distance, max_path\n",
    "    \n",
    "# Toy data model to try\n",
    "filename = 'undirected_toy.txt' \n",
    "source = '1'\n",
    "total = 5\n",
    "\n",
    "print(findlargestHadoop_C(filename, source, total))"
   ]
  },
  {
   "cell_type": "code",
   "execution_count": 48,
   "metadata": {
    "collapsed": true
   },
   "outputs": [],
   "source": [
    "# END STUDENT CODE 7.5.1"
   ]
  },
  {
   "cell_type": "markdown",
   "metadata": {},
   "source": [
    "<h1 style=\"color:#021353;\">HW 7.5.2: Combiners: OPTIONAL </h1>\n",
    "<div style=\"margin:10px;border-left:5px solid #eee;\">\n",
    "<pre style=\"font-family:sans-serif;background-color:transparent\">\n",
    "Implement combiners in the context of HW 7.5 and contrast the performance of this implementation versus the implementation with no combiners. \n",
    "\n",
    "Please report the cluster configuration and runtimes in tabular format for both experiments and comment on your findings.\n",
    "</pre>\n",
    "</div>"
   ]
  },
  {
   "cell_type": "code",
   "execution_count": 56,
   "metadata": {},
   "outputs": [
    {
     "name": "stdout",
     "output_type": "stream",
     "text": [
      "0 None 5\n",
      "2018-03-21 15:08:51.707017 Initializing adjacency list\n",
      "2018-03-21 15:09:16.856097 Beginning iteration 1\n",
      "2018-03-21 15:09:43.413166 Completed iteration 1\n",
      "[u'1']\n",
      "2018-03-21 15:09:50.140033 Initializing adjacency list\n",
      "2018-03-21 15:10:16.211610 Beginning iteration 1\n",
      "2018-03-21 15:10:42.795634 Completed iteration 1\n",
      "[u'1', u'2']\n",
      "2018-03-21 15:10:49.519555 Initializing adjacency list\n",
      "2018-03-21 15:11:14.396635 Beginning iteration 1\n",
      "2018-03-21 15:11:40.818317 Completed iteration 1\n",
      "2018-03-21 15:11:47.483748 Beginning iteration 2\n",
      "2018-03-21 15:12:12.947864 Completed iteration 2\n",
      "[u'1', u'2', u'3']\n",
      "2018-03-21 15:12:19.608454 Initializing adjacency list\n",
      "2018-03-21 15:12:44.617834 Beginning iteration 1\n",
      "2018-03-21 15:13:10.014668 Completed iteration 1\n",
      "2018-03-21 15:13:16.725936 Beginning iteration 2\n",
      "2018-03-21 15:13:43.211741 Completed iteration 2\n",
      "[u'1', u'5', u'4']\n",
      "2018-03-21 15:13:49.798604 Initializing adjacency list\n",
      "2018-03-21 15:14:14.743410 Beginning iteration 1\n",
      "2018-03-21 15:14:41.131793 Completed iteration 1\n",
      "[u'1', u'5']\n",
      "(2, [u'1', u'2', u'3'])\n"
     ]
    }
   ],
   "source": [
    "# Hadoop with no combiners\n",
    "\n",
    "filename = 'undirected_toy.txt'\n",
    "startNode = '1'\n",
    "finalNode = 5\n",
    "\n",
    "print(findlargestHadoop(filename, source, total))"
   ]
  },
  {
   "cell_type": "code",
   "execution_count": 57,
   "metadata": {},
   "outputs": [
    {
     "name": "stdout",
     "output_type": "stream",
     "text": [
      "2018-03-21 15:14:47.927706 Initializing adjacency list\n",
      "2018-03-21 15:15:14.129992 Beginning iteration 1\n",
      "2018-03-21 15:15:39.521741 Completed iteration 1\n",
      "[u'1']\n",
      "2018-03-21 15:15:46.304903 Initializing adjacency list\n",
      "2018-03-21 15:16:12.378289 Beginning iteration 1\n",
      "2018-03-21 15:16:37.751488 Completed iteration 1\n",
      "[u'1', u'2']\n",
      "2018-03-21 15:16:44.452612 Initializing adjacency list\n",
      "2018-03-21 15:17:09.629624 Beginning iteration 1\n",
      "2018-03-21 15:17:36.050106 Completed iteration 1\n",
      "2018-03-21 15:17:42.717746 Beginning iteration 2\n",
      "2018-03-21 15:18:08.210904 Completed iteration 2\n",
      "[u'1', u'2', u'3']\n",
      "2018-03-21 15:18:14.850928 Initializing adjacency list\n",
      "2018-03-21 15:18:40.974054 Beginning iteration 1\n",
      "2018-03-21 15:19:07.545158 Completed iteration 1\n",
      "2018-03-21 15:19:14.278429 Beginning iteration 2\n",
      "2018-03-21 15:19:39.736322 Completed iteration 2\n",
      "[u'1', u'5', u'4']\n",
      "2018-03-21 15:19:46.362717 Initializing adjacency list\n",
      "2018-03-21 15:20:12.300910 Beginning iteration 1\n",
      "2018-03-21 15:20:38.473715 Completed iteration 1\n",
      "[u'1', u'5']\n",
      "(2, [u'1', u'2', u'3'])\n"
     ]
    }
   ],
   "source": [
    "# Hadoop with combiners\n",
    "\n",
    "filename = 'undirected_toy.txt'\n",
    "startNode = '1'\n",
    "finalNode = 5\n",
    "\n",
    "print(findlargestHadoop_C(filename, source, total))"
   ]
  },
  {
   "cell_type": "markdown",
   "metadata": {},
   "source": [
    "**There is little difference in timing**."
   ]
  },
  {
   "cell_type": "markdown",
   "metadata": {},
   "source": [
    "<h1 style=\"color:#021353;\">HW 7.6: Computational exercise: Largest single-source network distances: OPTIONAL </h1>\n",
    "<div style=\"margin:10px;border-left:5px solid #eee;\">\n",
    "<pre style=\"font-family:sans-serif;background-color:transparent\">\n",
    "Using MRJob, write a code to find the largest graph distance and distance-maximizing nodes from a single-source.\n",
    "Test your code first on the toy networks and synonyms network to proof its function.\n",
    "</pre>\n",
    "</div>"
   ]
  },
  {
   "cell_type": "code",
   "execution_count": null,
   "metadata": {
    "collapsed": true
   },
   "outputs": [],
   "source": [
    "# START STUDENT CODE 7.6\n",
    "#(insert cells as needed)\n",
    "\n",
    "# END STUDENT CODE 7.6"
   ]
  },
  {
   "cell_type": "markdown",
   "metadata": {},
   "source": [
    "<h1 style=\"color:#021353;\">HW 7.7: Bellman–Ford: OPTIONAL </h1>\n",
    "<div style=\"margin:10px;border-left:5px solid #eee;\">\n",
    "<pre style=\"font-family:sans-serif;background-color:transparent\">\n",
    "Using MRJob, implement Bellman–Ford algorithm https://en.wikipedia.org/wiki/Bellman%E2%80%93Ford_algorithm. Generate a toy graph with negaitve edges and calculate shortest path from some source to some target within your graph.\n",
    "</pre>\n",
    "</div>"
   ]
  },
  {
   "cell_type": "code",
   "execution_count": null,
   "metadata": {
    "collapsed": true
   },
   "outputs": [],
   "source": [
    "# START STUDENT CODE 7.7\n",
    "#(insert cells as needed)\n",
    "\n",
    "# END STUDENT CODE 7.7"
   ]
  },
  {
   "cell_type": "markdown",
   "metadata": {},
   "source": [
    "==================END HW 7=================="
   ]
  },
  {
   "cell_type": "code",
   "execution_count": null,
   "metadata": {
    "collapsed": true
   },
   "outputs": [],
   "source": []
  }
 ],
 "metadata": {
  "kernelspec": {
   "display_name": "Python 2",
   "language": "python",
   "name": "python2"
  },
  "language_info": {
   "codemirror_mode": {
    "name": "ipython",
    "version": 2
   },
   "file_extension": ".py",
   "mimetype": "text/x-python",
   "name": "python",
   "nbconvert_exporter": "python",
   "pygments_lexer": "ipython2",
   "version": "2.7.14"
  },
  "toc": {
   "colors": {
    "hover_highlight": "#DAA520",
    "running_highlight": "#FF0000",
    "selected_highlight": "#FFD700"
   },
   "moveMenuLeft": true,
   "nav_menu": {
    "height": "380px",
    "width": "252px"
   },
   "navigate_menu": true,
   "number_sections": true,
   "sideBar": false,
   "threshold": 4,
   "toc_cell": true,
   "toc_section_display": "block",
   "toc_window_display": true
  }
 },
 "nbformat": 4,
 "nbformat_minor": 2
}
